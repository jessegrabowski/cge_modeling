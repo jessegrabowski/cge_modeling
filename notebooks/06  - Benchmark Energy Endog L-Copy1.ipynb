{
 "cells": [
  {
   "cell_type": "code",
   "execution_count": 1,
   "id": "04da6463",
   "metadata": {
    "tags": []
   },
   "outputs": [],
   "source": [
    "import numpy as np\n",
    "import pandas as pd\n",
    "import matplotlib.pyplot as plt\n",
    "\n",
    "import sys\n",
    "\n",
    "sys.path.append(\"..\")\n",
    "sys.path.append(\"../..\")\n",
    "\n",
    "from cge_modeling import Variable, Parameter, Equation, CGEModel\n",
    "from cge_modeling.pytensorf.compile import (\n",
    "    compile_cge_model_to_pytensor,\n",
    "    euler_approximation_from_CGEModel,\n",
    "    pytensor_objects_from_CGEModel,\n",
    ")"
   ]
  },
  {
   "cell_type": "code",
   "execution_count": 2,
   "id": "bf9837d4-8ed4-487d-a203-15e6ef2a672b",
   "metadata": {
    "tags": []
   },
   "outputs": [],
   "source": [
    "from itertools import chain"
   ]
  },
  {
   "cell_type": "code",
   "execution_count": 3,
   "id": "f65f2197-b54b-4b1c-97b5-df126dd8dc99",
   "metadata": {
    "tags": []
   },
   "outputs": [],
   "source": [
    "sectors = [\"Ag\", \"Ind\", \"Serv\", \"Utility\"]\n",
    "n_sectors = len(sectors)\n",
    "coords = {\"i\": sectors, \"j\": sectors}"
   ]
  },
  {
   "cell_type": "code",
   "execution_count": 4,
   "id": "a532911b-90b0-4dec-a1a7-1808bff0cb3d",
   "metadata": {
    "tags": []
   },
   "outputs": [],
   "source": [
    "variable_info = [\n",
    "    Variable(name=\"Y\", dims=\"i\", description=\"Total output of good <dim:i>\"),\n",
    "    \n",
    "    # Firm\n",
    "    Variable(name=\"VA\", dims=\"i\", description=\"Labor-capital bundle produced by sector <dim:i>\"),\n",
    "    Variable(name=\"VC\", dims=\"i\", description=\"Intermediate goods bundle produced by sector <dim:i>\"),\n",
    "    Variable(name=\"X\", dims=(\"i\", \"j\"), description=\"Demand for sector <dim:i> goods by sector <dim:j>\",),\n",
    "    \n",
    "    # Factor demands\n",
    "    Variable(name=\"L_d\", dims=\"i\", extend_subscript=True, description=\"Labor demanded by sector <dim:i>\", ),\n",
    "    Variable(name=\"K_d\", dims=\"i\", extend_subscript=True, description=\"Capital demanded by sector <dim:i>\",),\n",
    "    Variable(name=\"KE_d\", dims=\"i\", extend_subscript=True, description=\"Capital Energy bundle demanded by sector <dim:i>\",),\n",
    "    Variable(name=\"E_d\", dims=\"i\", extend_subscript=True, description=\"Energy demanded by sector <dim:i>\", ),\n",
    "    Variable(name=\"I_d\", dims=\"i\", extend_subscript=True, description=\"Investment capital demanded by the <dim:i> sector\",),\n",
    "             \n",
    "    # Household Variables\n",
    "    Variable(name=\"U\", description=\"Household utility\"),\n",
    "    Variable(name=\"C\", dims=\"i\", description=\"Household consumption of good <dim:i>\"),\n",
    "    Variable(name=\"C_total\", description=\"Household overall consumption\"),\n",
    "    Variable(name=\"income\", latex_name=\"\\Omega\", description=\"Total household income\"),\n",
    "    Variable(name=\"I_s\", extend_subscript=True, description=\"Investment capital supplied by households\"),\n",
    "    Variable(name=\"net_income\", latex_name=\"\\hat{\\Omega}\", description=\"Household income, after taxes\"),\n",
    "    Variable(name=\"S\", description=\"Household savings\"),\n",
    "    \n",
    "    # Factor supply\n",
    "    Variable(name=\"L_s\", description=\"Labor supply by households\", ),\n",
    "    \n",
    "    # Prices\n",
    "    Variable(name=\"r\", description=\"Rental rate of capital\"),\n",
    "    Variable(name=\"w\", description=\"Wage level\"),\n",
    "    \n",
    "    Variable( name=\"P_VA\", dims=\"i\", extend_subscript=True, description=\"Price of the labor-capital bundle in sector <dim:i>\",),\n",
    "    Variable(name=\"P_VC\", dims=\"i\", extend_subscript=True, description=\"Price of the intermediate bundle in sector <dim:i>\", ),\n",
    "    \n",
    "    Variable(name=\"P\", dims=\"i\", description=\"Price level of final goods in sector <dim:i>\"),\n",
    "    Variable(name=\"P_KE\", dims=\"i\", extend_subscript=True, description=\"Price of the intermediate capital energy bundle in sector <dim:i>\"),\n",
    "    \n",
    "    Variable(name=\"P_E\", description=\"Price of the energy bundle\",),\n",
    "    Variable(name=\"CPI\", description=\"Consumer price index\"),\n",
    "    \n",
    "    # Government\n",
    "    Variable(name=\"G\", description=\"Government budget\"),\n",
    "    Variable(name=\"C_G\", dims=\"i\", extend_subscript=True, description=\"Government consumption of <dim:i> goods\", ),\n",
    "    Variable(name=\"S_G\", extend_subscript=True, positive=None, description=\"Investment capital supplied by government\", ),\n",
    "    \n",
    "    # Other\n",
    "    Variable(name=\"resid\", latex_name=r\"varepsilon\", description=\"Walrasian residual\"),\n",
    "]\n",
    "\n",
    "param_info = [\n",
    "    # Firm Parameters\n",
    "    Parameter(name=\"psi_VA\", extend_subscript=True, dims=\"i\",\n",
    "              description=\"Share of labor-capital in sector <dim:i>'s final good\",),\n",
    "    Parameter(name=\"psi_VC\", extend_subscript=True, dims=\"i\", \n",
    "              description=\"Share of intermediate goods bundle in sector <dim:i>'s final product\",),\n",
    "    Parameter(name=\"psi_X\", extend_subscript=True, dims=(\"i\", \"j\"), \n",
    "              description=\"Share of sector <dim:i>'s final good in sector <dim:j>'s value chain bundle\",),\n",
    "    \n",
    "    Parameter(name=\"alpha_VA\", dims=\"i\", description=\"Share of capital energy bundle in sector <dim:i>'s production process\",),\n",
    "    Parameter(name=\"alpha_KE\", dims=\"i\", description=\"Share of capital in capital energy bundle in sector <dim:i>'s production process\",),\n",
    "    Parameter(name=\"alpha_C\", dims=\"i\", description=\"Consumption aggregation\",),\n",
    "    Parameter(\"alpha_k\", dims=\"i\", extend_subscript=True, description=\"Share of capital investment demanded by the <dim:i> sector\",),\n",
    "    \n",
    "    Parameter(name=\"phi_VA\", extend_subscript=True, dims=\"i\", \n",
    "              description=\"Elasticity of subsitution between input factors in <dim:i> sector VA bundle\",),\n",
    "    Parameter(name=\"phi_KE\", extend_subscript=True, dims=\"i\", \n",
    "              description=\"Elasticity of subsitution between input factors in <dim:i> sector KE bundle\",),\n",
    "    \n",
    "    Parameter(name=\"A\", dims=\"i\", description=\"Total factor productivity in sector <dim:i>\"),\n",
    "    Parameter(name=\"A_KE\", dims=\"i\", description=\"Total factor productivity in capital energy bundle <dim:i>\"),\n",
    "    Parameter(name=\"A_C\", description=\"Consumption aggregation\"),\n",
    "    \n",
    "    # Household\n",
    "    Parameter(name=\"epsilon_C\", description=\"Consumption elasticity of substitution\"),\n",
    "    Parameter(name=\"sigma_C\", description=\"Consumption elasticity of substitution\"),\n",
    "    Parameter(name=\"sigma_L\", description=\"Labour elasticity of substitution\"),\n",
    "    Parameter(name=\"Theta\", description=\"Household labor dispreference parameter\"),\n",
    "    Parameter(name=\"mps\", latex_name=\"mps\", description=\"Households marginal propensityt to save\"),\n",
    "    \n",
    "\n",
    "    # Exogenous variables\n",
    "    # Parameter(name=\"L_s\", description=\"Exogenous household labor supply\"),\n",
    "    Parameter(name=\"K_s\", description=\"Exogenous household capital stock\"),\n",
    "    Parameter(name=\"P_Ag_bar\", latex_name=r\"\\bar{P}_{Ag}\", description=\"Exogenous agricultural price level\", ),\n",
    "    Parameter(name=\"E_s\", description=\"Exogenous energy endwoment\"),\n",
    "    \n",
    "    # Government\n",
    "    Parameter(\"alpha_G\", dims=\"i\", description=\"Share of <dim:i> sector final goods in governmnet consumption\", ),\n",
    "    Parameter(\"S_G_bar\", latex_name=r\"\\bar{S}_G\", description=\"Exogenous level of governmnet savings\", positive=None,),\n",
    "    \n",
    "    # Tax parameters\n",
    "    Parameter(\"tau\", dims=\"i\", latex_name=r\"\\tau\", description=\"Sales tax rate on final goods in the <dim:i> sector\"),\n",
    "    Parameter(\"tau_income\", latex_name=r\"\\hat{\\tau}\", description=\"Income tax rate\"),\n",
    "]\n",
    "\n",
    "equations = [\n",
    "    # Final Goods\n",
    "    Equation(\"Final good production of sector <dim:i>\", \"P * Y = P_VC * VC + P_VA * VA\"),\n",
    "    Equation(\"Sector <dim:i> demand for intermediate goods bundle\", \"VC = psi_VC * Y\"),\n",
    "    Equation(\"Sector <dim:i> demand for labor-capital\", \"VA = psi_VA * Y\"),\n",
    "    \n",
    "    # Value chain bundle\n",
    "    Equation(\n",
    "        \"Sector <dim:i> production of intermediate goods bundle\",\n",
    "        \"VC * P_VC = Sum(P.subs({i:j}) * X.subs([(i,k), (j,i), (k,j)]), \" + f\"(j, 0, {n_sectors - 1}))\"\n",
    "    ),\n",
    "    Equation(\n",
    "        \"Sector <dim:i> demand for sector <dim:j> intermediate input\",\n",
    "        \"X = psi_X * VC.subs({i:j})\",\n",
    "    ),\n",
    "    \n",
    "    # Value add bundle\n",
    "    Equation(\n",
    "        \"Sector <dim:i> production of labor and capital energy bundle\",\n",
    "        \"VA = A * (alpha_VA * KE_d**((phi_VA - 1) / phi_VA) +\"\n",
    "        \"(1 - alpha_VA) * L_d**((phi_VA - 1) / phi_VA)) ** (phi_VA / (phi_VA - 1))\",\n",
    "    ),\n",
    "    \n",
    "    # Sector Firms\n",
    "    Equation(\n",
    "        \"Sector <dim:i> demand for capital energy bundle\",\n",
    "        \"KE_d = VA / A * (alpha_VA * P_VA * A / P_KE) ** phi_VA\"\n",
    "    ),\n",
    "    Equation(\n",
    "        \"Sector <dim:i> demand for labor\",\n",
    "        \"L_d = VA / A * ((1 - alpha_VA) * A * P_VA / w) ** phi_VA\",\n",
    "    ),\n",
    "    Equation(\n",
    "        \"Setor <dim:i> production of capital and energy\",\n",
    "        \"KE_d = A_KE * (alpha_KE * K_d ** ((phi_KE - 1) / phi_KE) +\"\n",
    "        \"(1 - alpha_KE) * E_d **((phi_KE - 1) / phi_KE)) ** (phi_KE / (phi_KE - 1))\",\n",
    "    ),\n",
    "    Equation(\n",
    "        \"Sector <dim:i> demand for captial\",\n",
    "        \"K_d = KE_d / A_KE * (alpha_KE * P_KE / r * A_KE) ** phi_KE\",\n",
    "    ),\n",
    "    Equation(\n",
    "        \"Sector <dim:i> demand for energy\",\n",
    "        \"E_d = KE_d / A_KE * ((1 - alpha_KE) * P_KE / P_E * A_KE) ** phi_KE\"\n",
    "    ),\n",
    "    \n",
    "    Equation(\"<dim:i> sector demand for investment capital\", \"P * I_d = alpha_k * I_s\"),\n",
    "    \n",
    "    # Government block\n",
    "    Equation(\n",
    "        \"Government budget constraint\",\n",
    "        \"G + S_G = tau_income * income + Sum(tau * P_Y * Y, \" + f\"(i, 0, {n_sectors-1}))\",\n",
    "    ),\n",
    "    Equation(\"Government consumption of <dim:i> sector goods\", \"P * C_G = alpha_G * G\"),\n",
    "    Equation(\"Sector <dim:i> after-tax price\", \"P = (1 + tau) * P_Y\"),\n",
    "    Equation(\"Exogenous government savings\", \"S_G = S_G_bar\"),\n",
    "    \n",
    "    # Household Equations\n",
    "    Equation(\"Household pre-tax income\", \"income = w * L_s + r * K_s + P_E * E_s\", ),\n",
    "    Equation(\"Household after-tax income\", \"net_income = (1 - tau_income) * income\"),\n",
    "    \n",
    "    Equation(\"Household utility\", \"U = C_total ** (1 - sigma_C) / (1 - sigma_C) - Theta * L_s ** (1 + sigma_L) / (1 + sigma_L)\",),\n",
    "    Equation(\n",
    "        \"Consumption aggregator\",\n",
    "        \"C_total = A_C * Sum(alpha_C * C**((epsilon_C-1) /epsilon_C), \" + f\"(i, 0, {n_sectors-1})) ** (epsilon_C / (epsilon_C - 1))\",\n",
    "    ),\n",
    "    Equation(\"Household demand for good <dim:i>\",\n",
    "             \"C = C_total / A_C * (alpha_C * A_C * CPI / P) ** epsilon_C\",),\n",
    "    \n",
    "    # Equation(\"Household budget constraint\", \"net_income * (1 - mps) = C_total\"), # Sum(P * C, \" + f\"(i, 0, {n_sectors - 1}))\", ),\n",
    "    Equation(\"Household budget constraint\", \"Sum(P * C, \" + f\"(i, 0, {n_sectors-1}))\" + \"= (1 - mps) * net_income\"),\n",
    "    \n",
    "    Equation(\"Household supply of labor\", \"L_s ** sigma_L * C_total ** sigma_C = w / Theta\",),\n",
    "    \n",
    "    Equation(\"Household savings\", \"S = mps * net_income\"),\n",
    "    \n",
    "    # Market clearning conditions\n",
    "    Equation(\"Investment market clearing\", \"I_s = S + S_G + resid\"),\n",
    "    Equation(\"Labour market clearing\", \"L_s = Sum(L_d, \" + f\"(i, 0, {n_sectors - 1}))\"),\n",
    "    Equation(\"Capital market clearing\", f\"K_s = Sum(K_d, (i, 0, {n_sectors - 1}))\"),\n",
    "    Equation(\"Energy market clearing\", f\"E_s = Sum(E_d, (i, 0, {n_sectors - 1}))\",),   \n",
    "    \n",
    "    Equation(\"Sector <dim:i> goods market clearing\", f\"Y = C + Sum(X, (j, 0, {n_sectors - 1})) + C_G + I_d\"),\n",
    "    \n",
    "    Equation(\"Numeraire\", \"CPI = P_Ag_bar\"),\n",
    "    Equation(\"CPI level\", \"1 = Sum(alpha_C * P ** (1 - epsilon_C), \" + f\"(i, 0, {n_sectors-1}))\",),\n",
    "    \n",
    "]"
   ]
  },
  {
   "cell_type": "code",
   "execution_count": 5,
   "id": "368b582c",
   "metadata": {
    "tags": []
   },
   "outputs": [],
   "source": [
    "mod = CGEModel(\n",
    "    variables=variable_info,\n",
    "    parameters=param_info,\n",
    "    equations=equations,\n",
    "    coords=coords,\n",
    "    parse_equations_to_sympy=True, # True\n",
    "    backend=\"numba\", # numba\n",
    "    # mode=None, # no mode\n",
    "    compile=True,\n",
    ")"
   ]
  },
  {
   "cell_type": "code",
   "execution_count": 6,
   "id": "3084531d-a1e1-4ea2-bc07-c5213d960c7d",
   "metadata": {
    "tags": []
   },
   "outputs": [
    {
     "data": {
      "text/plain": [
       "86"
      ]
     },
     "execution_count": 6,
     "metadata": {},
     "output_type": "execute_result"
    }
   ],
   "source": [
    "mod.n_variables"
   ]
  },
  {
   "cell_type": "code",
   "execution_count": 58,
   "id": "07f1b43d-0761-4eef-bb8d-c4f870b74868",
   "metadata": {
    "tags": []
   },
   "outputs": [
    {
     "data": {
      "text/plain": [
       "91"
      ]
     },
     "execution_count": 58,
     "metadata": {},
     "output_type": "execute_result"
    }
   ],
   "source": [
    "len(mod.unpacked_equation_names)"
   ]
  },
  {
   "cell_type": "code",
   "execution_count": 50,
   "id": "e71d54a1-9259-466f-88e5-58522831eff9",
   "metadata": {
    "tags": []
   },
   "outputs": [
    {
     "data": {
      "text/latex": [
       "$\\displaystyle {P}_{Ag} {Y}_{Ag} = {P_{VA}}_{Ag} {VA}_{Ag} + {P_{VC}}_{Ag} {VC}_{Ag}$"
      ],
      "text/plain": [
       "Final good production of sector Ag"
      ]
     },
     "metadata": {},
     "output_type": "display_data"
    },
    {
     "data": {
      "text/latex": [
       "$\\displaystyle {P}_{Ind} {Y}_{Ind} = {P_{VA}}_{Ind} {VA}_{Ind} + {P_{VC}}_{Ind} {VC}_{Ind}$"
      ],
      "text/plain": [
       "Final good production of sector Ind"
      ]
     },
     "metadata": {},
     "output_type": "display_data"
    },
    {
     "data": {
      "text/latex": [
       "$\\displaystyle {P}_{Serv} {Y}_{Serv} = {P_{VA}}_{Serv} {VA}_{Serv} + {P_{VC}}_{Serv} {VC}_{Serv}$"
      ],
      "text/plain": [
       "Final good production of sector Serv"
      ]
     },
     "metadata": {},
     "output_type": "display_data"
    },
    {
     "data": {
      "text/latex": [
       "$\\displaystyle {P}_{Utility} {Y}_{Utility} = {P_{VA}}_{Utility} {VA}_{Utility} + {P_{VC}}_{Utility} {VC}_{Utility}$"
      ],
      "text/plain": [
       "Final good production of sector Utility"
      ]
     },
     "metadata": {},
     "output_type": "display_data"
    },
    {
     "data": {
      "text/latex": [
       "$\\displaystyle {VC}_{Ag} = {Y}_{Ag} {\\psi_{VC}}_{Ag}$"
      ],
      "text/plain": [
       "Sector Ag demand for intermediate goods bundle"
      ]
     },
     "metadata": {},
     "output_type": "display_data"
    },
    {
     "data": {
      "text/latex": [
       "$\\displaystyle {VC}_{Ind} = {Y}_{Ind} {\\psi_{VC}}_{Ind}$"
      ],
      "text/plain": [
       "Sector Ind demand for intermediate goods bundle"
      ]
     },
     "metadata": {},
     "output_type": "display_data"
    },
    {
     "data": {
      "text/latex": [
       "$\\displaystyle {VC}_{Serv} = {Y}_{Serv} {\\psi_{VC}}_{Serv}$"
      ],
      "text/plain": [
       "Sector Serv demand for intermediate goods bundle"
      ]
     },
     "metadata": {},
     "output_type": "display_data"
    },
    {
     "data": {
      "text/latex": [
       "$\\displaystyle {VC}_{Utility} = {Y}_{Utility} {\\psi_{VC}}_{Utility}$"
      ],
      "text/plain": [
       "Sector Utility demand for intermediate goods bundle"
      ]
     },
     "metadata": {},
     "output_type": "display_data"
    },
    {
     "data": {
      "text/latex": [
       "$\\displaystyle {VA}_{Ag} = {Y}_{Ag} {\\psi_{VA}}_{Ag}$"
      ],
      "text/plain": [
       "Sector Ag demand for labor-capital"
      ]
     },
     "metadata": {},
     "output_type": "display_data"
    },
    {
     "data": {
      "text/latex": [
       "$\\displaystyle {VA}_{Ind} = {Y}_{Ind} {\\psi_{VA}}_{Ind}$"
      ],
      "text/plain": [
       "Sector Ind demand for labor-capital"
      ]
     },
     "metadata": {},
     "output_type": "display_data"
    },
    {
     "data": {
      "text/latex": [
       "$\\displaystyle {VA}_{Serv} = {Y}_{Serv} {\\psi_{VA}}_{Serv}$"
      ],
      "text/plain": [
       "Sector Serv demand for labor-capital"
      ]
     },
     "metadata": {},
     "output_type": "display_data"
    },
    {
     "data": {
      "text/latex": [
       "$\\displaystyle {VA}_{Utility} = {Y}_{Utility} {\\psi_{VA}}_{Utility}$"
      ],
      "text/plain": [
       "Sector Utility demand for labor-capital"
      ]
     },
     "metadata": {},
     "output_type": "display_data"
    },
    {
     "data": {
      "text/latex": [
       "$\\displaystyle {P_{VC}}_{Ag} {VC}_{Ag} = \\sum_{j=0}^{3} {P}_{j} {X}_{j,Ag}$"
      ],
      "text/plain": [
       "Sector Ag production of intermediate goods bundle"
      ]
     },
     "metadata": {},
     "output_type": "display_data"
    },
    {
     "data": {
      "text/latex": [
       "$\\displaystyle {P_{VC}}_{Ind} {VC}_{Ind} = \\sum_{j=0}^{3} {P}_{j} {X}_{j,Ind}$"
      ],
      "text/plain": [
       "Sector Ind production of intermediate goods bundle"
      ]
     },
     "metadata": {},
     "output_type": "display_data"
    },
    {
     "data": {
      "text/latex": [
       "$\\displaystyle {P_{VC}}_{Serv} {VC}_{Serv} = \\sum_{j=0}^{3} {P}_{j} {X}_{j,Serv}$"
      ],
      "text/plain": [
       "Sector Serv production of intermediate goods bundle"
      ]
     },
     "metadata": {},
     "output_type": "display_data"
    },
    {
     "data": {
      "text/latex": [
       "$\\displaystyle {P_{VC}}_{Utility} {VC}_{Utility} = \\sum_{j=0}^{3} {P}_{j} {X}_{j,Utility}$"
      ],
      "text/plain": [
       "Sector Utility production of intermediate goods bundle"
      ]
     },
     "metadata": {},
     "output_type": "display_data"
    },
    {
     "data": {
      "text/latex": [
       "$\\displaystyle {X}_{Ag,Ag} = {VC}_{Ag} {\\psi_{X}}_{Ag,Ag}$"
      ],
      "text/plain": [
       "Sector Ag demand for sector Ag intermediate input"
      ]
     },
     "metadata": {},
     "output_type": "display_data"
    },
    {
     "data": {
      "text/latex": [
       "$\\displaystyle {X}_{Ag,Ind} = {VC}_{Ind} {\\psi_{X}}_{Ag,Ind}$"
      ],
      "text/plain": [
       "Sector Ag demand for sector Ind intermediate input"
      ]
     },
     "metadata": {},
     "output_type": "display_data"
    },
    {
     "data": {
      "text/latex": [
       "$\\displaystyle {X}_{Ag,Serv} = {VC}_{Serv} {\\psi_{X}}_{Ag,Serv}$"
      ],
      "text/plain": [
       "Sector Ag demand for sector Serv intermediate input"
      ]
     },
     "metadata": {},
     "output_type": "display_data"
    },
    {
     "data": {
      "text/latex": [
       "$\\displaystyle {X}_{Ag,Utility} = {VC}_{Utility} {\\psi_{X}}_{Ag,Utility}$"
      ],
      "text/plain": [
       "Sector Ag demand for sector Utility intermediate input"
      ]
     },
     "metadata": {},
     "output_type": "display_data"
    },
    {
     "data": {
      "text/latex": [
       "$\\displaystyle {X}_{Ind,Ag} = {VC}_{Ag} {\\psi_{X}}_{Ind,Ag}$"
      ],
      "text/plain": [
       "Sector Ind demand for sector Ag intermediate input"
      ]
     },
     "metadata": {},
     "output_type": "display_data"
    },
    {
     "data": {
      "text/latex": [
       "$\\displaystyle {X}_{Ind,Ind} = {VC}_{Ind} {\\psi_{X}}_{Ind,Ind}$"
      ],
      "text/plain": [
       "Sector Ind demand for sector Ind intermediate input"
      ]
     },
     "metadata": {},
     "output_type": "display_data"
    },
    {
     "data": {
      "text/latex": [
       "$\\displaystyle {X}_{Ind,Serv} = {VC}_{Serv} {\\psi_{X}}_{Ind,Serv}$"
      ],
      "text/plain": [
       "Sector Ind demand for sector Serv intermediate input"
      ]
     },
     "metadata": {},
     "output_type": "display_data"
    },
    {
     "data": {
      "text/latex": [
       "$\\displaystyle {X}_{Ind,Utility} = {VC}_{Utility} {\\psi_{X}}_{Ind,Utility}$"
      ],
      "text/plain": [
       "Sector Ind demand for sector Utility intermediate input"
      ]
     },
     "metadata": {},
     "output_type": "display_data"
    },
    {
     "data": {
      "text/latex": [
       "$\\displaystyle {X}_{Serv,Ag} = {VC}_{Ag} {\\psi_{X}}_{Serv,Ag}$"
      ],
      "text/plain": [
       "Sector Serv demand for sector Ag intermediate input"
      ]
     },
     "metadata": {},
     "output_type": "display_data"
    },
    {
     "data": {
      "text/latex": [
       "$\\displaystyle {X}_{Serv,Ind} = {VC}_{Ind} {\\psi_{X}}_{Serv,Ind}$"
      ],
      "text/plain": [
       "Sector Serv demand for sector Ind intermediate input"
      ]
     },
     "metadata": {},
     "output_type": "display_data"
    },
    {
     "data": {
      "text/latex": [
       "$\\displaystyle {X}_{Serv,Serv} = {VC}_{Serv} {\\psi_{X}}_{Serv,Serv}$"
      ],
      "text/plain": [
       "Sector Serv demand for sector Serv intermediate input"
      ]
     },
     "metadata": {},
     "output_type": "display_data"
    },
    {
     "data": {
      "text/latex": [
       "$\\displaystyle {X}_{Serv,Utility} = {VC}_{Utility} {\\psi_{X}}_{Serv,Utility}$"
      ],
      "text/plain": [
       "Sector Serv demand for sector Utility intermediate input"
      ]
     },
     "metadata": {},
     "output_type": "display_data"
    },
    {
     "data": {
      "text/latex": [
       "$\\displaystyle {X}_{Utility,Ag} = {VC}_{Ag} {\\psi_{X}}_{Utility,Ag}$"
      ],
      "text/plain": [
       "Sector Utility demand for sector Ag intermediate input"
      ]
     },
     "metadata": {},
     "output_type": "display_data"
    },
    {
     "data": {
      "text/latex": [
       "$\\displaystyle {X}_{Utility,Ind} = {VC}_{Ind} {\\psi_{X}}_{Utility,Ind}$"
      ],
      "text/plain": [
       "Sector Utility demand for sector Ind intermediate input"
      ]
     },
     "metadata": {},
     "output_type": "display_data"
    },
    {
     "data": {
      "text/latex": [
       "$\\displaystyle {X}_{Utility,Serv} = {VC}_{Serv} {\\psi_{X}}_{Utility,Serv}$"
      ],
      "text/plain": [
       "Sector Utility demand for sector Serv intermediate input"
      ]
     },
     "metadata": {},
     "output_type": "display_data"
    },
    {
     "data": {
      "text/latex": [
       "$\\displaystyle {X}_{Utility,Utility} = {VC}_{Utility} {\\psi_{X}}_{Utility,Utility}$"
      ],
      "text/plain": [
       "Sector Utility demand for sector Utility intermediate input"
      ]
     },
     "metadata": {},
     "output_type": "display_data"
    },
    {
     "data": {
      "text/latex": [
       "$\\displaystyle {VA}_{Ag} = \\left(\\left(1 - {\\alpha_{VA}}_{Ag}\\right) {L_{d}}_{Ag}^{\\frac{{\\phi_{VA}}_{Ag} - 1}{{\\phi_{VA}}_{Ag}}} + {KE_{d}}_{Ag}^{\\frac{{\\phi_{VA}}_{Ag} - 1}{{\\phi_{VA}}_{Ag}}} {\\alpha_{VA}}_{Ag}\\right)^{\\frac{{\\phi_{VA}}_{Ag}}{{\\phi_{VA}}_{Ag} - 1}} {A}_{Ag}$"
      ],
      "text/plain": [
       "Sector Ag production of labor and capital energy bundle"
      ]
     },
     "metadata": {},
     "output_type": "display_data"
    },
    {
     "data": {
      "text/latex": [
       "$\\displaystyle {VA}_{Ind} = \\left(\\left(1 - {\\alpha_{VA}}_{Ind}\\right) {L_{d}}_{Ind}^{\\frac{{\\phi_{VA}}_{Ind} - 1}{{\\phi_{VA}}_{Ind}}} + {KE_{d}}_{Ind}^{\\frac{{\\phi_{VA}}_{Ind} - 1}{{\\phi_{VA}}_{Ind}}} {\\alpha_{VA}}_{Ind}\\right)^{\\frac{{\\phi_{VA}}_{Ind}}{{\\phi_{VA}}_{Ind} - 1}} {A}_{Ind}$"
      ],
      "text/plain": [
       "Sector Ind production of labor and capital energy bundle"
      ]
     },
     "metadata": {},
     "output_type": "display_data"
    },
    {
     "data": {
      "text/latex": [
       "$\\displaystyle {VA}_{Serv} = \\left(\\left(1 - {\\alpha_{VA}}_{Serv}\\right) {L_{d}}_{Serv}^{\\frac{{\\phi_{VA}}_{Serv} - 1}{{\\phi_{VA}}_{Serv}}} + {KE_{d}}_{Serv}^{\\frac{{\\phi_{VA}}_{Serv} - 1}{{\\phi_{VA}}_{Serv}}} {\\alpha_{VA}}_{Serv}\\right)^{\\frac{{\\phi_{VA}}_{Serv}}{{\\phi_{VA}}_{Serv} - 1}} {A}_{Serv}$"
      ],
      "text/plain": [
       "Sector Serv production of labor and capital energy bundle"
      ]
     },
     "metadata": {},
     "output_type": "display_data"
    },
    {
     "data": {
      "text/latex": [
       "$\\displaystyle {VA}_{Utility} = \\left(\\left(1 - {\\alpha_{VA}}_{Utility}\\right) {L_{d}}_{Utility}^{\\frac{{\\phi_{VA}}_{Utility} - 1}{{\\phi_{VA}}_{Utility}}} + {KE_{d}}_{Utility}^{\\frac{{\\phi_{VA}}_{Utility} - 1}{{\\phi_{VA}}_{Utility}}} {\\alpha_{VA}}_{Utility}\\right)^{\\frac{{\\phi_{VA}}_{Utility}}{{\\phi_{VA}}_{Utility} - 1}} {A}_{Utility}$"
      ],
      "text/plain": [
       "Sector Utility production of labor and capital energy bundle"
      ]
     },
     "metadata": {},
     "output_type": "display_data"
    },
    {
     "data": {
      "text/latex": [
       "$\\displaystyle {KE_{d}}_{Ag} = \\frac{\\left(\\frac{{A}_{Ag} {P_{VA}}_{Ag} {\\alpha_{VA}}_{Ag}}{{P_{KE}}_{Ag}}\\right)^{{\\phi_{VA}}_{Ag}} {VA}_{Ag}}{{A}_{Ag}}$"
      ],
      "text/plain": [
       "Sector Ag demand for capital energy bundle"
      ]
     },
     "metadata": {},
     "output_type": "display_data"
    },
    {
     "data": {
      "text/latex": [
       "$\\displaystyle {KE_{d}}_{Ind} = \\frac{\\left(\\frac{{A}_{Ind} {P_{VA}}_{Ind} {\\alpha_{VA}}_{Ind}}{{P_{KE}}_{Ind}}\\right)^{{\\phi_{VA}}_{Ind}} {VA}_{Ind}}{{A}_{Ind}}$"
      ],
      "text/plain": [
       "Sector Ind demand for capital energy bundle"
      ]
     },
     "metadata": {},
     "output_type": "display_data"
    },
    {
     "data": {
      "text/latex": [
       "$\\displaystyle {KE_{d}}_{Serv} = \\frac{\\left(\\frac{{A}_{Serv} {P_{VA}}_{Serv} {\\alpha_{VA}}_{Serv}}{{P_{KE}}_{Serv}}\\right)^{{\\phi_{VA}}_{Serv}} {VA}_{Serv}}{{A}_{Serv}}$"
      ],
      "text/plain": [
       "Sector Serv demand for capital energy bundle"
      ]
     },
     "metadata": {},
     "output_type": "display_data"
    },
    {
     "data": {
      "text/latex": [
       "$\\displaystyle {KE_{d}}_{Utility} = \\frac{\\left(\\frac{{A}_{Utility} {P_{VA}}_{Utility} {\\alpha_{VA}}_{Utility}}{{P_{KE}}_{Utility}}\\right)^{{\\phi_{VA}}_{Utility}} {VA}_{Utility}}{{A}_{Utility}}$"
      ],
      "text/plain": [
       "Sector Utility demand for capital energy bundle"
      ]
     },
     "metadata": {},
     "output_type": "display_data"
    },
    {
     "data": {
      "text/latex": [
       "$\\displaystyle {L_{d}}_{Ag} = \\frac{\\left(\\frac{\\left(1 - {\\alpha_{VA}}_{Ag}\\right) {A}_{Ag} {P_{VA}}_{Ag}}{w}\\right)^{{\\phi_{VA}}_{Ag}} {VA}_{Ag}}{{A}_{Ag}}$"
      ],
      "text/plain": [
       "Sector Ag demand for labor"
      ]
     },
     "metadata": {},
     "output_type": "display_data"
    },
    {
     "data": {
      "text/latex": [
       "$\\displaystyle {L_{d}}_{Ind} = \\frac{\\left(\\frac{\\left(1 - {\\alpha_{VA}}_{Ind}\\right) {A}_{Ind} {P_{VA}}_{Ind}}{w}\\right)^{{\\phi_{VA}}_{Ind}} {VA}_{Ind}}{{A}_{Ind}}$"
      ],
      "text/plain": [
       "Sector Ind demand for labor"
      ]
     },
     "metadata": {},
     "output_type": "display_data"
    },
    {
     "data": {
      "text/latex": [
       "$\\displaystyle {L_{d}}_{Serv} = \\frac{\\left(\\frac{\\left(1 - {\\alpha_{VA}}_{Serv}\\right) {A}_{Serv} {P_{VA}}_{Serv}}{w}\\right)^{{\\phi_{VA}}_{Serv}} {VA}_{Serv}}{{A}_{Serv}}$"
      ],
      "text/plain": [
       "Sector Serv demand for labor"
      ]
     },
     "metadata": {},
     "output_type": "display_data"
    },
    {
     "data": {
      "text/latex": [
       "$\\displaystyle {L_{d}}_{Utility} = \\frac{\\left(\\frac{\\left(1 - {\\alpha_{VA}}_{Utility}\\right) {A}_{Utility} {P_{VA}}_{Utility}}{w}\\right)^{{\\phi_{VA}}_{Utility}} {VA}_{Utility}}{{A}_{Utility}}$"
      ],
      "text/plain": [
       "Sector Utility demand for labor"
      ]
     },
     "metadata": {},
     "output_type": "display_data"
    },
    {
     "data": {
      "text/latex": [
       "$\\displaystyle {KE_{d}}_{Ag} = \\left(\\left(1 - {\\alpha_{KE}}_{Ag}\\right) {E_{d}}_{Ag}^{\\frac{{\\phi_{KE}}_{Ag} - 1}{{\\phi_{KE}}_{Ag}}} + {K_{d}}_{Ag}^{\\frac{{\\phi_{KE}}_{Ag} - 1}{{\\phi_{KE}}_{Ag}}} {\\alpha_{KE}}_{Ag}\\right)^{\\frac{{\\phi_{KE}}_{Ag}}{{\\phi_{KE}}_{Ag} - 1}} {A_{KE}}_{Ag}$"
      ],
      "text/plain": [
       "Setor Ag production of capital and energy"
      ]
     },
     "metadata": {},
     "output_type": "display_data"
    },
    {
     "data": {
      "text/latex": [
       "$\\displaystyle {KE_{d}}_{Ind} = \\left(\\left(1 - {\\alpha_{KE}}_{Ind}\\right) {E_{d}}_{Ind}^{\\frac{{\\phi_{KE}}_{Ind} - 1}{{\\phi_{KE}}_{Ind}}} + {K_{d}}_{Ind}^{\\frac{{\\phi_{KE}}_{Ind} - 1}{{\\phi_{KE}}_{Ind}}} {\\alpha_{KE}}_{Ind}\\right)^{\\frac{{\\phi_{KE}}_{Ind}}{{\\phi_{KE}}_{Ind} - 1}} {A_{KE}}_{Ind}$"
      ],
      "text/plain": [
       "Setor Ind production of capital and energy"
      ]
     },
     "metadata": {},
     "output_type": "display_data"
    },
    {
     "data": {
      "text/latex": [
       "$\\displaystyle {KE_{d}}_{Serv} = \\left(\\left(1 - {\\alpha_{KE}}_{Serv}\\right) {E_{d}}_{Serv}^{\\frac{{\\phi_{KE}}_{Serv} - 1}{{\\phi_{KE}}_{Serv}}} + {K_{d}}_{Serv}^{\\frac{{\\phi_{KE}}_{Serv} - 1}{{\\phi_{KE}}_{Serv}}} {\\alpha_{KE}}_{Serv}\\right)^{\\frac{{\\phi_{KE}}_{Serv}}{{\\phi_{KE}}_{Serv} - 1}} {A_{KE}}_{Serv}$"
      ],
      "text/plain": [
       "Setor Serv production of capital and energy"
      ]
     },
     "metadata": {},
     "output_type": "display_data"
    },
    {
     "data": {
      "text/latex": [
       "$\\displaystyle {KE_{d}}_{Utility} = \\left(\\left(1 - {\\alpha_{KE}}_{Utility}\\right) {E_{d}}_{Utility}^{\\frac{{\\phi_{KE}}_{Utility} - 1}{{\\phi_{KE}}_{Utility}}} + {K_{d}}_{Utility}^{\\frac{{\\phi_{KE}}_{Utility} - 1}{{\\phi_{KE}}_{Utility}}} {\\alpha_{KE}}_{Utility}\\right)^{\\frac{{\\phi_{KE}}_{Utility}}{{\\phi_{KE}}_{Utility} - 1}} {A_{KE}}_{Utility}$"
      ],
      "text/plain": [
       "Setor Utility production of capital and energy"
      ]
     },
     "metadata": {},
     "output_type": "display_data"
    },
    {
     "data": {
      "text/latex": [
       "$\\displaystyle {K_{d}}_{Ag} = \\frac{\\left(\\frac{{A_{KE}}_{Ag} {P_{KE}}_{Ag} {\\alpha_{KE}}_{Ag}}{r}\\right)^{{\\phi_{KE}}_{Ag}} {KE_{d}}_{Ag}}{{A_{KE}}_{Ag}}$"
      ],
      "text/plain": [
       "Sector Ag demand for captial"
      ]
     },
     "metadata": {},
     "output_type": "display_data"
    },
    {
     "data": {
      "text/latex": [
       "$\\displaystyle {K_{d}}_{Ind} = \\frac{\\left(\\frac{{A_{KE}}_{Ind} {P_{KE}}_{Ind} {\\alpha_{KE}}_{Ind}}{r}\\right)^{{\\phi_{KE}}_{Ind}} {KE_{d}}_{Ind}}{{A_{KE}}_{Ind}}$"
      ],
      "text/plain": [
       "Sector Ind demand for captial"
      ]
     },
     "metadata": {},
     "output_type": "display_data"
    },
    {
     "data": {
      "text/latex": [
       "$\\displaystyle {K_{d}}_{Serv} = \\frac{\\left(\\frac{{A_{KE}}_{Serv} {P_{KE}}_{Serv} {\\alpha_{KE}}_{Serv}}{r}\\right)^{{\\phi_{KE}}_{Serv}} {KE_{d}}_{Serv}}{{A_{KE}}_{Serv}}$"
      ],
      "text/plain": [
       "Sector Serv demand for captial"
      ]
     },
     "metadata": {},
     "output_type": "display_data"
    },
    {
     "data": {
      "text/latex": [
       "$\\displaystyle {K_{d}}_{Utility} = \\frac{\\left(\\frac{{A_{KE}}_{Utility} {P_{KE}}_{Utility} {\\alpha_{KE}}_{Utility}}{r}\\right)^{{\\phi_{KE}}_{Utility}} {KE_{d}}_{Utility}}{{A_{KE}}_{Utility}}$"
      ],
      "text/plain": [
       "Sector Utility demand for captial"
      ]
     },
     "metadata": {},
     "output_type": "display_data"
    },
    {
     "data": {
      "text/latex": [
       "$\\displaystyle {E_{d}}_{Ag} = \\frac{\\left(\\frac{\\left(1 - {\\alpha_{KE}}_{Ag}\\right) {A_{KE}}_{Ag} {P_{KE}}_{Ag}}{P_{E}}\\right)^{{\\phi_{KE}}_{Ag}} {KE_{d}}_{Ag}}{{A_{KE}}_{Ag}}$"
      ],
      "text/plain": [
       "Sector Ag demand for energy"
      ]
     },
     "metadata": {},
     "output_type": "display_data"
    },
    {
     "data": {
      "text/latex": [
       "$\\displaystyle {E_{d}}_{Ind} = \\frac{\\left(\\frac{\\left(1 - {\\alpha_{KE}}_{Ind}\\right) {A_{KE}}_{Ind} {P_{KE}}_{Ind}}{P_{E}}\\right)^{{\\phi_{KE}}_{Ind}} {KE_{d}}_{Ind}}{{A_{KE}}_{Ind}}$"
      ],
      "text/plain": [
       "Sector Ind demand for energy"
      ]
     },
     "metadata": {},
     "output_type": "display_data"
    },
    {
     "data": {
      "text/latex": [
       "$\\displaystyle {E_{d}}_{Serv} = \\frac{\\left(\\frac{\\left(1 - {\\alpha_{KE}}_{Serv}\\right) {A_{KE}}_{Serv} {P_{KE}}_{Serv}}{P_{E}}\\right)^{{\\phi_{KE}}_{Serv}} {KE_{d}}_{Serv}}{{A_{KE}}_{Serv}}$"
      ],
      "text/plain": [
       "Sector Serv demand for energy"
      ]
     },
     "metadata": {},
     "output_type": "display_data"
    },
    {
     "data": {
      "text/latex": [
       "$\\displaystyle {E_{d}}_{Utility} = \\frac{\\left(\\frac{\\left(1 - {\\alpha_{KE}}_{Utility}\\right) {A_{KE}}_{Utility} {P_{KE}}_{Utility}}{P_{E}}\\right)^{{\\phi_{KE}}_{Utility}} {KE_{d}}_{Utility}}{{A_{KE}}_{Utility}}$"
      ],
      "text/plain": [
       "Sector Utility demand for energy"
      ]
     },
     "metadata": {},
     "output_type": "display_data"
    },
    {
     "data": {
      "text/latex": [
       "$\\displaystyle {I_{d}}_{Ag} {P}_{Ag} = I_{s} {\\alpha_{k}}_{Ag}$"
      ],
      "text/plain": [
       "Ag sector demand for investment capital"
      ]
     },
     "metadata": {},
     "output_type": "display_data"
    },
    {
     "data": {
      "text/latex": [
       "$\\displaystyle {I_{d}}_{Ind} {P}_{Ind} = I_{s} {\\alpha_{k}}_{Ind}$"
      ],
      "text/plain": [
       "Ind sector demand for investment capital"
      ]
     },
     "metadata": {},
     "output_type": "display_data"
    },
    {
     "data": {
      "text/latex": [
       "$\\displaystyle {I_{d}}_{Serv} {P}_{Serv} = I_{s} {\\alpha_{k}}_{Serv}$"
      ],
      "text/plain": [
       "Serv sector demand for investment capital"
      ]
     },
     "metadata": {},
     "output_type": "display_data"
    },
    {
     "data": {
      "text/latex": [
       "$\\displaystyle {I_{d}}_{Utility} {P}_{Utility} = I_{s} {\\alpha_{k}}_{Utility}$"
      ],
      "text/plain": [
       "Utility sector demand for investment capital"
      ]
     },
     "metadata": {},
     "output_type": "display_data"
    },
    {
     "data": {
      "text/latex": [
       "$\\displaystyle G + S_{G} = income \\tau_{income} + \\sum_{i=0}^{3} P_{Y} {Y}_{i} {\\tau}_{i}$"
      ],
      "text/plain": [
       "Government budget constraint"
      ]
     },
     "metadata": {},
     "output_type": "display_data"
    },
    {
     "data": {
      "text/latex": [
       "$\\displaystyle {C_{G}}_{Ag} {P}_{Ag} = G {\\alpha_{G}}_{Ag}$"
      ],
      "text/plain": [
       "Government consumption of Ag sector goods"
      ]
     },
     "metadata": {},
     "output_type": "display_data"
    },
    {
     "data": {
      "text/latex": [
       "$\\displaystyle {C_{G}}_{Ind} {P}_{Ind} = G {\\alpha_{G}}_{Ind}$"
      ],
      "text/plain": [
       "Government consumption of Ind sector goods"
      ]
     },
     "metadata": {},
     "output_type": "display_data"
    },
    {
     "data": {
      "text/latex": [
       "$\\displaystyle {C_{G}}_{Serv} {P}_{Serv} = G {\\alpha_{G}}_{Serv}$"
      ],
      "text/plain": [
       "Government consumption of Serv sector goods"
      ]
     },
     "metadata": {},
     "output_type": "display_data"
    },
    {
     "data": {
      "text/latex": [
       "$\\displaystyle {C_{G}}_{Utility} {P}_{Utility} = G {\\alpha_{G}}_{Utility}$"
      ],
      "text/plain": [
       "Government consumption of Utility sector goods"
      ]
     },
     "metadata": {},
     "output_type": "display_data"
    },
    {
     "data": {
      "text/latex": [
       "$\\displaystyle {P}_{Ag} = P_{Y} \\left({\\tau}_{Ag} + 1\\right)$"
      ],
      "text/plain": [
       "Sector Ag after-tax price"
      ]
     },
     "metadata": {},
     "output_type": "display_data"
    },
    {
     "data": {
      "text/latex": [
       "$\\displaystyle {P}_{Ind} = P_{Y} \\left({\\tau}_{Ind} + 1\\right)$"
      ],
      "text/plain": [
       "Sector Ind after-tax price"
      ]
     },
     "metadata": {},
     "output_type": "display_data"
    },
    {
     "data": {
      "text/latex": [
       "$\\displaystyle {P}_{Serv} = P_{Y} \\left({\\tau}_{Serv} + 1\\right)$"
      ],
      "text/plain": [
       "Sector Serv after-tax price"
      ]
     },
     "metadata": {},
     "output_type": "display_data"
    },
    {
     "data": {
      "text/latex": [
       "$\\displaystyle {P}_{Utility} = P_{Y} \\left({\\tau}_{Utility} + 1\\right)$"
      ],
      "text/plain": [
       "Sector Utility after-tax price"
      ]
     },
     "metadata": {},
     "output_type": "display_data"
    },
    {
     "data": {
      "text/latex": [
       "$\\displaystyle S_{G} = S_{G bar}$"
      ],
      "text/plain": [
       "Exogenous government savings"
      ]
     },
     "metadata": {},
     "output_type": "display_data"
    },
    {
     "data": {
      "text/latex": [
       "$\\displaystyle income = E_{s} P_{E} + K_{s} r + L_{s} w$"
      ],
      "text/plain": [
       "Household pre-tax income"
      ]
     },
     "metadata": {},
     "output_type": "display_data"
    },
    {
     "data": {
      "text/latex": [
       "$\\displaystyle net_{income} = income \\left(1 - \\tau_{income}\\right)$"
      ],
      "text/plain": [
       "Household after-tax income"
      ]
     },
     "metadata": {},
     "output_type": "display_data"
    },
    {
     "data": {
      "text/latex": [
       "$\\displaystyle U = \\frac{C_{total}^{1 - \\sigma_{C}}}{1 - \\sigma_{C}} - \\frac{L_{s}^{\\sigma_{L} + 1} \\Theta}{\\sigma_{L} + 1}$"
      ],
      "text/plain": [
       "Household utility"
      ]
     },
     "metadata": {},
     "output_type": "display_data"
    },
    {
     "data": {
      "text/latex": [
       "$\\displaystyle C_{total} = A_{C} \\left(\\sum_{i=0}^{3} {C}_{i}^{\\frac{\\epsilon_{C} - 1}{\\epsilon_{C}}} {\\alpha_{C}}_{i}\\right)^{\\frac{\\epsilon_{C}}{\\epsilon_{C} - 1}}$"
      ],
      "text/plain": [
       "Consumption aggregator"
      ]
     },
     "metadata": {},
     "output_type": "display_data"
    },
    {
     "data": {
      "text/latex": [
       "$\\displaystyle {C}_{Ag} = \\frac{C_{total} \\left(\\frac{A_{C} CPI {\\alpha_{C}}_{Ag}}{{P}_{Ag}}\\right)^{\\epsilon_{C}}}{A_{C}}$"
      ],
      "text/plain": [
       "Household demand for good Ag"
      ]
     },
     "metadata": {},
     "output_type": "display_data"
    },
    {
     "data": {
      "text/latex": [
       "$\\displaystyle {C}_{Ind} = \\frac{C_{total} \\left(\\frac{A_{C} CPI {\\alpha_{C}}_{Ind}}{{P}_{Ind}}\\right)^{\\epsilon_{C}}}{A_{C}}$"
      ],
      "text/plain": [
       "Household demand for good Ind"
      ]
     },
     "metadata": {},
     "output_type": "display_data"
    },
    {
     "data": {
      "text/latex": [
       "$\\displaystyle {C}_{Serv} = \\frac{C_{total} \\left(\\frac{A_{C} CPI {\\alpha_{C}}_{Serv}}{{P}_{Serv}}\\right)^{\\epsilon_{C}}}{A_{C}}$"
      ],
      "text/plain": [
       "Household demand for good Serv"
      ]
     },
     "metadata": {},
     "output_type": "display_data"
    },
    {
     "data": {
      "text/latex": [
       "$\\displaystyle {C}_{Utility} = \\frac{C_{total} \\left(\\frac{A_{C} CPI {\\alpha_{C}}_{Utility}}{{P}_{Utility}}\\right)^{\\epsilon_{C}}}{A_{C}}$"
      ],
      "text/plain": [
       "Household demand for good Utility"
      ]
     },
     "metadata": {},
     "output_type": "display_data"
    },
    {
     "data": {
      "text/latex": [
       "$\\displaystyle net_{income} \\left(1 - mps\\right) = C_{total}$"
      ],
      "text/plain": [
       "Household budget constraint"
      ]
     },
     "metadata": {},
     "output_type": "display_data"
    },
    {
     "data": {
      "text/latex": [
       "$\\displaystyle C_{total}^{\\sigma_{C}} L_{s}^{\\sigma_{L}} = \\frac{w}{\\Theta}$"
      ],
      "text/plain": [
       "Household supply of labor"
      ]
     },
     "metadata": {},
     "output_type": "display_data"
    },
    {
     "data": {
      "text/latex": [
       "$\\displaystyle S = mps net_{income}$"
      ],
      "text/plain": [
       "Household savings"
      ]
     },
     "metadata": {},
     "output_type": "display_data"
    },
    {
     "data": {
      "text/latex": [
       "$\\displaystyle I_{s} = S + S_{G} + resid$"
      ],
      "text/plain": [
       "Investment market clearing"
      ]
     },
     "metadata": {},
     "output_type": "display_data"
    },
    {
     "data": {
      "text/latex": [
       "$\\displaystyle L_{s} = \\sum_{i=0}^{3} {L_{d}}_{i}$"
      ],
      "text/plain": [
       "Labour market clearing"
      ]
     },
     "metadata": {},
     "output_type": "display_data"
    },
    {
     "data": {
      "text/latex": [
       "$\\displaystyle K_{s} = \\sum_{i=0}^{3} {K_{d}}_{i}$"
      ],
      "text/plain": [
       "Capital market clearing"
      ]
     },
     "metadata": {},
     "output_type": "display_data"
    },
    {
     "data": {
      "text/latex": [
       "$\\displaystyle E_{s} = \\sum_{i=0}^{3} {E_{d}}_{i}$"
      ],
      "text/plain": [
       "Energy market clearing"
      ]
     },
     "metadata": {},
     "output_type": "display_data"
    },
    {
     "data": {
      "text/latex": [
       "$\\displaystyle {Y}_{Ag} = {C}_{Ag} + {C_{G}}_{Ag} + {I_{d}}_{Ag} + \\sum_{j=0}^{3} {X}_{Ag,j}$"
      ],
      "text/plain": [
       "Sector Ag goods market clearing"
      ]
     },
     "metadata": {},
     "output_type": "display_data"
    },
    {
     "data": {
      "text/latex": [
       "$\\displaystyle {Y}_{Ind} = {C}_{Ind} + {C_{G}}_{Ind} + {I_{d}}_{Ind} + \\sum_{j=0}^{3} {X}_{Ind,j}$"
      ],
      "text/plain": [
       "Sector Ind goods market clearing"
      ]
     },
     "metadata": {},
     "output_type": "display_data"
    },
    {
     "data": {
      "text/latex": [
       "$\\displaystyle {Y}_{Serv} = {C}_{Serv} + {C_{G}}_{Serv} + {I_{d}}_{Serv} + \\sum_{j=0}^{3} {X}_{Serv,j}$"
      ],
      "text/plain": [
       "Sector Serv goods market clearing"
      ]
     },
     "metadata": {},
     "output_type": "display_data"
    },
    {
     "data": {
      "text/latex": [
       "$\\displaystyle {Y}_{Utility} = {C}_{Utility} + {C_{G}}_{Utility} + {I_{d}}_{Utility} + \\sum_{j=0}^{3} {X}_{Utility,j}$"
      ],
      "text/plain": [
       "Sector Utility goods market clearing"
      ]
     },
     "metadata": {},
     "output_type": "display_data"
    },
    {
     "data": {
      "text/latex": [
       "$\\displaystyle CPI = P_{Ag bar}$"
      ],
      "text/plain": [
       "Numeraire"
      ]
     },
     "metadata": {},
     "output_type": "display_data"
    },
    {
     "data": {
      "text/latex": [
       "$\\displaystyle 1 = \\sum_{i=0}^{3} {P}_{i}^{1 - \\epsilon_{C}} {\\alpha_{C}}_{i}$"
      ],
      "text/plain": [
       "CPI level"
      ]
     },
     "metadata": {},
     "output_type": "display_data"
    }
   ],
   "source": [
    "for i in mod.unpacked_equations:\n",
    "    display(i)"
   ]
  },
  {
   "cell_type": "code",
   "execution_count": 8,
   "id": "0a998676-59a9-4937-b76e-78975568c0ca",
   "metadata": {
    "tags": []
   },
   "outputs": [],
   "source": [
    "variables = {\n",
    "    'Y': [ 6500, 13500, 10000,  5510],\n",
    "     'VA': [2500., 5000., 5500., 2510.],\n",
    "     'VC': [4000., 8500., 4500., 3000.],\n",
    "     'X': [[1000, 1000, 1000,  500],\n",
    "            [2000, 3500, 2000, 2000],\n",
    "            [ 500, 2500, 1000,  500],\n",
    "            [ 500, 1500,  500,    0]],\n",
    "     'L_d': [1000, 2000, 4000,   10],\n",
    "     'K_d': [ 500, 2000,  500, 2000],\n",
    "     'KL_d': [1500., 4000., 4500., 2010.],\n",
    "     'E_d': [1000, 1000, 1000,  500],\n",
    "     'U': -9.682138243071348e-05,\n",
    "     'C': [3000, 4000, 5500, 3010],\n",
    "     'C_total': 15509.999999999998,\n",
    "     'income': 15510.0,\n",
    "     'L_s': 7010,\n",
    "     'r': 1.0,\n",
    "     'w': 1.0,\n",
    "     'P_VA': [1., 1., 1., 1.],\n",
    "     'P_VC': [1., 1., 1., 1.],\n",
    "     'P': [1., 1., 1., 1.],\n",
    "     'P_KL': [1., 1., 1., 1.],\n",
    "     'P_E': 1.0,\n",
    "     'CPI': 1.0,\n",
    "     'resid': 0.0\n",
    "}\n",
    "params = {\n",
    "        'psi_VA': [0.38461538, 0.37037037, 0.55      , 0.45553539],\n",
    "     'psi_VC': [0.61538462, 0.62962963, 0.45      , 0.54446461],\n",
    "     'psi_X': [[0.25      , 0.11764706, 0.22222222, 0.16666667],\n",
    "            [0.5       , 0.41176471, 0.44444444, 0.66666667],\n",
    "            [0.125     , 0.29411765, 0.22222222, 0.16666667],\n",
    "            [0.125     , 0.17647059, 0.11111111, 0.        ]],\n",
    "     'alpha_VA': [0.53373742, 0.61351179, 0.62277868, 0.61390592],\n",
    "     'alpha_KL': [0.41421356, 0.5       , 0.26120387, 0.93395912],\n",
    "     'alpha_C': [0.22171119, 0.25601003, 0.30019837, 0.2220804 ],\n",
    "     'phi_VA': [3., 3., 3., 3.],\n",
    "     'phi_KL': [2., 2., 2., 2.],\n",
    "     'A_VA': [1.98647978, 1.86127534, 1.84045121, 1.860409  ],\n",
    "     'A_KL': [1.94280904, 2.        , 1.62853936, 1.14071777],\n",
    "     'A_C': 3.9349047497271177,\n",
    "     'epsilon_C': 2,\n",
    "     'sigma_C': 2,\n",
    "     'sigma_L': -0.09912936773996048,\n",
    "     'Theta': 1e-08,\n",
    "     'K_s': 5000,\n",
    "     'P_Ag_bar': 1.0,\n",
    "     'E_s': 3500\n",
    "}\n"
   ]
  },
  {
   "cell_type": "code",
   "execution_count": 10,
   "id": "3aba7165-40a0-4341-8ae6-0ea53dc91c19",
   "metadata": {
    "tags": []
   },
   "outputs": [
    {
     "data": {
      "text/plain": [
       "['alpha_KE',\n",
       " 'alpha_k',\n",
       " 'phi_KE',\n",
       " 'A',\n",
       " 'A_KE',\n",
       " 'mps',\n",
       " 'alpha_G',\n",
       " 'S_G_bar',\n",
       " 'tau',\n",
       " 'tau_income']"
      ]
     },
     "execution_count": 10,
     "metadata": {},
     "output_type": "execute_result"
    }
   ],
   "source": [
    "[i for i in mod.parameter_names if i not in params.keys()]"
   ]
  },
  {
   "cell_type": "code",
   "execution_count": null,
   "id": "d4ee0d7e-d2b7-4231-866b-a7e19283eb39",
   "metadata": {},
   "outputs": [],
   "source": []
  },
  {
   "cell_type": "code",
   "execution_count": null,
   "id": "8d078d61-6f68-463e-84e1-0a4d4f9e957d",
   "metadata": {},
   "outputs": [],
   "source": []
  },
  {
   "cell_type": "code",
   "execution_count": 24,
   "id": "5cd4a852-ef0d-454f-9064-502af24a0d7a",
   "metadata": {
    "tags": []
   },
   "outputs": [],
   "source": [
    "data = np.array(\n",
    "    [\n",
    "        [0, 0, 0, 0, 1000, 2000, 4000, 0],\n",
    "        [0, 0, 0, 0, 500, 2000, 500, 2000],\n",
    "        [0, 0, 0, 0, 1000, 1000, 1000, 500],\n",
    "        [7000, 5000, 3500, 0, 0, 0, 0, 0],\n",
    "        [0, 0, 0, 3000, 1000, 1000, 1000, 500],\n",
    "        [0, 0, 0, 4000, 2000, 3500, 2000, 2000],\n",
    "        [0, 0, 0, 5500, 500, 2500, 1000, 500],\n",
    "        [0, 0, 0, 3000, 500, 1500, 500, 0],\n",
    "    ]\n",
    ")\n",
    "\n",
    "df = pd.DataFrame(data)\n",
    "cols = [\"L_d\", \"K_d\", \"E_d\", \"Men\", *sectors]\n",
    "\n",
    "df = df.iloc[:len(cols), :len(cols)]\n",
    "df.columns = cols\n",
    "df.index = cols"
   ]
  },
  {
   "cell_type": "code",
   "execution_count": 25,
   "id": "bafc6a32-9b8a-4b27-9a4c-448b8f5e9089",
   "metadata": {
    "tags": []
   },
   "outputs": [
    {
     "data": {
      "text/html": [
       "<div>\n",
       "<style scoped>\n",
       "    .dataframe tbody tr th:only-of-type {\n",
       "        vertical-align: middle;\n",
       "    }\n",
       "\n",
       "    .dataframe tbody tr th {\n",
       "        vertical-align: top;\n",
       "    }\n",
       "\n",
       "    .dataframe thead th {\n",
       "        text-align: right;\n",
       "    }\n",
       "</style>\n",
       "<table border=\"1\" class=\"dataframe\">\n",
       "  <thead>\n",
       "    <tr style=\"text-align: right;\">\n",
       "      <th></th>\n",
       "      <th>L_d</th>\n",
       "      <th>K_d</th>\n",
       "      <th>E_d</th>\n",
       "      <th>Men</th>\n",
       "      <th>Ag</th>\n",
       "      <th>Ind</th>\n",
       "      <th>Serv</th>\n",
       "      <th>Utility</th>\n",
       "    </tr>\n",
       "  </thead>\n",
       "  <tbody>\n",
       "    <tr>\n",
       "      <th>L_d</th>\n",
       "      <td>0</td>\n",
       "      <td>0</td>\n",
       "      <td>0</td>\n",
       "      <td>0</td>\n",
       "      <td>1000</td>\n",
       "      <td>2000</td>\n",
       "      <td>4000</td>\n",
       "      <td>0</td>\n",
       "    </tr>\n",
       "    <tr>\n",
       "      <th>K_d</th>\n",
       "      <td>0</td>\n",
       "      <td>0</td>\n",
       "      <td>0</td>\n",
       "      <td>0</td>\n",
       "      <td>500</td>\n",
       "      <td>2000</td>\n",
       "      <td>500</td>\n",
       "      <td>2000</td>\n",
       "    </tr>\n",
       "    <tr>\n",
       "      <th>E_d</th>\n",
       "      <td>0</td>\n",
       "      <td>0</td>\n",
       "      <td>0</td>\n",
       "      <td>0</td>\n",
       "      <td>1000</td>\n",
       "      <td>1000</td>\n",
       "      <td>1000</td>\n",
       "      <td>500</td>\n",
       "    </tr>\n",
       "    <tr>\n",
       "      <th>Men</th>\n",
       "      <td>7000</td>\n",
       "      <td>5000</td>\n",
       "      <td>3500</td>\n",
       "      <td>0</td>\n",
       "      <td>0</td>\n",
       "      <td>0</td>\n",
       "      <td>0</td>\n",
       "      <td>0</td>\n",
       "    </tr>\n",
       "    <tr>\n",
       "      <th>Ag</th>\n",
       "      <td>0</td>\n",
       "      <td>0</td>\n",
       "      <td>0</td>\n",
       "      <td>3000</td>\n",
       "      <td>1000</td>\n",
       "      <td>1000</td>\n",
       "      <td>1000</td>\n",
       "      <td>500</td>\n",
       "    </tr>\n",
       "    <tr>\n",
       "      <th>Ind</th>\n",
       "      <td>0</td>\n",
       "      <td>0</td>\n",
       "      <td>0</td>\n",
       "      <td>4000</td>\n",
       "      <td>2000</td>\n",
       "      <td>3500</td>\n",
       "      <td>2000</td>\n",
       "      <td>2000</td>\n",
       "    </tr>\n",
       "    <tr>\n",
       "      <th>Serv</th>\n",
       "      <td>0</td>\n",
       "      <td>0</td>\n",
       "      <td>0</td>\n",
       "      <td>5500</td>\n",
       "      <td>500</td>\n",
       "      <td>2500</td>\n",
       "      <td>1000</td>\n",
       "      <td>500</td>\n",
       "    </tr>\n",
       "    <tr>\n",
       "      <th>Utility</th>\n",
       "      <td>0</td>\n",
       "      <td>0</td>\n",
       "      <td>0</td>\n",
       "      <td>3000</td>\n",
       "      <td>500</td>\n",
       "      <td>1500</td>\n",
       "      <td>500</td>\n",
       "      <td>0</td>\n",
       "    </tr>\n",
       "  </tbody>\n",
       "</table>\n",
       "</div>"
      ],
      "text/plain": [
       "          L_d   K_d   E_d   Men    Ag   Ind  Serv  Utility\n",
       "L_d         0     0     0     0  1000  2000  4000        0\n",
       "K_d         0     0     0     0   500  2000   500     2000\n",
       "E_d         0     0     0     0  1000  1000  1000      500\n",
       "Men      7000  5000  3500     0     0     0     0        0\n",
       "Ag          0     0     0  3000  1000  1000  1000      500\n",
       "Ind         0     0     0  4000  2000  3500  2000     2000\n",
       "Serv        0     0     0  5500   500  2500  1000      500\n",
       "Utility     0     0     0  3000   500  1500   500        0"
      ]
     },
     "execution_count": 25,
     "metadata": {},
     "output_type": "execute_result"
    }
   ],
   "source": [
    "df"
   ]
  },
  {
   "cell_type": "code",
   "execution_count": 241,
   "id": "5ae83761-d04c-42c7-843f-1b269e048213",
   "metadata": {
    "tags": []
   },
   "outputs": [
    {
     "data": {
      "text/plain": [
       "L_d        0\n",
       "K_d        0\n",
       "E_d        0\n",
       "Men        0\n",
       "Ag         0\n",
       "Ind        0\n",
       "Serv       0\n",
       "Utility    0\n",
       "dtype: int64"
      ]
     },
     "execution_count": 241,
     "metadata": {},
     "output_type": "execute_result"
    }
   ],
   "source": [
    "df.sum(axis=0) - df.sum(axis=1)"
   ]
  },
  {
   "cell_type": "code",
   "execution_count": 250,
   "id": "68c070a8",
   "metadata": {
    "tags": []
   },
   "outputs": [],
   "source": [
    "data = {\n",
    "    \"L_d\": df.loc[\"L_d\", sectors].values,\n",
    "    \"K_d\": df.loc[\"K_d\", sectors].values,\n",
    "    \"E_d\": df.loc[\"E_d\", sectors].values,\n",
    "    \n",
    "    \"X\": df.loc[sectors, sectors].values,\n",
    "    \"Y\": df.loc[sectors, :].values.sum(axis=1),\n",
    "    \"C\": df.loc[sectors, 'Men'].values,\n",
    "    \n",
    "    \"S\": df.loc[(\"Other\", \"Capital Accumulation\"), (\"Institution\", \"Household\")],\n",
    "    \"S_G\": df.loc[(\"Other\", \"Capital Accumulation\"), (\"Institution\", \"Govt\")],\n",
    "    \"I_d\": df.loc[\"Production\", (\"Other\", \"Capital Accumulation\")].values,\n",
    "    \"C_G\": df.loc[\"Production\", (\"Institution\", \"Govt\")].values,\n",
    "    \n",
    "    \"phi_VA\": np.full(n_sectors, 3.0),\n",
    "    \"phi_KE\": np.full(n_sectors, 2.0),\n",
    "    \n",
    "    \"epsilon_C\": 2,\n",
    "    \"sigma_C\": 2,\n",
    "    \n",
    "    \"Theta\":  1e-8,\n",
    "    \n",
    "    \"r\": 1.0,\n",
    "    \"w\": 1.0,\n",
    "    \"P_E\": 1.0,\n",
    "    \"P_Ag_bar\": 1.0,\n",
    "    \"CPI\" : 1.0,\n",
    "        \n",
    "    \"P\": np.ones((n_sectors,)),\n",
    "    \"P_VA\": np.ones((n_sectors,)),\n",
    "    \"P_VC\": np.ones((n_sectors,)),\n",
    "    \"P_KE\": np.ones((n_sectors,)),    \n",
    "}"
   ]
  },
  {
   "cell_type": "code",
   "execution_count": 251,
   "id": "b03308fb-1009-4a70-8b17-26bd9d80bbc6",
   "metadata": {
    "tags": []
   },
   "outputs": [],
   "source": [
    "def calibrate_model(L_d, K_d, E_d, X, Y, C, phi_VA, phi_KE, epsilon_C, sigma_C, Theta, r, w, P, P_Ag_bar, P_VA, P_VC, P_E, P_KE, CPI,\n",
    "                    S, S_G, C_G, I_d                       \n",
    "                   ):\n",
    "    calib_dict = {}\n",
    "    \n",
    "    # rho\n",
    "    _rho_VA = (phi_VA - 1) / phi_VA\n",
    "    _rho_KE = (phi_KE - 1) / phi_KE\n",
    "    _rho_C = (epsilon_C - 1) / epsilon_C\n",
    "\n",
    "    # Numeraire\n",
    "    resid = 0.0\n",
    "\n",
    "    # Household calibration\n",
    "    L_s = L_d.sum()\n",
    "    K_s = K_d.sum()\n",
    "    E_s = E_d.sum()\n",
    "    \n",
    "    income = w * L_s + r * K_s + P_E * E_s\n",
    "    # C = (Y - X).sum(axis=1)\n",
    "    \n",
    "    \n",
    "    # consumption \n",
    "    alpha_C = P * C ** (1 / epsilon_C) / (P * C ** (1 / epsilon_C)).sum()\n",
    "    A_C = C.sum() * (alpha_C * C**_rho_C).sum() ** (-1 / _rho_C)\n",
    "    C_total = A_C * (alpha_C * C ** ((epsilon_C - 1) / epsilon_C)).sum() ** (epsilon_C / (epsilon_C - 1))\n",
    "    \n",
    "    # labour \n",
    "    sigma_L = (np.log(w / Theta) - sigma_C * np.log(C_total)) / np.log(L_s)\n",
    "    \n",
    "    # Utility\n",
    "    U = C_total ** (1 - sigma_C) / (1 - sigma_C) - Theta * L_s ** (1 + sigma_L) / (1 + sigma_L)\n",
    "    \n",
    "   # Firm calibration\n",
    "    KE_d = (P_E * E_d + r * K_d) / P_KE\n",
    "    VA = (w * L_d + P_KE * KE_d) / P_VA\n",
    "    VC = (P[:, None] * X).sum(axis=0) / P_VC\n",
    "\n",
    "    alpha_VA = P_KE * KE_d ** (1 / phi_VA) / ((P_KE * KE_d ** (1 / phi_VA) + w * L_d ** (1 / phi_VA)))\n",
    "    alpha_KE = r * K_d ** (1 / phi_KE) / ((r * K_d ** (1 / phi_KE) + P_E * E_d ** (1 / phi_KE)))\n",
    "    \n",
    "    A = VA * (alpha_VA * KE_d**_rho_VA + (1 - alpha_VA) * L_d**_rho_VA) ** (-1 / _rho_VA)\n",
    "    A_KE = KE_d * (alpha_KE * K_d**_rho_KE + (1 - alpha_KE) * E_d**_rho_KE) ** (-1 / _rho_KE)\n",
    "\n",
    "    psi_VA = VA / Y\n",
    "    psi_VC = VC / Y\n",
    "    psi_X = X / VC[None]\n",
    "    \n",
    "    for i in list(locals().keys()):\n",
    "        if i == \"calib_dict\":\n",
    "            continue\n",
    "        elif i[0] == \"_\":\n",
    "            continue\n",
    "        calib_dict[i] = locals()[i]\n",
    "    \n",
    "    return calib_dict"
   ]
  },
  {
   "cell_type": "code",
   "execution_count": 252,
   "id": "44372dde-d134-4567-b11e-ec2bbad8618e",
   "metadata": {
    "tags": []
   },
   "outputs": [
    {
     "data": {
      "text/plain": [
       "[]"
      ]
     },
     "execution_count": 252,
     "metadata": {},
     "output_type": "execute_result"
    }
   ],
   "source": [
    "[i for i in [*chain(mod.variable_names, mod.parameter_names)] if i not in calibrate_model(**data).keys()]"
   ]
  },
  {
   "cell_type": "code",
   "execution_count": 253,
   "id": "aa06a85d-e8b8-4f54-8494-a2557775db0a",
   "metadata": {
    "tags": []
   },
   "outputs": [
    {
     "data": {
      "text/plain": [
       "[]"
      ]
     },
     "execution_count": 253,
     "metadata": {},
     "output_type": "execute_result"
    }
   ],
   "source": [
    "[i for i in calibrate_model(**data).keys() if i not in [*chain(mod.variable_names, mod.parameter_names)]]"
   ]
  },
  {
   "cell_type": "code",
   "execution_count": 254,
   "id": "39af4a09",
   "metadata": {
    "tags": []
   },
   "outputs": [],
   "source": [
    "calibrated_data = calibrate_model(**data)\n",
    "var_inputs = np.r_[*[np.atleast_1d(calibrated_data[x]).ravel() for x in mod.variable_names]]\n",
    "param_inputs = np.r_[*[np.atleast_1d(calibrated_data[x]).ravel() for x in mod.parameter_names]]"
   ]
  },
  {
   "cell_type": "code",
   "execution_count": 255,
   "id": "0466097e-a5a1-454d-9964-ee266e00a734",
   "metadata": {
    "tags": []
   },
   "outputs": [
    {
     "data": {
      "text/plain": [
       "array(1.99840148e-15)"
      ]
     },
     "execution_count": 255,
     "metadata": {},
     "output_type": "execute_result"
    }
   ],
   "source": [
    "mod.f_resid(exog_inputs=var_inputs, endog_inputs=param_inputs)"
   ]
  },
  {
   "cell_type": "code",
   "execution_count": 256,
   "id": "3ff56305-65ff-4f27-ada4-ff5ebc133446",
   "metadata": {
    "tags": []
   },
   "outputs": [
    {
     "data": {
      "text/plain": [
       "{}"
      ]
     },
     "execution_count": 256,
     "metadata": {},
     "output_type": "execute_result"
    }
   ],
   "source": [
    "errors = dict(zip(mod.unpacked_equation_names, mod.f_system(var_inputs, param_inputs)))\n",
    "{k: v for k, v in errors.items() if abs(v) > 1e-5}"
   ]
  },
  {
   "cell_type": "code",
   "execution_count": null,
   "id": "890ab17b-866d-4530-8eb9-20ef3f011f34",
   "metadata": {},
   "outputs": [],
   "source": []
  },
  {
   "cell_type": "code",
   "execution_count": null,
   "id": "c41ce2aa-cf7b-4df4-a6de-eb81e7f6fd4d",
   "metadata": {},
   "outputs": [],
   "source": []
  },
  {
   "cell_type": "code",
   "execution_count": null,
   "id": "f20b7019-f550-482e-8a6d-4b13d9b50abc",
   "metadata": {},
   "outputs": [],
   "source": []
  },
  {
   "cell_type": "code",
   "execution_count": null,
   "id": "d0e9e111-750f-4a6b-8157-ec54f0d33622",
   "metadata": {},
   "outputs": [],
   "source": []
  },
  {
   "cell_type": "code",
   "execution_count": 264,
   "id": "2e97951f",
   "metadata": {
    "tags": []
   },
   "outputs": [],
   "source": [
    "labor_increase = calibrated_data.copy()\n",
    "labor_increase[\"L_s\"] = 10_000\n",
    "theta_labor_increase = np.r_[\n",
    "    *[np.atleast_1d(labor_increase[x]).flatten() for x in mod.parameter_names]\n",
    "]"
   ]
  },
  {
   "cell_type": "code",
   "execution_count": 265,
   "id": "887cca80-04c9-4897-8ef7-7312f6ae2a1a",
   "metadata": {
    "tags": []
   },
   "outputs": [
    {
     "data": {
      "text/plain": [
       "array([ 3.84615385e-01,  3.70370370e-01,  5.50000000e-01,  4.54545455e-01,\n",
       "        6.15384615e-01,  6.29629630e-01,  4.50000000e-01,  5.45454545e-01,\n",
       "        2.50000000e-01,  1.17647059e-01,  2.22222222e-01,  1.66666667e-01,\n",
       "        5.00000000e-01,  4.11764706e-01,  4.44444444e-01,  6.66666667e-01,\n",
       "        1.25000000e-01,  2.94117647e-01,  2.22222222e-01,  1.66666667e-01,\n",
       "        1.25000000e-01,  1.76470588e-01,  1.11111111e-01,  0.00000000e+00,\n",
       "        5.33737418e-01,  5.33737418e-01,  4.18984603e-01,  1.00000000e+00,\n",
       "        4.14213562e-01,  5.85786438e-01,  4.14213562e-01,  6.66666667e-01,\n",
       "        2.21793080e-01,  2.56104589e-01,  3.00309250e-01,  2.21793080e-01,\n",
       "        3.00000000e+00,  3.00000000e+00,  3.00000000e+00,  3.00000000e+00,\n",
       "        2.00000000e+00,  2.00000000e+00,  2.00000000e+00,  2.00000000e+00,\n",
       "        1.98647978e+00,  1.98647978e+00,  1.92560493e+00,  1.00000000e+00,\n",
       "        1.94280904e+00,  1.94280904e+00,  1.94280904e+00,  1.80000000e+00,\n",
       "        3.93453644e+00,  5.00000000e+03,  1.00000000e+00,  3.50000000e+03,\n",
       "        2.00000000e+00,  2.00000000e+00, -9.89996594e-02,  1.00000000e-08])"
      ]
     },
     "execution_count": 265,
     "metadata": {},
     "output_type": "execute_result"
    }
   ],
   "source": [
    "theta_labor_increase"
   ]
  },
  {
   "cell_type": "code",
   "execution_count": 266,
   "id": "ef852814-a718-468b-a81a-a8893e95a181",
   "metadata": {
    "tags": []
   },
   "outputs": [],
   "source": [
    "from cge_modeling.base.utilities import variable_dict_to_flat_array"
   ]
  },
  {
   "cell_type": "code",
   "execution_count": 267,
   "id": "8ee6be25-ef76-41f4-bfa7-7198b2f2e08a",
   "metadata": {
    "tags": []
   },
   "outputs": [
    {
     "data": {
      "text/plain": [
       "(array([ 6.50000000e+03,  1.35000000e+04,  1.00000000e+04,  5.50000000e+03,\n",
       "         2.50000000e+03,  5.00000000e+03,  5.50000000e+03,  2.50000000e+03,\n",
       "         4.00000000e+03,  8.50000000e+03,  4.50000000e+03,  3.00000000e+03,\n",
       "         1.00000000e+03,  1.00000000e+03,  1.00000000e+03,  5.00000000e+02,\n",
       "         2.00000000e+03,  3.50000000e+03,  2.00000000e+03,  2.00000000e+03,\n",
       "         5.00000000e+02,  2.50000000e+03,  1.00000000e+03,  5.00000000e+02,\n",
       "         5.00000000e+02,  1.50000000e+03,  5.00000000e+02,  0.00000000e+00,\n",
       "         1.00000000e+03,  2.00000000e+03,  4.00000000e+03,  0.00000000e+00,\n",
       "         5.00000000e+02,  2.00000000e+03,  5.00000000e+02,  2.00000000e+03,\n",
       "         1.50000000e+03,  3.00000000e+03,  1.50000000e+03,  2.50000000e+03,\n",
       "         1.00000000e+03,  1.00000000e+03,  1.00000000e+03,  5.00000000e+02,\n",
       "        -9.68538708e-05,  3.00000000e+03,  4.00000000e+03,  5.50000000e+03,\n",
       "         3.00000000e+03,  1.55000000e+04,  1.55000000e+04,  1.00000000e+04,\n",
       "         1.00000000e+00,  1.00000000e+00,  1.00000000e+00,  1.00000000e+00,\n",
       "         1.00000000e+00,  1.00000000e+00,  1.00000000e+00,  1.00000000e+00,\n",
       "         1.00000000e+00,  1.00000000e+00,  1.00000000e+00,  1.00000000e+00,\n",
       "         1.00000000e+00,  1.00000000e+00,  1.00000000e+00,  1.00000000e+00,\n",
       "         1.00000000e+00,  1.00000000e+00,  1.00000000e+00,  1.00000000e+00,\n",
       "         0.00000000e+00]),\n",
       " array([ 3.84615385e-01,  3.70370370e-01,  5.50000000e-01,  4.54545455e-01,\n",
       "         6.15384615e-01,  6.29629630e-01,  4.50000000e-01,  5.45454545e-01,\n",
       "         2.50000000e-01,  1.17647059e-01,  2.22222222e-01,  1.66666667e-01,\n",
       "         5.00000000e-01,  4.11764706e-01,  4.44444444e-01,  6.66666667e-01,\n",
       "         1.25000000e-01,  2.94117647e-01,  2.22222222e-01,  1.66666667e-01,\n",
       "         1.25000000e-01,  1.76470588e-01,  1.11111111e-01,  0.00000000e+00,\n",
       "         5.33737418e-01,  5.33737418e-01,  4.18984603e-01,  1.00000000e+00,\n",
       "         4.14213562e-01,  5.85786438e-01,  4.14213562e-01,  6.66666667e-01,\n",
       "         2.21793080e-01,  2.56104589e-01,  3.00309250e-01,  2.21793080e-01,\n",
       "         3.00000000e+00,  3.00000000e+00,  3.00000000e+00,  3.00000000e+00,\n",
       "         2.00000000e+00,  2.00000000e+00,  2.00000000e+00,  2.00000000e+00,\n",
       "         1.98647978e+00,  1.98647978e+00,  1.92560493e+00,  1.00000000e+00,\n",
       "         1.94280904e+00,  1.94280904e+00,  1.94280904e+00,  1.80000000e+00,\n",
       "         3.93453644e+00,  5.00000000e+03,  1.00000000e+00,  3.50000000e+03,\n",
       "         2.00000000e+00,  2.00000000e+00, -9.89996594e-02,  1.00000000e-08]))"
      ]
     },
     "execution_count": 267,
     "metadata": {},
     "output_type": "execute_result"
    }
   ],
   "source": [
    "variable_dict_to_flat_array(labor_increase, mod.variables, mod.parameters)"
   ]
  },
  {
   "cell_type": "code",
   "execution_count": null,
   "id": "d65fa6c8",
   "metadata": {
    "tags": []
   },
   "outputs": [],
   "source": [
    "n_steps = 5\n",
    "idata = mod._solve_with_euler_approximation(\n",
    "    calibrated_data, theta_final=theta_labor_increase, n_steps=n_steps\n",
    ")"
   ]
  },
  {
   "cell_type": "code",
   "execution_count": null,
   "id": "1479015f-c72b-4ae6-a557-d750b6d4254c",
   "metadata": {},
   "outputs": [],
   "source": []
  },
  {
   "cell_type": "code",
   "execution_count": null,
   "id": "0ee592de-bb40-4372-97d2-dd1fe9515720",
   "metadata": {},
   "outputs": [],
   "source": []
  },
  {
   "cell_type": "code",
   "execution_count": null,
   "id": "44d78b8e",
   "metadata": {
    "tags": []
   },
   "outputs": [],
   "source": [
    "# new_data = idata.isel(step=-1).to_dict()[\"variables\"] | idata.isel(step=-1).to_dict()[\"parameters\"]"
   ]
  },
  {
   "cell_type": "code",
   "execution_count": null,
   "id": "0b809084",
   "metadata": {
    "tags": []
   },
   "outputs": [],
   "source": [
    "# mod.check_for_equilibrium(new_data)"
   ]
  },
  {
   "cell_type": "code",
   "execution_count": null,
   "id": "ac33c997",
   "metadata": {
    "tags": []
   },
   "outputs": [],
   "source": [
    "from cge_modeling.base.utilities import flat_array_to_variable_dict\n",
    "\n",
    "res = mod._solve_with_root(calibrated_data, theta_labor_increase, method=\"hybr\", use_jac=False)\n",
    "res_d = flat_array_to_variable_dict(np.r_[res.x, theta_labor_increase], mod.get(), mod.coords)\n",
    "mod.check_for_equilibrium(res_d)\n",
    "res"
   ]
  },
  {
   "cell_type": "code",
   "execution_count": 32,
   "id": "4041a19f",
   "metadata": {},
   "outputs": [
    {
     "data": {
      "text/plain": [
       "Array([-4.11511958e+00,  9.96903697e+03,  3.05654865e+03, -1.84929729e+03,\n",
       "       -5.14270319e+03, -5.95897492e+03, -6.16669025e+03, -1.41441825e+04,\n",
       "       -1.25811836e+04, -5.54426366e+03, -6.31558947e+03, -7.85705643e+03,\n",
       "       -4.51635066e+03, -9.02747896e+03, -6.53172129e+03, -1.29030392e+03,\n",
       "       -1.28916617e+03, -1.30570426e+03, -2.58069875e+03, -4.51321316e+03,\n",
       "       -3.91892706e+03, -1.11937497e+05, -2.67425359e+06,             nan,\n",
       "                  -inf,            -inf,            -inf,             nan,\n",
       "                   nan,             nan, -6.00819763e+04,  3.57142857e-01,\n",
       "       -2.89237704e+03,  3.56792363e-01,  1.44941395e-01,  7.17037658e+03,\n",
       "        1.28539028e+04, -5.29495115e-01, -9.82693823e-01, -9.28795166e-01,\n",
       "       -5.47411971e-01], dtype=float64)"
      ]
     },
     "execution_count": 32,
     "metadata": {},
     "output_type": "execute_result"
    }
   ],
   "source": [
    "mod.f_system(**res_d)"
   ]
  },
  {
   "cell_type": "code",
   "execution_count": 55,
   "id": "f30e1ef6",
   "metadata": {},
   "outputs": [
    {
     "data": {
      "image/png": "[encoded data removed]",
      "text/plain": [
       "<Figure size 1500x900 with 15 Axes>"
      ]
     },
     "metadata": {},
     "output_type": "display_data"
    }
   ],
   "source": [
    "fig, ax = plt.subplots(5, 3, figsize=(15, 9), sharex=True)\n",
    "for i, (axis, var) in enumerate(zip(fig.axes, mod.variable_names)):\n",
    "    data = idata.variables[var]\n",
    "    if data.ndim > 2:\n",
    "        data = data.stack(pair=[\"i\", \"j\"])\n",
    "    data.plot.line(x=\"step\", ax=axis, add_legend=False)\n",
    "    axis.set(title=var, xlabel=None)\n",
    "\n",
    "#     scatter_grid = np.full(int(np.prod(res_d[var].shape)), idata.variables.coords[\"step\"].max())\n",
    "#     axis.scatter(scatter_grid, res_d[var].ravel(), marker=\"*\", color=\"tab:red\", zorder=10, s=100)\n",
    "fig.tight_layout()"
   ]
  },
  {
   "cell_type": "code",
   "execution_count": 54,
   "id": "c880abca",
   "metadata": {},
   "outputs": [
    {
     "data": {
      "text/plain": [
       "array([[0.28571429, 0.14285714, 0.2       ],\n",
       "       [0.57142857, 0.5       , 0.6       ],\n",
       "       [0.14285714, 0.35714286, 0.2       ]])"
      ]
     },
     "execution_count": 54,
     "metadata": {},
     "output_type": "execute_result"
    }
   ],
   "source": [
    "calibrated_data[\"psi_X\"]"
   ]
  },
  {
   "cell_type": "code",
   "execution_count": null,
   "id": "e9e8bf6a",
   "metadata": {},
   "outputs": [],
   "source": []
  }
 ],
 "metadata": {
  "kernelspec": {
   "display_name": "mamba_env_CGE",
   "language": "python",
   "name": "mamba_env_cge"
  },
  "language_info": {
   "codemirror_mode": {
    "name": "ipython",
    "version": 3
   },
   "file_extension": ".py",
   "mimetype": "text/x-python",
   "name": "python",
   "nbconvert_exporter": "python",
   "pygments_lexer": "ipython3",
   "version": "3.11.6"
  },
  "toc": {
   "base_numbering": 1,
   "nav_menu": {},
   "number_sections": true,
   "sideBar": true,
   "skip_h1_title": false,
   "title_cell": "Table of Contents",
   "title_sidebar": "Contents",
   "toc_cell": false,
   "toc_position": {},
   "toc_section_display": true,
   "toc_window_display": false
  }
 },
 "nbformat": 4,
 "nbformat_minor": 5
}
