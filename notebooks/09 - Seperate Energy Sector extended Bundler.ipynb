{
 "cells": [
  {
   "cell_type": "code",
   "execution_count": 4,
   "id": "1afbe1f7",
   "metadata": {
    "tags": []
   },
   "outputs": [],
   "source": [
    "import numpy as np\n",
    "import pandas as pd\n",
    "import matplotlib.pyplot as plt\n",
    "import squarify\n",
    "\n",
    "import sys\n",
    "\n",
    "sys.path.append(\"..\")\n",
    "sys.path.append(\"../..\")\n",
    "\n",
    "from cge_modeling import Variable, Parameter, Equation, CGEModel\n",
    "from cge_modeling.pytensorf.compile import (\n",
    "    compile_cge_model_to_pytensor,\n",
    "    euler_approximation_from_CGEModel,\n",
    "    pytensor_objects_from_CGEModel,\n",
    ")"
   ]
  },
  {
   "cell_type": "code",
   "execution_count": 5,
   "id": "e71c9ef9-6362-4cb9-8d01-c524ec97b817",
   "metadata": {
    "tags": []
   },
   "outputs": [],
   "source": [
    "from itertools import chain, compress\n",
    "from string import Template\n",
    "from cge_modeling.base.utilities import variable_dict_to_flat_array"
   ]
  },
  {
   "cell_type": "code",
   "execution_count": 6,
   "id": "3b72855f",
   "metadata": {
    "tags": []
   },
   "outputs": [
    {
     "data": {
      "text/plain": [
       "Factor       Labor                   0.0\n",
       "             Capital                 0.0\n",
       "             Coal                    0.0\n",
       "             Nuclear                 0.0\n",
       "             Electricity             0.0\n",
       "Institution  Household               0.0\n",
       "             Govt                    0.0\n",
       "Production   Agriculture             0.0\n",
       "             Industry                0.0\n",
       "             Services                0.0\n",
       "             Utility                 0.0\n",
       "             Coal                    0.0\n",
       "             Nuclear                 0.0\n",
       "Activities   Agriculture             0.0\n",
       "             Industry                0.0\n",
       "             Services                0.0\n",
       "             Utility                 0.0\n",
       "             Coal                    0.0\n",
       "             Nuclear                 0.0\n",
       "Other        Capital Accumulation    0.0\n",
       "dtype: float64"
      ]
     },
     "execution_count": 6,
     "metadata": {},
     "output_type": "execute_result"
    }
   ],
   "source": [
    "df = pd.read_csv(\"data/08_sam.csv\", index_col=[0, 1], header=[0, 1]).map(float).fillna(0)\n",
    "# assert np.allclose(df.sum(axis=0), df.sum(axis=1))\n",
    "df.sum(axis=0) - df.sum(axis=1)"
   ]
  },
  {
   "cell_type": "code",
   "execution_count": 7,
   "id": "5736cbc8",
   "metadata": {},
   "outputs": [],
   "source": [
    "def get_CES_equation(\n",
    "    out: str, fac1: str, fac2: str, p1: str, p2: str, p_out: str, A: str, alpha: str, epsilon: str\n",
    "):\n",
    "\n",
    "    eq_production = Template(\n",
    "        f\"$out = $A * ($alpha * $fac1 ** (($epsilon - 1) / $epsilon) +\"\n",
    "        + f\"(1 - $alpha) * $fac2 ** (($epsilon - 1) / $epsilon)) ** ($epsilon / ($epsilon - 1))\"\n",
    "    ).safe_substitute(locals())\n",
    "\n",
    "    eq_fac1_demand = Template(\n",
    "        f\"$fac1 = $out / $A * ($alpha * $p_out * $A / $p1) ** $epsilon\"\n",
    "    ).safe_substitute(locals())\n",
    "\n",
    "    eq_fac2_dmeand = Template(\n",
    "        f\"$fac2 = $out / $A * ((1 - $alpha) * $A * $p_out / $p2) ** $epsilon\"\n",
    "    ).safe_substitute(locals())\n",
    "\n",
    "    return eq_production, eq_fac1_demand, eq_fac2_dmeand"
   ]
  },
  {
   "cell_type": "code",
   "execution_count": 8,
   "id": "67be50f1",
   "metadata": {},
   "outputs": [
    {
     "data": {
      "text/plain": [
       "('K = A_KL * (alpha_KL * L ** ((epsilon_KL - 1) / epsilon_KL) +(1 - alpha_KL) * P_K ** ((epsilon_KL - 1) / epsilon_KL)) ** (epsilon_KL / (epsilon_KL - 1))',\n",
       " 'L = K / A_KL * (alpha_KL * P_KL * A_KL / P_L) ** epsilon_KL',\n",
       " 'P_K = K / A_KL * ((1 - alpha_KL) * A_KL * P_KL / KL) ** epsilon_KL')"
      ]
     },
     "execution_count": 8,
     "metadata": {},
     "output_type": "execute_result"
    }
   ],
   "source": [
    "get_CES_equation(\"K\", \"L\", \"P_K\", \"P_L\", \"KL\", \"P_KL\", \"A_KL\", \"alpha_KL\", \"epsilon_KL\")"
   ]
  },
  {
   "cell_type": "code",
   "execution_count": 9,
   "id": "c0e6efe3",
   "metadata": {},
   "outputs": [],
   "source": [
    "sectors = [\"Ag\", \"Ind\", \"Serv\"]\n",
    "eprod = [\"coal\", \"nuc\"]  # ,\"sol\"]\n",
    "n_sectors = len(sectors)\n",
    "n_eprod = len(eprod)\n",
    "coords = {\"i\": sectors, \"j\": sectors, \"k\": eprod, \"g\": eprod}"
   ]
  },
  {
   "cell_type": "code",
   "execution_count": 10,
   "id": "3bd6c48a",
   "metadata": {},
   "outputs": [
    {
     "data": {
      "text/plain": [
       "{'i': ['Ag', 'Ind', 'Serv'],\n",
       " 'j': ['Ag', 'Ind', 'Serv'],\n",
       " 'k': ['coal', 'nuc'],\n",
       " 'g': ['coal', 'nuc']}"
      ]
     },
     "execution_count": 10,
     "metadata": {},
     "output_type": "execute_result"
    }
   ],
   "source": [
    "coords"
   ]
  },
  {
   "cell_type": "code",
   "execution_count": 8,
   "id": "5d202cc6",
   "metadata": {},
   "outputs": [],
   "source": [
    "variable_info = [\n",
    "    # Firm variables (7)\n",
    "    Variable(name=\"Y\", dims=\"i\", description=\"Final output in the <dim:i> sector\"),\n",
    "    Variable(name=\"Y_E\", dims=\"k\", description=\"Final output in the <dim:k> energy sector\"),\n",
    "    Variable(name=\"VA\", dims=\"i\", description=\"Value-added component of <dim:i> sector production\"),\n",
    "    Variable(name=\"VC\", dims=\"i\", description=\"Value-chain component of <dim:i> sector production\"),\n",
    "    Variable(name=\"VC_E\", dims=\"k\", description=\"Value-chain component of <dim:k> energy producer\"),\n",
    "    Variable(\n",
    "        name=\"X\",\n",
    "        dims=(\"i\", \"j\"),\n",
    "        description=\"Demand for <dim:i> sector goods by the <dim:j> sector as value-chain inputs\",\n",
    "    ),\n",
    "    Variable(\n",
    "        name=\"X_E\",\n",
    "        dims=(\"i\", \"k\"),\n",
    "        description=\"Demand for <dim:k> sector goods by the <dim:g> sector as value-chain inputs\",\n",
    "    ),\n",
    "    # Captial Labour bundle\n",
    "    Variable(\n",
    "        name=\"L_S_d\",\n",
    "        dims=\"i\",\n",
    "        extend_subscript=True,\n",
    "        description=\"Labor demand in the <dim:i> sector\",\n",
    "    ),\n",
    "    Variable(\n",
    "        name=\"L_E_d\",\n",
    "        dims=\"k\",\n",
    "        extend_subscript=True,\n",
    "        description=\"Labor demand in the <dim:k> e-sector\",\n",
    "    ),\n",
    "    Variable(\n",
    "        name=\"K_S_d\",\n",
    "        dims=\"i\",\n",
    "        extend_subscript=True,\n",
    "        description=\"Capital demand in the <dim:i> sector\",\n",
    "    ),\n",
    "    Variable(\n",
    "        name=\"K_E_d\",\n",
    "        dims=\"k\",\n",
    "        extend_subscript=True,\n",
    "        description=\"Capital demand in the <dim:k> e-sector\",\n",
    "    ),\n",
    "    Variable(\n",
    "        name=\"KL_S_d\",\n",
    "        dims=\"i\",\n",
    "        extend_subscript=True,\n",
    "        description=\"Labor Capital demand in the <dim:i> sector\",\n",
    "    ),\n",
    "    Variable(\n",
    "        name=\"KE_E_d\",\n",
    "        dims=\"k\",\n",
    "        extend_subscript=True,\n",
    "        description=\"Capital energy bundle Capital demand in the <dim:k> e-sector\",\n",
    "    ),\n",
    "    # Raw energy producer\n",
    "    Variable(\n",
    "        name=\"W_s\",\n",
    "        dims=\"k\",\n",
    "        extend_subscript=True,\n",
    "        description=\"Raw energy demand of <dim:k> sector\",\n",
    "    ),\n",
    "    Variable(\n",
    "        name=\"R_d\",\n",
    "        dims=\"k\",\n",
    "        extend_subscript=True,\n",
    "        description=\"Ressource demand of <dim:k> sector\",\n",
    "    ),\n",
    "    Variable(\n",
    "        name=\"E_d\",\n",
    "        dims=\"i\",\n",
    "        extend_subscript=True,\n",
    "        description=\"Energy demand in the <dim:i> sector\",\n",
    "    ),\n",
    "    Variable(\n",
    "        name=\"E_s\",\n",
    "        description=\"Energy supply from energy bundler\",\n",
    "    ),\n",
    "    # Investment\n",
    "    Variable(\n",
    "        name=\"I_d\",\n",
    "        dims=\"i\",\n",
    "        extend_subscript=True,\n",
    "        description=\"Investment capital demanded by the <dim:i> sector\",\n",
    "    ),\n",
    "    # Prices (7)\n",
    "    Variable(name=\"P\", dims=\"i\", description=\"Final good price in the <dim:i> sector, after taxes\"),\n",
    "    Variable(\n",
    "        name=\"P_EE\",\n",
    "        dims=\"k\",\n",
    "        description=\"Final energy good price in the <dim:k> energy factor, after taxes\",\n",
    "    ),\n",
    "    Variable(\n",
    "        name=\"P_Y\",\n",
    "        dims=\"i\",\n",
    "        extend_subscript=True,\n",
    "        description=\"Final good price in the <dim:i> sector, before taxes\",\n",
    "    ),\n",
    "    Variable(\n",
    "        name=\"P_Y_E\",\n",
    "        dims=\"k\",\n",
    "        extend_subscript=True,\n",
    "        description=\"Final good price in the <dim:k> energy sector, before taxes\",\n",
    "    ),\n",
    "    Variable(\n",
    "        name=\"P_VA\",\n",
    "        dims=\"i\",\n",
    "        extend_subscript=True,\n",
    "        description=\"Price of the value-add component in the <dim:i> sector\",\n",
    "    ),\n",
    "    Variable(\n",
    "        name=\"P_VC\",\n",
    "        dims=\"i\",\n",
    "        extend_subscript=True,\n",
    "        description=\"Price of the value-chain component in the <dim:i> sector\",\n",
    "    ),\n",
    "    Variable(\n",
    "        name=\"P_VC_E\",\n",
    "        dims=\"k\",\n",
    "        extend_subscript=True,\n",
    "        description=\"Price of the value-chain component in the <dim:k> sector\",\n",
    "    ),\n",
    "    Variable(\n",
    "        name=\"P_KL_S\",\n",
    "        dims=\"i\",\n",
    "        extend_subscript=True,\n",
    "        description=\"Capital labour bundle price in the <dim:i> sector\",\n",
    "    ),\n",
    "    Variable(\n",
    "        name=\"P_KL_E\",\n",
    "        dims=\"k\",\n",
    "        extend_subscript=True,\n",
    "        description=\"Capital labour bundle price in the <dim:k> sector\",\n",
    "    ),\n",
    "    Variable(\n",
    "        name=\"P_E\",\n",
    "        extend_subscript=True,\n",
    "        description=\"Electricity price\",\n",
    "    ),\n",
    "    Variable(\n",
    "        name=\"P_W\",\n",
    "        dims=\"k\",\n",
    "        extend_subscript=True,\n",
    "        description=\"Raw energy price\",\n",
    "    ),\n",
    "    Variable(\n",
    "        name=\"P_R\",\n",
    "        dims=\"k\",\n",
    "        extend_subscript=True,\n",
    "        description=\"Ressource energy price\",\n",
    "    ),\n",
    "    Variable(name=\"r\", description=\"Rental rate of capital\"),\n",
    "    Variable(name=\"w\", description=\"Wage level\"),\n",
    "    # Household Variables\n",
    "    Variable(name=\"U\", description=\"Household utility\"),\n",
    "    Variable(name=\"C\", dims=\"i\", description=\"Household consumption of <dim:i> goods\"),\n",
    "    Variable(\n",
    "        name=\"I_s\", extend_subscript=True, description=\"Investment capital supplied by households\"\n",
    "    ),\n",
    "    Variable(name=\"S\", description=\"Household savings\"),\n",
    "    Variable(name=\"income\", latex_name=\"Omega\", description=\"Household income, before taxes\"),\n",
    "    Variable(\n",
    "        name=\"net_income\", latex_name=\"\\hat{\\Omega}\", description=\"Household income, after taxes\"\n",
    "    ),\n",
    "    # Government variables\n",
    "    Variable(name=\"G\", description=\"Government budget\"),\n",
    "    Variable(\n",
    "        name=\"C_G\",\n",
    "        dims=\"i\",\n",
    "        extend_subscript=True,\n",
    "        description=\"Government consumption of <dim:i> goods\",\n",
    "    ),\n",
    "    Variable(\n",
    "        name=\"S_G\",\n",
    "        extend_subscript=True,\n",
    "        positive=None,\n",
    "        description=\"Investment capital supplied by government\",\n",
    "    ),\n",
    "    # Misc\n",
    "    Variable(name=\"resid\", latex_name=r\"varepsilon\", description=\"Walrasian residual\"),\n",
    "]\n",
    "\n",
    "param_info = [\n",
    "    # Production Parameters\n",
    "    Parameter(\n",
    "        \"alpha_VA\",\n",
    "        dims=\"i\",\n",
    "        description=\"Share of capital in production of the <dim:i> sector value-add bundle\",\n",
    "    ),\n",
    "    Parameter(\n",
    "        \"alpha_KL_S\",\n",
    "        dims=\"i\",\n",
    "        description=\"Share of capital in production of the <dim:i> producer capital labour bundle\",\n",
    "    ),\n",
    "    Parameter(\n",
    "        \"alpha_KL_E\",\n",
    "        dims=\"k\",\n",
    "        description=\"Share of capital in production of the <dim:k> producer capital labour bundle\",\n",
    "    ),\n",
    "    Parameter(\n",
    "        \"alpha_W\",\n",
    "        dims=\"k\",\n",
    "        description=\"Share of capital in production of the <dim:k> producer capital labour bundle\",\n",
    "    ),\n",
    "    Parameter(\n",
    "        \"alpha_k\",\n",
    "        dims=\"i\",\n",
    "        extend_subscript=True,\n",
    "        description=\"Share of capital investment demanded by the <dim:i> sector\",\n",
    "    ),\n",
    "    Parameter(\n",
    "        \"alpha_Es\",\n",
    "        dims=\"k\",\n",
    "        extend_subscript=True,\n",
    "        description=\"Share of raw energy type <dim:k> in total energy mix\",\n",
    "    ),\n",
    "    # Technology parameters\n",
    "    Parameter(\"A_VA\", dims=\"i\", description=\"Total factor productivity of the <dim:i> sector\"),\n",
    "    Parameter(\"A_W\", dims=\"k\", description=\"Total factor productivity of the <dim:k> sector\"),\n",
    "    Parameter(\n",
    "        \"A_KL_S\", dims=\"i\", description=\"Captial Labour factor productivity of <dim:i> producer\"\n",
    "    ),\n",
    "    Parameter(\n",
    "        \"A_KL_E\", dims=\"k\", description=\"Captial Labour factor productivity of <dim:k> producer\"\n",
    "    ),\n",
    "    Parameter(\"A_Es\", description=\"Total factor productivity of Energy production\"),\n",
    "    # Leontief shares\n",
    "    Parameter(\n",
    "        \"psi_VA\",\n",
    "        extend_subscript=True,\n",
    "        dims=\"i\",\n",
    "        description=\"Share of value-add bundle in <dim:i> sector final good production\",\n",
    "    ),\n",
    "    Parameter(\n",
    "        \"psi_VC\",\n",
    "        extend_subscript=True,\n",
    "        dims=\"i\",\n",
    "        description=\"Share of value chain bundle in <dim:i> sector final good production\",\n",
    "    ),\n",
    "    Parameter(\n",
    "        \"psi_X\",\n",
    "        extend_subscript=True,\n",
    "        dims=(\"i\", \"j\"),\n",
    "        description=\"Share of <dim:j> sector final goods in the <dim:i> value chain bundle\",\n",
    "    ),\n",
    "    Parameter(\n",
    "        \"psi_VC_E\",\n",
    "        extend_subscript=True,\n",
    "        dims=\"k\",\n",
    "        description=\"Share of value chain bundle in <dim:k> sector final good production\",\n",
    "    ),\n",
    "    Parameter(\n",
    "        \"psi_X_E\",\n",
    "        extend_subscript=True,\n",
    "        dims=(\"i\", \"k\"),\n",
    "        description=\"Share of <dim:g> sector final goods in the <dim:k> value chain bundle\",\n",
    "    ),\n",
    "    Parameter(\n",
    "        \"psi_W\",\n",
    "        extend_subscript=True,\n",
    "        dims=\"k\",\n",
    "        description=\"Share of energy in <dim:k> energy sector final energy production\",\n",
    "    ),\n",
    "    # CES elasticities\n",
    "    Parameter(\n",
    "        name=\"epsilon_VA\",\n",
    "        extend_subscript=True,\n",
    "        dims=\"i\",\n",
    "        description=\"Elasticity of subsitution between input factors in <dim:i> sector VA bundle\",\n",
    "    ),\n",
    "    Parameter(\n",
    "        name=\"epsilon_W\",\n",
    "        extend_subscript=True,\n",
    "        dims=\"k\",\n",
    "        description=\"Elasticity of subsitution between input factors in <dim:k> sector W\",\n",
    "    ),\n",
    "    Parameter(\n",
    "        name=\"epsilon_KL_S\",\n",
    "        extend_subscript=True,\n",
    "        dims=\"i\",\n",
    "        description=\"Elasticity of subsitution between input factors in <dim:i> producer KL bundle\",\n",
    "    ),\n",
    "    Parameter(\n",
    "        name=\"epsilon_KL_E\",\n",
    "        extend_subscript=True,\n",
    "        dims=\"k\",\n",
    "        description=\"Elasticity of subsitution between input factors in <dim:k> producer KL bundle\",\n",
    "    ),\n",
    "    # Tax parameters\n",
    "    Parameter(\"tau\", dims=\"i\", description=\"Sales tax rate on final goods in the <dim:i> sector\"),\n",
    "    #     Parameter(\"tau_E\", dims=\"k\", description=\"Sales tax rate on final goods in the <dim:k> sector\"),\n",
    "    Parameter(\"tau_income\", latex_name=r\"\\tau_{\\Omega}\", description=\"Income tax rate\"),\n",
    "    # Household parameters\n",
    "    Parameter(\n",
    "        \"gamma\",\n",
    "        dims=\"i\",\n",
    "        description=\"Household elasticity of consumption utility for <dim:i> sector goods\",\n",
    "    ),\n",
    "    Parameter(\"mps\", latex_name=\"phi\", description=\"Household marginal propensity to save\"),\n",
    "    # Government parameters\n",
    "    Parameter(\n",
    "        \"alpha_G\",\n",
    "        dims=\"i\",\n",
    "        description=\"Share of <dim:i> sector final goods in governmnet consumption\",\n",
    "    ),\n",
    "    # Exogenous values\n",
    "    Parameter(\"L_s\", description=\"Exogenous labor supply\"),\n",
    "    Parameter(\"R_s\", dims=\"k\", description=\"Exogenous raw energy endowment\"),\n",
    "    Parameter(\"K_s\", description=\"Exogenous capital supply\"),\n",
    "    Parameter(\"P_num\", latex_name=r\"\\\\bar{P}_{num}\", description=\"Numeraire price\"),\n",
    "    Parameter(\n",
    "        \"S_G_bar\",\n",
    "        latex_name=r\"\\\\bar{S}_G\",\n",
    "        description=\"Exogenous level of governmnet savings\",\n",
    "        positive=None,\n",
    "    ),\n",
    "]\n",
    "\n",
    "\n",
    "va_eqs = get_CES_equation(\n",
    "    \"VA\", \"KL_S_d\", \"E_d\", \"P_KL_S\", \"P_E\", \"P_VA\", \"A_VA\", \"alpha_VA\", \"epsilon_VA\"\n",
    ")\n",
    "\n",
    "kl_s_eqs = get_CES_equation(\n",
    "    \"KL_S_d\", \"K_S_d\", \"L_S_d\", \"r\", \"w\", \"P_KL_S\", \"A_KL_S\", \"alpha_KL_S\", \"epsilon_KL_S\"\n",
    ")\n",
    "kl_e_eqs = get_CES_equation(\n",
    "    \"KL_E_d\", \"K_E_d\", \"L_E_d\", \"r\", \"w\", \"P_KL_E\", \"A_KL_E\", \"alpha_KL_E\", \"epsilon_KL_E\"\n",
    ")\n",
    "\n",
    "w_eqs = get_CES_equation(\n",
    "    \"W_s\", \"KL_E_d\", \"R_d\", \"P_KL_E\", \"P_R\", \"P_W\", \"A_W\", \"alpha_W\", \"epsilon_W\"\n",
    ")\n",
    "\n",
    "equations = [\n",
    "    # Sector Final Goods\n",
    "    Equation(\"Final good production of sector <dim:i>\", \"P_Y * Y = P_VC * VC + P_VA * VA\"),\n",
    "    Equation(\"Sector <dim:i> demand for intermediate goods bundle\", \"VC = psi_VC * Y\"),\n",
    "    Equation(\"Sector <dim:i> demand for value added\", \"VA = psi_VA * Y\"),\n",
    "    # Value chain bundle\n",
    "    Equation(\n",
    "        \"Sector <dim:i> production of intermediate goods bundle\",\n",
    "        \"VC * P_VC = Sum(P.subs({i:j}) * X.subs([(i,z), (j,i), (z,j)]), \"\n",
    "        + f\"(j, 0, {n_sectors - 1}))\",\n",
    "    ),\n",
    "    Equation(\n",
    "        \"Sector <dim:i> demand for sector <dim:j> intermediate input\",\n",
    "        \"X = psi_X * VC.subs({i:j})\",\n",
    "    ),\n",
    "    # Sector Final Goods\n",
    "    Equation(\n",
    "        \"Final good production of energy producer <dim:k>\",\n",
    "        \"P_Y_E * Y_E = P_VC_E * VC_E + P_W * W_s\",\n",
    "    ),\n",
    "    Equation(\"Sector <dim:k> demand for intermediate goods bundle\", \"VC_E = psi_VC_E * Y_E\"),\n",
    "    Equation(\"Sector <dim:k> demand for value added\", \"W_s = psi_W * Y_E\"),\n",
    "    # Value chain bundle\n",
    "    Equation(\n",
    "        \"Energy producer <dim:k> production of intermediate goods bundle\",\n",
    "        \"VC_E * P_VC_E = Sum(P * X_E, \" + f\"(i, 0, {n_sectors - 1}))\",\n",
    "    ),\n",
    "    Equation(\n",
    "        \"Sector <dim:k> demand for sector <dim:i> intermediate input\",\n",
    "        \"X_E = psi_X_E * VC_E.subs({i:k})\",\n",
    "    ),\n",
    "    # Value add bundle\n",
    "    Equation(\"Sector <dim:i> production of value add\", va_eqs[0]),\n",
    "    Equation(\"Sector <dim:i> demand for capital labour bundle\", va_eqs[1]),\n",
    "    Equation(\"Sector <dim:i> demand for energy\", va_eqs[2]),\n",
    "    # Capital Labour aggregation\n",
    "    Equation(\"Producer <dim:i> production of capital and labour\", kl_s_eqs[0]),\n",
    "    Equation(\"Producer <dim:i> demand for captial\", kl_s_eqs[1]),\n",
    "    Equation(\"Producer <dim:i> demand for labour\", kl_s_eqs[2]),\n",
    "    # Energy types\n",
    "    Equation(\"Energy producer <dim:k> production\", w_eqs[0]),\n",
    "    Equation(\"Sector <dim:k> demand for capital labour bundle\", w_eqs[1]),\n",
    "    Equation(\"Sector <dim:k> demand for raw energy\", w_eqs[2]),\n",
    "    # Capital Labour aggregation\n",
    "    Equation(\"Producer <dim:k> production of capital and labour\", kl_e_eqs[0]),\n",
    "    Equation(\"Producer <dim:k> demand for captial\", kl_e_eqs[1]),\n",
    "    Equation(\"Producer <dim:k> demand for labour\", kl_e_eqs[2]),\n",
    "    # Electricity aggregation\n",
    "    Equation(\n",
    "        \"Electricity production\", \"E_s = A_Es * Product(Y_E ** alpha_Es, \" + f\"(k, 0, {n_eprod-1}))\"\n",
    "    ),\n",
    "    Equation(\"Demand of raw energy <dim:k>\", \"Y_E = P_E * alpha_Es * E_s / P_EE \"),\n",
    "    # Sector invest\n",
    "    Equation(\"<dim:i> sector demand for investment capital\", \"P * I_d = alpha_k * I_s\"),\n",
    "    # Government block\n",
    "    Equation(\n",
    "        \"Government budget constraint\",\n",
    "        \"G + S_G = tau_income * income + Sum(tau * P_Y * Y, \" + f\"(i, 0, {n_sectors-1}))\",\n",
    "    ),\n",
    "    #              \"+ Sum(tau_E * P_Y_E * Y_E, \" + f\"(k, 0, {n_eprod-1}))\"\n",
    "    #     ),\n",
    "    Equation(\"Government consumption of <dim:i> sector goods\", \"P * C_G = alpha_G * G\"),\n",
    "    Equation(\"Sector <dim:i> after-tax price\", \"P = (1 + tau) * P_Y\"),\n",
    "    #     Equation(\"Sector <dim:k> after-tax price\", \"P_EE = (1 + tau_E) * P_Y_E\"),\n",
    "    Equation(\"Sector <dim:k> after-tax price\", \"P_EE = P_Y_E\"),\n",
    "    Equation(\"Exogenous government savings\", \"S_G = S_G_bar\"),\n",
    "    # Household block\n",
    "    Equation(\n",
    "        \"Household pre-tax income\",\n",
    "        \"income = w * L_s + r * K_s\" + \"+ Sum(R_s * P_R, \" + f\"(k, 0, {n_eprod-1}))\",\n",
    "    ),\n",
    "    Equation(\"Household after-tax income\", \"net_income = (1 - tau_income) * income\"),\n",
    "    Equation(\"Household utility\", \"U = Product(C**gamma, \" + f\"(i, 0, {n_sectors-1}))\"),\n",
    "    Equation(\"Household demand for good <dim:i>\", \"C * P = gamma * (1 - mps) * net_income\"),\n",
    "    Equation(\"Household savings\", \"S = mps * net_income\"),\n",
    "    # Economic equilibrium\n",
    "    Equation(\"Investment market clearing\", \"I_s = S + S_G + resid\"),\n",
    "    Equation(\n",
    "        \"Labour market clearing\",\n",
    "        \"L_s = Sum(L_S_d, \"\n",
    "        + f\"(i, 0, {n_sectors - 1}))\"\n",
    "        + \" + Sum(L_E_d, \"\n",
    "        + f\"(k, 0, {n_eprod-1}))\",\n",
    "    ),\n",
    "    Equation(\n",
    "        \"Capital market clearing\",\n",
    "        \"K_s = Sum(K_S_d, \"\n",
    "        + f\"(i, 0, {n_sectors - 1}))\"\n",
    "        + \" + Sum(K_E_d, \"\n",
    "        + f\"(k, 0, {n_eprod-1}))\",\n",
    "    ),\n",
    "    Equation(\n",
    "        \"Energy market clearing\",\n",
    "        \"E_s = Sum(E_d, \" + f\" (i, 0, {n_sectors - 1}))\",\n",
    "    ),\n",
    "    Equation(\"Ressource energy market clearing <dim:k>\", \"R_s = R_d\"),\n",
    "    Equation(\n",
    "        \"Sector <dim:i> goods market clearing\",\n",
    "        f\"Y = C + C_G + I_d + Sum(X, \"\n",
    "        + f\"(j, 0, {n_sectors - 1}))\"\n",
    "        + \"+ Sum(X_E, \"\n",
    "        + f\"(k, 0, {n_eprod-1}))\",\n",
    "    ),\n",
    "    #     Equation(\"Energy sector <dim:k> goods market clearing\", f\"Y_E = \" + f\"Sum(X_E, \" + f\"(k, 0, {n_eprod-1}))\"),\n",
    "    Equation(\"Numeraire\", \"P.subs({i:'Ag'}) = P_num\"),\n",
    "]"
   ]
  },
  {
   "cell_type": "code",
   "execution_count": 9,
   "id": "5ba5a2c9",
   "metadata": {
    "tags": []
   },
   "outputs": [],
   "source": [
    "mod = CGEModel(\n",
    "    variables=variable_info,\n",
    "    parameters=param_info,\n",
    "    equations=equations,\n",
    "    coords=coords,\n",
    "    parse_equations_to_sympy=True,\n",
    "    backend=\"numba\",\n",
    "    # mode=\"JAX\",\n",
    "    compile=True,\n",
    ")"
   ]
  },
  {
   "cell_type": "code",
   "execution_count": 10,
   "id": "13a6821d",
   "metadata": {},
   "outputs": [
    {
     "data": {
      "text/plain": [
       "98"
      ]
     },
     "execution_count": 10,
     "metadata": {},
     "output_type": "execute_result"
    }
   ],
   "source": [
    "mod.n_variables"
   ]
  },
  {
   "cell_type": "code",
   "execution_count": 11,
   "id": "29644670",
   "metadata": {},
   "outputs": [
    {
     "data": {
      "text/plain": [
       "98"
      ]
     },
     "execution_count": 11,
     "metadata": {},
     "output_type": "execute_result"
    }
   ],
   "source": [
    "len(mod.unpacked_equation_names)"
   ]
  },
  {
   "cell_type": "code",
   "execution_count": 12,
   "id": "cc0c93ba",
   "metadata": {
    "scrolled": false
   },
   "outputs": [],
   "source": [
    "# for i in mod.unpacked_equations:\n",
    "#     display(i)"
   ]
  },
  {
   "cell_type": "code",
   "execution_count": 13,
   "id": "623f092b-f0f1-49ed-b49f-741b6e115151",
   "metadata": {
    "tags": []
   },
   "outputs": [],
   "source": [
    "def get_CES_params(fac1, fac2, p1, p2, output, epsilon):\n",
    "    _rho = (epsilon - 1) / epsilon\n",
    "    alpha = p1 * fac1 ** (1 / epsilon) / ((p1 * fac1 ** (1 / epsilon) + p2 * fac2 ** (1 / epsilon)))\n",
    "    A = output * (alpha * fac1**_rho + (1 - alpha) * fac2**_rho) ** (-1 / _rho)\n",
    "    return A, alpha\n",
    "\n",
    "\n",
    "def get_DXS_params(P: np.array, X: np.array, epsilon: float):\n",
    "    assert P.shape == X.shape, \"Price and good shapes do not match\"\n",
    "\n",
    "    _rho = (epsilon - 1) / epsilon\n",
    "    alpha = P * X ** (1 / epsilon) / (P * X ** (1 / epsilon)).sum()\n",
    "    A = X.sum() * (alpha * X**_rho).sum() ** (-1 / _rho)\n",
    "    return A, alpha\n",
    "\n",
    "\n",
    "def get_CD_params(output: float, output_price: float, factors: np.array, factor_prices: list):\n",
    "    alpha = factor_prices * factors / (output_price * output)\n",
    "    A = output / (factors**alpha).prod()\n",
    "    print((factors**alpha).prod())\n",
    "    return A, alpha"
   ]
  },
  {
   "cell_type": "code",
   "execution_count": 14,
   "id": "3bb55994",
   "metadata": {
    "tags": []
   },
   "outputs": [],
   "source": [
    "def calibrate_model(\n",
    "    income_tax_revenue,\n",
    "    sales_tax_revenue,\n",
    "    S,\n",
    "    S_G,\n",
    "    L_S_d,\n",
    "    K_S_d,\n",
    "    L_E_d,\n",
    "    K_E_d,\n",
    "    E_d,\n",
    "    R_d,\n",
    "    C,\n",
    "    C_G,\n",
    "    Y,\n",
    "    Y_E,\n",
    "    X,\n",
    "    X_E,\n",
    "    I_d,\n",
    "    epsilon_VA,\n",
    "    epsilon_KL_S,\n",
    "    epsilon_KL_E,\n",
    "    epsilon_W,\n",
    "    variables,\n",
    "    parameters,\n",
    "):\n",
    "    #     tau_E = 1\n",
    "\n",
    "    # Normalize prices to 1\n",
    "    w = 1.0\n",
    "    r = 1.0\n",
    "    P_E = 1.0\n",
    "\n",
    "    P_VA = np.ones(n_sectors)\n",
    "    P_VC = np.ones(n_sectors)\n",
    "    P_Y = np.ones(n_sectors)\n",
    "\n",
    "    P_VC_E = np.ones(n_eprod)\n",
    "    P_Y_E = np.ones(n_eprod)\n",
    "\n",
    "    P_KL_S = np.ones(n_sectors)\n",
    "    P_KL_E = np.ones(n_eprod)\n",
    "\n",
    "    P_W = np.ones(n_eprod)\n",
    "    P_R = np.ones(n_eprod)\n",
    "\n",
    "    # Zero the residual\n",
    "    resid = 0.0\n",
    "\n",
    "    # Factor supplies\n",
    "    L_s = L_S_d.sum() + L_E_d.sum()\n",
    "    K_s = K_S_d.sum() + K_E_d.sum()\n",
    "    E_s = E_d.sum()\n",
    "\n",
    "    R_s = R_d\n",
    "\n",
    "    # Tax rates\n",
    "    tau = sales_tax_revenue / (Y - sales_tax_revenue)\n",
    "    P = P_Y * (1 + tau)\n",
    "    P_EE = P_Y_E * 1\n",
    "\n",
    "    # Numeraire\n",
    "    P_num = P[0]\n",
    "\n",
    "    X /= P[:, None]\n",
    "    X_E /= P[:, None]\n",
    "    C /= P\n",
    "    C_G /= P\n",
    "    I_d /= P\n",
    "    Y /= P\n",
    "    Y_E /= P_EE\n",
    "\n",
    "    # Firm calibration\n",
    "    KL_S_d = (K_S_d * r + L_S_d * w) / P_KL_S\n",
    "    KL_E_d = (K_E_d * r + L_E_d * w) / P_KL_E\n",
    "    W_s = (KL_E_d * P_KL_E + R_d * P_R) / P_W\n",
    "    VA = (P_KL_S * KL_S_d + P_E * E_d) / P_VA\n",
    "\n",
    "    VC = (P[:, None] * X).sum(axis=0) / P_VC\n",
    "    VC_E = (P[:, None] * X_E).sum(axis=0) / P_VC_E\n",
    "\n",
    "    # Final good sector Value Add\n",
    "    A_VA, alpha_VA = get_CES_params(KL_S_d, E_d, P_KL_S, P_E, VA, epsilon_VA)\n",
    "    A_KL_S, alpha_KL_S = get_CES_params(K_S_d, L_S_d, r, w, KL_S_d, epsilon_KL_S)\n",
    "\n",
    "    # Energy sector production function\n",
    "    A_KL_E, alpha_KL_E = get_CES_params(K_E_d, L_E_d, r, w, KL_E_d, epsilon_KL_E)\n",
    "    A_W, alpha_W = get_CES_params(KL_E_d, R_d, P_KL_E, P_R, W_s, epsilon_W)\n",
    "\n",
    "    # Energy mix aggregator\n",
    "    A_Es, alpha_Es = get_CD_params(E_s, P_E, Y_E, P_EE)\n",
    "\n",
    "    #     A_C, alpha_C = get_DXS_params(P, C, epsilon_C)\n",
    "    #     C_total = (alpha_C * C ** ((epsilon_C - 1) / epsilon_C)).sum() ** (epsilon_C / (epsilon_C - 1))\n",
    "    #     U = C_total\n",
    "\n",
    "    psi_VA = VA / Y\n",
    "    psi_VC = VC / Y\n",
    "    psi_VC_E = VC_E / Y_E\n",
    "    psi_X = X / VC[None]\n",
    "    psi_X_E = X_E / VC_E[None]\n",
    "    psi_W = W_s / Y_E\n",
    "\n",
    "    income = w * L_s + r * K_s + (P_R * R_d).sum()\n",
    "    tau_income = income_tax_revenue / income\n",
    "    net_income = (1 - tau_income) * income\n",
    "\n",
    "    mps = S / net_income\n",
    "    consumption_spend = (1 - mps) * net_income\n",
    "\n",
    "    gamma = P * C / consumption_spend\n",
    "    U = np.prod(C**gamma)\n",
    "\n",
    "    # Exogenous government spending level\n",
    "    S_G_bar = S_G\n",
    "\n",
    "    G = (P * C_G).sum()\n",
    "    alpha_G = (P * C_G) / G\n",
    "\n",
    "    I_s = (P * I_d).sum()\n",
    "    alpha_k = P * I_d / I_s\n",
    "\n",
    "    d = {}\n",
    "    for obj in variables + parameters:\n",
    "        if obj.name != \"_\":\n",
    "            d[obj.name] = locals()[obj.name]\n",
    "\n",
    "    return d"
   ]
  },
  {
   "cell_type": "code",
   "execution_count": 15,
   "id": "f100f74f",
   "metadata": {},
   "outputs": [],
   "source": [
    "sectors_pretty_name = list(df[\"Production\"].columns[:n_sectors])\n",
    "eprod_pretty_name = list(df[\"Production\"].columns[-len(eprod) :])"
   ]
  },
  {
   "cell_type": "code",
   "execution_count": 16,
   "id": "e48cd037",
   "metadata": {
    "tags": []
   },
   "outputs": [],
   "source": [
    "initial_data = {\n",
    "    \"income_tax_revenue\": df.loc[(\"Institution\", \"Govt\"), (\"Institution\", \"Household\")],\n",
    "    \"sales_tax_revenue\": df.loc[(\"Institution\", \"Govt\"), \"Production\"]\n",
    "    .loc[sectors_pretty_name]\n",
    "    .values,\n",
    "    \"S\": df.loc[(\"Other\", \"Capital Accumulation\"), (\"Institution\", \"Household\")],\n",
    "    \"S_G\": df.loc[(\"Other\", \"Capital Accumulation\"), (\"Institution\", \"Govt\")],\n",
    "    \"L_S_d\": df.loc[(\"Factor\", \"Labor\"), (\"Activities\", sectors_pretty_name)].values,\n",
    "    \"K_S_d\": df.loc[(\"Factor\", \"Capital\"), (\"Activities\", sectors_pretty_name)].values,\n",
    "    \"L_E_d\": df.loc[(\"Factor\", \"Labor\"), (\"Activities\", eprod_pretty_name)].values,\n",
    "    \"K_E_d\": df.loc[(\"Factor\", \"Capital\"), (\"Activities\", eprod_pretty_name)].values,\n",
    "    \"E_d\": df.loc[(\"Factor\", \"Electricity\"), (\"Activities\", sectors_pretty_name)].values,\n",
    "    \"R_d\": df.loc[(\"Institution\", \"Household\"), (\"Factor\", eprod_pretty_name)].values,\n",
    "    \"I_d\": df.loc[(\"Production\", sectors_pretty_name), (\"Other\", \"Capital Accumulation\")].values,\n",
    "    \"C\": df.loc[(\"Production\", sectors_pretty_name), (\"Institution\", \"Household\")].values,\n",
    "    \"C_G\": df.loc[(\"Production\", sectors_pretty_name), (\"Institution\", \"Govt\")].values,\n",
    "    \"Y\": df.loc[(\"Production\")].loc[sectors_pretty_name].sum(axis=1).values,\n",
    "    \"Y_E\": df.loc[(\"Production\", eprod_pretty_name), (\"Activities\", \"Utility\")].values,\n",
    "    \"X\": df.loc[\"Production\", \"Activities\"].loc[sectors_pretty_name, sectors_pretty_name].values,\n",
    "    \"X_E\": df.loc[\"Production\", (\"Activities\", eprod_pretty_name)].loc[sectors_pretty_name].values,\n",
    "}\n",
    "\n",
    "econometric_estimates = {\n",
    "    \"epsilon_VA\": np.ones(n_sectors) * 10.0,\n",
    "    \"epsilon_KL_S\": np.ones(n_sectors) * 10.0,\n",
    "    \"epsilon_KL_E\": np.ones(n_eprod) * 10.0,\n",
    "    \"epsilon_W\": np.ones(n_eprod) * 5.0,\n",
    "}"
   ]
  },
  {
   "cell_type": "code",
   "execution_count": 17,
   "id": "43103bbb",
   "metadata": {
    "tags": []
   },
   "outputs": [
    {
     "name": "stdout",
     "output_type": "stream",
     "text": [
      "2263.9607422136332\n"
     ]
    }
   ],
   "source": [
    "calibrated_data = calibrate_model(\n",
    "    **(initial_data | econometric_estimates), variables=mod.variables, parameters=mod.parameters\n",
    ")"
   ]
  },
  {
   "cell_type": "code",
   "execution_count": 18,
   "id": "9c8c2bb6",
   "metadata": {},
   "outputs": [
    {
     "data": {
      "text/plain": [
       "1.9876669750024174"
      ]
     },
     "execution_count": 18,
     "metadata": {},
     "output_type": "execute_result"
    }
   ],
   "source": [
    "calibrated_data[\"A_Es\"]"
   ]
  },
  {
   "cell_type": "code",
   "execution_count": 20,
   "id": "9f09f2cc-36f8-4a43-bfa6-7207cdb082d6",
   "metadata": {
    "tags": []
   },
   "outputs": [
    {
     "data": {
      "text/plain": [
       "[]"
      ]
     },
     "execution_count": 20,
     "metadata": {},
     "output_type": "execute_result"
    }
   ],
   "source": [
    "[i for i in [*chain(mod.variable_names, mod.parameter_names)] if i not in calibrated_data.keys()]"
   ]
  },
  {
   "cell_type": "code",
   "execution_count": 21,
   "id": "d0a343ed",
   "metadata": {},
   "outputs": [
    {
     "data": {
      "text/plain": [
       "[]"
      ]
     },
     "execution_count": 21,
     "metadata": {},
     "output_type": "execute_result"
    }
   ],
   "source": [
    "[i for i in calibrated_data.keys() if i not in [*chain(mod.variable_names, mod.parameter_names)]]"
   ]
  },
  {
   "cell_type": "code",
   "execution_count": 22,
   "id": "4c10a2d6-6559-4e6f-ac94-3c5dcae28ec0",
   "metadata": {},
   "outputs": [],
   "source": [
    "var_inputs = np.r_[*[np.atleast_1d(calibrated_data[x]).ravel() for x in mod.variable_names]]\n",
    "param_inputs = np.r_[*[np.atleast_1d(calibrated_data[x]).ravel() for x in mod.parameter_names]]"
   ]
  },
  {
   "cell_type": "code",
   "execution_count": 23,
   "id": "f40e0d98-566a-4c56-b227-722220f4e9a2",
   "metadata": {
    "tags": []
   },
   "outputs": [
    {
     "data": {
      "text/plain": [
       "array(2.62873475e-21)"
      ]
     },
     "execution_count": 23,
     "metadata": {},
     "output_type": "execute_result"
    }
   ],
   "source": [
    "mod.f_resid(exog_inputs=var_inputs, endog_inputs=param_inputs)"
   ]
  },
  {
   "cell_type": "code",
   "execution_count": 24,
   "id": "c704a2e5",
   "metadata": {},
   "outputs": [
    {
     "data": {
      "text/plain": [
       "[]"
      ]
     },
     "execution_count": 24,
     "metadata": {},
     "output_type": "execute_result"
    }
   ],
   "source": [
    "resid = mod.f_system(exog_inputs=var_inputs, endog_inputs=param_inputs)\n",
    "[*compress(mod.unpacked_equation_names, resid > 1e-8)]"
   ]
  },
  {
   "cell_type": "code",
   "execution_count": null,
   "id": "be4856fd",
   "metadata": {},
   "outputs": [],
   "source": []
  },
  {
   "cell_type": "markdown",
   "id": "7f728d58",
   "metadata": {},
   "source": [
    "# Simulation"
   ]
  },
  {
   "cell_type": "code",
   "execution_count": 25,
   "id": "bda3a62b",
   "metadata": {},
   "outputs": [],
   "source": [
    "from cge_modeling.base.utilities import flat_array_to_variable_dict, variable_dict_to_flat_array\n",
    "from copy import deepcopy\n",
    "\n",
    "tax_cut = deepcopy(calibrated_data)\n",
    "\n",
    "# 50% income tax cut\n",
    "tax_cut[\"tau_income\"] *= 0.5\n",
    "_, theta_tax_cut = variable_dict_to_flat_array(tax_cut, mod.variables, mod.parameters)"
   ]
  },
  {
   "cell_type": "code",
   "execution_count": null,
   "id": "0c71f343",
   "metadata": {},
   "outputs": [
    {
     "data": {
      "application/vnd.jupyter.widget-view+json": {
       "model_id": "4d15affa96694e81bcd265e4d1f3c5a4",
       "version_major": 2,
       "version_minor": 0
      },
      "text/plain": [
       "  0%|                                                                                          | 0/100 [00:00<…"
      ]
     },
     "metadata": {},
     "output_type": "display_data"
    }
   ],
   "source": [
    "n_steps = 100\n",
    "idata = mod._solve_with_euler_approximation(\n",
    "    calibrated_data, theta_final=theta_tax_cut, n_steps=n_steps\n",
    ")"
   ]
  },
  {
   "cell_type": "code",
   "execution_count": null,
   "id": "782b9a17",
   "metadata": {},
   "outputs": [],
   "source": []
  },
  {
   "cell_type": "code",
   "execution_count": null,
   "id": "5e148a78",
   "metadata": {},
   "outputs": [],
   "source": []
  },
  {
   "cell_type": "code",
   "execution_count": null,
   "id": "bbb902b4",
   "metadata": {},
   "outputs": [],
   "source": []
  },
  {
   "cell_type": "code",
   "execution_count": null,
   "id": "c43a0019",
   "metadata": {},
   "outputs": [],
   "source": [
    "d = idata.isel(step=-1).to_dict()[\"variables\"] | idata.isel(step=-1).to_dict()[\"parameters\"]\n",
    "var_inputs = np.r_[*[np.atleast_1d(d[x]).ravel() for x in mod.variable_names]]\n",
    "param_inputs = np.r_[*[np.atleast_1d(d[x]).ravel() for x in mod.parameter_names]]\n",
    "mod.f_resid(var_inputs, param_inputs)"
   ]
  },
  {
   "cell_type": "code",
   "execution_count": null,
   "id": "a56683c0",
   "metadata": {},
   "outputs": [
    {
     "data": {
      "text/html": [
       "\n",
       "<style>\n",
       "    /* Turns off some styling */\n",
       "    progress {\n",
       "        /* gets rid of default border in Firefox and Opera. */\n",
       "        border: none;\n",
       "        /* Needs to be in here for Safari polyfill so background images work as expected. */\n",
       "        background-size: auto;\n",
       "    }\n",
       "    progress:not([value]), progress:not([value])::-webkit-progress-bar {\n",
       "        background: repeating-linear-gradient(45deg, #7e7e7e, #7e7e7e 10px, #5c5c5c 10px, #5c5c5c 20px);\n",
       "    }\n",
       "    .progress-bar-interrupted, .progress-bar-interrupted::-webkit-progress-bar {\n",
       "        background: #F44336;\n",
       "    }\n",
       "</style>\n"
      ],
      "text/plain": [
       "<IPython.core.display.HTML object>"
      ]
     },
     "metadata": {},
     "output_type": "display_data"
    },
    {
     "data": {
      "text/html": [
       "\n",
       "    <div>\n",
       "      <progress value='0' class='' max='5000' style='width:300px; height:20px; vertical-align: middle;'></progress>\n",
       "      0.00% [0/5000 00:00&lt;?]\n",
       "    </div>\n",
       "    "
      ],
      "text/plain": [
       "<IPython.core.display.HTML object>"
      ]
     },
     "metadata": {},
     "output_type": "display_data"
    },
    {
     "name": "stderr",
     "output_type": "stream",
     "text": [
      "C:\\Users\\LukasGrahl\\miniforge3\\envs\\mamba_env_CGE\\Lib\\site-packages\\scipy\\optimize\\_root.py:210: RuntimeWarning: Method hybr does not accept callback.\n",
      "  warn('Method %s does not accept callback.' % method,\n"
     ]
    }
   ],
   "source": [
    "from cge_modeling.base.utilities import flat_array_to_variable_dict\n",
    "\n",
    "res = mod._solve_with_root(calibrated_data, theta_tax_cut, method=\"hybr\", use_jac=True)\n",
    "res_d = flat_array_to_variable_dict(\n",
    "    np.r_[res.x, theta_tax_cut], mod.variables + mod.parameters, mod.coords\n",
    ")\n",
    "# mod.check_for_equilibrium(res_d)\n",
    "res"
   ]
  },
  {
   "cell_type": "code",
   "execution_count": null,
   "id": "3c8471ed",
   "metadata": {},
   "outputs": [],
   "source": [
    "fig, ax = plt.subplots(6, 4, figsize=(15, 9), sharex=True)\n",
    "for i, (axis, var) in enumerate(zip(fig.axes, mod.variable_names)):\n",
    "    data = idata.variables[var]\n",
    "    if data.ndim > 2:\n",
    "        data = data.stack(pair=[\"i\", \"j\"])\n",
    "    data.plot.line(x=\"step\", ax=axis, add_legend=False)\n",
    "    axis.set(title=var, xlabel=None)\n",
    "\n",
    "    scatter_grid = np.full(int(np.prod(res_d[var].shape)), idata.variables.coords[\"step\"].max())\n",
    "    axis.scatter(scatter_grid, res_d[var].ravel(), marker=\"*\", color=\"tab:red\", zorder=10, s=100)\n",
    "fig.tight_layout()"
   ]
  },
  {
   "cell_type": "code",
   "execution_count": null,
   "id": "acb75061",
   "metadata": {},
   "outputs": [],
   "source": [
    "import squarify\n",
    "\n",
    "fig, ax = plt.subplots(1, 2, figsize=(14, 4))\n",
    "short_to_long = {\"Ag\": \"Agriculture\", \"Ind\": \"Industry\", \"Serv\": \"Service\"}\n",
    "\n",
    "long_sectors = [short_to_long[x] for x in sectors]\n",
    "cmap = plt.cm.tab10([0, 0.5, 1.0])\n",
    "\n",
    "squarify.plot(sizes=calibrated_data[\"L_S_d\"], label=long_sectors, alpha=0.8, ax=ax[0], color=cmap)\n",
    "squarify.plot(sizes=res_d[\"L_S_d\"], label=long_sectors, alpha=0.8, ax=ax[1], color=cmap)\n",
    "for axis, title in zip(fig.axes, [\"Pre-Tax Cut\", \"Post-Tax Cut\"]):\n",
    "    axis.grid(ls=\"--\", lw=0.5)\n",
    "    axis.set(title=title)"
   ]
  },
  {
   "cell_type": "code",
   "execution_count": null,
   "id": "d0f95de0",
   "metadata": {},
   "outputs": [],
   "source": []
  },
  {
   "cell_type": "code",
   "execution_count": null,
   "id": "c1615026",
   "metadata": {},
   "outputs": [],
   "source": []
  }
 ],
 "metadata": {
  "kernelspec": {
   "display_name": "mamba_env_CGE",
   "language": "python",
   "name": "mamba_env_cge"
  },
  "language_info": {
   "codemirror_mode": {
    "name": "ipython",
    "version": 3
   },
   "file_extension": ".py",
   "mimetype": "text/x-python",
   "name": "python",
   "nbconvert_exporter": "python",
   "pygments_lexer": "ipython3",
   "version": "3.11.6"
  },
  "toc": {
   "base_numbering": 1,
   "nav_menu": {},
   "number_sections": true,
   "sideBar": true,
   "skip_h1_title": false,
   "title_cell": "Table of Contents",
   "title_sidebar": "Contents",
   "toc_cell": false,
   "toc_position": {},
   "toc_section_display": true,
   "toc_window_display": false
  }
 },
 "nbformat": 4,
 "nbformat_minor": 5
}
