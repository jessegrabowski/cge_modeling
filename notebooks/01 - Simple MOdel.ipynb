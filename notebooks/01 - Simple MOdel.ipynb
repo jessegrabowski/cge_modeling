{
 "cells": [
  {
   "cell_type": "code",
   "execution_count": 3,
   "id": "f211fab1-7f78-4540-9e71-335a5b429152",
   "metadata": {},
   "outputs": [],
   "source": [
    "import sympy as sp\n",
    "import numpy as np\n",
    "from scipy import optimize\n",
    "import pymc as pm\n",
    "import pytensor\n",
    "import pytensor.tensor as pt"
   ]
  },
  {
   "cell_type": "markdown",
   "id": "4d27463a-545d-4976-9cfb-b5b0cefb85a3",
   "metadata": {},
   "source": [
    "# Simple CGE"
   ]
  },
  {
   "cell_type": "markdown",
   "id": "47936a11-9f7e-41cb-8827-134c6e590dd6",
   "metadata": {},
   "source": [
    "## Define the model"
   ]
  },
  {
   "cell_type": "code",
   "execution_count": 24,
   "id": "16eb67a8-1ae6-4729-ac3a-355144344f74",
   "metadata": {},
   "outputs": [],
   "source": [
    "def cobb_douglass(output: sp.Symbol, tfp: sp.Symbol, inputs: list[sp.Symbol], shares: list[sp.Symbol]):\n",
    "    if len(inputs) != len(shares):\n",
    "        if (len(shares) + 1) != len(inputs):\n",
    "            raise ValueError('The length of the shares should len(inputs), or len(inputs) - 1')\n",
    "        shares.append(1 - sum(shares))\n",
    "\n",
    "    return output - tfp * sp.prod([x **  a for x, a in zip(inputs, shares)])"
   ]
  },
  {
   "cell_type": "code",
   "execution_count": 179,
   "id": "ea95ab56-7c11-410b-8ac6-1f380f81e2ec",
   "metadata": {},
   "outputs": [],
   "source": [
    "variables = Y, C, INC, Ld, Kd, r, P, Leon = sp.symbols('Y C INC Ld Kd r P Leon', positive=True, real=True)\n",
    "parameters = Ls, Ks, A, alpha = sp.symbols('Ls Ks A alpha', positive=True, real=True)\n",
    "\n",
    "# Numeraire\n",
    "w = 1\n",
    "\n",
    "equations = [\n",
    "    cobb_douglass(Y, A, [Kd, Ld], [alpha]),\n",
    "    alpha * P * Y - r * Kd,\n",
    "    (1 - alpha) * P * Y - w * Ld,\n",
    "    INC - w * Ls - r * Ks,\n",
    "    P * C - INC,\n",
    "    C - Y,\n",
    "    Kd - Ks,\n",
    "    Ld - Ls - Leon\n",
    "]\n",
    "\n",
    "resid = sum([eq ** 2 for eq in equations])\n",
    "f_resid = sp.lambdify(variables + parameters, resid)"
   ]
  },
  {
   "cell_type": "code",
   "execution_count": 332,
   "id": "68655f0d-7d1d-46f1-bdf6-986dda000582",
   "metadata": {},
   "outputs": [
    {
     "data": {
      "text/latex": [
       "$\\displaystyle - A Kd^{\\alpha} Ld^{1 - \\alpha} + Y$"
      ],
      "text/plain": [
       "-A*Kd**alpha*Ld**(1 - alpha) + Y"
      ]
     },
     "metadata": {},
     "output_type": "display_data"
    },
    {
     "data": {
      "text/latex": [
       "$\\displaystyle - Kd r + P Y \\alpha$"
      ],
      "text/plain": [
       "-Kd*r + P*Y*alpha"
      ]
     },
     "metadata": {},
     "output_type": "display_data"
    },
    {
     "data": {
      "text/latex": [
       "$\\displaystyle - Ld + P Y \\left(1 - \\alpha\\right)$"
      ],
      "text/plain": [
       "-Ld + P*Y*(1 - alpha)"
      ]
     },
     "metadata": {},
     "output_type": "display_data"
    },
    {
     "data": {
      "text/latex": [
       "$\\displaystyle INC - Ks r - Ls$"
      ],
      "text/plain": [
       "INC - Ks*r - Ls"
      ]
     },
     "metadata": {},
     "output_type": "display_data"
    },
    {
     "data": {
      "text/latex": [
       "$\\displaystyle C P - INC$"
      ],
      "text/plain": [
       "C*P - INC"
      ]
     },
     "metadata": {},
     "output_type": "display_data"
    },
    {
     "data": {
      "text/latex": [
       "$\\displaystyle C - Y$"
      ],
      "text/plain": [
       "C - Y"
      ]
     },
     "metadata": {},
     "output_type": "display_data"
    },
    {
     "data": {
      "text/latex": [
       "$\\displaystyle Kd - Ks$"
      ],
      "text/plain": [
       "Kd - Ks"
      ]
     },
     "metadata": {},
     "output_type": "display_data"
    },
    {
     "data": {
      "text/latex": [
       "$\\displaystyle Ld - Leon - Ls$"
      ],
      "text/plain": [
       "Ld - Leon - Ls"
      ]
     },
     "metadata": {},
     "output_type": "display_data"
    }
   ],
   "source": [
    "for eq in equations:\n",
    "    display(eq)"
   ]
  },
  {
   "cell_type": "markdown",
   "id": "3f71fe94-c8a8-46d8-8f3a-fe0eb86ca9a5",
   "metadata": {},
   "source": [
    "## Compute Jacobian and Hessian"
   ]
  },
  {
   "cell_type": "code",
   "execution_count": 333,
   "id": "f19cd199-7c5e-424d-9fd6-98aabbdbb544",
   "metadata": {},
   "outputs": [],
   "source": [
    "jac = sp.Matrix([[resid.diff(x)] for x in variables])\n",
    "hess = jac.jacobian(variables)"
   ]
  },
  {
   "cell_type": "code",
   "execution_count": 353,
   "id": "3f32fe34-f185-4760-98bd-c07402ec732c",
   "metadata": {
    "scrolled": true
   },
   "outputs": [
    {
     "data": {
      "text/latex": [
       "$\\displaystyle \\left[\\begin{matrix}- 2 A Kd^{\\alpha} Ld^{1 - \\alpha} - 2 C + 2 P \\alpha \\left(- Kd r + P Y \\alpha\\right) + 2 P \\left(1 - \\alpha\\right) \\left(- Ld + P Y \\left(1 - \\alpha\\right)\\right) + 4 Y\\\\2 C + 2 P \\left(C P - INC\\right) - 2 Y\\\\- 2 C P + 4 INC - 2 Ks r - 2 Ls\\\\- \\frac{2 A Kd^{\\alpha} Ld^{1 - \\alpha} \\left(1 - \\alpha\\right) \\left(- A Kd^{\\alpha} Ld^{1 - \\alpha} + Y\\right)}{Ld} + 4 Ld - 2 Leon - 2 Ls - 2 P Y \\left(1 - \\alpha\\right)\\\\- \\frac{2 A Kd^{\\alpha} Ld^{1 - \\alpha} \\alpha \\left(- A Kd^{\\alpha} Ld^{1 - \\alpha} + Y\\right)}{Kd} + 2 Kd - 2 Ks - 2 r \\left(- Kd r + P Y \\alpha\\right)\\\\- 2 Kd \\left(- Kd r + P Y \\alpha\\right) - 2 Ks \\left(INC - Ks r - Ls\\right)\\\\2 C \\left(C P - INC\\right) + 2 Y \\alpha \\left(- Kd r + P Y \\alpha\\right) + 2 Y \\left(1 - \\alpha\\right) \\left(- Ld + P Y \\left(1 - \\alpha\\right)\\right)\\\\- 2 Ld + 2 Leon + 2 Ls\\end{matrix}\\right]$"
      ],
      "text/plain": [
       "Matrix([\n",
       "[       -2*A*Kd**alpha*Ld**(1 - alpha) - 2*C + 2*P*alpha*(-Kd*r + P*Y*alpha) + 2*P*(1 - alpha)*(-Ld + P*Y*(1 - alpha)) + 4*Y],\n",
       "[                                                                                                2*C + 2*P*(C*P - INC) - 2*Y],\n",
       "[                                                                                             -2*C*P + 4*INC - 2*Ks*r - 2*Ls],\n",
       "[-2*A*Kd**alpha*Ld**(1 - alpha)*(1 - alpha)*(-A*Kd**alpha*Ld**(1 - alpha) + Y)/Ld + 4*Ld - 2*Leon - 2*Ls - 2*P*Y*(1 - alpha)],\n",
       "[         -2*A*Kd**alpha*Ld**(1 - alpha)*alpha*(-A*Kd**alpha*Ld**(1 - alpha) + Y)/Kd + 2*Kd - 2*Ks - 2*r*(-Kd*r + P*Y*alpha)],\n",
       "[                                                                         -2*Kd*(-Kd*r + P*Y*alpha) - 2*Ks*(INC - Ks*r - Ls)],\n",
       "[                                  2*C*(C*P - INC) + 2*Y*alpha*(-Kd*r + P*Y*alpha) + 2*Y*(1 - alpha)*(-Ld + P*Y*(1 - alpha))],\n",
       "[                                                                                                      -2*Ld + 2*Leon + 2*Ls]])"
      ]
     },
     "execution_count": 353,
     "metadata": {},
     "output_type": "execute_result"
    }
   ],
   "source": [
    "jac"
   ]
  },
  {
   "cell_type": "code",
   "execution_count": 354,
   "id": "d4250462-a358-483a-8ae6-2d46d83c42a3",
   "metadata": {},
   "outputs": [
    {
     "data": {
      "text/latex": [
       "$\\displaystyle \\left[\\begin{matrix}2 P^{2} \\alpha^{2} + 2 P^{2} \\left(1 - \\alpha\\right)^{2} + 4 & -2 & 0 & - \\frac{2 A Kd^{\\alpha} Ld^{1 - \\alpha} \\left(1 - \\alpha\\right)}{Ld} - 2 P \\left(1 - \\alpha\\right) & - \\frac{2 A Kd^{\\alpha} Ld^{1 - \\alpha} \\alpha}{Kd} - 2 P \\alpha r & - 2 Kd P \\alpha & 2 P Y \\alpha^{2} + 2 P Y \\left(1 - \\alpha\\right)^{2} + 2 \\alpha \\left(- Kd r + P Y \\alpha\\right) + 2 \\cdot \\left(1 - \\alpha\\right) \\left(- Ld + P Y \\left(1 - \\alpha\\right)\\right) & 0\\\\-2 & 2 P^{2} + 2 & - 2 P & 0 & 0 & 0 & 4 C P - 2 INC & 0\\\\0 & - 2 P & 4 & 0 & 0 & - 2 Ks & - 2 C & 0\\\\- \\frac{2 A Kd^{\\alpha} Ld^{1 - \\alpha} \\left(1 - \\alpha\\right)}{Ld} - 2 P \\left(1 - \\alpha\\right) & 0 & 0 & \\frac{2 A^{2} Kd^{2 \\alpha} Ld^{2 - 2 \\alpha} \\left(1 - \\alpha\\right)^{2}}{Ld^{2}} - \\frac{2 A Kd^{\\alpha} Ld^{1 - \\alpha} \\left(1 - \\alpha\\right)^{2} \\left(- A Kd^{\\alpha} Ld^{1 - \\alpha} + Y\\right)}{Ld^{2}} + \\frac{2 A Kd^{\\alpha} Ld^{1 - \\alpha} \\left(1 - \\alpha\\right) \\left(- A Kd^{\\alpha} Ld^{1 - \\alpha} + Y\\right)}{Ld^{2}} + 4 & \\frac{2 A^{2} Kd^{2 \\alpha} Ld^{2 - 2 \\alpha} \\alpha \\left(1 - \\alpha\\right)}{Kd Ld} - \\frac{2 A Kd^{\\alpha} Ld^{1 - \\alpha} \\alpha \\left(1 - \\alpha\\right) \\left(- A Kd^{\\alpha} Ld^{1 - \\alpha} + Y\\right)}{Kd Ld} & 0 & - 2 Y \\left(1 - \\alpha\\right) & -2\\\\- \\frac{2 A Kd^{\\alpha} Ld^{1 - \\alpha} \\alpha}{Kd} - 2 P \\alpha r & 0 & 0 & \\frac{2 A^{2} Kd^{2 \\alpha} Ld^{2 - 2 \\alpha} \\alpha \\left(1 - \\alpha\\right)}{Kd Ld} - \\frac{2 A Kd^{\\alpha} Ld^{1 - \\alpha} \\alpha \\left(1 - \\alpha\\right) \\left(- A Kd^{\\alpha} Ld^{1 - \\alpha} + Y\\right)}{Kd Ld} & \\frac{2 A^{2} Kd^{2 \\alpha} Ld^{2 - 2 \\alpha} \\alpha^{2}}{Kd^{2}} - \\frac{2 A Kd^{\\alpha} Ld^{1 - \\alpha} \\alpha^{2} \\left(- A Kd^{\\alpha} Ld^{1 - \\alpha} + Y\\right)}{Kd^{2}} + \\frac{2 A Kd^{\\alpha} Ld^{1 - \\alpha} \\alpha \\left(- A Kd^{\\alpha} Ld^{1 - \\alpha} + Y\\right)}{Kd^{2}} + 2 r^{2} + 2 & 4 Kd r - 2 P Y \\alpha & - 2 Y \\alpha r & 0\\\\- 2 Kd P \\alpha & 0 & - 2 Ks & 0 & 4 Kd r - 2 P Y \\alpha & 2 Kd^{2} + 2 Ks^{2} & - 2 Kd Y \\alpha & 0\\\\2 P Y \\alpha^{2} + 2 P Y \\left(1 - \\alpha\\right)^{2} + 2 \\alpha \\left(- Kd r + P Y \\alpha\\right) + 2 \\cdot \\left(1 - \\alpha\\right) \\left(- Ld + P Y \\left(1 - \\alpha\\right)\\right) & 4 C P - 2 INC & - 2 C & - 2 Y \\left(1 - \\alpha\\right) & - 2 Y \\alpha r & - 2 Kd Y \\alpha & 2 C^{2} + 2 Y^{2} \\alpha^{2} + 2 Y^{2} \\left(1 - \\alpha\\right)^{2} & 0\\\\0 & 0 & 0 & -2 & 0 & 0 & 0 & 2\\end{matrix}\\right]$"
      ],
      "text/plain": [
       "Matrix([\n",
       "[                                                                2*P**2*alpha**2 + 2*P**2*(1 - alpha)**2 + 4,            -2,     0,                                                                                                                                                                              -2*A*Kd**alpha*Ld**(1 - alpha)*(1 - alpha)/Ld - 2*P*(1 - alpha),                                                                                                                                                                               -2*A*Kd**alpha*Ld**(1 - alpha)*alpha/Kd - 2*P*alpha*r,        -2*Kd*P*alpha, 2*P*Y*alpha**2 + 2*P*Y*(1 - alpha)**2 + 2*alpha*(-Kd*r + P*Y*alpha) + 2*(1 - alpha)*(-Ld + P*Y*(1 - alpha)),  0],\n",
       "[                                                                                                         -2,    2*P**2 + 2,  -2*P,                                                                                                                                                                                                                                            0,                                                                                                                                                                                                                                   0,                    0,                                                                                               4*C*P - 2*INC,  0],\n",
       "[                                                                                                          0,          -2*P,     4,                                                                                                                                                                                                                                            0,                                                                                                                                                                                                                                   0,                -2*Ks,                                                                                                        -2*C,  0],\n",
       "[                                            -2*A*Kd**alpha*Ld**(1 - alpha)*(1 - alpha)/Ld - 2*P*(1 - alpha),             0,     0, 2*A**2*Kd**(2*alpha)*Ld**(2 - 2*alpha)*(1 - alpha)**2/Ld**2 - 2*A*Kd**alpha*Ld**(1 - alpha)*(1 - alpha)**2*(-A*Kd**alpha*Ld**(1 - alpha) + Y)/Ld**2 + 2*A*Kd**alpha*Ld**(1 - alpha)*(1 - alpha)*(-A*Kd**alpha*Ld**(1 - alpha) + Y)/Ld**2 + 4,                                                                       2*A**2*Kd**(2*alpha)*Ld**(2 - 2*alpha)*alpha*(1 - alpha)/(Kd*Ld) - 2*A*Kd**alpha*Ld**(1 - alpha)*alpha*(1 - alpha)*(-A*Kd**alpha*Ld**(1 - alpha) + Y)/(Kd*Ld),                    0,                                                                                            -2*Y*(1 - alpha), -2],\n",
       "[                                                      -2*A*Kd**alpha*Ld**(1 - alpha)*alpha/Kd - 2*P*alpha*r,             0,     0,                                                                                2*A**2*Kd**(2*alpha)*Ld**(2 - 2*alpha)*alpha*(1 - alpha)/(Kd*Ld) - 2*A*Kd**alpha*Ld**(1 - alpha)*alpha*(1 - alpha)*(-A*Kd**alpha*Ld**(1 - alpha) + Y)/(Kd*Ld), 2*A**2*Kd**(2*alpha)*Ld**(2 - 2*alpha)*alpha**2/Kd**2 - 2*A*Kd**alpha*Ld**(1 - alpha)*alpha**2*(-A*Kd**alpha*Ld**(1 - alpha) + Y)/Kd**2 + 2*A*Kd**alpha*Ld**(1 - alpha)*alpha*(-A*Kd**alpha*Ld**(1 - alpha) + Y)/Kd**2 + 2*r**2 + 2, 4*Kd*r - 2*P*Y*alpha,                                                                                                -2*Y*alpha*r,  0],\n",
       "[                                                                                              -2*Kd*P*alpha,             0, -2*Ks,                                                                                                                                                                                                                                            0,                                                                                                                                                                                                                4*Kd*r - 2*P*Y*alpha,    2*Kd**2 + 2*Ks**2,                                                                                               -2*Kd*Y*alpha,  0],\n",
       "[2*P*Y*alpha**2 + 2*P*Y*(1 - alpha)**2 + 2*alpha*(-Kd*r + P*Y*alpha) + 2*(1 - alpha)*(-Ld + P*Y*(1 - alpha)), 4*C*P - 2*INC,  -2*C,                                                                                                                                                                                                                             -2*Y*(1 - alpha),                                                                                                                                                                                                                        -2*Y*alpha*r,        -2*Kd*Y*alpha,                                                            2*C**2 + 2*Y**2*alpha**2 + 2*Y**2*(1 - alpha)**2,  0],\n",
       "[                                                                                                          0,             0,     0,                                                                                                                                                                                                                                           -2,                                                                                                                                                                                                                                   0,                    0,                                                                                                           0,  2]])"
      ]
     },
     "execution_count": 354,
     "metadata": {},
     "output_type": "execute_result"
    }
   ],
   "source": [
    "hess"
   ]
  },
  {
   "cell_type": "code",
   "execution_count": 334,
   "id": "63e159e0-e89d-415b-af7b-943ebdb4e03b",
   "metadata": {},
   "outputs": [],
   "source": [
    "f_jac = sp.lambdify(variables + parameters, jac)\n",
    "f_hess = sp.lambdify(variables + parameters, hess)"
   ]
  },
  {
   "cell_type": "markdown",
   "id": "2dfd7f5e-6219-4695-90e0-c854ce74c7c5",
   "metadata": {},
   "source": [
    "## Compute feisible initial"
   ]
  },
  {
   "cell_type": "code",
   "execution_count": 355,
   "id": "43791fa7-c202-49d6-9914-b7445588b0d7",
   "metadata": {},
   "outputs": [],
   "source": [
    "def compute_system(initial_dict):\n",
    "    calib_dict = initial_dict.copy()\n",
    "    calib_dict[INC] = (w * Ls + r * Ks).subs(calib_dict)\n",
    "    calib_dict[C] = (INC / P).subs(calib_dict)\n",
    "    calib_dict[Y] = (C).subs(calib_dict)\n",
    "    calib_dict[Kd] = (Ks).subs(calib_dict)\n",
    "    calib_dict[Ld] = (Ls).subs(calib_dict)\n",
    "    calib_dict[alpha] = ((r * Kd) / (Y * P)).subs(calib_dict).evalf()\n",
    "    calib_dict[A] = sp.solve(equations[0].subs(calib_dict), A)[0].evalf()\n",
    "    calib_dict[Leon] = (Ld - Ls).subs(calib_dict)\n",
    "\n",
    "    return calib_dict\n"
   ]
  },
  {
   "cell_type": "markdown",
   "id": "14eb792d-4546-4be0-bb5f-8eed940acdea",
   "metadata": {},
   "source": [
    "### Test inital feisible point"
   ]
  },
  {
   "cell_type": "code",
   "execution_count": 377,
   "id": "451fe9ff-652f-476a-9f10-acfdda3b10d1",
   "metadata": {},
   "outputs": [
    {
     "data": {
      "text/plain": [
       "{Ls: 7000,\n",
       " Ks: 4000,\n",
       " P: 1,\n",
       " r: 1,\n",
       " INC: 11000,\n",
       " C: 11000,\n",
       " Y: 11000,\n",
       " Kd: 4000,\n",
       " Ld: 7000,\n",
       " alpha: 0.363636363636364,\n",
       " A: 1.92607022425223,\n",
       " Leon: 0}"
      ]
     },
     "execution_count": 377,
     "metadata": {},
     "output_type": "execute_result"
    }
   ],
   "source": [
    "init_vals = {Ls:7000, Ks:4000, P:1, r:1}\n",
    "state_1 = compute_system(init_vals)\n",
    "state_1"
   ]
  },
  {
   "cell_type": "code",
   "execution_count": 357,
   "id": "cdfc6487-e0be-4e40-ab75-eb7d7f7a53e6",
   "metadata": {},
   "outputs": [
    {
     "data": {
      "text/plain": [
       "3.308722450212111e-24"
      ]
     },
     "execution_count": 357,
     "metadata": {},
     "output_type": "execute_result"
    }
   ],
   "source": [
    "x0 = np.r_[[float(state_1[x]) for x in variables]]\n",
    "param_vals = np.r_[[float(state_1[x]) for x in parameters]] \n",
    "\n",
    "f_resid_sp(x0, param_vals)"
   ]
  },
  {
   "cell_type": "markdown",
   "id": "3f5422ec-e2f0-47be-8181-6da080636801",
   "metadata": {},
   "source": [
    "## Simulate Labor Shock\n",
    "\n",
    "Compute change in variables given a 10% increase to labor"
   ]
  },
  {
   "cell_type": "markdown",
   "id": "526f4eac-1bda-4924-a1ba-9725421a8120",
   "metadata": {},
   "source": [
    "### Non-Linear Solver"
   ]
  },
  {
   "cell_type": "code",
   "execution_count": 359,
   "id": "3b657dcd-7d47-47e3-b6ef-d6670a36e8b2",
   "metadata": {},
   "outputs": [],
   "source": [
    "def sp_wrapper(f):\n",
    "\n",
    "    def f_wrapped(x, args):\n",
    "        if args is None:\n",
    "            inputs = x\n",
    "        else:\n",
    "            inputs = np.r_[x, args]\n",
    "        \n",
    "        return f(*inputs).squeeze()\n",
    "\n",
    "    return f_wrapped\n",
    "\n",
    "f_resid_sp = sp_wrapper(f_resid)\n",
    "f_jac_sp = sp_wrapper(f_jac)\n",
    "f_hess_sp = sp_wrapper(f_hess)\n",
    "\n",
    "state_2 = state_1.copy()\n",
    "state_2[Ls] = 7700\n",
    "\n",
    "x0 = np.r_[[float(state_2[x]) for x in variables]]\n",
    "param_vals = np.r_[[float(state_2[x]) for x in parameters]] \n",
    "res = optimize.minimize(f_resid_sp, x0, jac=f_jac_sp, hess=f_hess_sp, args=param_vals, method='trust-krylov')"
   ]
  },
  {
   "cell_type": "code",
   "execution_count": 360,
   "id": "92d11267-8bf6-4d79-b4af-2cb6f7780b9c",
   "metadata": {},
   "outputs": [
    {
     "name": "stdout",
     "output_type": "stream",
     "text": [
      "True\n"
     ]
    }
   ],
   "source": [
    "print(res.success)"
   ]
  },
  {
   "cell_type": "code",
   "execution_count": 369,
   "id": "ec10ea7e-1f32-4aeb-9d68-70d6d87baa84",
   "metadata": {},
   "outputs": [
    {
     "data": {
      "text/plain": [
       "{Y: 11687.819199172682,\n",
       " C: 11687.81919917287,\n",
       " INC: 12099.999999997124,\n",
       " Ld: 7699.999999997771,\n",
       " Kd: 4000.000000000683,\n",
       " r: 1.0999999999993255,\n",
       " P: 1.0352658433365507,\n",
       " Leon: -2.2285546786866145e-09}"
      ]
     },
     "execution_count": 369,
     "metadata": {},
     "output_type": "execute_result"
    }
   ],
   "source": [
    "optim_solution = dict(zip(variables, res.x))\n",
    "optim_solution"
   ]
  },
  {
   "cell_type": "code",
   "execution_count": 379,
   "id": "5288477f-d8be-4a20-84cb-4307a738af8c",
   "metadata": {},
   "outputs": [
    {
     "data": {
      "text/plain": [
       "{Y: 0.0625290181066074,\n",
       " C: 0.0625290181066245,\n",
       " INC: 0.0999999999997385,\n",
       " Ld: 0.0999999999996817,\n",
       " Kd: 1.70752301187349e-13,\n",
       " r: 0.09999999999932552,\n",
       " P: 0.035265843336550695,\n",
       " Leon: zoo}"
      ]
     },
     "execution_count": 379,
     "metadata": {},
     "output_type": "execute_result"
    }
   ],
   "source": [
    "deltas = {x: (optim_solution[x] / state_1[x] - 1) for x in variables}\n",
    "deltas"
   ]
  },
  {
   "cell_type": "markdown",
   "id": "088da1b2-33fd-4d35-9e75-e47f882b6346",
   "metadata": {},
   "source": [
    "### First-order taylor approximation"
   ]
  },
  {
   "cell_type": "code",
   "execution_count": 362,
   "id": "3e8c2b4b-f7ff-46b2-831b-07d715153a0c",
   "metadata": {},
   "outputs": [],
   "source": [
    "def Taylor_polynomial_sympy(function_expression, variable_list, evaluation_point, degree):\n",
    "    \"\"\"\n",
    "    Mathematical formulation reference:\n",
    "    https://math.libretexts.org/Bookshelves/Calculus/Supplemental_Modules_(Calculus)/Multivariable_Calculus/3%3A_Topics_in_Partial_Derivatives/Taylor__Polynomials_of_Functions_of_Two_Variables\n",
    "    :param function_expression: Sympy expression of the function\n",
    "    :param variable_list: list. All variables to be approximated (to be \"Taylorized\")\n",
    "    :param evaluation_point: list. Coordinates, where the function will be expressed\n",
    "    :param degree: int. Total degree of the Taylor polynomial\n",
    "    :return: Returns a Sympy expression of the Taylor series up to a given degree, of a given multivariate expression, approximated as a multivariate polynomial evaluated at the evaluation_point\n",
    "    \"\"\"\n",
    "    from sympy import factorial, Matrix, prod\n",
    "    import itertools\n",
    "\n",
    "    n_var = len(variable_list)\n",
    "    point_coordinates = [(i, j) for i, j in (zip(variable_list, evaluation_point))]  # list of tuples with variables and their evaluation_point coordinates, to later perform substitution\n",
    "\n",
    "    deriv_orders = list(itertools.product(range(degree + 1), repeat=n_var))  # list with exponentials of the partial derivatives\n",
    "    deriv_orders = [deriv_orders[i] for i in range(len(deriv_orders)) if sum(deriv_orders[i]) <= degree]  # Discarding some higher-order terms\n",
    "    n_terms = len(deriv_orders)\n",
    "    deriv_orders_as_input = [list(sum(list(zip(variable_list, deriv_orders[i])), ())) for i in range(n_terms)]  # Individual degree of each partial derivative, of each term\n",
    "\n",
    "    polynomial = 0\n",
    "    for i in range(n_terms):\n",
    "        partial_derivatives_at_point = function_expression.diff(*deriv_orders_as_input[i]).subs(point_coordinates)  # e.g. df/(dx*dy**2)\n",
    "        denominator = prod([factorial(j) for j in deriv_orders[i]])  # e.g. (1! * 2!)\n",
    "        distances_powered = prod([(Matrix(variable_list) - Matrix(evaluation_point))[j] ** deriv_orders[i][j] for j in range(n_var)])  # e.g. (x-x0)*(y-y0)**2\n",
    "        polynomial += partial_derivatives_at_point / denominator * distances_powered\n",
    "    return polynomial"
   ]
  },
  {
   "cell_type": "code",
   "execution_count": 363,
   "id": "8019d877-0e1e-4b89-9066-5deccc5299ed",
   "metadata": {},
   "outputs": [],
   "source": [
    "init_vals = Y0, C0, INC0, Ld0, Kd0, r0, P0, Leon0 = sp.symbols('Y_0 C_0 INC_0 Ld_0 Kd_0 r_0 P_0 Leon_0')\n",
    "init_subs = dict(zip(variables, init_vals))"
   ]
  },
  {
   "cell_type": "code",
   "execution_count": 364,
   "id": "cca1aca8-400f-43c0-aa80-376668049e5d",
   "metadata": {},
   "outputs": [],
   "source": [
    "expanded_eqs = [Taylor_polynomial_sympy(eq, variables, init_vals, 1) for eq in equations]"
   ]
  },
  {
   "cell_type": "code",
   "execution_count": 365,
   "id": "0a695e58-3270-420c-b194-75dc4e9cde5d",
   "metadata": {},
   "outputs": [],
   "source": [
    "system, bias = sp.linear_eq_to_matrix(expanded_eqs, variables)\n",
    "Ab = sp.Matrix([[system, bias]])\n",
    "A_rref, pivots = Ab.rref()"
   ]
  },
  {
   "cell_type": "code",
   "execution_count": 366,
   "id": "29115b7a-b5a1-48ce-9183-7fa152fe1879",
   "metadata": {},
   "outputs": [],
   "source": [
    "linear_solution = A_rref[:, -1]\n",
    "f_linear = sp.lambdify(parameters + init_vals, linear_solution)"
   ]
  },
  {
   "cell_type": "code",
   "execution_count": 367,
   "id": "2e670691-a04e-4a68-9aea-e93415c6eb5e",
   "metadata": {},
   "outputs": [],
   "source": [
    "x0 = np.r_[[float(state_2[x]) for x in variables]]\n",
    "param_vals = np.r_[[float(state_2[x]) for x in parameters]] \n",
    "taylor_solutions = dict(zip(variables, f_linear(*np.r_[param_vals, x0]).squeeze()))"
   ]
  },
  {
   "cell_type": "code",
   "execution_count": 368,
   "id": "8e578477-9bdd-419e-93c9-194dabc5cdfa",
   "metadata": {},
   "outputs": [
    {
     "data": {
      "text/plain": [
       "{Y: 11700.0,\n",
       " C: 11700.0,\n",
       " INC: 12099.999999999998,\n",
       " Ld: 7699.999999999997,\n",
       " Kd: 4000.0,\n",
       " r: 1.0999999999999996,\n",
       " P: 1.036363636363636,\n",
       " Leon: -5.102040816326529e-12}"
      ]
     },
     "execution_count": 368,
     "metadata": {},
     "output_type": "execute_result"
    }
   ],
   "source": [
    "taylor_solutions"
   ]
  },
  {
   "cell_type": "markdown",
   "id": "57f2d774-cc2c-43e1-845b-35a092f295df",
   "metadata": {},
   "source": [
    "### Taylor Error"
   ]
  },
  {
   "cell_type": "code",
   "execution_count": 376,
   "id": "fd478f01-d721-436b-8943-ecb22bdf215a",
   "metadata": {},
   "outputs": [
    {
     "name": "stdout",
     "output_type": "stream",
     "text": [
      "Y                   0.10%\n",
      "C                   0.10%\n",
      "INC                 0.00%\n",
      "Ld                  0.00%\n",
      "Kd                  -0.00%\n",
      "r                   0.00%\n",
      "P                   0.11%\n",
      "Leon                -99.77%\n"
     ]
    }
   ],
   "source": [
    "for k, v in optim_solution.items():\n",
    "    v = float(v)\n",
    "    tv = float(taylor_solutions[k])\n",
    "    \n",
    "    print(f'{k.name:<20}{(tv - v) / v :0.2%}')"
   ]
  },
  {
   "cell_type": "code",
   "execution_count": null,
   "id": "0aeb51a7-6ae3-42c1-b84d-5d19b5648ca2",
   "metadata": {},
   "outputs": [],
   "source": []
  }
 ],
 "metadata": {
  "kernelspec": {
   "display_name": "Python 3 (ipykernel)",
   "language": "python",
   "name": "python3"
  },
  "language_info": {
   "codemirror_mode": {
    "name": "ipython",
    "version": 3
   },
   "file_extension": ".py",
   "mimetype": "text/x-python",
   "name": "python",
   "nbconvert_exporter": "python",
   "pygments_lexer": "ipython3",
   "version": "3.9.16"
  }
 },
 "nbformat": 4,
 "nbformat_minor": 5
}
