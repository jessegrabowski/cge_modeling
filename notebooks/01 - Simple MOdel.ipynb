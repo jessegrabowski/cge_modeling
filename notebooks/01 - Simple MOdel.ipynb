{
 "cells": [
  {
   "cell_type": "code",
   "execution_count": 7,
   "id": "a82ddeee",
   "metadata": {},
   "outputs": [],
   "source": [
    "import sys\n",
    "\n",
    "sys.path.append(\"..\")\n",
    "from cge_modeling import Variable, Parameter, Equation, CGEModel\n",
    "from cge_modeling.pytensorf.compile import (\n",
    "    compile_cge_model_to_pytensor,\n",
    "    euler_approximation_from_CGEModel,\n",
    "    pytensor_objects_from_CGEModel,\n",
    ")"
   ]
  },
  {
   "cell_type": "code",
   "execution_count": 2,
   "id": "9cb62af6",
   "metadata": {},
   "outputs": [],
   "source": [
    "var_list = [\n",
    "    Variable(name=\"Y\", description=\"Output\", positive=True),\n",
    "    Variable(name=\"C\", description=\"Consumption\", positive=True),\n",
    "    Variable(name=\"INC\", description=\"Household income\", positive=True),\n",
    "    Variable(name=\"L_d\", description=\"Firm demand for labor\", positive=True),\n",
    "    Variable(name=\"K_d\", description=\"Firm demand for capital\", positive=True),\n",
    "    Variable(name=\"r\", description=\"Rental rate of capital\", positive=True),\n",
    "    Variable(name=\"w\", description=\"Wage level\", positive=True),\n",
    "    Variable(name=\"P\", description=\"Price level\", positive=True),\n",
    "    Variable(name=\"resid\", latex_name=\"varepsilon\", description=\"Walrasian residual\"),\n",
    "]\n",
    "\n",
    "param_list = [\n",
    "    Parameter(name=\"L_s\", description=\"Household labor supply\"),\n",
    "    Parameter(name=\"K_s\", description=\"Household capital supply\"),\n",
    "    Parameter(name=\"A\", description=\"Total factor productivity\"),\n",
    "    Parameter(name=\"alpha\", description=\"Share of capital in production\"),\n",
    "    Parameter(name=\"w_bar\", latex_name=r\"\\bar{w}\", description=\"Numeraire wage level\"),\n",
    "]\n",
    "\n",
    "equation_list = [\n",
    "    # Firm equations\n",
    "    Equation(name=\"Production function\", equation=\"Y - A * K_d ** alpha * L_d ** (1 - alpha)\"),\n",
    "    Equation(name=\"Capital demand\", equation=\"K_d - alpha * Y * P / r\"),\n",
    "    Equation(name=\"Labor demand\", equation=\"L_d - (1 - alpha) * Y * P / w\"),\n",
    "    # Household equatons\n",
    "    Equation(name=\"Household income\", equation=\"INC - w * L_s - r * K_s\"),\n",
    "    Equation(name=\"Household budget constraint\", equation=\"P * C - INC\"),\n",
    "    # Equlibrium conditions\n",
    "    Equation(name=\"Economic resource constraint\", equation=\"Y - C\"),\n",
    "    Equation(name=\"Labor market clearing\", equation=\"L_s - L_d + resid\"),\n",
    "    Equation(name=\"Capital market clearing\", equation=\"K_s - K_d\"),\n",
    "    Equation(name=\"Numeraire wage\", equation=\"w - w_bar\"),\n",
    "]"
   ]
  },
  {
   "cell_type": "code",
   "execution_count": 3,
   "id": "321a91a5",
   "metadata": {},
   "outputs": [],
   "source": [
    "mod = CGEModel(\n",
    "    variables=var_list,\n",
    "    parameters=param_list,\n",
    "    equations=equation_list,\n",
    "    parse_equations_to_sympy=False,\n",
    ")"
   ]
  },
  {
   "cell_type": "code",
   "execution_count": 4,
   "id": "2c8d57e7",
   "metadata": {},
   "outputs": [
    {
     "data": {
      "text/latex": [
       "\n",
       "\t\n",
       "\t\t\\begin{array}{|c|c|}\n",
       "\t\t\t\\hline\n",
       "\t\t\t\\textbf{Symbol} & \\textbf{Description} \\\\\n",
       "\t\t\t\\hline\n",
       "\t\t\tY & \\text{Output} \\\\\n",
       "\t\t\t\\hline\n",
       "\t\t\tC & \\text{Consumption} \\\\\n",
       "\t\t\t\\hline\n",
       "\t\t\tINC & \\text{Household income} \\\\\n",
       "\t\t\t\\hline\n",
       "\t\t\tL_d & \\text{Firm demand for labor} \\\\\n",
       "\t\t\t\\hline\n",
       "\t\t\tK_d & \\text{Firm demand for capital} \\\\\n",
       "\t\t\t\\hline\n",
       "\t\t\tr & \\text{Rental rate of capital} \\\\\n",
       "\t\t\t\\hline\n",
       "\t\t\tw & \\text{Wage level} \\\\\n",
       "\t\t\t\\hline\n",
       "\t\t\tP & \\text{Price level} \\\\\n",
       "\t\t\t\\hline\n",
       "\t\t\t\\varepsilon & \\text{Walrasian residual} \\\\\n",
       "\t\t\t\\hline\n",
       "\t\t\tL_s & \\text{Household labor supply} \\\\\n",
       "\t\t\t\\hline\n",
       "\t\t\tK_s & \\text{Household capital supply} \\\\\n",
       "\t\t\t\\hline\n",
       "\t\t\tA & \\text{Total factor productivity} \\\\\n",
       "\t\t\t\\hline\n",
       "\t\t\t\\alpha & \\text{Share of capital in production} \\\\\n",
       "\t\t\t\\hline\n",
       "\t\t\t\\bar{w} & \\text{Numeraire wage level} \\\\\n",
       "\t\t\t\\hline\n",
       "\t\t\\end{array}\n",
       "\t\n"
      ],
      "text/plain": [
       "<IPython.core.display.Latex object>"
      ]
     },
     "metadata": {},
     "output_type": "display_data"
    }
   ],
   "source": [
    "mod.summary()"
   ]
  },
  {
   "cell_type": "code",
   "execution_count": 5,
   "id": "ea68098b",
   "metadata": {},
   "outputs": [],
   "source": [
    "mod_funcs = compile_cge_model_to_pytensor(mod)"
   ]
  },
  {
   "cell_type": "code",
   "execution_count": 10,
   "id": "cd0beeae",
   "metadata": {},
   "outputs": [
    {
     "data": {
      "text/plain": [
       "(9,)"
      ]
     },
     "execution_count": 10,
     "metadata": {},
     "output_type": "execute_result"
    }
   ],
   "source": [
    "pytensor_objects_from_CGEModel(mod)[1].type.shape"
   ]
  },
  {
   "cell_type": "code",
   "execution_count": null,
   "id": "84f0610e",
   "metadata": {},
   "outputs": [],
   "source": []
  }
 ],
 "metadata": {
  "kernelspec": {
   "display_name": "Python 3 (ipykernel)",
   "language": "python",
   "name": "python3"
  },
  "language_info": {
   "codemirror_mode": {
    "name": "ipython",
    "version": 3
   },
   "file_extension": ".py",
   "mimetype": "text/x-python",
   "name": "python",
   "nbconvert_exporter": "python",
   "pygments_lexer": "ipython3",
   "version": "3.11.6"
  },
  "toc": {
   "base_numbering": 1,
   "nav_menu": {},
   "number_sections": true,
   "sideBar": true,
   "skip_h1_title": false,
   "title_cell": "Table of Contents",
   "title_sidebar": "Contents",
   "toc_cell": false,
   "toc_position": {},
   "toc_section_display": true,
   "toc_window_display": false
  }
 },
 "nbformat": 4,
 "nbformat_minor": 5
}
