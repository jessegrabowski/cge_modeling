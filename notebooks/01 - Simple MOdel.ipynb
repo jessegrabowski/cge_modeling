{
 "cells": [
  {
   "cell_type": "code",
   "execution_count": 1,
   "id": "2c93ea32",
   "metadata": {},
   "outputs": [],
   "source": [
    "import numpy as np\n",
    "import pandas as pd\n",
    "import matplotlib.pyplot as plt\n",
    "\n",
    "\n",
    "import sys\n",
    "\n",
    "sys.path.append(\"..\")\n",
    "from cge_modeling import Variable, Parameter, Equation, CGEModel\n",
    "from cge_modeling.pytensorf.compile import (\n",
    "    compile_cge_model_to_pytensor,\n",
    "    euler_approximation_from_CGEModel,\n",
    "    pytensor_objects_from_CGEModel,\n",
    ")"
   ]
  },
  {
   "cell_type": "code",
   "execution_count": 2,
   "id": "f5a223c5",
   "metadata": {},
   "outputs": [],
   "source": [
    "var_list = [\n",
    "    Variable(name=\"Y\", description=\"Output\", positive=True),\n",
    "    Variable(name=\"C\", description=\"Consumption\", positive=True),\n",
    "    Variable(name=\"INC\", description=\"Household income\", latex_name=\"Omega\", positive=True),\n",
    "    Variable(name=\"L_d\", description=\"Firm demand for labor\", positive=True),\n",
    "    Variable(name=\"K_d\", description=\"Firm demand for capital\", positive=True),\n",
    "    Variable(name=\"r\", description=\"Rental rate of capital\", positive=True),\n",
    "    Variable(name=\"w\", description=\"Wage level\", positive=True),\n",
    "    Variable(name=\"P\", description=\"Price level\", positive=True),\n",
    "    Variable(name=\"resid\", latex_name=\"varepsilon\", description=\"Walrasian residual\"),\n",
    "]\n",
    "\n",
    "param_list = [\n",
    "    Parameter(name=\"L_s\", description=\"Household labor supply\"),\n",
    "    Parameter(name=\"K_s\", description=\"Household capital supply\"),\n",
    "    Parameter(name=\"A\", description=\"Total factor productivity\"),\n",
    "    Parameter(name=\"psi\", description=\"Elasticity of substitution between capital and labor\"),\n",
    "    Parameter(name=\"alpha\", description=\"Share of capital in production\"),\n",
    "    Parameter(name=\"w_bar\", latex_name=r\"\\bar{w}\", description=\"Numeraire wage level\"),\n",
    "]\n",
    "\n",
    "equation_list = [\n",
    "    # Firm equations\n",
    "    Equation(\n",
    "        name=\"Production function\",\n",
    "        equation=\"Y = A * (alpha * K_d ** ((psi - 1) / psi) + (1 - alpha) * L_d ** ((psi - 1) / psi)) ** (psi / (psi - 1))\",\n",
    "    ),\n",
    "    Equation(name=\"Capital demand\", equation=\"K_d = Y / A * (alpha * A * P / r) ** psi\"),\n",
    "    Equation(name=\"Labor demand\", equation=\"L_d = Y / A * ((1 - alpha) * A * P / w) ** psi\"),\n",
    "    # Household equatons\n",
    "    Equation(name=\"Household income\", equation=\"INC = w * L_s + r * K_s\"),\n",
    "    Equation(name=\"Household budget constraint\", equation=\"P * C = INC\"),\n",
    "    # Equlibrium conditions\n",
    "    Equation(name=\"Economic resource constraint\", equation=\"Y = C\"),\n",
    "    Equation(name=\"Labor market clearing\", equation=\"L_s = L_d + resid\"),\n",
    "    Equation(name=\"Capital market clearing\", equation=\"K_s = K_d\"),\n",
    "    Equation(name=\"Numeraire wage\", equation=\"w = w_bar\"),\n",
    "]"
   ]
  },
  {
   "cell_type": "code",
   "execution_count": 41,
   "id": "741b46ec",
   "metadata": {},
   "outputs": [],
   "source": [
    "mod = CGEModel(\n",
    "    variables=var_list,\n",
    "    parameters=param_list,\n",
    "    equations=equation_list,\n",
    "    parse_equations_to_sympy=False,\n",
    "    backend=\"pytensor\",\n",
    ")"
   ]
  },
  {
   "cell_type": "code",
   "execution_count": 44,
   "id": "f614f985",
   "metadata": {},
   "outputs": [
    {
     "data": {
      "text/plain": [
       "[In(Y),\n",
       " In(C),\n",
       " In(INC),\n",
       " In(L_d),\n",
       " In(K_d),\n",
       " In(r),\n",
       " In(w),\n",
       " In(P),\n",
       " In(resid),\n",
       " In(L_s),\n",
       " In(K_s),\n",
       " In(A),\n",
       " In(psi),\n",
       " In(alpha),\n",
       " In(w_bar)]"
      ]
     },
     "execution_count": 44,
     "metadata": {},
     "output_type": "execute_result"
    }
   ],
   "source": [
    "mod.f_system.maker.inputs"
   ]
  },
  {
   "cell_type": "code",
   "execution_count": 4,
   "id": "b2f03b5e",
   "metadata": {
    "scrolled": false
   },
   "outputs": [
    {
     "data": {
      "text/latex": [
       "\n",
       "\t\n",
       "\t\t\\begin{array}{|c|c|}\n",
       "\t\t\t\\hline\n",
       "\t\t\t\\textbf{Symbol} & \\textbf{Description} \\\\\n",
       "\t\t\t\\hline\n",
       "\t\t\tY & \\text{Output} \\\\\n",
       "\t\t\t\\hline\n",
       "\t\t\tC & \\text{Consumption} \\\\\n",
       "\t\t\t\\hline\n",
       "\t\t\t\\Omega & \\text{Household income} \\\\\n",
       "\t\t\t\\hline\n",
       "\t\t\tL_d & \\text{Firm demand for labor} \\\\\n",
       "\t\t\t\\hline\n",
       "\t\t\tK_d & \\text{Firm demand for capital} \\\\\n",
       "\t\t\t\\hline\n",
       "\t\t\tr & \\text{Rental rate of capital} \\\\\n",
       "\t\t\t\\hline\n",
       "\t\t\tw & \\text{Wage level} \\\\\n",
       "\t\t\t\\hline\n",
       "\t\t\tP & \\text{Price level} \\\\\n",
       "\t\t\t\\hline\n",
       "\t\t\t\\varepsilon & \\text{Walrasian residual} \\\\\n",
       "\t\t\t\\hline\n",
       "\t\t\tL_s & \\text{Household labor supply} \\\\\n",
       "\t\t\t\\hline\n",
       "\t\t\tK_s & \\text{Household capital supply} \\\\\n",
       "\t\t\t\\hline\n",
       "\t\t\tA & \\text{Total factor productivity} \\\\\n",
       "\t\t\t\\hline\n",
       "\t\t\t\\psi & \\text{Elasticity of substitution between capital and labor} \\\\\n",
       "\t\t\t\\hline\n",
       "\t\t\t\\alpha & \\text{Share of capital in production} \\\\\n",
       "\t\t\t\\hline\n",
       "\t\t\t\\bar{w} & \\text{Numeraire wage level} \\\\\n",
       "\t\t\t\\hline\n",
       "\t\t\\end{array}\n",
       "\t\n"
      ],
      "text/plain": [
       "<IPython.core.display.Latex object>"
      ]
     },
     "metadata": {},
     "output_type": "display_data"
    }
   ],
   "source": [
    "mod.summary()"
   ]
  },
  {
   "cell_type": "code",
   "execution_count": 5,
   "id": "4c17be72",
   "metadata": {},
   "outputs": [
    {
     "data": {
      "text/latex": [
       "\n",
       "\t\n",
       "\t\t\\begin{array}{|c|c|c|}\n",
       "\t\t\t\\hline\n",
       "\t\t\t\\textbf{} & \\textbf{Name} & \\textbf{Equation} \\\\\n",
       "\t\t\t\\hline\n",
       "\t\t\t1 & \\text{Production function} & Y = A \\left(K_{d}^{\\frac{\\psi - 1}{\\psi}} \\alpha + L_{d}^{\\frac{\\psi - 1}{\\psi}} \\left(1 - \\alpha\\right)\\right)^{\\frac{\\psi}{\\psi - 1}} \\\\\n",
       "\t\t\t\\hline\n",
       "\t\t\t2 & \\text{Capital demand} & K_{d} = \\frac{Y \\left(\\frac{A P \\alpha}{r}\\right)^{\\psi}}{A} \\\\\n",
       "\t\t\t\\hline\n",
       "\t\t\t3 & \\text{Labor demand} & L_{d} = \\frac{Y \\left(\\frac{A P \\left(1 - \\alpha\\right)}{w}\\right)^{\\psi}}{A} \\\\\n",
       "\t\t\t\\hline\n",
       "\t\t\t4 & \\text{Household income} & \\Omega = K_{s} r + L_{s} w \\\\\n",
       "\t\t\t\\hline\n",
       "\t\t\t5 & \\text{Household budget constraint} & C P = \\Omega \\\\\n",
       "\t\t\t\\hline\n",
       "\t\t\t6 & \\text{Economic resource constraint} & Y = C \\\\\n",
       "\t\t\t\\hline\n",
       "\t\t\t7 & \\text{Labor market clearing} & L_{s} = L_{d} + \\varepsilon \\\\\n",
       "\t\t\t\\hline\n",
       "\t\t\t8 & \\text{Capital market clearing} & K_{s} = K_{d} \\\\\n",
       "\t\t\t\\hline\n",
       "\t\t\t9 & \\text{Numeraire wage} & w = \\bar{w} \\\\\n",
       "\t\t\t\\hline\n",
       "\t\t\\end{array}\n",
       "\t\n"
      ],
      "text/plain": [
       "<IPython.core.display.Latex object>"
      ]
     },
     "metadata": {},
     "output_type": "display_data"
    }
   ],
   "source": [
    "mod.equation_table()"
   ]
  },
  {
   "cell_type": "code",
   "execution_count": 6,
   "id": "2f00820e",
   "metadata": {},
   "outputs": [],
   "source": [
    "data = {\"L_s\": 7000, \"K_s\": 4000, \"P\": 1, \"r\": 1, \"w_bar\": 1, \"psi\": 30}\n",
    "\n",
    "\n",
    "def calibrate_model(L_s, K_s, P, r, psi, w_bar):\n",
    "    calib_dict = {\"L_s\": L_s, \"K_s\": K_s, \"P\": P, \"r\": r, \"w_bar\": w_bar, \"psi\": psi}\n",
    "\n",
    "    # Numeraire\n",
    "    w = w_bar\n",
    "\n",
    "    INC = w * L_s + r * K_s\n",
    "    C = INC / P\n",
    "    Y = C\n",
    "    K_d = K_s\n",
    "    L_d = L_s\n",
    "\n",
    "    alpha = r * K_d ** (1 / psi) / (r * K_d ** (1 / psi) + w * L_d ** (1 / psi))\n",
    "    A = Y * (alpha * K_d ** ((psi - 1) / psi) + (1 - alpha) * L_d ** ((psi - 1) / psi)) ** (\n",
    "        -psi / (psi - 1)\n",
    "    )\n",
    "    resid = L_d - L_s\n",
    "\n",
    "    calib_dict[\"w\"] = w\n",
    "    calib_dict[\"INC\"] = INC\n",
    "    calib_dict[\"C\"] = C\n",
    "    calib_dict[\"Y\"] = Y\n",
    "    calib_dict[\"K_d\"] = K_d\n",
    "    calib_dict[\"L_d\"] = L_d\n",
    "    calib_dict[\"alpha\"] = alpha\n",
    "    calib_dict[\"A\"] = A\n",
    "    calib_dict[\"resid\"] = resid\n",
    "\n",
    "    return calib_dict"
   ]
  },
  {
   "cell_type": "code",
   "execution_count": 7,
   "id": "c62dfd61",
   "metadata": {},
   "outputs": [],
   "source": [
    "calibated_data = calibrate_model(**data)"
   ]
  },
  {
   "cell_type": "code",
   "execution_count": 8,
   "id": "5fbf35e6",
   "metadata": {},
   "outputs": [
    {
     "data": {
      "text/plain": [
       "{'L_s': 7000,\n",
       " 'K_s': 4000,\n",
       " 'P': 1,\n",
       " 'r': 1,\n",
       " 'w_bar': 1,\n",
       " 'psi': 30,\n",
       " 'w': 1,\n",
       " 'INC': 11000,\n",
       " 'C': 11000.0,\n",
       " 'Y': 11000.0,\n",
       " 'K_d': 4000,\n",
       " 'L_d': 7000,\n",
       " 'alpha': 0.49533667032328754,\n",
       " 'A': 1.9974264171314797,\n",
       " 'resid': 0}"
      ]
     },
     "execution_count": 8,
     "metadata": {},
     "output_type": "execute_result"
    }
   ],
   "source": [
    "calibated_data"
   ]
  },
  {
   "cell_type": "code",
   "execution_count": 13,
   "id": "fea380e6",
   "metadata": {
    "scrolled": false
   },
   "outputs": [],
   "source": [
    "labor_increase = calibated_data.copy()\n",
    "labor_increase[\"L_s\"] = 10_000\n",
    "theta_labor_increase = np.array([labor_increase[x] for x in mod.parameter_names], dtype=float)\n",
    "theta_labor_increase\n",
    "idata = mod._solve_with_euler_approximation(\n",
    "    calibated_data, theta_final=theta_labor_increase, n_steps=100_000\n",
    ")"
   ]
  },
  {
   "cell_type": "code",
   "execution_count": 40,
   "id": "a32fac25",
   "metadata": {},
   "outputs": [
    {
     "ename": "TypeError",
     "evalue": "too many arguments: expected 2, got 15",
     "output_type": "error",
     "traceback": [
      "\u001b[0;31m---------------------------------------------------------------------------\u001b[0m",
      "\u001b[0;31mTypeError\u001b[0m                                 Traceback (most recent call last)",
      "Cell \u001b[0;32mIn[40], line 1\u001b[0m\n\u001b[0;32m----> 1\u001b[0m \u001b[43mmod\u001b[49m\u001b[38;5;241;43m.\u001b[39;49m\u001b[43mf_system\u001b[49m\u001b[43m(\u001b[49m\u001b[38;5;241;43m*\u001b[39;49m\u001b[38;5;241;43m*\u001b[39;49m\u001b[43mcalibated_data\u001b[49m\u001b[43m)\u001b[49m\n",
      "\u001b[0;31mTypeError\u001b[0m: too many arguments: expected 2, got 15"
     ]
    }
   ],
   "source": [
    "mod.f_system()"
   ]
  },
  {
   "cell_type": "code",
   "execution_count": 14,
   "id": "13b0bb02",
   "metadata": {},
   "outputs": [
    {
     "data": {
      "text/plain": [
       "True"
      ]
     },
     "execution_count": 14,
     "metadata": {},
     "output_type": "execute_result"
    }
   ],
   "source": [
    "res = mod._solve_with_root(calibated_data, theta_labor_increase)\n",
    "res.success"
   ]
  },
  {
   "cell_type": "code",
   "execution_count": 38,
   "id": "2ba5f320",
   "metadata": {},
   "outputs": [
    {
     "data": {
      "text/plain": [
       "array([1.00000000e+04, 4.00000000e+03, 1.99742642e+00, 3.00000000e+01,\n",
       "       4.95336670e-01, 1.00000000e+00])"
      ]
     },
     "execution_count": 38,
     "metadata": {},
     "output_type": "execute_result"
    }
   ],
   "source": [
    "idata.parameters.isel(step=-1).to_array().values"
   ]
  },
  {
   "cell_type": "code",
   "execution_count": 12,
   "id": "330e9d29",
   "metadata": {},
   "outputs": [
    {
     "ename": "NameError",
     "evalue": "name 'idata' is not defined",
     "output_type": "error",
     "traceback": [
      "\u001b[0;31m---------------------------------------------------------------------------\u001b[0m",
      "\u001b[0;31mNameError\u001b[0m                                 Traceback (most recent call last)",
      "Cell \u001b[0;32mIn[12], line 3\u001b[0m\n\u001b[1;32m      1\u001b[0m fig, ax \u001b[38;5;241m=\u001b[39m plt\u001b[38;5;241m.\u001b[39msubplots(\u001b[38;5;241m3\u001b[39m, \u001b[38;5;241m3\u001b[39m, figsize\u001b[38;5;241m=\u001b[39m(\u001b[38;5;241m9\u001b[39m, \u001b[38;5;241m9\u001b[39m), sharex\u001b[38;5;241m=\u001b[39m\u001b[38;5;28;01mTrue\u001b[39;00m)\n\u001b[1;32m      2\u001b[0m \u001b[38;5;28;01mfor\u001b[39;00m i, (axis, var) \u001b[38;5;129;01min\u001b[39;00m \u001b[38;5;28menumerate\u001b[39m(\u001b[38;5;28mzip\u001b[39m(fig\u001b[38;5;241m.\u001b[39maxes, mod\u001b[38;5;241m.\u001b[39mvariable_names)):\n\u001b[0;32m----> 3\u001b[0m     \u001b[43midata\u001b[49m\u001b[38;5;241m.\u001b[39mvariables[var]\u001b[38;5;241m.\u001b[39mplot(x\u001b[38;5;241m=\u001b[39m\u001b[38;5;124m'\u001b[39m\u001b[38;5;124mstep\u001b[39m\u001b[38;5;124m'\u001b[39m, ax\u001b[38;5;241m=\u001b[39maxis)\n\u001b[1;32m      4\u001b[0m     axis\u001b[38;5;241m.\u001b[39mset(title\u001b[38;5;241m=\u001b[39mvar, xlabel\u001b[38;5;241m=\u001b[39m\u001b[38;5;28;01mNone\u001b[39;00m)\n\u001b[1;32m      5\u001b[0m     axis\u001b[38;5;241m.\u001b[39mscatter(idata\u001b[38;5;241m.\u001b[39mvariables\u001b[38;5;241m.\u001b[39mcoords[\u001b[38;5;124m'\u001b[39m\u001b[38;5;124mstep\u001b[39m\u001b[38;5;124m'\u001b[39m]\u001b[38;5;241m.\u001b[39mmax(), res\u001b[38;5;241m.\u001b[39mx[i], marker\u001b[38;5;241m=\u001b[39m\u001b[38;5;124m'\u001b[39m\u001b[38;5;124m*\u001b[39m\u001b[38;5;124m'\u001b[39m, color\u001b[38;5;241m=\u001b[39m\u001b[38;5;124m'\u001b[39m\u001b[38;5;124mtab:red\u001b[39m\u001b[38;5;124m'\u001b[39m, zorder\u001b[38;5;241m=\u001b[39m\u001b[38;5;241m10\u001b[39m, s\u001b[38;5;241m=\u001b[39m\u001b[38;5;241m100\u001b[39m)\n",
      "\u001b[0;31mNameError\u001b[0m: name 'idata' is not defined"
     ]
    },
    {
     "data": {
      "image/png": "[encoded data removed]",
      "text/plain": [
       "<Figure size 900x900 with 9 Axes>"
      ]
     },
     "metadata": {},
     "output_type": "display_data"
    }
   ],
   "source": [
    "fig, ax = plt.subplots(3, 3, figsize=(9, 9), sharex=True)\n",
    "for i, (axis, var) in enumerate(zip(fig.axes, mod.variable_names)):\n",
    "    idata.variables[var].plot(x=\"step\", ax=axis)\n",
    "    axis.set(title=var, xlabel=None)\n",
    "    axis.scatter(\n",
    "        idata.variables.coords[\"step\"].max(),\n",
    "        res.x[i],\n",
    "        marker=\"*\",\n",
    "        color=\"tab:red\",\n",
    "        zorder=10,\n",
    "        s=100,\n",
    "    )\n",
    "fig.tight_layout()"
   ]
  },
  {
   "cell_type": "code",
   "execution_count": null,
   "id": "b3dc3f8b",
   "metadata": {},
   "outputs": [],
   "source": []
  }
 ],
 "metadata": {
  "kernelspec": {
   "display_name": "Python 3 (ipykernel)",
   "language": "python",
   "name": "python3"
  },
  "language_info": {
   "codemirror_mode": {
    "name": "ipython",
    "version": 3
   },
   "file_extension": ".py",
   "mimetype": "text/x-python",
   "name": "python",
   "nbconvert_exporter": "python",
   "pygments_lexer": "ipython3",
   "version": "3.11.6"
  },
  "toc": {
   "base_numbering": 1,
   "nav_menu": {},
   "number_sections": true,
   "sideBar": true,
   "skip_h1_title": false,
   "title_cell": "Table of Contents",
   "title_sidebar": "Contents",
   "toc_cell": false,
   "toc_position": {},
   "toc_section_display": true,
   "toc_window_display": false
  }
 },
 "nbformat": 4,
 "nbformat_minor": 5
}
