{
 "cells": [
  {
   "cell_type": "code",
   "execution_count": 1,
   "id": "f2d01596",
   "metadata": {},
   "outputs": [],
   "source": [
    "import sys\n",
    "\n",
    "sys.path.append(\"..\")\n",
    "from cge_modeling import CGEModel, Variable, Parameter, Equation\n",
    "import pandas as pd\n",
    "import numpy as np\n",
    "\n",
    "import matplotlib.pyplot as plt\n",
    "import sympy as sp"
   ]
  },
  {
   "cell_type": "code",
   "execution_count": 2,
   "id": "32a514c3",
   "metadata": {},
   "outputs": [
    {
     "data": {
      "text/html": [
       "<div>\n",
       "<style scoped>\n",
       "    .dataframe tbody tr th:only-of-type {\n",
       "        vertical-align: middle;\n",
       "    }\n",
       "\n",
       "    .dataframe tbody tr th {\n",
       "        vertical-align: top;\n",
       "    }\n",
       "\n",
       "    .dataframe thead tr th {\n",
       "        text-align: left;\n",
       "    }\n",
       "</style>\n",
       "<table border=\"1\" class=\"dataframe\">\n",
       "  <thead>\n",
       "    <tr>\n",
       "      <th></th>\n",
       "      <th></th>\n",
       "      <th colspan=\"2\" halign=\"left\">Factor</th>\n",
       "      <th colspan=\"3\" halign=\"left\">Institution</th>\n",
       "      <th colspan=\"3\" halign=\"left\">Production</th>\n",
       "      <th colspan=\"3\" halign=\"left\">Activities</th>\n",
       "      <th colspan=\"2\" halign=\"left\">Other</th>\n",
       "    </tr>\n",
       "    <tr>\n",
       "      <th></th>\n",
       "      <th></th>\n",
       "      <th>Labor</th>\n",
       "      <th>Capital</th>\n",
       "      <th>Household</th>\n",
       "      <th>Firms</th>\n",
       "      <th>Govt</th>\n",
       "      <th>Agriculture</th>\n",
       "      <th>Industry</th>\n",
       "      <th>Services</th>\n",
       "      <th>Agriculture</th>\n",
       "      <th>Industry</th>\n",
       "      <th>Services</th>\n",
       "      <th>Capital Accumulation</th>\n",
       "      <th>Rest of World</th>\n",
       "    </tr>\n",
       "  </thead>\n",
       "  <tbody>\n",
       "    <tr>\n",
       "      <th rowspan=\"2\" valign=\"top\">Factor</th>\n",
       "      <th>Labor</th>\n",
       "      <td>0.0</td>\n",
       "      <td>0.0</td>\n",
       "      <td>0.0</td>\n",
       "      <td>0.0</td>\n",
       "      <td>0.0</td>\n",
       "      <td>0.0</td>\n",
       "      <td>0.0</td>\n",
       "      <td>0.0</td>\n",
       "      <td>1100.0</td>\n",
       "      <td>1700.0</td>\n",
       "      <td>4150.0</td>\n",
       "      <td>0.0</td>\n",
       "      <td>0.0</td>\n",
       "    </tr>\n",
       "    <tr>\n",
       "      <th>Capital</th>\n",
       "      <td>0.0</td>\n",
       "      <td>0.0</td>\n",
       "      <td>0.0</td>\n",
       "      <td>0.0</td>\n",
       "      <td>0.0</td>\n",
       "      <td>0.0</td>\n",
       "      <td>0.0</td>\n",
       "      <td>0.0</td>\n",
       "      <td>250.0</td>\n",
       "      <td>1800.0</td>\n",
       "      <td>550.0</td>\n",
       "      <td>0.0</td>\n",
       "      <td>0.0</td>\n",
       "    </tr>\n",
       "    <tr>\n",
       "      <th rowspan=\"3\" valign=\"top\">Institution</th>\n",
       "      <th>Household</th>\n",
       "      <td>6950.0</td>\n",
       "      <td>0.0</td>\n",
       "      <td>0.0</td>\n",
       "      <td>2600.0</td>\n",
       "      <td>0.0</td>\n",
       "      <td>0.0</td>\n",
       "      <td>0.0</td>\n",
       "      <td>0.0</td>\n",
       "      <td>0.0</td>\n",
       "      <td>0.0</td>\n",
       "      <td>0.0</td>\n",
       "      <td>0.0</td>\n",
       "      <td>0.0</td>\n",
       "    </tr>\n",
       "    <tr>\n",
       "      <th>Firms</th>\n",
       "      <td>0.0</td>\n",
       "      <td>2600.0</td>\n",
       "      <td>0.0</td>\n",
       "      <td>0.0</td>\n",
       "      <td>0.0</td>\n",
       "      <td>0.0</td>\n",
       "      <td>0.0</td>\n",
       "      <td>0.0</td>\n",
       "      <td>0.0</td>\n",
       "      <td>0.0</td>\n",
       "      <td>0.0</td>\n",
       "      <td>0.0</td>\n",
       "      <td>0.0</td>\n",
       "    </tr>\n",
       "    <tr>\n",
       "      <th>Govt</th>\n",
       "      <td>0.0</td>\n",
       "      <td>0.0</td>\n",
       "      <td>1400.0</td>\n",
       "      <td>0.0</td>\n",
       "      <td>0.0</td>\n",
       "      <td>150.0</td>\n",
       "      <td>1320.0</td>\n",
       "      <td>280.0</td>\n",
       "      <td>0.0</td>\n",
       "      <td>0.0</td>\n",
       "      <td>0.0</td>\n",
       "      <td>0.0</td>\n",
       "      <td>0.0</td>\n",
       "    </tr>\n",
       "    <tr>\n",
       "      <th rowspan=\"3\" valign=\"top\">Production</th>\n",
       "      <th>Agriculture</th>\n",
       "      <td>0.0</td>\n",
       "      <td>0.0</td>\n",
       "      <td>1700.0</td>\n",
       "      <td>0.0</td>\n",
       "      <td>400.0</td>\n",
       "      <td>0.0</td>\n",
       "      <td>0.0</td>\n",
       "      <td>0.0</td>\n",
       "      <td>1100.0</td>\n",
       "      <td>900.0</td>\n",
       "      <td>1100.0</td>\n",
       "      <td>200.0</td>\n",
       "      <td>250.0</td>\n",
       "    </tr>\n",
       "    <tr>\n",
       "      <th>Industry</th>\n",
       "      <td>0.0</td>\n",
       "      <td>0.0</td>\n",
       "      <td>1200.0</td>\n",
       "      <td>0.0</td>\n",
       "      <td>900.0</td>\n",
       "      <td>0.0</td>\n",
       "      <td>0.0</td>\n",
       "      <td>0.0</td>\n",
       "      <td>2200.0</td>\n",
       "      <td>3150.0</td>\n",
       "      <td>3300.0</td>\n",
       "      <td>800.0</td>\n",
       "      <td>0.0</td>\n",
       "    </tr>\n",
       "    <tr>\n",
       "      <th>Services</th>\n",
       "      <td>0.0</td>\n",
       "      <td>0.0</td>\n",
       "      <td>3400.0</td>\n",
       "      <td>0.0</td>\n",
       "      <td>2750.0</td>\n",
       "      <td>0.0</td>\n",
       "      <td>0.0</td>\n",
       "      <td>0.0</td>\n",
       "      <td>850.0</td>\n",
       "      <td>2250.0</td>\n",
       "      <td>1100.0</td>\n",
       "      <td>100.0</td>\n",
       "      <td>30.0</td>\n",
       "    </tr>\n",
       "    <tr>\n",
       "      <th rowspan=\"3\" valign=\"top\">Activities</th>\n",
       "      <th>Agriculture</th>\n",
       "      <td>0.0</td>\n",
       "      <td>0.0</td>\n",
       "      <td>0.0</td>\n",
       "      <td>0.0</td>\n",
       "      <td>0.0</td>\n",
       "      <td>5500.0</td>\n",
       "      <td>0.0</td>\n",
       "      <td>0.0</td>\n",
       "      <td>0.0</td>\n",
       "      <td>0.0</td>\n",
       "      <td>0.0</td>\n",
       "      <td>0.0</td>\n",
       "      <td>0.0</td>\n",
       "    </tr>\n",
       "    <tr>\n",
       "      <th>Industry</th>\n",
       "      <td>0.0</td>\n",
       "      <td>0.0</td>\n",
       "      <td>0.0</td>\n",
       "      <td>0.0</td>\n",
       "      <td>0.0</td>\n",
       "      <td>0.0</td>\n",
       "      <td>9800.0</td>\n",
       "      <td>0.0</td>\n",
       "      <td>0.0</td>\n",
       "      <td>0.0</td>\n",
       "      <td>0.0</td>\n",
       "      <td>0.0</td>\n",
       "      <td>0.0</td>\n",
       "    </tr>\n",
       "    <tr>\n",
       "      <th>Services</th>\n",
       "      <td>0.0</td>\n",
       "      <td>0.0</td>\n",
       "      <td>0.0</td>\n",
       "      <td>0.0</td>\n",
       "      <td>0.0</td>\n",
       "      <td>0.0</td>\n",
       "      <td>0.0</td>\n",
       "      <td>10200.0</td>\n",
       "      <td>0.0</td>\n",
       "      <td>0.0</td>\n",
       "      <td>0.0</td>\n",
       "      <td>0.0</td>\n",
       "      <td>0.0</td>\n",
       "    </tr>\n",
       "    <tr>\n",
       "      <th rowspan=\"2\" valign=\"top\">Other</th>\n",
       "      <th>Capital Accumulation</th>\n",
       "      <td>0.0</td>\n",
       "      <td>0.0</td>\n",
       "      <td>1850.0</td>\n",
       "      <td>0.0</td>\n",
       "      <td>-900.0</td>\n",
       "      <td>0.0</td>\n",
       "      <td>0.0</td>\n",
       "      <td>0.0</td>\n",
       "      <td>0.0</td>\n",
       "      <td>0.0</td>\n",
       "      <td>0.0</td>\n",
       "      <td>0.0</td>\n",
       "      <td>150.0</td>\n",
       "    </tr>\n",
       "    <tr>\n",
       "      <th>Rest of World</th>\n",
       "      <td>0.0</td>\n",
       "      <td>0.0</td>\n",
       "      <td>0.0</td>\n",
       "      <td>0.0</td>\n",
       "      <td>0.0</td>\n",
       "      <td>0.0</td>\n",
       "      <td>430.0</td>\n",
       "      <td>0.0</td>\n",
       "      <td>0.0</td>\n",
       "      <td>0.0</td>\n",
       "      <td>0.0</td>\n",
       "      <td>0.0</td>\n",
       "      <td>0.0</td>\n",
       "    </tr>\n",
       "  </tbody>\n",
       "</table>\n",
       "</div>"
      ],
      "text/plain": [
       "                                  Factor         Institution                  \\\n",
       "                                   Labor Capital   Household   Firms    Govt   \n",
       "Factor      Labor                    0.0     0.0         0.0     0.0     0.0   \n",
       "            Capital                  0.0     0.0         0.0     0.0     0.0   \n",
       "Institution Household             6950.0     0.0         0.0  2600.0     0.0   \n",
       "            Firms                    0.0  2600.0         0.0     0.0     0.0   \n",
       "            Govt                     0.0     0.0      1400.0     0.0     0.0   \n",
       "Production  Agriculture              0.0     0.0      1700.0     0.0   400.0   \n",
       "            Industry                 0.0     0.0      1200.0     0.0   900.0   \n",
       "            Services                 0.0     0.0      3400.0     0.0  2750.0   \n",
       "Activities  Agriculture              0.0     0.0         0.0     0.0     0.0   \n",
       "            Industry                 0.0     0.0         0.0     0.0     0.0   \n",
       "            Services                 0.0     0.0         0.0     0.0     0.0   \n",
       "Other       Capital Accumulation     0.0     0.0      1850.0     0.0  -900.0   \n",
       "            Rest of World            0.0     0.0         0.0     0.0     0.0   \n",
       "\n",
       "                                  Production                    Activities  \\\n",
       "                                 Agriculture Industry Services Agriculture   \n",
       "Factor      Labor                        0.0      0.0      0.0      1100.0   \n",
       "            Capital                      0.0      0.0      0.0       250.0   \n",
       "Institution Household                    0.0      0.0      0.0         0.0   \n",
       "            Firms                        0.0      0.0      0.0         0.0   \n",
       "            Govt                       150.0   1320.0    280.0         0.0   \n",
       "Production  Agriculture                  0.0      0.0      0.0      1100.0   \n",
       "            Industry                     0.0      0.0      0.0      2200.0   \n",
       "            Services                     0.0      0.0      0.0       850.0   \n",
       "Activities  Agriculture               5500.0      0.0      0.0         0.0   \n",
       "            Industry                     0.0   9800.0      0.0         0.0   \n",
       "            Services                     0.0      0.0  10200.0         0.0   \n",
       "Other       Capital Accumulation         0.0      0.0      0.0         0.0   \n",
       "            Rest of World                0.0    430.0      0.0         0.0   \n",
       "\n",
       "                                                                  Other  \\\n",
       "                                 Industry Services Capital Accumulation   \n",
       "Factor      Labor                  1700.0   4150.0                  0.0   \n",
       "            Capital                1800.0    550.0                  0.0   \n",
       "Institution Household                 0.0      0.0                  0.0   \n",
       "            Firms                     0.0      0.0                  0.0   \n",
       "            Govt                      0.0      0.0                  0.0   \n",
       "Production  Agriculture             900.0   1100.0                200.0   \n",
       "            Industry               3150.0   3300.0                800.0   \n",
       "            Services               2250.0   1100.0                100.0   \n",
       "Activities  Agriculture               0.0      0.0                  0.0   \n",
       "            Industry                  0.0      0.0                  0.0   \n",
       "            Services                  0.0      0.0                  0.0   \n",
       "Other       Capital Accumulation      0.0      0.0                  0.0   \n",
       "            Rest of World             0.0      0.0                  0.0   \n",
       "\n",
       "                                                \n",
       "                                 Rest of World  \n",
       "Factor      Labor                          0.0  \n",
       "            Capital                        0.0  \n",
       "Institution Household                      0.0  \n",
       "            Firms                          0.0  \n",
       "            Govt                           0.0  \n",
       "Production  Agriculture                  250.0  \n",
       "            Industry                       0.0  \n",
       "            Services                      30.0  \n",
       "Activities  Agriculture                    0.0  \n",
       "            Industry                       0.0  \n",
       "            Services                       0.0  \n",
       "Other       Capital Accumulation         150.0  \n",
       "            Rest of World                  0.0  "
      ]
     },
     "execution_count": 2,
     "metadata": {},
     "output_type": "execute_result"
    }
   ],
   "source": [
    "df = pd.read_csv(\"data/lesson_5_sam.csv\", index_col=[0, 1], header=[0, 1]).map(float).fillna(0)\n",
    "assert np.allclose(df.sum(axis=0), df.sum(axis=1))\n",
    "df"
   ]
  },
  {
   "cell_type": "code",
   "execution_count": 53,
   "id": "0a208e64",
   "metadata": {},
   "outputs": [],
   "source": [
    "variable_info = [\n",
    "    # Firm variables (7)\n",
    "    Variable(name=\"Y\", dims=\"i\", description=\"Final output in the <dim:i> sector\"),\n",
    "    Variable(name=\"VA\", dims=\"i\", description=\"Value-added component of <dim:i> sector production\"),\n",
    "    Variable(name=\"VC\", dims=\"i\", description=\"Value-chain component of <dim:i> sector production\"),\n",
    "    Variable(\n",
    "        name=\"X\",\n",
    "        dims=(\"i\", \"j\"),\n",
    "        description=\"Demand for <dim:i> sector goods by the <dim:j> sector as value-chain inputs\",\n",
    "    ),\n",
    "    Variable(\n",
    "        name=\"L_d\",\n",
    "        dims=\"i\",\n",
    "        extend_subscript=True,\n",
    "        description=\"Labor demand in the <dim:i> sector\",\n",
    "    ),\n",
    "    Variable(\n",
    "        name=\"K_d\",\n",
    "        dims=\"i\",\n",
    "        extend_subscript=True,\n",
    "        description=\"Capital demand in the <dim:i> sector\",\n",
    "    ),\n",
    "    Variable(\n",
    "        name=\"I_d\",\n",
    "        dims=\"i\",\n",
    "        extend_subscript=True,\n",
    "        description=\"Investment capital demanded by the <dim:i> sector\",\n",
    "    ),\n",
    "    # Prices (7)\n",
    "    Variable(name=\"P\", dims=\"i\", description=\"Final good price in the <dim:i> sector, after taxes\"),\n",
    "    Variable(\n",
    "        name=\"P_VA\",\n",
    "        dims=\"i\",\n",
    "        extend_subscript=True,\n",
    "        description=\"Price of the value-add component in the <dim:i> sector\",\n",
    "    ),\n",
    "    Variable(\n",
    "        name=\"P_VC\",\n",
    "        dims=\"i\",\n",
    "        extend_subscript=True,\n",
    "        description=\"Price of the value-chain component in the <dim:i> sector\",\n",
    "    ),\n",
    "    Variable(\n",
    "        name=\"P_Y\",\n",
    "        dims=\"i\",\n",
    "        extend_subscript=True,\n",
    "        description=\"Final good price in the <dim:i> sector, before taxes\",\n",
    "    ),\n",
    "    Variable(\n",
    "        name=\"P_w\", dims=\"i\", extend_subscript=True, description=\"World price of <dim:i> goods\"\n",
    "    ),\n",
    "    Variable(name=\"r\", description=\"Rental rate of capital\"),\n",
    "    Variable(name=\"w\", description=\"Wage level\"),\n",
    "    # Household Variables (6)\n",
    "    Variable(name=\"U\", description=\"Household utility\"),\n",
    "    Variable(name=\"C\", dims=\"i\", description=\"Household consumption of <dim:i> goods\"),\n",
    "    Variable(\n",
    "        name=\"I_s\", extend_subscript=True, description=\"Investment capital supplied by households\"\n",
    "    ),\n",
    "    Variable(name=\"S\", description=\"Household savings\"),\n",
    "    Variable(name=\"income\", latex_name=\"Omega\", description=\"Household income, before taxes\"),\n",
    "    Variable(\n",
    "        name=\"net_income\", latex_name=\"\\hat{\\Omega}\", description=\"Household income, after taxes\"\n",
    "    ),\n",
    "    # Government variables (3)\n",
    "    Variable(name=\"G\", description=\"Government budget\"),\n",
    "    Variable(\n",
    "        name=\"C_G\",\n",
    "        dims=\"i\",\n",
    "        extend_subscript=True,\n",
    "        description=\"Government consumption of <dim:i> goods\",\n",
    "    ),\n",
    "    Variable(\n",
    "        name=\"S_G\",\n",
    "        extend_subscript=True,\n",
    "        positive=None,\n",
    "        description=\"Investment capital supplied by government\",\n",
    "    ),\n",
    "    # International variables (3)\n",
    "    Variable(\n",
    "        name=\"E_d\",\n",
    "        dims=\"i\",\n",
    "        extend_subscript=True,\n",
    "        positive=None,\n",
    "        description=\"Excess domestic demand for <dim:i> sector goods\",\n",
    "    ),\n",
    "    Variable(name=\"e\", description=\"Real exchange rate\"),\n",
    "    Variable(name=\"TB\", description=\"Trade balance\", positive=None),\n",
    "    # Misc (1)\n",
    "    Variable(name=\"resid\", latex_name=r\"varepsilon\", description=\"Walrasian residual\"),\n",
    "]\n",
    "\n",
    "\n",
    "param_info = [\n",
    "    # Production Parameters\n",
    "    Parameter(\n",
    "        \"alpha\",\n",
    "        dims=\"i\",\n",
    "        description=\"Share of capital in production of the <dim:i> sector value-add bundle\",\n",
    "    ),\n",
    "    Parameter(\n",
    "        \"alpha_k\",\n",
    "        dims=\"i\",\n",
    "        extend_subscript=True,\n",
    "        description=\"Share of capital investment demanded by the <dim:i> sector\",\n",
    "    ),\n",
    "    Parameter(\"A\", dims=\"i\", description=\"Total factor productivity of the <dim:i> sector\"),\n",
    "    Parameter(\n",
    "        \"psi_VA\",\n",
    "        extend_subscript=True,\n",
    "        dims=\"i\",\n",
    "        description=\"Share of value-add bundle in <dim:i> sector final good production\",\n",
    "    ),\n",
    "    Parameter(\n",
    "        \"psi_VC\",\n",
    "        extend_subscript=True,\n",
    "        dims=\"i\",\n",
    "        description=\"Share of value chain bundle in <dim:i> sector final good production\",\n",
    "    ),\n",
    "    Parameter(\n",
    "        \"psi_X\",\n",
    "        extend_subscript=True,\n",
    "        dims=(\"i\", \"j\"),\n",
    "        description=\"Share of <dim:j> sector final goods in the <dim:i> value chain bundle\",\n",
    "    ),\n",
    "    # Tax parameters\n",
    "    Parameter(\"tau\", dims=\"i\", description=\"Sales tax rate on final goods in the <dim:i> sector\"),\n",
    "    Parameter(\n",
    "        \"tau_m\", dims=\"i\", extend_subscript=True, description=\"Tariff on <dim:i> sector imports\"\n",
    "    ),\n",
    "    Parameter(\"tau_income\", latex_name=r\"\\tau_{\\Omega}\", description=\"Income tax rate\"),\n",
    "    # Household parameters\n",
    "    Parameter(\n",
    "        \"gamma\",\n",
    "        dims=\"i\",\n",
    "        description=\"Household elasticity of consumption utility for <dim:i> sector goods\",\n",
    "    ),\n",
    "    Parameter(\"mps\", latex_name=\"phi\", description=\"Household marginal propensity to save\"),\n",
    "    # Government parameters\n",
    "    Parameter(\n",
    "        \"alpha_G\",\n",
    "        dims=\"i\",\n",
    "        description=\"Share of <dim:i> sector final goods in governmnet consumption\",\n",
    "    ),\n",
    "    # Trade concepts\n",
    "    Parameter(\n",
    "        \"f\",\n",
    "        dims=\"i\",\n",
    "        description=\"Scale of effect of domestic <dim:i> sector on world prices.\",\n",
    "        positive=None,\n",
    "    ),\n",
    "    Parameter(\n",
    "        \"sigma\",\n",
    "        dims=\"i\",\n",
    "        description=\"Elasticity of domestic demand for <dim:i> sector goods on world prices.\",\n",
    "        positive=None,\n",
    "    ),\n",
    "    # Exogenous values\n",
    "    Parameter(\"L_s\", description=\"Exogenous labor supply\"),\n",
    "    Parameter(\"K_s\", description=\"Exogenous capital supply\"),\n",
    "    Parameter(\"P_Ag_bar\", latex_name=r\"\\bar{P}_{Ag}\", description=\"Numeraire price\"),\n",
    "    Parameter(\"e_bar\", latex_name=r\"\\bar{e}\", description=\"Exogenous exchange rate\"),\n",
    "    Parameter(\n",
    "        \"S_G_bar\",\n",
    "        latex_name=r\"\\bar{S}_G\",\n",
    "        description=\"Exogenous level of governmnet savings\",\n",
    "        positive=None,\n",
    "    ),\n",
    "]\n",
    "\n",
    "\n",
    "equations = [\n",
    "    # Frim Block\n",
    "    Equation(\"Final good production of sector <dim:i>\", \"P_Y * Y = P_VC * VC + P_VA * VA\"),\n",
    "    Equation(\"Sector <dim:i> demand for value chain bundle\", \"VC = psi_VC * Y\"),\n",
    "    Equation(\"Sector <dim:i> demand for value-add bundle\", \"VA = psi_VA * Y\"),\n",
    "    Equation(\"Sector <dim:i> production of labor-capital\", \"VA = A * K_d^alpha * L_d^(1-alpha)\"),\n",
    "    Equation(\"Sector <dim:i> demand for capital\", \"K_d = alpha * VA * P_VA / r\"),\n",
    "    Equation(\"Sector <dim:i> demand for labor\", \"L_d = (1 - alpha) * VA * P_VA / w\"),\n",
    "    Equation(\n",
    "        \"Sector <dim:i> production of value chain bundle\",\n",
    "        \"VC * P_VC = Sum(P.subs({i:j}) * X.subs([(i,k), (j,i), (k,j)]), (j, 0, 2))\",\n",
    "    ),\n",
    "    Equation(\"Demand for <dim:i> sector goods by <dim:j>\", \"X = psi_X * VC.subs({i:j})\"),\n",
    "    Equation(\"<dim:i> sector demand for investment capital\", \"P * I_d = alpha_k * I_s\"),\n",
    "    # Government block\n",
    "    Equation(\n",
    "        \"Government budget constraint\",\n",
    "        \"G + S_G = tau_income * income + Sum(tau * P_Y * Y + Max(0, E_d) * tau_m * e * P_w, (i, 0, 2))\",\n",
    "    ),\n",
    "    Equation(\"Government consumption of <dim:i> sector goods\", \"P * C_G = alpha_G * G\"),\n",
    "    Equation(\"Sector <dim:i> after-tax price\", \"P = (1 + tau) * P_Y\"),\n",
    "    Equation(\"Exogenous government savings\", \"S_G = S_G_bar\"),\n",
    "    # Household block\n",
    "    Equation(\"Household pre-tax income\", \"income = w * L_s + r * K_s\"),\n",
    "    Equation(\"Household after-tax income\", \"net_income = (1 - tau_income) * income\"),\n",
    "    Equation(\"Household utility\", \"U = Product(C**gamma, (i, 0, 2))\"),\n",
    "    Equation(\"Household demand for good <dim:i>\", \"C * P = gamma * (1 - mps) * net_income\"),\n",
    "    Equation(\"Household savings\", \"S = mps * net_income\"),\n",
    "    # International concepts\n",
    "    Equation(\"Law of one price\", \"P = e * P_w * (1 + tau_m)\"),\n",
    "    Equation(\"World price\", \"E_d = f * P_w ** sigma\"),\n",
    "    Equation(\"Trade balance\", \"TB = -e * Sum(P_w * E_d , (i, 0, 2))\"),\n",
    "    Equation(\"Exogenous exchange rate\", \"e = e_bar\"),\n",
    "    # Economic equilibrium\n",
    "    Equation(\"Capital and current account equlibrium\", \"S + S_G = I_s + TB + resid\"),\n",
    "    Equation(\"Labor market clearing\", \"L_s = Sum(L_d, (i, 0, 2))\"),\n",
    "    Equation(\"Capital market clearing\", \"K_s = Sum(K_d, (i, 0, 2))\"),\n",
    "    Equation(\"<dim:i> sector goods market clearing\", \"Y + E_d = C + Sum(X, (j, 0, 2)) + C_G + I_d\"),\n",
    "    Equation(\"Numeraire\", 'P.subs({i:\"Ag\"}) = P_Ag_bar'),\n",
    "]\n",
    "\n",
    "assert len(variable_info) == len(\n",
    "    equations\n",
    "), f\"Found {len(variable_info)} variables but {len(equations)} equations\""
   ]
  },
  {
   "cell_type": "code",
   "execution_count": 54,
   "id": "0473b402",
   "metadata": {},
   "outputs": [],
   "source": [
    "sectors = [\"Ag\", \"Ind\", \"Serv\"]\n",
    "coords = {\"i\": sectors, \"j\": sectors}\n",
    "\n",
    "mod = CGEModel(variables=variable_info, parameters=param_info, equations=equations, coords=coords)"
   ]
  },
  {
   "cell_type": "code",
   "execution_count": 66,
   "id": "cc772a17",
   "metadata": {},
   "outputs": [
    {
     "data": {
      "text/latex": [
       "\n",
       "\t\n",
       "\t\t\\begin{array}{|c|c|c|}\n",
       "\t\t\t\\hline\n",
       "\t\t\t\\textbf{} & \\textbf{Name} & \\textbf{Equation} \\\\\n",
       "\t\t\t\\hline\n",
       "\t\t\t1 & \\text{Final good production of sector i} & {P_{Y}}_{i} {Y}_{i} = {P_{VA}}_{i} {VA}_{i} + {P_{VC}}_{i} {VC}_{i} \\\\\n",
       "\t\t\t\\hline\n",
       "\t\t\t2 & \\text{Sector i demand for value chain bundle} & {VC}_{i} = {Y}_{i} {\\psi_{VC}}_{i} \\\\\n",
       "\t\t\t\\hline\n",
       "\t\t\t3 & \\text{Sector i demand for value-add bundle} & {VA}_{i} = {Y}_{i} {\\psi_{VA}}_{i} \\\\\n",
       "\t\t\t\\hline\n",
       "\t\t\t4 & \\text{Sector i production of labor-capital} & {VA}_{i} = {A}_{i} {K_{d}}_{i}^{{\\alpha}_{i}} {L_{d}}_{i}^{1 - {\\alpha}_{i}} \\\\\n",
       "\t\t\t\\hline\n",
       "\t\t\t5 & \\text{Sector i demand for capital} & {K_{d}}_{i} = \\frac{{P_{VA}}_{i} {VA}_{i} {\\alpha}_{i}}{r} \\\\\n",
       "\t\t\t\\hline\n",
       "\t\t\t6 & \\text{Sector i demand for labor} & {L_{d}}_{i} = \\frac{\\left(1 - {\\alpha}_{i}\\right) {P_{VA}}_{i} {VA}_{i}}{w} \\\\\n",
       "\t\t\t\\hline\n",
       "\t\t\t7 & \\text{Sector i production of value chain bundle} & {P_{VC}}_{i} {VC}_{i} = \\sum_{j=0}^{2} {P}_{j} {X}_{j,i} \\\\\n",
       "\t\t\t\\hline\n",
       "\t\t\t8 & \\text{Demand for i sector goods by j} & {X}_{i,j} = {VC}_{j} {\\psi_{X}}_{i,j} \\\\\n",
       "\t\t\t\\hline\n",
       "\t\t\t9 & \\text{i sector demand for investment capital} & {I_{d}}_{i} {P}_{i} = I_{s} {\\alpha_{k}}_{i} \\\\\n",
       "\t\t\t\\hline\n",
       "\t\t\t10 & \\text{Government budget constraint} & G + S_{G} = \\Omega \\tau_{\\Omega} + \\sum_{i=0}^{2} \\left(e {P_{w}}_{i} {\\tau_{m}}_{i} \\max\\left(0, {E_{d}}_{i}\\right) + {P_{Y}}_{i} {Y}_{i} {\\tau}_{i}\\right) \\\\\n",
       "\t\t\t\\hline\n",
       "\t\t\t11 & \\text{Government consumption of i sector goods} & {C_{G}}_{i} {P}_{i} = G {\\alpha_{G}}_{i} \\\\\n",
       "\t\t\t\\hline\n",
       "\t\t\t12 & \\text{Sector i after-tax price} & {P}_{i} = \\left({\\tau}_{i} + 1\\right) {P_{Y}}_{i} \\\\\n",
       "\t\t\t\\hline\n",
       "\t\t\t13 & \\text{Exogenous government savings} & S_{G} = \\bar{S}_G \\\\\n",
       "\t\t\t\\hline\n",
       "\t\t\t14 & \\text{Household pre-tax income} & \\Omega = K_{s} r + L_{s} w \\\\\n",
       "\t\t\t\\hline\n",
       "\t\t\t15 & \\text{Household after-tax income} & \\hat{\\Omega} = \\Omega \\left(1 - \\tau_{\\Omega}\\right) \\\\\n",
       "\t\t\t\\hline\n",
       "\t\t\t16 & \\text{Household utility} & U = \\prod_{i=0}^{2} {C}_{i}^{{\\gamma}_{i}} \\\\\n",
       "\t\t\t\\hline\n",
       "\t\t\t17 & \\text{Household demand for good i} & {C}_{i} {P}_{i} = \\hat{\\Omega} \\left(1 - \\phi\\right) {\\gamma}_{i} \\\\\n",
       "\t\t\t\\hline\n",
       "\t\t\t18 & \\text{Household savings} & S = \\hat{\\Omega} \\phi \\\\\n",
       "\t\t\t\\hline\n",
       "\t\t\t19 & \\text{Law of one price} & {P}_{i} = e \\left({\\tau_{m}}_{i} + 1\\right) {P_{w}}_{i} \\\\\n",
       "\t\t\t\\hline\n",
       "\t\t\t20 & \\text{World price} & {E_{d}}_{i} = {P_{w}}_{i}^{{\\sigma}_{i}} {f}_{i} \\\\\n",
       "\t\t\t\\hline\n",
       "\t\t\t21 & \\text{Trade balance} & TB = - e \\sum_{i=0}^{2} {E_{d}}_{i} {P_{w}}_{i} \\\\\n",
       "\t\t\t\\hline\n",
       "\t\t\t22 & \\text{Exogenous exchange rate} & e = \\bar{e} \\\\\n",
       "\t\t\t\\hline\n",
       "\t\t\t23 & \\text{Capital and current account equlibrium} & S + S_{G} = I_{s} + TB + \\varepsilon \\\\\n",
       "\t\t\t\\hline\n",
       "\t\t\t24 & \\text{Labor market clearing} & L_{s} = \\sum_{i=0}^{2} {L_{d}}_{i} \\\\\n",
       "\t\t\t\\hline\n",
       "\t\t\t25 & \\text{Capital market clearing} & K_{s} = \\sum_{i=0}^{2} {K_{d}}_{i} \\\\\n",
       "\t\t\t\\hline\n",
       "\t\t\t26 & \\text{i sector goods market clearing} & {E_{d}}_{i} + {Y}_{i} = {C}_{i} + {C_{G}}_{i} + {I_{d}}_{i} + \\sum_{j=0}^{2} {X}_{i,j} \\\\\n",
       "\t\t\t\\hline\n",
       "\t\t\t27 & \\text{Numeraire} & {P}_{Ag} = \\bar{P}_{Ag} \\\\\n",
       "\t\t\t\\hline\n",
       "\t\t\\end{array}\n",
       "\t\n"
      ],
      "text/plain": [
       "<IPython.core.display.Latex object>"
      ]
     },
     "metadata": {},
     "output_type": "display_data"
    }
   ],
   "source": [
    "mod.equation_table()"
   ]
  },
  {
   "cell_type": "code",
   "execution_count": 72,
   "id": "643fe13b",
   "metadata": {},
   "outputs": [
    {
     "name": "stdout",
     "output_type": "stream",
     "text": [
      "0\n"
     ]
    },
    {
     "data": {
      "text/latex": [
       "$\\displaystyle - P_{VA Ag} VA_{Ag} - P_{VC Ag} VC_{Ag} + P_{Y Ag} Y_{Ag}$"
      ],
      "text/plain": [
       "-P_VA_Ag*VA_Ag - P_VC_Ag*VC_Ag + P_Y_Ag*Y_Ag"
      ]
     },
     "metadata": {},
     "output_type": "display_data"
    },
    {
     "data": {
      "text/latex": [
       "$\\displaystyle - VA_{Ag} - VC_{Ag} + 5500.0$"
      ],
      "text/plain": [
       "-VA_Ag - VC_Ag + 5500.0"
      ]
     },
     "metadata": {},
     "output_type": "display_data"
    },
    {
     "name": "stdout",
     "output_type": "stream",
     "text": [
      "----------------------------------------------------------------------------------------------------\n",
      "1\n"
     ]
    },
    {
     "data": {
      "text/latex": [
       "$\\displaystyle - P_{VA Ind} VA_{Ind} - P_{VC Ind} VC_{Ind} + P_{Y Ind} Y_{Ind}$"
      ],
      "text/plain": [
       "-P_VA_Ind*VA_Ind - P_VC_Ind*VC_Ind + P_Y_Ind*Y_Ind"
      ]
     },
     "metadata": {},
     "output_type": "display_data"
    },
    {
     "data": {
      "text/latex": [
       "$\\displaystyle - VA_{Ind} - VC_{Ind} + 9800.0$"
      ],
      "text/plain": [
       "-VA_Ind - VC_Ind + 9800.0"
      ]
     },
     "metadata": {},
     "output_type": "display_data"
    },
    {
     "name": "stdout",
     "output_type": "stream",
     "text": [
      "----------------------------------------------------------------------------------------------------\n",
      "2\n"
     ]
    },
    {
     "data": {
      "text/latex": [
       "$\\displaystyle - P_{VA Serv} VA_{Serv} - P_{VC Serv} VC_{Serv} + P_{Y Serv} Y_{Serv}$"
      ],
      "text/plain": [
       "-P_VA_Serv*VA_Serv - P_VC_Serv*VC_Serv + P_Y_Serv*Y_Serv"
      ]
     },
     "metadata": {},
     "output_type": "display_data"
    },
    {
     "data": {
      "text/latex": [
       "$\\displaystyle - VA_{Serv} - VC_{Serv} + 10200.0$"
      ],
      "text/plain": [
       "-VA_Serv - VC_Serv + 10200.0"
      ]
     },
     "metadata": {},
     "output_type": "display_data"
    },
    {
     "name": "stdout",
     "output_type": "stream",
     "text": [
      "----------------------------------------------------------------------------------------------------\n",
      "3\n"
     ]
    },
    {
     "data": {
      "text/latex": [
       "$\\displaystyle VC_{Ag} - Y_{Ag} \\psi_{VC Ag}$"
      ],
      "text/plain": [
       "VC_Ag - Y_Ag*psi_VC_Ag"
      ]
     },
     "metadata": {},
     "output_type": "display_data"
    },
    {
     "data": {
      "text/latex": [
       "$\\displaystyle VC_{Ag} - 5650.0 \\psi_{VC Ag}$"
      ],
      "text/plain": [
       "VC_Ag - 5650.0*psi_VC_Ag"
      ]
     },
     "metadata": {},
     "output_type": "display_data"
    },
    {
     "name": "stdout",
     "output_type": "stream",
     "text": [
      "----------------------------------------------------------------------------------------------------\n",
      "4\n"
     ]
    },
    {
     "data": {
      "text/latex": [
       "$\\displaystyle VC_{Ind} - Y_{Ind} \\psi_{VC Ind}$"
      ],
      "text/plain": [
       "VC_Ind - Y_Ind*psi_VC_Ind"
      ]
     },
     "metadata": {},
     "output_type": "display_data"
    },
    {
     "data": {
      "text/latex": [
       "$\\displaystyle VC_{Ind} - 10820.0 \\psi_{VC Ind}$"
      ],
      "text/plain": [
       "VC_Ind - 10820.0*psi_VC_Ind"
      ]
     },
     "metadata": {},
     "output_type": "display_data"
    },
    {
     "name": "stdout",
     "output_type": "stream",
     "text": [
      "----------------------------------------------------------------------------------------------------\n",
      "5\n"
     ]
    },
    {
     "data": {
      "text/latex": [
       "$\\displaystyle VC_{Serv} - Y_{Serv} \\psi_{VC Serv}$"
      ],
      "text/plain": [
       "VC_Serv - Y_Serv*psi_VC_Serv"
      ]
     },
     "metadata": {},
     "output_type": "display_data"
    },
    {
     "data": {
      "text/latex": [
       "$\\displaystyle VC_{Serv} - 10480.0 \\psi_{VC Serv}$"
      ],
      "text/plain": [
       "VC_Serv - 10480.0*psi_VC_Serv"
      ]
     },
     "metadata": {},
     "output_type": "display_data"
    },
    {
     "name": "stdout",
     "output_type": "stream",
     "text": [
      "----------------------------------------------------------------------------------------------------\n",
      "6\n"
     ]
    },
    {
     "data": {
      "text/latex": [
       "$\\displaystyle VA_{Ag} - Y_{Ag} \\psi_{VA Ag}$"
      ],
      "text/plain": [
       "VA_Ag - Y_Ag*psi_VA_Ag"
      ]
     },
     "metadata": {},
     "output_type": "display_data"
    },
    {
     "data": {
      "text/latex": [
       "$\\displaystyle VA_{Ag} - 5650.0 \\psi_{VA Ag}$"
      ],
      "text/plain": [
       "VA_Ag - 5650.0*psi_VA_Ag"
      ]
     },
     "metadata": {},
     "output_type": "display_data"
    },
    {
     "name": "stdout",
     "output_type": "stream",
     "text": [
      "----------------------------------------------------------------------------------------------------\n",
      "7\n"
     ]
    },
    {
     "data": {
      "text/latex": [
       "$\\displaystyle VA_{Ind} - Y_{Ind} \\psi_{VA Ind}$"
      ],
      "text/plain": [
       "VA_Ind - Y_Ind*psi_VA_Ind"
      ]
     },
     "metadata": {},
     "output_type": "display_data"
    },
    {
     "data": {
      "text/latex": [
       "$\\displaystyle VA_{Ind} - 10820.0 \\psi_{VA Ind}$"
      ],
      "text/plain": [
       "VA_Ind - 10820.0*psi_VA_Ind"
      ]
     },
     "metadata": {},
     "output_type": "display_data"
    },
    {
     "name": "stdout",
     "output_type": "stream",
     "text": [
      "----------------------------------------------------------------------------------------------------\n",
      "8\n"
     ]
    },
    {
     "data": {
      "text/latex": [
       "$\\displaystyle VA_{Serv} - Y_{Serv} \\psi_{VA Serv}$"
      ],
      "text/plain": [
       "VA_Serv - Y_Serv*psi_VA_Serv"
      ]
     },
     "metadata": {},
     "output_type": "display_data"
    },
    {
     "data": {
      "text/latex": [
       "$\\displaystyle VA_{Serv} - 10480.0 \\psi_{VA Serv}$"
      ],
      "text/plain": [
       "VA_Serv - 10480.0*psi_VA_Serv"
      ]
     },
     "metadata": {},
     "output_type": "display_data"
    },
    {
     "name": "stdout",
     "output_type": "stream",
     "text": [
      "----------------------------------------------------------------------------------------------------\n",
      "9\n"
     ]
    },
    {
     "data": {
      "text/latex": [
       "$\\displaystyle - A_{Ag} K_{d Ag}^{\\alpha_{Ag}} L_{d Ag}^{1 - \\alpha_{Ag}} + VA_{Ag}$"
      ],
      "text/plain": [
       "-A_Ag*K_d_Ag**alpha_Ag*L_d_Ag**(1 - alpha_Ag) + VA_Ag"
      ]
     },
     "metadata": {},
     "output_type": "display_data"
    },
    {
     "data": {
      "text/latex": [
       "$\\displaystyle - 1100.0^{1 - \\alpha_{Ag}} 250.0^{\\alpha_{Ag}} A_{Ag} + VA_{Ag}$"
      ],
      "text/plain": [
       "-1100.0**(1 - alpha_Ag)*250.0**alpha_Ag*A_Ag + VA_Ag"
      ]
     },
     "metadata": {},
     "output_type": "display_data"
    },
    {
     "name": "stdout",
     "output_type": "stream",
     "text": [
      "----------------------------------------------------------------------------------------------------\n",
      "10\n"
     ]
    },
    {
     "data": {
      "text/latex": [
       "$\\displaystyle - A_{Ind} K_{d Ind}^{\\alpha_{Ind}} L_{d Ind}^{1 - \\alpha_{Ind}} + VA_{Ind}$"
      ],
      "text/plain": [
       "-A_Ind*K_d_Ind**alpha_Ind*L_d_Ind**(1 - alpha_Ind) + VA_Ind"
      ]
     },
     "metadata": {},
     "output_type": "display_data"
    },
    {
     "data": {
      "text/latex": [
       "$\\displaystyle - 1700.0^{1 - \\alpha_{Ind}} 1800.0^{\\alpha_{Ind}} A_{Ind} + VA_{Ind}$"
      ],
      "text/plain": [
       "-1700.0**(1 - alpha_Ind)*1800.0**alpha_Ind*A_Ind + VA_Ind"
      ]
     },
     "metadata": {},
     "output_type": "display_data"
    },
    {
     "name": "stdout",
     "output_type": "stream",
     "text": [
      "----------------------------------------------------------------------------------------------------\n",
      "11\n"
     ]
    },
    {
     "data": {
      "text/latex": [
       "$\\displaystyle - A_{Serv} K_{d Serv}^{\\alpha_{Serv}} L_{d Serv}^{1 - \\alpha_{Serv}} + VA_{Serv}$"
      ],
      "text/plain": [
       "-A_Serv*K_d_Serv**alpha_Serv*L_d_Serv**(1 - alpha_Serv) + VA_Serv"
      ]
     },
     "metadata": {},
     "output_type": "display_data"
    },
    {
     "data": {
      "text/latex": [
       "$\\displaystyle - 4150.0^{1 - \\alpha_{Serv}} 550.0^{\\alpha_{Serv}} A_{Serv} + VA_{Serv}$"
      ],
      "text/plain": [
       "-4150.0**(1 - alpha_Serv)*550.0**alpha_Serv*A_Serv + VA_Serv"
      ]
     },
     "metadata": {},
     "output_type": "display_data"
    },
    {
     "name": "stdout",
     "output_type": "stream",
     "text": [
      "----------------------------------------------------------------------------------------------------\n",
      "12\n"
     ]
    },
    {
     "data": {
      "text/latex": [
       "$\\displaystyle K_{d Ag} - \\frac{P_{VA Ag} VA_{Ag} \\alpha_{Ag}}{r}$"
      ],
      "text/plain": [
       "K_d_Ag - P_VA_Ag*VA_Ag*alpha_Ag/r"
      ]
     },
     "metadata": {},
     "output_type": "display_data"
    },
    {
     "data": {
      "text/latex": [
       "$\\displaystyle - VA_{Ag} \\alpha_{Ag} + 250.0$"
      ],
      "text/plain": [
       "-VA_Ag*alpha_Ag + 250.0"
      ]
     },
     "metadata": {},
     "output_type": "display_data"
    },
    {
     "name": "stdout",
     "output_type": "stream",
     "text": [
      "----------------------------------------------------------------------------------------------------\n",
      "13\n"
     ]
    },
    {
     "data": {
      "text/latex": [
       "$\\displaystyle K_{d Ind} - \\frac{P_{VA Ind} VA_{Ind} \\alpha_{Ind}}{r}$"
      ],
      "text/plain": [
       "K_d_Ind - P_VA_Ind*VA_Ind*alpha_Ind/r"
      ]
     },
     "metadata": {},
     "output_type": "display_data"
    },
    {
     "data": {
      "text/latex": [
       "$\\displaystyle - VA_{Ind} \\alpha_{Ind} + 1800.0$"
      ],
      "text/plain": [
       "-VA_Ind*alpha_Ind + 1800.0"
      ]
     },
     "metadata": {},
     "output_type": "display_data"
    },
    {
     "name": "stdout",
     "output_type": "stream",
     "text": [
      "----------------------------------------------------------------------------------------------------\n",
      "14\n"
     ]
    },
    {
     "data": {
      "text/latex": [
       "$\\displaystyle K_{d Serv} - \\frac{P_{VA Serv} VA_{Serv} \\alpha_{Serv}}{r}$"
      ],
      "text/plain": [
       "K_d_Serv - P_VA_Serv*VA_Serv*alpha_Serv/r"
      ]
     },
     "metadata": {},
     "output_type": "display_data"
    },
    {
     "data": {
      "text/latex": [
       "$\\displaystyle - VA_{Serv} \\alpha_{Serv} + 550.0$"
      ],
      "text/plain": [
       "-VA_Serv*alpha_Serv + 550.0"
      ]
     },
     "metadata": {},
     "output_type": "display_data"
    },
    {
     "name": "stdout",
     "output_type": "stream",
     "text": [
      "----------------------------------------------------------------------------------------------------\n",
      "15\n"
     ]
    },
    {
     "data": {
      "text/latex": [
       "$\\displaystyle L_{d Ag} - \\frac{P_{VA Ag} VA_{Ag} \\left(1 - \\alpha_{Ag}\\right)}{w}$"
      ],
      "text/plain": [
       "L_d_Ag - P_VA_Ag*VA_Ag*(1 - alpha_Ag)/w"
      ]
     },
     "metadata": {},
     "output_type": "display_data"
    },
    {
     "data": {
      "text/latex": [
       "$\\displaystyle - VA_{Ag} \\left(1 - \\alpha_{Ag}\\right) + 1100.0$"
      ],
      "text/plain": [
       "-VA_Ag*(1 - alpha_Ag) + 1100.0"
      ]
     },
     "metadata": {},
     "output_type": "display_data"
    },
    {
     "name": "stdout",
     "output_type": "stream",
     "text": [
      "----------------------------------------------------------------------------------------------------\n",
      "16\n"
     ]
    },
    {
     "data": {
      "text/latex": [
       "$\\displaystyle L_{d Ind} - \\frac{P_{VA Ind} VA_{Ind} \\left(1 - \\alpha_{Ind}\\right)}{w}$"
      ],
      "text/plain": [
       "L_d_Ind - P_VA_Ind*VA_Ind*(1 - alpha_Ind)/w"
      ]
     },
     "metadata": {},
     "output_type": "display_data"
    },
    {
     "data": {
      "text/latex": [
       "$\\displaystyle - VA_{Ind} \\left(1 - \\alpha_{Ind}\\right) + 1700.0$"
      ],
      "text/plain": [
       "-VA_Ind*(1 - alpha_Ind) + 1700.0"
      ]
     },
     "metadata": {},
     "output_type": "display_data"
    },
    {
     "name": "stdout",
     "output_type": "stream",
     "text": [
      "----------------------------------------------------------------------------------------------------\n",
      "17\n"
     ]
    },
    {
     "data": {
      "text/latex": [
       "$\\displaystyle L_{d Serv} - \\frac{P_{VA Serv} VA_{Serv} \\left(1 - \\alpha_{Serv}\\right)}{w}$"
      ],
      "text/plain": [
       "L_d_Serv - P_VA_Serv*VA_Serv*(1 - alpha_Serv)/w"
      ]
     },
     "metadata": {},
     "output_type": "display_data"
    },
    {
     "data": {
      "text/latex": [
       "$\\displaystyle - VA_{Serv} \\left(1 - \\alpha_{Serv}\\right) + 4150.0$"
      ],
      "text/plain": [
       "-VA_Serv*(1 - alpha_Serv) + 4150.0"
      ]
     },
     "metadata": {},
     "output_type": "display_data"
    },
    {
     "name": "stdout",
     "output_type": "stream",
     "text": [
      "----------------------------------------------------------------------------------------------------\n",
      "18\n"
     ]
    },
    {
     "data": {
      "text/latex": [
       "$\\displaystyle - P_{Ag} X_{Ag Ag} - P_{Ind} X_{Ind Ag} - P_{Serv} X_{Serv Ag} + P_{VC Ag} VC_{Ag}$"
      ],
      "text/plain": [
       "-P_Ag*X_Ag_Ag - P_Ind*X_Ind_Ag - P_Serv*X_Serv_Ag + P_VC_Ag*VC_Ag"
      ]
     },
     "metadata": {},
     "output_type": "display_data"
    },
    {
     "data": {
      "text/latex": [
       "$\\displaystyle VC_{Ag} - 4150.0$"
      ],
      "text/plain": [
       "VC_Ag - 4150.0"
      ]
     },
     "metadata": {},
     "output_type": "display_data"
    },
    {
     "name": "stdout",
     "output_type": "stream",
     "text": [
      "----------------------------------------------------------------------------------------------------\n",
      "19\n"
     ]
    },
    {
     "data": {
      "text/latex": [
       "$\\displaystyle - P_{Ag} X_{Ag Ind} - P_{Ind} X_{Ind Ind} - P_{Serv} X_{Serv Ind} + P_{VC Ind} VC_{Ind}$"
      ],
      "text/plain": [
       "-P_Ag*X_Ag_Ind - P_Ind*X_Ind_Ind - P_Serv*X_Serv_Ind + P_VC_Ind*VC_Ind"
      ]
     },
     "metadata": {},
     "output_type": "display_data"
    },
    {
     "data": {
      "text/latex": [
       "$\\displaystyle VC_{Ind} - 6300.0$"
      ],
      "text/plain": [
       "VC_Ind - 6300.0"
      ]
     },
     "metadata": {},
     "output_type": "display_data"
    },
    {
     "name": "stdout",
     "output_type": "stream",
     "text": [
      "----------------------------------------------------------------------------------------------------\n",
      "20\n"
     ]
    },
    {
     "data": {
      "text/latex": [
       "$\\displaystyle - P_{Ag} X_{Ag Serv} - P_{Ind} X_{Ind Serv} - P_{Serv} X_{Serv Serv} + P_{VC Serv} VC_{Serv}$"
      ],
      "text/plain": [
       "-P_Ag*X_Ag_Serv - P_Ind*X_Ind_Serv - P_Serv*X_Serv_Serv + P_VC_Serv*VC_Serv"
      ]
     },
     "metadata": {},
     "output_type": "display_data"
    },
    {
     "data": {
      "text/latex": [
       "$\\displaystyle VC_{Serv} - 5500.0$"
      ],
      "text/plain": [
       "VC_Serv - 5500.0"
      ]
     },
     "metadata": {},
     "output_type": "display_data"
    },
    {
     "name": "stdout",
     "output_type": "stream",
     "text": [
      "----------------------------------------------------------------------------------------------------\n",
      "21\n"
     ]
    },
    {
     "data": {
      "text/latex": [
       "$\\displaystyle - VC_{Ag} \\psi_{X Ag Ag} + X_{Ag Ag}$"
      ],
      "text/plain": [
       "-VC_Ag*psi_X_Ag_Ag + X_Ag_Ag"
      ]
     },
     "metadata": {},
     "output_type": "display_data"
    },
    {
     "data": {
      "text/latex": [
       "$\\displaystyle - VC_{Ag} \\psi_{X Ag Ag} + 1100.0$"
      ],
      "text/plain": [
       "-VC_Ag*psi_X_Ag_Ag + 1100.0"
      ]
     },
     "metadata": {},
     "output_type": "display_data"
    },
    {
     "name": "stdout",
     "output_type": "stream",
     "text": [
      "----------------------------------------------------------------------------------------------------\n",
      "22\n"
     ]
    },
    {
     "data": {
      "text/latex": [
       "$\\displaystyle - VC_{Ind} \\psi_{X Ag Ind} + X_{Ag Ind}$"
      ],
      "text/plain": [
       "-VC_Ind*psi_X_Ag_Ind + X_Ag_Ind"
      ]
     },
     "metadata": {},
     "output_type": "display_data"
    },
    {
     "data": {
      "text/latex": [
       "$\\displaystyle - VC_{Ind} \\psi_{X Ag Ind} + 900.0$"
      ],
      "text/plain": [
       "-VC_Ind*psi_X_Ag_Ind + 900.0"
      ]
     },
     "metadata": {},
     "output_type": "display_data"
    },
    {
     "name": "stdout",
     "output_type": "stream",
     "text": [
      "----------------------------------------------------------------------------------------------------\n",
      "23\n"
     ]
    },
    {
     "data": {
      "text/latex": [
       "$\\displaystyle - VC_{Serv} \\psi_{X Ag Serv} + X_{Ag Serv}$"
      ],
      "text/plain": [
       "-VC_Serv*psi_X_Ag_Serv + X_Ag_Serv"
      ]
     },
     "metadata": {},
     "output_type": "display_data"
    },
    {
     "data": {
      "text/latex": [
       "$\\displaystyle - VC_{Serv} \\psi_{X Ag Serv} + 1100.0$"
      ],
      "text/plain": [
       "-VC_Serv*psi_X_Ag_Serv + 1100.0"
      ]
     },
     "metadata": {},
     "output_type": "display_data"
    },
    {
     "name": "stdout",
     "output_type": "stream",
     "text": [
      "----------------------------------------------------------------------------------------------------\n",
      "24\n"
     ]
    },
    {
     "data": {
      "text/latex": [
       "$\\displaystyle - VC_{Ag} \\psi_{X Ind Ag} + X_{Ind Ag}$"
      ],
      "text/plain": [
       "-VC_Ag*psi_X_Ind_Ag + X_Ind_Ag"
      ]
     },
     "metadata": {},
     "output_type": "display_data"
    },
    {
     "data": {
      "text/latex": [
       "$\\displaystyle - VC_{Ag} \\psi_{X Ind Ag} + 2200.0$"
      ],
      "text/plain": [
       "-VC_Ag*psi_X_Ind_Ag + 2200.0"
      ]
     },
     "metadata": {},
     "output_type": "display_data"
    },
    {
     "name": "stdout",
     "output_type": "stream",
     "text": [
      "----------------------------------------------------------------------------------------------------\n",
      "25\n"
     ]
    },
    {
     "data": {
      "text/latex": [
       "$\\displaystyle - VC_{Ind} \\psi_{X Ind Ind} + X_{Ind Ind}$"
      ],
      "text/plain": [
       "-VC_Ind*psi_X_Ind_Ind + X_Ind_Ind"
      ]
     },
     "metadata": {},
     "output_type": "display_data"
    },
    {
     "data": {
      "text/latex": [
       "$\\displaystyle - VC_{Ind} \\psi_{X Ind Ind} + 3150.0$"
      ],
      "text/plain": [
       "-VC_Ind*psi_X_Ind_Ind + 3150.0"
      ]
     },
     "metadata": {},
     "output_type": "display_data"
    },
    {
     "name": "stdout",
     "output_type": "stream",
     "text": [
      "----------------------------------------------------------------------------------------------------\n",
      "26\n"
     ]
    },
    {
     "data": {
      "text/latex": [
       "$\\displaystyle - VC_{Serv} \\psi_{X Ind Serv} + X_{Ind Serv}$"
      ],
      "text/plain": [
       "-VC_Serv*psi_X_Ind_Serv + X_Ind_Serv"
      ]
     },
     "metadata": {},
     "output_type": "display_data"
    },
    {
     "data": {
      "text/latex": [
       "$\\displaystyle - VC_{Serv} \\psi_{X Ind Serv} + 3300.0$"
      ],
      "text/plain": [
       "-VC_Serv*psi_X_Ind_Serv + 3300.0"
      ]
     },
     "metadata": {},
     "output_type": "display_data"
    },
    {
     "name": "stdout",
     "output_type": "stream",
     "text": [
      "----------------------------------------------------------------------------------------------------\n",
      "27\n"
     ]
    },
    {
     "data": {
      "text/latex": [
       "$\\displaystyle - VC_{Ag} \\psi_{X Serv Ag} + X_{Serv Ag}$"
      ],
      "text/plain": [
       "-VC_Ag*psi_X_Serv_Ag + X_Serv_Ag"
      ]
     },
     "metadata": {},
     "output_type": "display_data"
    },
    {
     "data": {
      "text/latex": [
       "$\\displaystyle - VC_{Ag} \\psi_{X Serv Ag} + 850.0$"
      ],
      "text/plain": [
       "-VC_Ag*psi_X_Serv_Ag + 850.0"
      ]
     },
     "metadata": {},
     "output_type": "display_data"
    },
    {
     "name": "stdout",
     "output_type": "stream",
     "text": [
      "----------------------------------------------------------------------------------------------------\n",
      "28\n"
     ]
    },
    {
     "data": {
      "text/latex": [
       "$\\displaystyle - VC_{Ind} \\psi_{X Serv Ind} + X_{Serv Ind}$"
      ],
      "text/plain": [
       "-VC_Ind*psi_X_Serv_Ind + X_Serv_Ind"
      ]
     },
     "metadata": {},
     "output_type": "display_data"
    },
    {
     "data": {
      "text/latex": [
       "$\\displaystyle - VC_{Ind} \\psi_{X Serv Ind} + 2250.0$"
      ],
      "text/plain": [
       "-VC_Ind*psi_X_Serv_Ind + 2250.0"
      ]
     },
     "metadata": {},
     "output_type": "display_data"
    },
    {
     "name": "stdout",
     "output_type": "stream",
     "text": [
      "----------------------------------------------------------------------------------------------------\n",
      "29\n"
     ]
    },
    {
     "data": {
      "text/latex": [
       "$\\displaystyle - VC_{Serv} \\psi_{X Serv Serv} + X_{Serv Serv}$"
      ],
      "text/plain": [
       "-VC_Serv*psi_X_Serv_Serv + X_Serv_Serv"
      ]
     },
     "metadata": {},
     "output_type": "display_data"
    },
    {
     "data": {
      "text/latex": [
       "$\\displaystyle - VC_{Serv} \\psi_{X Serv Serv} + 1100.0$"
      ],
      "text/plain": [
       "-VC_Serv*psi_X_Serv_Serv + 1100.0"
      ]
     },
     "metadata": {},
     "output_type": "display_data"
    },
    {
     "name": "stdout",
     "output_type": "stream",
     "text": [
      "----------------------------------------------------------------------------------------------------\n",
      "30\n"
     ]
    },
    {
     "data": {
      "text/latex": [
       "$\\displaystyle I_{d Ag} P_{Ag} - I_{s} \\alpha_{k Ag}$"
      ],
      "text/plain": [
       "I_d_Ag*P_Ag - I_s*alpha_k_Ag"
      ]
     },
     "metadata": {},
     "output_type": "display_data"
    },
    {
     "data": {
      "text/latex": [
       "$\\displaystyle - I_{s} \\alpha_{k Ag} + 200.0$"
      ],
      "text/plain": [
       "-I_s*alpha_k_Ag + 200.0"
      ]
     },
     "metadata": {},
     "output_type": "display_data"
    },
    {
     "name": "stdout",
     "output_type": "stream",
     "text": [
      "----------------------------------------------------------------------------------------------------\n",
      "31\n"
     ]
    },
    {
     "data": {
      "text/latex": [
       "$\\displaystyle I_{d Ind} P_{Ind} - I_{s} \\alpha_{k Ind}$"
      ],
      "text/plain": [
       "I_d_Ind*P_Ind - I_s*alpha_k_Ind"
      ]
     },
     "metadata": {},
     "output_type": "display_data"
    },
    {
     "data": {
      "text/latex": [
       "$\\displaystyle - I_{s} \\alpha_{k Ind} + 800.0$"
      ],
      "text/plain": [
       "-I_s*alpha_k_Ind + 800.0"
      ]
     },
     "metadata": {},
     "output_type": "display_data"
    },
    {
     "name": "stdout",
     "output_type": "stream",
     "text": [
      "----------------------------------------------------------------------------------------------------\n",
      "32\n"
     ]
    },
    {
     "data": {
      "text/latex": [
       "$\\displaystyle I_{d Serv} P_{Serv} - I_{s} \\alpha_{k Serv}$"
      ],
      "text/plain": [
       "I_d_Serv*P_Serv - I_s*alpha_k_Serv"
      ]
     },
     "metadata": {},
     "output_type": "display_data"
    },
    {
     "data": {
      "text/latex": [
       "$\\displaystyle - I_{s} \\alpha_{k Serv} + 100.0$"
      ],
      "text/plain": [
       "-I_s*alpha_k_Serv + 100.0"
      ]
     },
     "metadata": {},
     "output_type": "display_data"
    },
    {
     "name": "stdout",
     "output_type": "stream",
     "text": [
      "----------------------------------------------------------------------------------------------------\n",
      "33\n"
     ]
    },
    {
     "data": {
      "text/latex": [
       "$\\displaystyle G - P_{Y Ag} Y_{Ag} \\tau_{Ag} - P_{Y Ind} Y_{Ind} \\tau_{Ind} - P_{Y Serv} Y_{Serv} \\tau_{Serv} - P_{w Ag} e \\tau_{m Ag} \\max\\left(0, E_{d Ag}\\right) - P_{w Ind} e \\tau_{m Ind} \\max\\left(0, E_{d Ind}\\right) - P_{w Serv} e \\tau_{m Serv} \\max\\left(0, E_{d Serv}\\right) + S_{G} - income \\tau_{income}$"
      ],
      "text/plain": [
       "G - P_Y_Ag*Y_Ag*tau_Ag - P_Y_Ind*Y_Ind*tau_Ind - P_Y_Serv*Y_Serv*tau_Serv - P_w_Ag*e*tau_m_Ag*Max(0, E_d_Ag) - P_w_Ind*e*tau_m_Ind*Max(0, E_d_Ind) - P_w_Serv*e*tau_m_Serv*Max(0, E_d_Serv) + S_G - income*tau_income"
      ]
     },
     "metadata": {},
     "output_type": "display_data"
    },
    {
     "data": {
      "text/latex": [
       "$\\displaystyle G - 4050.0$"
      ],
      "text/plain": [
       "G - 4050.0"
      ]
     },
     "metadata": {},
     "output_type": "display_data"
    },
    {
     "name": "stdout",
     "output_type": "stream",
     "text": [
      "----------------------------------------------------------------------------------------------------\n",
      "34\n"
     ]
    },
    {
     "data": {
      "text/latex": [
       "$\\displaystyle C_{G Ag} P_{Ag} - G \\alpha_{G Ag}$"
      ],
      "text/plain": [
       "C_G_Ag*P_Ag - G*alpha_G_Ag"
      ]
     },
     "metadata": {},
     "output_type": "display_data"
    },
    {
     "data": {
      "text/latex": [
       "$\\displaystyle - G \\alpha_{G Ag} + 400.0$"
      ],
      "text/plain": [
       "-G*alpha_G_Ag + 400.0"
      ]
     },
     "metadata": {},
     "output_type": "display_data"
    },
    {
     "name": "stdout",
     "output_type": "stream",
     "text": [
      "----------------------------------------------------------------------------------------------------\n",
      "35\n"
     ]
    },
    {
     "data": {
      "text/latex": [
       "$\\displaystyle C_{G Ind} P_{Ind} - G \\alpha_{G Ind}$"
      ],
      "text/plain": [
       "C_G_Ind*P_Ind - G*alpha_G_Ind"
      ]
     },
     "metadata": {},
     "output_type": "display_data"
    },
    {
     "data": {
      "text/latex": [
       "$\\displaystyle - G \\alpha_{G Ind} + 900.0$"
      ],
      "text/plain": [
       "-G*alpha_G_Ind + 900.0"
      ]
     },
     "metadata": {},
     "output_type": "display_data"
    },
    {
     "name": "stdout",
     "output_type": "stream",
     "text": [
      "----------------------------------------------------------------------------------------------------\n",
      "36\n"
     ]
    },
    {
     "data": {
      "text/latex": [
       "$\\displaystyle C_{G Serv} P_{Serv} - G \\alpha_{G Serv}$"
      ],
      "text/plain": [
       "C_G_Serv*P_Serv - G*alpha_G_Serv"
      ]
     },
     "metadata": {},
     "output_type": "display_data"
    },
    {
     "data": {
      "text/latex": [
       "$\\displaystyle - G \\alpha_{G Serv} + 2750.0$"
      ],
      "text/plain": [
       "-G*alpha_G_Serv + 2750.0"
      ]
     },
     "metadata": {},
     "output_type": "display_data"
    },
    {
     "name": "stdout",
     "output_type": "stream",
     "text": [
      "----------------------------------------------------------------------------------------------------\n",
      "37\n"
     ]
    },
    {
     "data": {
      "text/latex": [
       "$\\displaystyle P_{Ag} - P_{Y Ag} \\left(\\tau_{Ag} + 1\\right)$"
      ],
      "text/plain": [
       "P_Ag - P_Y_Ag*(tau_Ag + 1)"
      ]
     },
     "metadata": {},
     "output_type": "display_data"
    },
    {
     "data": {
      "text/latex": [
       "$\\displaystyle 4.5102810375397 \\cdot 10^{-17}$"
      ],
      "text/plain": [
       "4.51028103753970e-17"
      ]
     },
     "metadata": {},
     "output_type": "display_data"
    },
    {
     "name": "stdout",
     "output_type": "stream",
     "text": [
      "----------------------------------------------------------------------------------------------------\n",
      "38\n"
     ]
    },
    {
     "data": {
      "text/latex": [
       "$\\displaystyle P_{Ind} - P_{Y Ind} \\left(\\tau_{Ind} + 1\\right)$"
      ],
      "text/plain": [
       "P_Ind - P_Y_Ind*(tau_Ind + 1)"
      ]
     },
     "metadata": {},
     "output_type": "display_data"
    },
    {
     "data": {
      "text/latex": [
       "$\\displaystyle -2.77555756156289 \\cdot 10^{-17}$"
      ],
      "text/plain": [
       "-2.77555756156289e-17"
      ]
     },
     "metadata": {},
     "output_type": "display_data"
    },
    {
     "name": "stdout",
     "output_type": "stream",
     "text": [
      "----------------------------------------------------------------------------------------------------\n",
      "39\n"
     ]
    },
    {
     "data": {
      "text/latex": [
       "$\\displaystyle P_{Serv} - P_{Y Serv} \\left(\\tau_{Serv} + 1\\right)$"
      ],
      "text/plain": [
       "P_Serv - P_Y_Serv*(tau_Serv + 1)"
      ]
     },
     "metadata": {},
     "output_type": "display_data"
    },
    {
     "data": {
      "text/latex": [
       "$\\displaystyle -1.2490009027033 \\cdot 10^{-16}$"
      ],
      "text/plain": [
       "-1.24900090270330e-16"
      ]
     },
     "metadata": {},
     "output_type": "display_data"
    },
    {
     "name": "stdout",
     "output_type": "stream",
     "text": [
      "----------------------------------------------------------------------------------------------------\n",
      "40\n"
     ]
    },
    {
     "data": {
      "text/latex": [
       "$\\displaystyle S_{G} - S_{G bar}$"
      ],
      "text/plain": [
       "S_G - S_G_bar"
      ]
     },
     "metadata": {},
     "output_type": "display_data"
    },
    {
     "data": {
      "text/latex": [
       "$\\displaystyle - S_{G bar} - 900.0$"
      ],
      "text/plain": [
       "-S_G_bar - 900.0"
      ]
     },
     "metadata": {},
     "output_type": "display_data"
    },
    {
     "name": "stdout",
     "output_type": "stream",
     "text": [
      "----------------------------------------------------------------------------------------------------\n",
      "41\n"
     ]
    },
    {
     "data": {
      "text/latex": [
       "$\\displaystyle - K_{s} r - L_{s} w + income$"
      ],
      "text/plain": [
       "-K_s*r - L_s*w + income"
      ]
     },
     "metadata": {},
     "output_type": "display_data"
    },
    {
     "data": {
      "text/latex": [
       "$\\displaystyle 0$"
      ],
      "text/plain": [
       "0"
      ]
     },
     "metadata": {},
     "output_type": "display_data"
    },
    {
     "name": "stdout",
     "output_type": "stream",
     "text": [
      "----------------------------------------------------------------------------------------------------\n",
      "42\n"
     ]
    },
    {
     "data": {
      "text/latex": [
       "$\\displaystyle - income \\left(1 - \\tau_{income}\\right) + net_{income}$"
      ],
      "text/plain": [
       "-income*(1 - tau_income) + net_income"
      ]
     },
     "metadata": {},
     "output_type": "display_data"
    },
    {
     "data": {
      "text/latex": [
       "$\\displaystyle 6.82121026329696 \\cdot 10^{-13}$"
      ],
      "text/plain": [
       "6.82121026329696e-13"
      ]
     },
     "metadata": {},
     "output_type": "display_data"
    },
    {
     "name": "stdout",
     "output_type": "stream",
     "text": [
      "----------------------------------------------------------------------------------------------------\n",
      "43\n"
     ]
    },
    {
     "data": {
      "text/latex": [
       "$\\displaystyle - C_{Ag}^{\\gamma_{Ag}} C_{Ind}^{\\gamma_{Ind}} C_{Serv}^{\\gamma_{Serv}} + U$"
      ],
      "text/plain": [
       "-C_Ag**gamma_Ag*C_Ind**gamma_Ind*C_Serv**gamma_Serv + U"
      ]
     },
     "metadata": {},
     "output_type": "display_data"
    },
    {
     "data": {
      "text/latex": [
       "$\\displaystyle - 1200.0^{\\gamma_{Ind}} 1700.0^{\\gamma_{Ag}} 3400.0^{\\gamma_{Serv}} + U$"
      ],
      "text/plain": [
       "-1200.0**gamma_Ind*1700.0**gamma_Ag*3400.0**gamma_Serv + U"
      ]
     },
     "metadata": {},
     "output_type": "display_data"
    },
    {
     "name": "stdout",
     "output_type": "stream",
     "text": [
      "----------------------------------------------------------------------------------------------------\n",
      "44\n"
     ]
    },
    {
     "data": {
      "text/latex": [
       "$\\displaystyle C_{Ag} P_{Ag} - \\gamma_{Ag} net_{income} \\left(1 - mps\\right)$"
      ],
      "text/plain": [
       "C_Ag*P_Ag - gamma_Ag*net_income*(1 - mps)"
      ]
     },
     "metadata": {},
     "output_type": "display_data"
    },
    {
     "data": {
      "text/latex": [
       "$\\displaystyle - 8150.0 \\gamma_{Ag} \\left(1 - mps\\right) + 1700.0$"
      ],
      "text/plain": [
       "-8150.0*gamma_Ag*(1 - mps) + 1700.0"
      ]
     },
     "metadata": {},
     "output_type": "display_data"
    },
    {
     "name": "stdout",
     "output_type": "stream",
     "text": [
      "----------------------------------------------------------------------------------------------------\n",
      "45\n"
     ]
    },
    {
     "data": {
      "text/latex": [
       "$\\displaystyle C_{Ind} P_{Ind} - \\gamma_{Ind} net_{income} \\left(1 - mps\\right)$"
      ],
      "text/plain": [
       "C_Ind*P_Ind - gamma_Ind*net_income*(1 - mps)"
      ]
     },
     "metadata": {},
     "output_type": "display_data"
    },
    {
     "data": {
      "text/latex": [
       "$\\displaystyle - 8150.0 \\gamma_{Ind} \\left(1 - mps\\right) + 1200.0$"
      ],
      "text/plain": [
       "-8150.0*gamma_Ind*(1 - mps) + 1200.0"
      ]
     },
     "metadata": {},
     "output_type": "display_data"
    },
    {
     "name": "stdout",
     "output_type": "stream",
     "text": [
      "----------------------------------------------------------------------------------------------------\n",
      "46\n"
     ]
    },
    {
     "data": {
      "text/latex": [
       "$\\displaystyle C_{Serv} P_{Serv} - \\gamma_{Serv} net_{income} \\left(1 - mps\\right)$"
      ],
      "text/plain": [
       "C_Serv*P_Serv - gamma_Serv*net_income*(1 - mps)"
      ]
     },
     "metadata": {},
     "output_type": "display_data"
    },
    {
     "data": {
      "text/latex": [
       "$\\displaystyle - 8150.0 \\gamma_{Serv} \\left(1 - mps\\right) + 3400.0$"
      ],
      "text/plain": [
       "-8150.0*gamma_Serv*(1 - mps) + 3400.0"
      ]
     },
     "metadata": {},
     "output_type": "display_data"
    },
    {
     "name": "stdout",
     "output_type": "stream",
     "text": [
      "----------------------------------------------------------------------------------------------------\n",
      "47\n"
     ]
    },
    {
     "data": {
      "text/latex": [
       "$\\displaystyle S - mps net_{income}$"
      ],
      "text/plain": [
       "S - mps*net_income"
      ]
     },
     "metadata": {},
     "output_type": "display_data"
    },
    {
     "data": {
      "text/latex": [
       "$\\displaystyle 1850.0 - 8150.0 mps$"
      ],
      "text/plain": [
       "1850.0 - 8150.0*mps"
      ]
     },
     "metadata": {},
     "output_type": "display_data"
    },
    {
     "name": "stdout",
     "output_type": "stream",
     "text": [
      "----------------------------------------------------------------------------------------------------\n",
      "48\n"
     ]
    },
    {
     "data": {
      "text/latex": [
       "$\\displaystyle P_{Serv} - P_{w Serv} e \\left(\\tau_{m Serv} + 1\\right)$"
      ],
      "text/plain": [
       "P_Serv - P_w_Serv*e*(tau_m_Serv + 1)"
      ]
     },
     "metadata": {},
     "output_type": "display_data"
    },
    {
     "data": {
      "text/latex": [
       "$\\displaystyle 0$"
      ],
      "text/plain": [
       "0"
      ]
     },
     "metadata": {},
     "output_type": "display_data"
    },
    {
     "name": "stdout",
     "output_type": "stream",
     "text": [
      "----------------------------------------------------------------------------------------------------\n",
      "49\n"
     ]
    },
    {
     "data": {
      "text/latex": [
       "$\\displaystyle E_{d Serv} - P_{w Serv}^{\\sigma_{Serv}} f_{Serv}$"
      ],
      "text/plain": [
       "E_d_Serv - P_w_Serv**sigma_Serv*f_Serv"
      ]
     },
     "metadata": {},
     "output_type": "display_data"
    },
    {
     "data": {
      "text/latex": [
       "$\\displaystyle - 1.0 f_{Serv} - 30.0$"
      ],
      "text/plain": [
       "-1.0*f_Serv - 30.0"
      ]
     },
     "metadata": {},
     "output_type": "display_data"
    },
    {
     "name": "stdout",
     "output_type": "stream",
     "text": [
      "----------------------------------------------------------------------------------------------------\n",
      "50\n"
     ]
    },
    {
     "data": {
      "text/latex": [
       "$\\displaystyle TB + e \\left(E_{d Ag} P_{w Ag} + E_{d Ind} P_{w Ind} + E_{d Serv} P_{w Serv}\\right)$"
      ],
      "text/plain": [
       "TB + e*(E_d_Ag*P_w_Ag + E_d_Ind*P_w_Ind + E_d_Serv*P_w_Serv)"
      ]
     },
     "metadata": {},
     "output_type": "display_data"
    },
    {
     "data": {
      "text/latex": [
       "$\\displaystyle TB + 150.0$"
      ],
      "text/plain": [
       "TB + 150.0"
      ]
     },
     "metadata": {},
     "output_type": "display_data"
    },
    {
     "name": "stdout",
     "output_type": "stream",
     "text": [
      "----------------------------------------------------------------------------------------------------\n",
      "51\n"
     ]
    },
    {
     "data": {
      "text/latex": [
       "$\\displaystyle e - e_{bar}$"
      ],
      "text/plain": [
       "e - e_bar"
      ]
     },
     "metadata": {},
     "output_type": "display_data"
    },
    {
     "data": {
      "text/latex": [
       "$\\displaystyle 1 - e_{bar}$"
      ],
      "text/plain": [
       "1 - e_bar"
      ]
     },
     "metadata": {},
     "output_type": "display_data"
    },
    {
     "name": "stdout",
     "output_type": "stream",
     "text": [
      "----------------------------------------------------------------------------------------------------\n",
      "52\n"
     ]
    },
    {
     "data": {
      "text/latex": [
       "$\\displaystyle - I_{s} + S + S_{G} - TB - resid$"
      ],
      "text/plain": [
       "-I_s + S + S_G - TB - resid"
      ]
     },
     "metadata": {},
     "output_type": "display_data"
    },
    {
     "data": {
      "text/latex": [
       "$\\displaystyle - I_{s} - TB + 950.0$"
      ],
      "text/plain": [
       "-I_s - TB + 950.0"
      ]
     },
     "metadata": {},
     "output_type": "display_data"
    },
    {
     "name": "stdout",
     "output_type": "stream",
     "text": [
      "----------------------------------------------------------------------------------------------------\n",
      "53\n"
     ]
    },
    {
     "data": {
      "text/latex": [
       "$\\displaystyle - L_{d Ag} - L_{d Ind} - L_{d Serv} + L_{s}$"
      ],
      "text/plain": [
       "-L_d_Ag - L_d_Ind - L_d_Serv + L_s"
      ]
     },
     "metadata": {},
     "output_type": "display_data"
    },
    {
     "data": {
      "text/latex": [
       "$\\displaystyle 0$"
      ],
      "text/plain": [
       "0"
      ]
     },
     "metadata": {},
     "output_type": "display_data"
    },
    {
     "name": "stdout",
     "output_type": "stream",
     "text": [
      "----------------------------------------------------------------------------------------------------\n",
      "54\n"
     ]
    },
    {
     "data": {
      "text/latex": [
       "$\\displaystyle - K_{d Ag} - K_{d Ind} - K_{d Serv} + K_{s}$"
      ],
      "text/plain": [
       "-K_d_Ag - K_d_Ind - K_d_Serv + K_s"
      ]
     },
     "metadata": {},
     "output_type": "display_data"
    },
    {
     "data": {
      "text/latex": [
       "$\\displaystyle 0$"
      ],
      "text/plain": [
       "0"
      ]
     },
     "metadata": {},
     "output_type": "display_data"
    },
    {
     "name": "stdout",
     "output_type": "stream",
     "text": [
      "----------------------------------------------------------------------------------------------------\n",
      "55\n"
     ]
    },
    {
     "data": {
      "text/latex": [
       "$\\displaystyle - C_{Ag} - C_{G Ag} + E_{d Ag} - I_{d Ag} - X_{Ag Ag} - X_{Ag Ind} - X_{Ag Serv} + Y_{Ag}$"
      ],
      "text/plain": [
       "-C_Ag - C_G_Ag + E_d_Ag - I_d_Ag - X_Ag_Ag - X_Ag_Ind - X_Ag_Serv + Y_Ag"
      ]
     },
     "metadata": {},
     "output_type": "display_data"
    },
    {
     "data": {
      "text/latex": [
       "$\\displaystyle 0$"
      ],
      "text/plain": [
       "0"
      ]
     },
     "metadata": {},
     "output_type": "display_data"
    },
    {
     "name": "stdout",
     "output_type": "stream",
     "text": [
      "----------------------------------------------------------------------------------------------------\n",
      "56\n"
     ]
    },
    {
     "data": {
      "text/latex": [
       "$\\displaystyle - C_{G Ind} - C_{Ind} + E_{d Ind} - I_{d Ind} - X_{Ind Ag} - X_{Ind Ind} - X_{Ind Serv} + Y_{Ind}$"
      ],
      "text/plain": [
       "-C_G_Ind - C_Ind + E_d_Ind - I_d_Ind - X_Ind_Ag - X_Ind_Ind - X_Ind_Serv + Y_Ind"
      ]
     },
     "metadata": {},
     "output_type": "display_data"
    },
    {
     "data": {
      "text/latex": [
       "$\\displaystyle 0$"
      ],
      "text/plain": [
       "0"
      ]
     },
     "metadata": {},
     "output_type": "display_data"
    },
    {
     "name": "stdout",
     "output_type": "stream",
     "text": [
      "----------------------------------------------------------------------------------------------------\n",
      "57\n"
     ]
    },
    {
     "data": {
      "text/latex": [
       "$\\displaystyle - C_{G Serv} - C_{Serv} + E_{d Serv} - I_{d Serv} - X_{Serv Ag} - X_{Serv Ind} - X_{Serv Serv} + Y_{Serv}$"
      ],
      "text/plain": [
       "-C_G_Serv - C_Serv + E_d_Serv - I_d_Serv - X_Serv_Ag - X_Serv_Ind - X_Serv_Serv + Y_Serv"
      ]
     },
     "metadata": {},
     "output_type": "display_data"
    },
    {
     "data": {
      "text/latex": [
       "$\\displaystyle 0$"
      ],
      "text/plain": [
       "0"
      ]
     },
     "metadata": {},
     "output_type": "display_data"
    },
    {
     "name": "stdout",
     "output_type": "stream",
     "text": [
      "----------------------------------------------------------------------------------------------------\n",
      "58\n"
     ]
    },
    {
     "data": {
      "text/latex": [
       "$\\displaystyle P_{Ag} - P_{Ag bar}$"
      ],
      "text/plain": [
       "P_Ag - P_Ag_bar"
      ]
     },
     "metadata": {},
     "output_type": "display_data"
    },
    {
     "data": {
      "text/latex": [
       "$\\displaystyle 1 - P_{Ag bar}$"
      ],
      "text/plain": [
       "1 - P_Ag_bar"
      ]
     },
     "metadata": {},
     "output_type": "display_data"
    },
    {
     "name": "stdout",
     "output_type": "stream",
     "text": [
      "----------------------------------------------------------------------------------------------------\n"
     ]
    }
   ],
   "source": [
    "for i, eq in enumerate(mod.unpacked_equation_symbols):\n",
    "    print(i)\n",
    "    display(eq)\n",
    "    display(eq.subs({mod.get_symbol(k): v for k, v in initial_values.items()}))\n",
    "    print(\"-\" * 100)"
   ]
  },
  {
   "cell_type": "code",
   "execution_count": 55,
   "id": "a07700ed",
   "metadata": {},
   "outputs": [],
   "source": [
    "short_to_long = {\"Ag\": \"Agriculture\", \"Ind\": \"Industry\", \"Serv\": \"Services\"}\n",
    "\n",
    "# Normalize prices\n",
    "initial_values = {\"w\": 1, \"r\": 1, \"e\": 1, \"resid\": 0}\n",
    "initial_values.update({f\"P_VA_{s}\": 1 for s in sectors})\n",
    "initial_values.update({f\"P_VC_{s}\": 1 for s in sectors})\n",
    "initial_values.update({f\"P_{s}\": 1 for s in sectors})\n",
    "\n",
    "# Values provided by the exercise (from where?)\n",
    "initial_values[\"import_tax_Ag\"] = 0\n",
    "initial_values[\"import_tax_Ind\"] = 300\n",
    "initial_values[\"import_tax_Serv\"] = 0\n",
    "\n",
    "initial_values[\"sigma_Ag\"] = -3\n",
    "initial_values[\"sigma_Ind\"] = 3\n",
    "initial_values[\"sigma_Serv\"] = -3\n",
    "\n",
    "# Enter data from SAM\n",
    "initial_values[\"income_tax\"] = df.loc[(\"Institution\", \"Govt\"), (\"Institution\", \"Household\")]\n",
    "initial_values[\"S\"] = df.loc[(\"Other\", \"Capital Accumulation\"), (\"Institution\", \"Household\")]\n",
    "initial_values[\"S_G\"] = df.loc[(\"Other\", \"Capital Accumulation\"), (\"Institution\", \"Govt\")]\n",
    "\n",
    "# Aggregates\n",
    "initial_values[\"L_s\"] = df.loc[(\"Institution\", \"Household\"), (\"Factor\", \"Labor\")]\n",
    "initial_values[\"K_s\"] = df.loc[(\"Institution\", \"Firms\"), (\"Factor\", \"Capital\")]\n",
    "\n",
    "initial_values[\"income\"] = (\n",
    "    initial_values[\"w\"] * initial_values[\"L_s\"] + initial_values[\"r\"] * initial_values[\"K_s\"]\n",
    ")\n",
    "initial_values[\"tau_income\"] = initial_values[\"income_tax\"] / initial_values[\"income\"]\n",
    "initial_values[\"net_income\"] = (1 - initial_values[\"tau_income\"]) * initial_values[\"income\"]\n",
    "\n",
    "for sector in sectors:\n",
    "    long_sector = short_to_long[sector]\n",
    "    initial_values[f\"L_d_{sector}\"] = (\n",
    "        df.loc[(\"Factor\", \"Labor\"), (\"Activities\", long_sector)] / initial_values[\"w\"]\n",
    "    )\n",
    "    initial_values[f\"K_d_{sector}\"] = (\n",
    "        df.loc[(\"Factor\", \"Capital\"), (\"Activities\", long_sector)] / initial_values[\"r\"]\n",
    "    )\n",
    "    initial_values[f\"C_G_{sector}\"] = df.loc[(\"Production\", long_sector), (\"Institution\", \"Govt\")]\n",
    "\n",
    "    import_tax = initial_values[f\"import_tax_{sector}\"]\n",
    "    initial_values[f\"sales_tax_{sector}\"] = (\n",
    "        df.loc[(\"Institution\", \"Govt\"), (\"Production\", long_sector)] - import_tax\n",
    "    )\n",
    "    initial_values[f\"C_{sector}\"] = df.loc[\n",
    "        (\"Production\", long_sector), (\"Institution\", \"Household\")\n",
    "    ]\n",
    "\n",
    "    # Excess demand -- What is this in terms of imports/exports?\n",
    "    world_supply = df.loc[(\"Other\", \"Rest of World\"), (\"Production\", long_sector)]\n",
    "    world_demand = df.loc[(\"Production\", long_sector), (\"Other\", \"Rest of World\")]\n",
    "    initial_values[f\"E_d_{sector}\"] = (world_supply - world_demand) + import_tax\n",
    "\n",
    "    initial_values[f\"I_d_{sector}\"] = df.loc[\n",
    "        (\"Production\", long_sector), (\"Other\", \"Capital Accumulation\")\n",
    "    ]\n",
    "\n",
    "    # This computes Y, but what does this ultimately work out to? There is a lot of cancellations happening.\n",
    "    total_i = (\n",
    "        df.sum(axis=0).loc[(\"Production\", long_sector)]\n",
    "        - df.loc[(\"Production\", long_sector), (\"Other\", \"Rest of World\")]\n",
    "    )\n",
    "    initial_values[f\"Y_{sector}\"] = total_i - initial_values[f\"E_d_{sector}\"]\n",
    "\n",
    "    # Work out the tax rate from tax reciepts\n",
    "\n",
    "    T_sec = initial_values[f\"sales_tax_{sector}\"]\n",
    "    Y_sec = initial_values[f\"Y_{sector}\"]\n",
    "    P_sec = initial_values[f\"P_{sector}\"]\n",
    "    Ed_sec = initial_values[f\"E_d_{sector}\"]\n",
    "\n",
    "    initial_values[f\"tau_{sector}\"] = T_sec / (Y_sec - T_sec)\n",
    "    initial_values[f\"P_Y_{sector}\"] = P_sec / (1 + initial_values[f\"tau_{sector}\"])\n",
    "    initial_values[f\"tau_m_{sector}\"] = (\n",
    "        import_tax / (Ed_sec * P_sec - import_tax) if Ed_sec > 0 else 0\n",
    "    )\n",
    "    initial_values[f\"P_w_{sector}\"] = P_sec / (1 + initial_values[f\"tau_m_{sector}\"])\n",
    "\n",
    "# Adjust values in SAM to account for non-normalized prices\n",
    "for sector in sectors:\n",
    "    long_sector = short_to_long[sector]\n",
    "    for sector_j in sectors:\n",
    "        long_sector_j = short_to_long[sector_j]\n",
    "        SAM_idx = (\"Production\", long_sector), (\"Activities\", long_sector_j)\n",
    "        initial_values[f\"X_{sector}_{sector_j}\"] = df.loc[SAM_idx]\n",
    "\n",
    "inital_values_temp = initial_values.copy()\n",
    "for key in initial_values:\n",
    "    if key not in mod.unpacked_parameter_names + mod.unpacked_variable_names:\n",
    "        del inital_values_temp[key]\n",
    "initial_values = inital_values_temp"
   ]
  },
  {
   "cell_type": "code",
   "execution_count": 56,
   "id": "de968150",
   "metadata": {},
   "outputs": [
    {
     "data": {
      "text/plain": [
       "True"
      ]
     },
     "execution_count": 56,
     "metadata": {},
     "output_type": "execute_result"
    }
   ],
   "source": [
    "init_res = mod.calibrate(initial_values)\n",
    "init_res.success"
   ]
  },
  {
   "cell_type": "code",
   "execution_count": 57,
   "id": "83b3c38e",
   "metadata": {},
   "outputs": [],
   "source": [
    "pd.set_option(\"display.max_rows\", 100)"
   ]
  },
  {
   "cell_type": "code",
   "execution_count": 58,
   "id": "e9a00372",
   "metadata": {},
   "outputs": [
    {
     "data": {
      "text/html": [
       "<div>\n",
       "<style scoped>\n",
       "    .dataframe tbody tr th:only-of-type {\n",
       "        vertical-align: middle;\n",
       "    }\n",
       "\n",
       "    .dataframe tbody tr th {\n",
       "        vertical-align: top;\n",
       "    }\n",
       "\n",
       "    .dataframe thead th {\n",
       "        text-align: right;\n",
       "    }\n",
       "</style>\n",
       "<table border=\"1\" class=\"dataframe\">\n",
       "  <thead>\n",
       "    <tr style=\"text-align: right;\">\n",
       "      <th></th>\n",
       "      <th>initial</th>\n",
       "      <th>fitted</th>\n",
       "    </tr>\n",
       "  </thead>\n",
       "  <tbody>\n",
       "    <tr>\n",
       "      <th>Y_Ag</th>\n",
       "      <td>5650.000000</td>\n",
       "      <td>5650.000000</td>\n",
       "    </tr>\n",
       "    <tr>\n",
       "      <th>Y_Ind</th>\n",
       "      <td>10820.000000</td>\n",
       "      <td>10820.000000</td>\n",
       "    </tr>\n",
       "    <tr>\n",
       "      <th>Y_Serv</th>\n",
       "      <td>10480.000000</td>\n",
       "      <td>10480.000000</td>\n",
       "    </tr>\n",
       "    <tr>\n",
       "      <th>VA_Ag</th>\n",
       "      <td>NaN</td>\n",
       "      <td>1350.000000</td>\n",
       "    </tr>\n",
       "    <tr>\n",
       "      <th>VA_Ind</th>\n",
       "      <td>NaN</td>\n",
       "      <td>3500.000000</td>\n",
       "    </tr>\n",
       "    <tr>\n",
       "      <th>VA_Serv</th>\n",
       "      <td>NaN</td>\n",
       "      <td>4700.000000</td>\n",
       "    </tr>\n",
       "    <tr>\n",
       "      <th>VC_Ag</th>\n",
       "      <td>NaN</td>\n",
       "      <td>4150.000000</td>\n",
       "    </tr>\n",
       "    <tr>\n",
       "      <th>VC_Ind</th>\n",
       "      <td>NaN</td>\n",
       "      <td>6300.000000</td>\n",
       "    </tr>\n",
       "    <tr>\n",
       "      <th>VC_Serv</th>\n",
       "      <td>NaN</td>\n",
       "      <td>5500.000000</td>\n",
       "    </tr>\n",
       "    <tr>\n",
       "      <th>X_Ag_Ag</th>\n",
       "      <td>1100.000000</td>\n",
       "      <td>1100.000000</td>\n",
       "    </tr>\n",
       "    <tr>\n",
       "      <th>X_Ag_Ind</th>\n",
       "      <td>900.000000</td>\n",
       "      <td>900.000000</td>\n",
       "    </tr>\n",
       "    <tr>\n",
       "      <th>X_Ag_Serv</th>\n",
       "      <td>1100.000000</td>\n",
       "      <td>1100.000000</td>\n",
       "    </tr>\n",
       "    <tr>\n",
       "      <th>X_Ind_Ag</th>\n",
       "      <td>2200.000000</td>\n",
       "      <td>2200.000000</td>\n",
       "    </tr>\n",
       "    <tr>\n",
       "      <th>X_Ind_Ind</th>\n",
       "      <td>3150.000000</td>\n",
       "      <td>3150.000000</td>\n",
       "    </tr>\n",
       "    <tr>\n",
       "      <th>X_Ind_Serv</th>\n",
       "      <td>3300.000000</td>\n",
       "      <td>3300.000000</td>\n",
       "    </tr>\n",
       "    <tr>\n",
       "      <th>X_Serv_Ag</th>\n",
       "      <td>850.000000</td>\n",
       "      <td>850.000000</td>\n",
       "    </tr>\n",
       "    <tr>\n",
       "      <th>X_Serv_Ind</th>\n",
       "      <td>2250.000000</td>\n",
       "      <td>2250.000000</td>\n",
       "    </tr>\n",
       "    <tr>\n",
       "      <th>X_Serv_Serv</th>\n",
       "      <td>1100.000000</td>\n",
       "      <td>1100.000000</td>\n",
       "    </tr>\n",
       "    <tr>\n",
       "      <th>L_d_Ag</th>\n",
       "      <td>1100.000000</td>\n",
       "      <td>1100.000000</td>\n",
       "    </tr>\n",
       "    <tr>\n",
       "      <th>L_d_Ind</th>\n",
       "      <td>1700.000000</td>\n",
       "      <td>1700.000000</td>\n",
       "    </tr>\n",
       "    <tr>\n",
       "      <th>L_d_Serv</th>\n",
       "      <td>4150.000000</td>\n",
       "      <td>4150.000000</td>\n",
       "    </tr>\n",
       "    <tr>\n",
       "      <th>K_d_Ag</th>\n",
       "      <td>250.000000</td>\n",
       "      <td>250.000000</td>\n",
       "    </tr>\n",
       "    <tr>\n",
       "      <th>K_d_Ind</th>\n",
       "      <td>1800.000000</td>\n",
       "      <td>1800.000000</td>\n",
       "    </tr>\n",
       "    <tr>\n",
       "      <th>K_d_Serv</th>\n",
       "      <td>550.000000</td>\n",
       "      <td>550.000000</td>\n",
       "    </tr>\n",
       "    <tr>\n",
       "      <th>I_d_Ag</th>\n",
       "      <td>200.000000</td>\n",
       "      <td>200.000000</td>\n",
       "    </tr>\n",
       "    <tr>\n",
       "      <th>I_d_Ind</th>\n",
       "      <td>800.000000</td>\n",
       "      <td>800.000000</td>\n",
       "    </tr>\n",
       "    <tr>\n",
       "      <th>I_d_Serv</th>\n",
       "      <td>100.000000</td>\n",
       "      <td>100.000000</td>\n",
       "    </tr>\n",
       "    <tr>\n",
       "      <th>P_Ag</th>\n",
       "      <td>1.000000</td>\n",
       "      <td>1.000000</td>\n",
       "    </tr>\n",
       "    <tr>\n",
       "      <th>P_Ind</th>\n",
       "      <td>1.000000</td>\n",
       "      <td>1.000000</td>\n",
       "    </tr>\n",
       "    <tr>\n",
       "      <th>P_Serv</th>\n",
       "      <td>1.000000</td>\n",
       "      <td>1.000000</td>\n",
       "    </tr>\n",
       "    <tr>\n",
       "      <th>P_VA_Ag</th>\n",
       "      <td>1.000000</td>\n",
       "      <td>1.000000</td>\n",
       "    </tr>\n",
       "    <tr>\n",
       "      <th>P_VA_Ind</th>\n",
       "      <td>1.000000</td>\n",
       "      <td>1.000000</td>\n",
       "    </tr>\n",
       "    <tr>\n",
       "      <th>P_VA_Serv</th>\n",
       "      <td>1.000000</td>\n",
       "      <td>1.000000</td>\n",
       "    </tr>\n",
       "    <tr>\n",
       "      <th>P_VC_Ag</th>\n",
       "      <td>1.000000</td>\n",
       "      <td>1.000000</td>\n",
       "    </tr>\n",
       "    <tr>\n",
       "      <th>P_VC_Ind</th>\n",
       "      <td>1.000000</td>\n",
       "      <td>1.000000</td>\n",
       "    </tr>\n",
       "    <tr>\n",
       "      <th>P_VC_Serv</th>\n",
       "      <td>1.000000</td>\n",
       "      <td>1.000000</td>\n",
       "    </tr>\n",
       "    <tr>\n",
       "      <th>P_Y_Ag</th>\n",
       "      <td>0.973451</td>\n",
       "      <td>0.973451</td>\n",
       "    </tr>\n",
       "    <tr>\n",
       "      <th>P_Y_Ind</th>\n",
       "      <td>0.905730</td>\n",
       "      <td>0.905730</td>\n",
       "    </tr>\n",
       "    <tr>\n",
       "      <th>P_Y_Serv</th>\n",
       "      <td>0.973282</td>\n",
       "      <td>0.973282</td>\n",
       "    </tr>\n",
       "    <tr>\n",
       "      <th>P_w_Ag</th>\n",
       "      <td>1.000000</td>\n",
       "      <td>1.000000</td>\n",
       "    </tr>\n",
       "    <tr>\n",
       "      <th>P_w_Ind</th>\n",
       "      <td>0.589041</td>\n",
       "      <td>0.589041</td>\n",
       "    </tr>\n",
       "    <tr>\n",
       "      <th>P_w_Serv</th>\n",
       "      <td>1.000000</td>\n",
       "      <td>1.000000</td>\n",
       "    </tr>\n",
       "    <tr>\n",
       "      <th>r</th>\n",
       "      <td>1.000000</td>\n",
       "      <td>1.000000</td>\n",
       "    </tr>\n",
       "    <tr>\n",
       "      <th>w</th>\n",
       "      <td>1.000000</td>\n",
       "      <td>1.000000</td>\n",
       "    </tr>\n",
       "    <tr>\n",
       "      <th>U</th>\n",
       "      <td>NaN</td>\n",
       "      <td>2312.579457</td>\n",
       "    </tr>\n",
       "    <tr>\n",
       "      <th>C_Ag</th>\n",
       "      <td>1700.000000</td>\n",
       "      <td>1700.000000</td>\n",
       "    </tr>\n",
       "    <tr>\n",
       "      <th>C_Ind</th>\n",
       "      <td>1200.000000</td>\n",
       "      <td>1200.000000</td>\n",
       "    </tr>\n",
       "    <tr>\n",
       "      <th>C_Serv</th>\n",
       "      <td>3400.000000</td>\n",
       "      <td>3400.000000</td>\n",
       "    </tr>\n",
       "    <tr>\n",
       "      <th>I_s</th>\n",
       "      <td>NaN</td>\n",
       "      <td>1100.000000</td>\n",
       "    </tr>\n",
       "    <tr>\n",
       "      <th>S</th>\n",
       "      <td>1850.000000</td>\n",
       "      <td>1850.000000</td>\n",
       "    </tr>\n",
       "    <tr>\n",
       "      <th>income</th>\n",
       "      <td>9550.000000</td>\n",
       "      <td>9550.000000</td>\n",
       "    </tr>\n",
       "    <tr>\n",
       "      <th>net_income</th>\n",
       "      <td>8150.000000</td>\n",
       "      <td>8150.000000</td>\n",
       "    </tr>\n",
       "    <tr>\n",
       "      <th>G</th>\n",
       "      <td>NaN</td>\n",
       "      <td>4050.000000</td>\n",
       "    </tr>\n",
       "    <tr>\n",
       "      <th>C_G_Ag</th>\n",
       "      <td>400.000000</td>\n",
       "      <td>400.000000</td>\n",
       "    </tr>\n",
       "    <tr>\n",
       "      <th>C_G_Ind</th>\n",
       "      <td>900.000000</td>\n",
       "      <td>900.000000</td>\n",
       "    </tr>\n",
       "    <tr>\n",
       "      <th>C_G_Serv</th>\n",
       "      <td>2750.000000</td>\n",
       "      <td>2750.000000</td>\n",
       "    </tr>\n",
       "    <tr>\n",
       "      <th>S_G</th>\n",
       "      <td>-900.000000</td>\n",
       "      <td>-900.000000</td>\n",
       "    </tr>\n",
       "    <tr>\n",
       "      <th>E_d_Ag</th>\n",
       "      <td>-250.000000</td>\n",
       "      <td>-250.000000</td>\n",
       "    </tr>\n",
       "    <tr>\n",
       "      <th>E_d_Ind</th>\n",
       "      <td>730.000000</td>\n",
       "      <td>730.000000</td>\n",
       "    </tr>\n",
       "    <tr>\n",
       "      <th>E_d_Serv</th>\n",
       "      <td>-30.000000</td>\n",
       "      <td>-30.000000</td>\n",
       "    </tr>\n",
       "    <tr>\n",
       "      <th>e</th>\n",
       "      <td>1.000000</td>\n",
       "      <td>1.000000</td>\n",
       "    </tr>\n",
       "    <tr>\n",
       "      <th>TB</th>\n",
       "      <td>NaN</td>\n",
       "      <td>-150.000000</td>\n",
       "    </tr>\n",
       "    <tr>\n",
       "      <th>resid</th>\n",
       "      <td>0.000000</td>\n",
       "      <td>0.000000</td>\n",
       "    </tr>\n",
       "    <tr>\n",
       "      <th>alpha_Ag</th>\n",
       "      <td>NaN</td>\n",
       "      <td>0.185185</td>\n",
       "    </tr>\n",
       "    <tr>\n",
       "      <th>alpha_Ind</th>\n",
       "      <td>NaN</td>\n",
       "      <td>0.514286</td>\n",
       "    </tr>\n",
       "    <tr>\n",
       "      <th>alpha_Serv</th>\n",
       "      <td>NaN</td>\n",
       "      <td>0.117021</td>\n",
       "    </tr>\n",
       "    <tr>\n",
       "      <th>alpha_k_Ag</th>\n",
       "      <td>NaN</td>\n",
       "      <td>0.181818</td>\n",
       "    </tr>\n",
       "    <tr>\n",
       "      <th>alpha_k_Ind</th>\n",
       "      <td>NaN</td>\n",
       "      <td>0.727273</td>\n",
       "    </tr>\n",
       "    <tr>\n",
       "      <th>alpha_k_Serv</th>\n",
       "      <td>NaN</td>\n",
       "      <td>0.090909</td>\n",
       "    </tr>\n",
       "    <tr>\n",
       "      <th>A_Ag</th>\n",
       "      <td>NaN</td>\n",
       "      <td>1.614727</td>\n",
       "    </tr>\n",
       "    <tr>\n",
       "      <th>A_Ind</th>\n",
       "      <td>NaN</td>\n",
       "      <td>1.999184</td>\n",
       "    </tr>\n",
       "    <tr>\n",
       "      <th>A_Serv</th>\n",
       "      <td>NaN</td>\n",
       "      <td>1.434689</td>\n",
       "    </tr>\n",
       "    <tr>\n",
       "      <th>psi_VA_Ag</th>\n",
       "      <td>NaN</td>\n",
       "      <td>0.238938</td>\n",
       "    </tr>\n",
       "    <tr>\n",
       "      <th>psi_VA_Ind</th>\n",
       "      <td>NaN</td>\n",
       "      <td>0.323475</td>\n",
       "    </tr>\n",
       "    <tr>\n",
       "      <th>psi_VA_Serv</th>\n",
       "      <td>NaN</td>\n",
       "      <td>0.448473</td>\n",
       "    </tr>\n",
       "    <tr>\n",
       "      <th>psi_VC_Ag</th>\n",
       "      <td>NaN</td>\n",
       "      <td>0.734513</td>\n",
       "    </tr>\n",
       "    <tr>\n",
       "      <th>psi_VC_Ind</th>\n",
       "      <td>NaN</td>\n",
       "      <td>0.582255</td>\n",
       "    </tr>\n",
       "    <tr>\n",
       "      <th>psi_VC_Serv</th>\n",
       "      <td>NaN</td>\n",
       "      <td>0.524809</td>\n",
       "    </tr>\n",
       "    <tr>\n",
       "      <th>psi_X_Ag_Ag</th>\n",
       "      <td>NaN</td>\n",
       "      <td>0.265060</td>\n",
       "    </tr>\n",
       "    <tr>\n",
       "      <th>psi_X_Ag_Ind</th>\n",
       "      <td>NaN</td>\n",
       "      <td>0.142857</td>\n",
       "    </tr>\n",
       "    <tr>\n",
       "      <th>psi_X_Ag_Serv</th>\n",
       "      <td>NaN</td>\n",
       "      <td>0.200000</td>\n",
       "    </tr>\n",
       "    <tr>\n",
       "      <th>psi_X_Ind_Ag</th>\n",
       "      <td>NaN</td>\n",
       "      <td>0.530120</td>\n",
       "    </tr>\n",
       "    <tr>\n",
       "      <th>psi_X_Ind_Ind</th>\n",
       "      <td>NaN</td>\n",
       "      <td>0.500000</td>\n",
       "    </tr>\n",
       "    <tr>\n",
       "      <th>psi_X_Ind_Serv</th>\n",
       "      <td>NaN</td>\n",
       "      <td>0.600000</td>\n",
       "    </tr>\n",
       "    <tr>\n",
       "      <th>psi_X_Serv_Ag</th>\n",
       "      <td>NaN</td>\n",
       "      <td>0.204819</td>\n",
       "    </tr>\n",
       "    <tr>\n",
       "      <th>psi_X_Serv_Ind</th>\n",
       "      <td>NaN</td>\n",
       "      <td>0.357143</td>\n",
       "    </tr>\n",
       "    <tr>\n",
       "      <th>psi_X_Serv_Serv</th>\n",
       "      <td>NaN</td>\n",
       "      <td>0.200000</td>\n",
       "    </tr>\n",
       "    <tr>\n",
       "      <th>tau_Ag</th>\n",
       "      <td>0.027273</td>\n",
       "      <td>0.027273</td>\n",
       "    </tr>\n",
       "    <tr>\n",
       "      <th>tau_Ind</th>\n",
       "      <td>0.104082</td>\n",
       "      <td>0.104082</td>\n",
       "    </tr>\n",
       "    <tr>\n",
       "      <th>tau_Serv</th>\n",
       "      <td>0.027451</td>\n",
       "      <td>0.027451</td>\n",
       "    </tr>\n",
       "    <tr>\n",
       "      <th>tau_m_Ag</th>\n",
       "      <td>0.000000</td>\n",
       "      <td>0.000000</td>\n",
       "    </tr>\n",
       "    <tr>\n",
       "      <th>tau_m_Ind</th>\n",
       "      <td>0.697674</td>\n",
       "      <td>0.697674</td>\n",
       "    </tr>\n",
       "    <tr>\n",
       "      <th>tau_m_Serv</th>\n",
       "      <td>0.000000</td>\n",
       "      <td>0.000000</td>\n",
       "    </tr>\n",
       "    <tr>\n",
       "      <th>tau_income</th>\n",
       "      <td>0.146597</td>\n",
       "      <td>0.146597</td>\n",
       "    </tr>\n",
       "    <tr>\n",
       "      <th>gamma_Ag</th>\n",
       "      <td>NaN</td>\n",
       "      <td>0.269841</td>\n",
       "    </tr>\n",
       "    <tr>\n",
       "      <th>gamma_Ind</th>\n",
       "      <td>NaN</td>\n",
       "      <td>0.190476</td>\n",
       "    </tr>\n",
       "    <tr>\n",
       "      <th>gamma_Serv</th>\n",
       "      <td>NaN</td>\n",
       "      <td>0.539683</td>\n",
       "    </tr>\n",
       "    <tr>\n",
       "      <th>mps</th>\n",
       "      <td>NaN</td>\n",
       "      <td>0.226994</td>\n",
       "    </tr>\n",
       "    <tr>\n",
       "      <th>alpha_G_Ag</th>\n",
       "      <td>NaN</td>\n",
       "      <td>0.098765</td>\n",
       "    </tr>\n",
       "    <tr>\n",
       "      <th>alpha_G_Ind</th>\n",
       "      <td>NaN</td>\n",
       "      <td>0.222222</td>\n",
       "    </tr>\n",
       "  </tbody>\n",
       "</table>\n",
       "</div>"
      ],
      "text/plain": [
       "                      initial        fitted\n",
       "Y_Ag              5650.000000   5650.000000\n",
       "Y_Ind            10820.000000  10820.000000\n",
       "Y_Serv           10480.000000  10480.000000\n",
       "VA_Ag                     NaN   1350.000000\n",
       "VA_Ind                    NaN   3500.000000\n",
       "VA_Serv                   NaN   4700.000000\n",
       "VC_Ag                     NaN   4150.000000\n",
       "VC_Ind                    NaN   6300.000000\n",
       "VC_Serv                   NaN   5500.000000\n",
       "X_Ag_Ag           1100.000000   1100.000000\n",
       "X_Ag_Ind           900.000000    900.000000\n",
       "X_Ag_Serv         1100.000000   1100.000000\n",
       "X_Ind_Ag          2200.000000   2200.000000\n",
       "X_Ind_Ind         3150.000000   3150.000000\n",
       "X_Ind_Serv        3300.000000   3300.000000\n",
       "X_Serv_Ag          850.000000    850.000000\n",
       "X_Serv_Ind        2250.000000   2250.000000\n",
       "X_Serv_Serv       1100.000000   1100.000000\n",
       "L_d_Ag            1100.000000   1100.000000\n",
       "L_d_Ind           1700.000000   1700.000000\n",
       "L_d_Serv          4150.000000   4150.000000\n",
       "K_d_Ag             250.000000    250.000000\n",
       "K_d_Ind           1800.000000   1800.000000\n",
       "K_d_Serv           550.000000    550.000000\n",
       "I_d_Ag             200.000000    200.000000\n",
       "I_d_Ind            800.000000    800.000000\n",
       "I_d_Serv           100.000000    100.000000\n",
       "P_Ag                 1.000000      1.000000\n",
       "P_Ind                1.000000      1.000000\n",
       "P_Serv               1.000000      1.000000\n",
       "P_VA_Ag              1.000000      1.000000\n",
       "P_VA_Ind             1.000000      1.000000\n",
       "P_VA_Serv            1.000000      1.000000\n",
       "P_VC_Ag              1.000000      1.000000\n",
       "P_VC_Ind             1.000000      1.000000\n",
       "P_VC_Serv            1.000000      1.000000\n",
       "P_Y_Ag               0.973451      0.973451\n",
       "P_Y_Ind              0.905730      0.905730\n",
       "P_Y_Serv             0.973282      0.973282\n",
       "P_w_Ag               1.000000      1.000000\n",
       "P_w_Ind              0.589041      0.589041\n",
       "P_w_Serv             1.000000      1.000000\n",
       "r                    1.000000      1.000000\n",
       "w                    1.000000      1.000000\n",
       "U                         NaN   2312.579457\n",
       "C_Ag              1700.000000   1700.000000\n",
       "C_Ind             1200.000000   1200.000000\n",
       "C_Serv            3400.000000   3400.000000\n",
       "I_s                       NaN   1100.000000\n",
       "S                 1850.000000   1850.000000\n",
       "income            9550.000000   9550.000000\n",
       "net_income        8150.000000   8150.000000\n",
       "G                         NaN   4050.000000\n",
       "C_G_Ag             400.000000    400.000000\n",
       "C_G_Ind            900.000000    900.000000\n",
       "C_G_Serv          2750.000000   2750.000000\n",
       "S_G               -900.000000   -900.000000\n",
       "E_d_Ag            -250.000000   -250.000000\n",
       "E_d_Ind            730.000000    730.000000\n",
       "E_d_Serv           -30.000000    -30.000000\n",
       "e                    1.000000      1.000000\n",
       "TB                        NaN   -150.000000\n",
       "resid                0.000000      0.000000\n",
       "alpha_Ag                  NaN      0.185185\n",
       "alpha_Ind                 NaN      0.514286\n",
       "alpha_Serv                NaN      0.117021\n",
       "alpha_k_Ag                NaN      0.181818\n",
       "alpha_k_Ind               NaN      0.727273\n",
       "alpha_k_Serv              NaN      0.090909\n",
       "A_Ag                      NaN      1.614727\n",
       "A_Ind                     NaN      1.999184\n",
       "A_Serv                    NaN      1.434689\n",
       "psi_VA_Ag                 NaN      0.238938\n",
       "psi_VA_Ind                NaN      0.323475\n",
       "psi_VA_Serv               NaN      0.448473\n",
       "psi_VC_Ag                 NaN      0.734513\n",
       "psi_VC_Ind                NaN      0.582255\n",
       "psi_VC_Serv               NaN      0.524809\n",
       "psi_X_Ag_Ag               NaN      0.265060\n",
       "psi_X_Ag_Ind              NaN      0.142857\n",
       "psi_X_Ag_Serv             NaN      0.200000\n",
       "psi_X_Ind_Ag              NaN      0.530120\n",
       "psi_X_Ind_Ind             NaN      0.500000\n",
       "psi_X_Ind_Serv            NaN      0.600000\n",
       "psi_X_Serv_Ag             NaN      0.204819\n",
       "psi_X_Serv_Ind            NaN      0.357143\n",
       "psi_X_Serv_Serv           NaN      0.200000\n",
       "tau_Ag               0.027273      0.027273\n",
       "tau_Ind              0.104082      0.104082\n",
       "tau_Serv             0.027451      0.027451\n",
       "tau_m_Ag             0.000000      0.000000\n",
       "tau_m_Ind            0.697674      0.697674\n",
       "tau_m_Serv           0.000000      0.000000\n",
       "tau_income           0.146597      0.146597\n",
       "gamma_Ag                  NaN      0.269841\n",
       "gamma_Ind                 NaN      0.190476\n",
       "gamma_Serv                NaN      0.539683\n",
       "mps                       NaN      0.226994\n",
       "alpha_G_Ag                NaN      0.098765\n",
       "alpha_G_Ind               NaN      0.222222"
      ]
     },
     "execution_count": 58,
     "metadata": {},
     "output_type": "execute_result"
    }
   ],
   "source": [
    "init_res.to_frame().head(100)"
   ]
  },
  {
   "cell_type": "code",
   "execution_count": 59,
   "id": "66ec36ef",
   "metadata": {},
   "outputs": [
    {
     "data": {
      "text/html": [
       "<div>\n",
       "<style scoped>\n",
       "    .dataframe tbody tr th:only-of-type {\n",
       "        vertical-align: middle;\n",
       "    }\n",
       "\n",
       "    .dataframe tbody tr th {\n",
       "        vertical-align: top;\n",
       "    }\n",
       "\n",
       "    .dataframe thead th {\n",
       "        text-align: right;\n",
       "    }\n",
       "</style>\n",
       "<table border=\"1\" class=\"dataframe\">\n",
       "  <thead>\n",
       "    <tr style=\"text-align: right;\">\n",
       "      <th></th>\n",
       "      <th>initial</th>\n",
       "      <th>fitted</th>\n",
       "    </tr>\n",
       "  </thead>\n",
       "  <tbody>\n",
       "    <tr>\n",
       "      <th>tau_m_Ag</th>\n",
       "      <td>0.000000</td>\n",
       "      <td>0.000000</td>\n",
       "    </tr>\n",
       "    <tr>\n",
       "      <th>tau_m_Ind</th>\n",
       "      <td>0.697674</td>\n",
       "      <td>0.697674</td>\n",
       "    </tr>\n",
       "    <tr>\n",
       "      <th>tau_m_Serv</th>\n",
       "      <td>0.000000</td>\n",
       "      <td>0.000000</td>\n",
       "    </tr>\n",
       "  </tbody>\n",
       "</table>\n",
       "</div>"
      ],
      "text/plain": [
       "             initial    fitted\n",
       "tau_m_Ag    0.000000  0.000000\n",
       "tau_m_Ind   0.697674  0.697674\n",
       "tau_m_Serv  0.000000  0.000000"
      ]
     },
     "execution_count": 59,
     "metadata": {},
     "output_type": "execute_result"
    }
   ],
   "source": [
    "init_res.to_frame().loc[lambda x: [idx.startswith(\"tau_m\") for idx in x.index]]"
   ]
  },
  {
   "cell_type": "code",
   "execution_count": 61,
   "id": "addac982",
   "metadata": {},
   "outputs": [],
   "source": [
    "tax_cut = mod.simulate(\n",
    "    init_res,\n",
    "    final_delta_pct={\"tau_m_Ind\": 0.5},\n",
    "    n_iter_euler=0,\n",
    "    name=\"50% tariff tax cut\",\n",
    "    method=\"trust-krylov\",\n",
    ")"
   ]
  },
  {
   "cell_type": "code",
   "execution_count": 65,
   "id": "3e31a43c",
   "metadata": {},
   "outputs": [
    {
     "data": {
      "text/html": [
       "<div>\n",
       "<style scoped>\n",
       "    .dataframe tbody tr th:only-of-type {\n",
       "        vertical-align: middle;\n",
       "    }\n",
       "\n",
       "    .dataframe tbody tr th {\n",
       "        vertical-align: top;\n",
       "    }\n",
       "\n",
       "    .dataframe thead th {\n",
       "        text-align: right;\n",
       "    }\n",
       "</style>\n",
       "<table border=\"1\" class=\"dataframe\">\n",
       "  <thead>\n",
       "    <tr style=\"text-align: right;\">\n",
       "      <th></th>\n",
       "      <th>initial</th>\n",
       "      <th>fitted</th>\n",
       "    </tr>\n",
       "  </thead>\n",
       "  <tbody>\n",
       "    <tr>\n",
       "      <th>Y_Ag</th>\n",
       "      <td>5650.000000</td>\n",
       "      <td>5650.000379</td>\n",
       "    </tr>\n",
       "    <tr>\n",
       "      <th>Y_Ind</th>\n",
       "      <td>10820.000000</td>\n",
       "      <td>10819.997441</td>\n",
       "    </tr>\n",
       "    <tr>\n",
       "      <th>Y_Serv</th>\n",
       "      <td>10480.000000</td>\n",
       "      <td>10480.001639</td>\n",
       "    </tr>\n",
       "    <tr>\n",
       "      <th>VA_Ag</th>\n",
       "      <td>1350.000000</td>\n",
       "      <td>1350.000091</td>\n",
       "    </tr>\n",
       "    <tr>\n",
       "      <th>VA_Ind</th>\n",
       "      <td>3500.000000</td>\n",
       "      <td>3499.999173</td>\n",
       "    </tr>\n",
       "    <tr>\n",
       "      <th>VA_Serv</th>\n",
       "      <td>4700.000000</td>\n",
       "      <td>4700.000735</td>\n",
       "    </tr>\n",
       "    <tr>\n",
       "      <th>VC_Ag</th>\n",
       "      <td>4150.000000</td>\n",
       "      <td>4150.000277</td>\n",
       "    </tr>\n",
       "    <tr>\n",
       "      <th>VC_Ind</th>\n",
       "      <td>6300.000000</td>\n",
       "      <td>6299.998509</td>\n",
       "    </tr>\n",
       "    <tr>\n",
       "      <th>VC_Serv</th>\n",
       "      <td>5500.000000</td>\n",
       "      <td>5500.000859</td>\n",
       "    </tr>\n",
       "    <tr>\n",
       "      <th>X_Ag_Ag</th>\n",
       "      <td>1100.000000</td>\n",
       "      <td>1100.000073</td>\n",
       "    </tr>\n",
       "    <tr>\n",
       "      <th>X_Ag_Ind</th>\n",
       "      <td>900.000000</td>\n",
       "      <td>899.999786</td>\n",
       "    </tr>\n",
       "    <tr>\n",
       "      <th>X_Ag_Serv</th>\n",
       "      <td>1100.000000</td>\n",
       "      <td>1100.000171</td>\n",
       "    </tr>\n",
       "    <tr>\n",
       "      <th>X_Ind_Ag</th>\n",
       "      <td>2200.000000</td>\n",
       "      <td>2200.000146</td>\n",
       "    </tr>\n",
       "    <tr>\n",
       "      <th>X_Ind_Ind</th>\n",
       "      <td>3150.000000</td>\n",
       "      <td>3149.999254</td>\n",
       "    </tr>\n",
       "    <tr>\n",
       "      <th>X_Ind_Serv</th>\n",
       "      <td>3300.000000</td>\n",
       "      <td>3300.000515</td>\n",
       "    </tr>\n",
       "    <tr>\n",
       "      <th>X_Serv_Ag</th>\n",
       "      <td>850.000000</td>\n",
       "      <td>850.000056</td>\n",
       "    </tr>\n",
       "    <tr>\n",
       "      <th>X_Serv_Ind</th>\n",
       "      <td>2250.000000</td>\n",
       "      <td>2249.999467</td>\n",
       "    </tr>\n",
       "    <tr>\n",
       "      <th>X_Serv_Serv</th>\n",
       "      <td>1100.000000</td>\n",
       "      <td>1100.000170</td>\n",
       "    </tr>\n",
       "    <tr>\n",
       "      <th>L_d_Ag</th>\n",
       "      <td>1100.000000</td>\n",
       "      <td>1100.000033</td>\n",
       "    </tr>\n",
       "    <tr>\n",
       "      <th>L_d_Ind</th>\n",
       "      <td>1700.000000</td>\n",
       "      <td>1699.999418</td>\n",
       "    </tr>\n",
       "    <tr>\n",
       "      <th>L_d_Serv</th>\n",
       "      <td>4150.000000</td>\n",
       "      <td>4150.000548</td>\n",
       "    </tr>\n",
       "    <tr>\n",
       "      <th>K_d_Ag</th>\n",
       "      <td>250.000000</td>\n",
       "      <td>250.000059</td>\n",
       "    </tr>\n",
       "    <tr>\n",
       "      <th>K_d_Ind</th>\n",
       "      <td>1800.000000</td>\n",
       "      <td>1799.999755</td>\n",
       "    </tr>\n",
       "    <tr>\n",
       "      <th>K_d_Serv</th>\n",
       "      <td>550.000000</td>\n",
       "      <td>550.000186</td>\n",
       "    </tr>\n",
       "    <tr>\n",
       "      <th>I_d_Ag</th>\n",
       "      <td>200.000000</td>\n",
       "      <td>199.999682</td>\n",
       "    </tr>\n",
       "    <tr>\n",
       "      <th>I_d_Ind</th>\n",
       "      <td>800.000000</td>\n",
       "      <td>800.000741</td>\n",
       "    </tr>\n",
       "    <tr>\n",
       "      <th>I_d_Serv</th>\n",
       "      <td>100.000000</td>\n",
       "      <td>100.000016</td>\n",
       "    </tr>\n",
       "    <tr>\n",
       "      <th>P_Ag</th>\n",
       "      <td>1.000000</td>\n",
       "      <td>1.000003</td>\n",
       "    </tr>\n",
       "    <tr>\n",
       "      <th>P_Ind</th>\n",
       "      <td>1.000000</td>\n",
       "      <td>1.000001</td>\n",
       "    </tr>\n",
       "    <tr>\n",
       "      <th>P_Serv</th>\n",
       "      <td>1.000000</td>\n",
       "      <td>1.000001</td>\n",
       "    </tr>\n",
       "    <tr>\n",
       "      <th>P_VA_Ag</th>\n",
       "      <td>1.000000</td>\n",
       "      <td>1.000000</td>\n",
       "    </tr>\n",
       "    <tr>\n",
       "      <th>P_VA_Ind</th>\n",
       "      <td>1.000000</td>\n",
       "      <td>1.000000</td>\n",
       "    </tr>\n",
       "    <tr>\n",
       "      <th>P_VA_Serv</th>\n",
       "      <td>1.000000</td>\n",
       "      <td>1.000000</td>\n",
       "    </tr>\n",
       "    <tr>\n",
       "      <th>P_VC_Ag</th>\n",
       "      <td>1.000000</td>\n",
       "      <td>1.000001</td>\n",
       "    </tr>\n",
       "    <tr>\n",
       "      <th>P_VC_Ind</th>\n",
       "      <td>1.000000</td>\n",
       "      <td>1.000001</td>\n",
       "    </tr>\n",
       "    <tr>\n",
       "      <th>P_VC_Serv</th>\n",
       "      <td>1.000000</td>\n",
       "      <td>1.000001</td>\n",
       "    </tr>\n",
       "    <tr>\n",
       "      <th>P_Y_Ag</th>\n",
       "      <td>0.973451</td>\n",
       "      <td>0.973452</td>\n",
       "    </tr>\n",
       "    <tr>\n",
       "      <th>P_Y_Ind</th>\n",
       "      <td>0.905730</td>\n",
       "      <td>0.905731</td>\n",
       "    </tr>\n",
       "    <tr>\n",
       "      <th>P_Y_Serv</th>\n",
       "      <td>0.973282</td>\n",
       "      <td>0.973283</td>\n",
       "    </tr>\n",
       "    <tr>\n",
       "      <th>P_w_Ag</th>\n",
       "      <td>1.000000</td>\n",
       "      <td>2.719366</td>\n",
       "    </tr>\n",
       "    <tr>\n",
       "      <th>P_w_Ind</th>\n",
       "      <td>0.589041</td>\n",
       "      <td>1.177897</td>\n",
       "    </tr>\n",
       "    <tr>\n",
       "      <th>P_w_Serv</th>\n",
       "      <td>1.000000</td>\n",
       "      <td>0.999791</td>\n",
       "    </tr>\n",
       "    <tr>\n",
       "      <th>r</th>\n",
       "      <td>1.000000</td>\n",
       "      <td>1.000000</td>\n",
       "    </tr>\n",
       "    <tr>\n",
       "      <th>w</th>\n",
       "      <td>1.000000</td>\n",
       "      <td>1.000000</td>\n",
       "    </tr>\n",
       "    <tr>\n",
       "      <th>U</th>\n",
       "      <td>2312.579457</td>\n",
       "      <td>2312.576120</td>\n",
       "    </tr>\n",
       "    <tr>\n",
       "      <th>C_Ag</th>\n",
       "      <td>1700.000000</td>\n",
       "      <td>1699.995123</td>\n",
       "    </tr>\n",
       "    <tr>\n",
       "      <th>C_Ind</th>\n",
       "      <td>1200.000000</td>\n",
       "      <td>1199.999572</td>\n",
       "    </tr>\n",
       "    <tr>\n",
       "      <th>C_Serv</th>\n",
       "      <td>3400.000000</td>\n",
       "      <td>3399.996218</td>\n",
       "    </tr>\n",
       "    <tr>\n",
       "      <th>I_s</th>\n",
       "      <td>1100.000000</td>\n",
       "      <td>1100.001630</td>\n",
       "    </tr>\n",
       "    <tr>\n",
       "      <th>S</th>\n",
       "      <td>1850.000000</td>\n",
       "      <td>1850.000366</td>\n",
       "    </tr>\n",
       "    <tr>\n",
       "      <th>income</th>\n",
       "      <td>9550.000000</td>\n",
       "      <td>9550.001892</td>\n",
       "    </tr>\n",
       "    <tr>\n",
       "      <th>net_income</th>\n",
       "      <td>8150.000000</td>\n",
       "      <td>8150.001614</td>\n",
       "    </tr>\n",
       "    <tr>\n",
       "      <th>G</th>\n",
       "      <td>4050.000000</td>\n",
       "      <td>4049.986037</td>\n",
       "    </tr>\n",
       "    <tr>\n",
       "      <th>C_G_Ag</th>\n",
       "      <td>400.000000</td>\n",
       "      <td>399.997393</td>\n",
       "    </tr>\n",
       "    <tr>\n",
       "      <th>C_G_Ind</th>\n",
       "      <td>900.000000</td>\n",
       "      <td>899.996397</td>\n",
       "    </tr>\n",
       "    <tr>\n",
       "      <th>C_G_Serv</th>\n",
       "      <td>2750.000000</td>\n",
       "      <td>2749.986914</td>\n",
       "    </tr>\n",
       "    <tr>\n",
       "      <th>S_G</th>\n",
       "      <td>-900.000000</td>\n",
       "      <td>-900.000002</td>\n",
       "    </tr>\n",
       "    <tr>\n",
       "      <th>E_d_Ag</th>\n",
       "      <td>-250.000000</td>\n",
       "      <td>-250.008151</td>\n",
       "    </tr>\n",
       "    <tr>\n",
       "      <th>E_d_Ind</th>\n",
       "      <td>730.000000</td>\n",
       "      <td>729.999184</td>\n",
       "    </tr>\n",
       "    <tr>\n",
       "      <th>E_d_Serv</th>\n",
       "      <td>-30.000000</td>\n",
       "      <td>-30.018800</td>\n",
       "    </tr>\n",
       "  </tbody>\n",
       "</table>\n",
       "</div>"
      ],
      "text/plain": [
       "                  initial        fitted\n",
       "Y_Ag          5650.000000   5650.000379\n",
       "Y_Ind        10820.000000  10819.997441\n",
       "Y_Serv       10480.000000  10480.001639\n",
       "VA_Ag         1350.000000   1350.000091\n",
       "VA_Ind        3500.000000   3499.999173\n",
       "VA_Serv       4700.000000   4700.000735\n",
       "VC_Ag         4150.000000   4150.000277\n",
       "VC_Ind        6300.000000   6299.998509\n",
       "VC_Serv       5500.000000   5500.000859\n",
       "X_Ag_Ag       1100.000000   1100.000073\n",
       "X_Ag_Ind       900.000000    899.999786\n",
       "X_Ag_Serv     1100.000000   1100.000171\n",
       "X_Ind_Ag      2200.000000   2200.000146\n",
       "X_Ind_Ind     3150.000000   3149.999254\n",
       "X_Ind_Serv    3300.000000   3300.000515\n",
       "X_Serv_Ag      850.000000    850.000056\n",
       "X_Serv_Ind    2250.000000   2249.999467\n",
       "X_Serv_Serv   1100.000000   1100.000170\n",
       "L_d_Ag        1100.000000   1100.000033\n",
       "L_d_Ind       1700.000000   1699.999418\n",
       "L_d_Serv      4150.000000   4150.000548\n",
       "K_d_Ag         250.000000    250.000059\n",
       "K_d_Ind       1800.000000   1799.999755\n",
       "K_d_Serv       550.000000    550.000186\n",
       "I_d_Ag         200.000000    199.999682\n",
       "I_d_Ind        800.000000    800.000741\n",
       "I_d_Serv       100.000000    100.000016\n",
       "P_Ag             1.000000      1.000003\n",
       "P_Ind            1.000000      1.000001\n",
       "P_Serv           1.000000      1.000001\n",
       "P_VA_Ag          1.000000      1.000000\n",
       "P_VA_Ind         1.000000      1.000000\n",
       "P_VA_Serv        1.000000      1.000000\n",
       "P_VC_Ag          1.000000      1.000001\n",
       "P_VC_Ind         1.000000      1.000001\n",
       "P_VC_Serv        1.000000      1.000001\n",
       "P_Y_Ag           0.973451      0.973452\n",
       "P_Y_Ind          0.905730      0.905731\n",
       "P_Y_Serv         0.973282      0.973283\n",
       "P_w_Ag           1.000000      2.719366\n",
       "P_w_Ind          0.589041      1.177897\n",
       "P_w_Serv         1.000000      0.999791\n",
       "r                1.000000      1.000000\n",
       "w                1.000000      1.000000\n",
       "U             2312.579457   2312.576120\n",
       "C_Ag          1700.000000   1699.995123\n",
       "C_Ind         1200.000000   1199.999572\n",
       "C_Serv        3400.000000   3399.996218\n",
       "I_s           1100.000000   1100.001630\n",
       "S             1850.000000   1850.000366\n",
       "income        9550.000000   9550.001892\n",
       "net_income    8150.000000   8150.001614\n",
       "G             4050.000000   4049.986037\n",
       "C_G_Ag         400.000000    399.997393\n",
       "C_G_Ind        900.000000    899.996397\n",
       "C_G_Serv      2750.000000   2749.986914\n",
       "S_G           -900.000000   -900.000002\n",
       "E_d_Ag        -250.000000   -250.008151\n",
       "E_d_Ind        730.000000    729.999184\n",
       "E_d_Serv       -30.000000    -30.018800"
      ]
     },
     "execution_count": 65,
     "metadata": {},
     "output_type": "execute_result"
    }
   ],
   "source": [
    "tax_cut.to_frame().head(60)"
   ]
  },
  {
   "cell_type": "code",
   "execution_count": null,
   "id": "f2428348",
   "metadata": {},
   "outputs": [],
   "source": []
  }
 ],
 "metadata": {
  "kernelspec": {
   "display_name": "Python 3 (ipykernel)",
   "language": "python",
   "name": "python3"
  },
  "language_info": {
   "codemirror_mode": {
    "name": "ipython",
    "version": 3
   },
   "file_extension": ".py",
   "mimetype": "text/x-python",
   "name": "python",
   "nbconvert_exporter": "python",
   "pygments_lexer": "ipython3",
   "version": "3.11.5"
  },
  "toc": {
   "base_numbering": 1,
   "nav_menu": {},
   "number_sections": true,
   "sideBar": true,
   "skip_h1_title": false,
   "title_cell": "Table of Contents",
   "title_sidebar": "Contents",
   "toc_cell": false,
   "toc_position": {},
   "toc_section_display": true,
   "toc_window_display": false
  }
 },
 "nbformat": 4,
 "nbformat_minor": 5
}
