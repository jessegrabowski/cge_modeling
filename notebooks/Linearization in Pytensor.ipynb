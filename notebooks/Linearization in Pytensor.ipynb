{
 "cells": [
  {
   "cell_type": "code",
   "execution_count": 1,
   "id": "08aae17f",
   "metadata": {},
   "outputs": [],
   "source": [
    "import pytensor\n",
    "import pytensor.tensor as pt\n",
    "import matplotlib.pyplot as plt\n",
    "import numpy as np"
   ]
  },
  {
   "cell_type": "code",
   "execution_count": 2,
   "id": "e622e601",
   "metadata": {},
   "outputs": [],
   "source": [
    "def flatten_equations(eqs):\n",
    "    return pt.concatenate([pt.atleast_1d(eq).ravel() for eq in eqs], axis=-1)\n",
    "\n",
    "\n",
    "def make_jacobian(system, x, n_eq):\n",
    "    column_list = pytensor.gradient.jacobian(system, x)\n",
    "    jac = pt.concatenate([pt.atleast_2d(x).reshape((n_eq, -1)) for x in column_list], axis=-1)\n",
    "\n",
    "    return jac"
   ]
  },
  {
   "cell_type": "code",
   "execution_count": 73,
   "id": "fd49e405",
   "metadata": {},
   "outputs": [],
   "source": [
    "variables = v1, v2 = [pt.dscalar(name) for name in [\"v1\", \"v2\"]]\n",
    "parameters = v3 = pt.dscalar(\"v3\")\n",
    "inputs = variables + parameters\n",
    "\n",
    "equations = [v1**2 * v3 - 1, v1 + v2 - 2]"
   ]
  },
  {
   "cell_type": "code",
   "execution_count": 78,
   "id": "326c45b7",
   "metadata": {},
   "outputs": [
    {
     "data": {
      "text/plain": [
       "SpecifyShape.0"
      ]
     },
     "execution_count": 78,
     "metadata": {},
     "output_type": "execute_result"
    }
   ],
   "source": [
    "pt.atleast_1d(v3).ravel()"
   ]
  },
  {
   "cell_type": "code",
   "execution_count": 79,
   "id": "a4c18e47",
   "metadata": {},
   "outputs": [],
   "source": [
    "def at_least_list(x):\n",
    "    if isinstance(x, list):\n",
    "        return x\n",
    "    else:\n",
    "        return [x]\n",
    "\n",
    "\n",
    "def clone_and_rename(x, suffix=\"_next\"):\n",
    "    x_new = x.clone()\n",
    "    x_new.name = f\"{x.name}{suffix}\"\n",
    "    return x_new\n",
    "\n",
    "\n",
    "def euler_approximation(system, variables, parameters):\n",
    "    n_eq = len(system)\n",
    "    n_steps = pt.iscalar(\"n_steps\")\n",
    "    flat_system = flatten_equations(system)\n",
    "\n",
    "    x_list = at_least_list(variables)\n",
    "    theta_list = at_least_list(parameters)\n",
    "    theta_final = pt.stack([clone_and_rename(x) for x in theta_list])\n",
    "\n",
    "    x0 = flatten_equations(x_list)\n",
    "    theta0 = flatten_equations(theta_list)\n",
    "\n",
    "    dtheta = theta_final - theta0\n",
    "    step_size = dtheta / n_steps\n",
    "\n",
    "    A = make_jacobian(flat_system, x_list, n_eq)\n",
    "    A_inv = pt.linalg.solve(A, pt.identity_like(A), check_finite=False)\n",
    "    A_inv.name = \"A_inv\"\n",
    "\n",
    "    B = make_jacobian(flat_system, theta_list, n_eq)\n",
    "    Bv = B @ pt.atleast_1d(step_size)\n",
    "    Bv.name = \"Bv\"\n",
    "\n",
    "    step = -A_inv @ Bv\n",
    "    f_step = pytensor.compile.builders.OpFromGraph(\n",
    "        x_list + theta_list + [step_size], [step], inline=True\n",
    "    )\n",
    "\n",
    "    def step_func(x_prev, theta_prev, flat_system, theta_final, n_steps):\n",
    "        step = f_step(*x_prev, *theta_prev, step_size)\n",
    "\n",
    "        x = x_prev + step\n",
    "        theta = theta_prev + step_size\n",
    "\n",
    "        return x, theta\n",
    "\n",
    "    result, updates = pytensor.scan(\n",
    "        step_func,\n",
    "        outputs_info=[pt.stack(x_list), pt.stack(theta_list)],\n",
    "        non_sequences=[flat_system, theta_final, n_steps],\n",
    "        n_steps=n_steps,\n",
    "    )\n",
    "\n",
    "    return [theta_final, n_steps], result"
   ]
  },
  {
   "cell_type": "code",
   "execution_count": 100,
   "id": "70a2ab99",
   "metadata": {},
   "outputs": [],
   "source": [
    "new_inputs, result = euler_approximation(equations, variables, parameters)\n",
    "theta_final, n_steps = new_inputs"
   ]
  },
  {
   "cell_type": "code",
   "execution_count": 101,
   "id": "5022eb91",
   "metadata": {},
   "outputs": [
    {
     "name": "stderr",
     "output_type": "stream",
     "text": [
      "/var/folders/7b/rzxy96cj0w751_6td3g2yss00000gn/T/tmpfttl9nn5:15: NumbaPendingDeprecationWarning: \u001b[1m\u001b[1mCode using Numba extension API maybe depending on 'old_style' error-capturing, which is deprecated and will be replaced by 'new_style' in a future release. See details at https://numba.readthedocs.io/en/latest/reference/deprecation.html#deprecation-of-old-style-numba-captured-errors\n",
      "Exception origin:\n",
      "  File \"/Users/jessegrabowski/mambaforge/envs/cge-dev/lib/python3.11/site-packages/llvmlite/ir/instructions.py\", line 105, in __init__\n",
      "    raise TypeError(msg)\n",
      "\u001b[0m\u001b[0m\n",
      "  tensor_variable_10 = elemwise_1(tensor_variable_9, tensor_variable_8, tensor_variable_6)\n"
     ]
    },
    {
     "ename": "TypingError",
     "evalue": "Failed in nopython mode pipeline (step: nopython frontend)\n\u001b[1m\u001b[1m\u001b[1mNo implementation of function Function(<function numba_funcify_Elemwise.<locals>.elemwise at 0x2a6acf4c0>) found for signature:\n \n >>> elemwise(readonly array(int64, 0d, C), int64, readonly array(int64, 0d, C), readonly array(int64, 0d, C), readonly array(int64, 0d, C), readonly array(int64, 0d, C), readonly array(int64, 0d, C), readonly array(int64, 0d, C), readonly array(int8, 0d, C), readonly array(int8, 0d, C), readonly array(int8, 0d, C), readonly array(int8, 0d, C), readonly array(int8, 0d, C), readonly array(int8, 0d, C), readonly array(int8, 0d, C), readonly array(int64, 0d, C), readonly array(int8, 0d, C), readonly array(int64, 0d, C), readonly array(int8, 0d, C), readonly array(int8, 0d, C), readonly array(int8, 0d, C), readonly array(int64, 0d, C), readonly array(int64, 0d, C))\n \nThere are 2 candidate implementations:\n\u001b[1m  - Of which 2 did not match due to:\n  Overload in function 'numba_funcify_Elemwise.<locals>.ov_elemwise': File: pytensor/link/numba/dispatch/elemwise.py: Line 700.\n    With argument(s): '(readonly array(int64, 0d, C), int64, readonly array(int64, 0d, C), readonly array(int64, 0d, C), readonly array(int64, 0d, C), readonly array(int64, 0d, C), readonly array(int64, 0d, C), readonly array(int64, 0d, C), readonly array(int8, 0d, C), readonly array(int8, 0d, C), readonly array(int8, 0d, C), readonly array(int8, 0d, C), readonly array(int8, 0d, C), readonly array(int8, 0d, C), readonly array(int8, 0d, C), readonly array(int64, 0d, C), readonly array(int8, 0d, C), readonly array(int64, 0d, C), readonly array(int8, 0d, C), readonly array(int8, 0d, C), readonly array(int8, 0d, C), readonly array(int64, 0d, C), readonly array(int64, 0d, C))':\u001b[0m\n\u001b[1m   Rejected as the implementation raised a specific error:\n     TypingError: Failed in nopython mode pipeline (step: nopython frontend)\n   \u001b[1m\u001b[1m\u001b[1mNo implementation of function Function(<intrinsic _vectorized>) found for signature:\n    \n    >>> _vectorized(type(CPUDispatcher(<function numba_funcified_fgraph at 0x2a7330f40>)), Literal[str](gASVGwAAAAAAAAAoKSkpKSkpKSkpKSkpKSkpKSkpKSkpKSl0lC4=\n   ), Literal[str](gASVCgAAAAAAAAAoKSkpKSkpdJQu\n   ), Literal[str](gASVNAAAAAAAAAAojAVpbnQ2NJSMBWludDY0lIwFaW50NjSUjAVpbnQ2NJSMBWludDY0lIwFaW50\n   NjSUdJQu\n   ), Literal[str](gAQpLg==\n   ), StarArgTuple(readonly array(int64, 0d, C), int64, readonly array(int64, 0d, C), readonly array(int64, 0d, C), readonly array(int64, 0d, C), readonly array(int64, 0d, C), readonly array(int64, 0d, C), readonly array(int64, 0d, C), readonly array(int8, 0d, C), readonly array(int8, 0d, C), readonly array(int8, 0d, C), readonly array(int8, 0d, C), readonly array(int8, 0d, C), readonly array(int8, 0d, C), readonly array(int8, 0d, C), readonly array(int64, 0d, C), readonly array(int8, 0d, C), readonly array(int64, 0d, C), readonly array(int8, 0d, C), readonly array(int8, 0d, C), readonly array(int8, 0d, C), readonly array(int64, 0d, C), readonly array(int64, 0d, C)))\n    \n   There are 2 candidate implementations:\n   \u001b[1m      - Of which 1 did not match due to:\n         Intrinsic in function '_vectorized': File: pytensor/link/numba/dispatch/elemwise.py: Line 476.\n           With argument(s): '(type(CPUDispatcher(<function numba_funcified_fgraph at 0x2a7330f40>)), Literal[str](gASVGwAAAAAAAAAoKSkpKSkpKSkpKSkpKSkpKSkpKSkpKSl0lC4=\n         ), Literal[str](gASVCgAAAAAAAAAoKSkpKSkpdJQu\n         ), Literal[str](gASVNAAAAAAAAAAojAVpbnQ2NJSMBWludDY0lIwFaW50NjSUjAVpbnQ2NJSMBWludDY0lIwFaW50\n         NjSUdJQu\n         ), Literal[str](gAQpLg==\n         ), StarArgTuple(readonly array(int64, 0d, C), int64, readonly array(int64, 0d, C), readonly array(int64, 0d, C), readonly array(int64, 0d, C), readonly array(int64, 0d, C), readonly array(int64, 0d, C), readonly array(int64, 0d, C), readonly array(int8, 0d, C), readonly array(int8, 0d, C), readonly array(int8, 0d, C), readonly array(int8, 0d, C), readonly array(int8, 0d, C), readonly array(int8, 0d, C), readonly array(int8, 0d, C), readonly array(int64, 0d, C), readonly array(int8, 0d, C), readonly array(int64, 0d, C), readonly array(int8, 0d, C), readonly array(int8, 0d, C), readonly array(int8, 0d, C), readonly array(int64, 0d, C), readonly array(int64, 0d, C)))':\u001b[0m\n   \u001b[1m       Rejected as the implementation raised a specific error:\n            TypingError: \u001b[1mInputs to elemwise must be arrays.\u001b[0m\u001b[0m\n     raised from /Users/jessegrabowski/mambaforge/envs/cge-dev/lib/python3.11/site-packages/pytensor/link/numba/dispatch/elemwise.py:524\n   \u001b[1m      - Of which 1 did not match due to:\n         Intrinsic in function '_vectorized': File: pytensor/link/numba/dispatch/elemwise.py: Line 476.\n           With argument(s): '(type(CPUDispatcher(<function numba_funcified_fgraph at 0x2a7330f40>)), unicode_type, unicode_type, unicode_type, unicode_type, StarArgTuple(readonly array(int64, 0d, C), int64, readonly array(int64, 0d, C), readonly array(int64, 0d, C), readonly array(int64, 0d, C), readonly array(int64, 0d, C), readonly array(int64, 0d, C), readonly array(int64, 0d, C), readonly array(int8, 0d, C), readonly array(int8, 0d, C), readonly array(int8, 0d, C), readonly array(int8, 0d, C), readonly array(int8, 0d, C), readonly array(int8, 0d, C), readonly array(int8, 0d, C), readonly array(int64, 0d, C), readonly array(int8, 0d, C), readonly array(int64, 0d, C), readonly array(int8, 0d, C), readonly array(int8, 0d, C), readonly array(int8, 0d, C), readonly array(int64, 0d, C), readonly array(int64, 0d, C)))':\u001b[0m\n   \u001b[1m       Rejected as the implementation raised a specific error:\n            TypingError: \u001b[1minput_bc_patterns must be literal.\u001b[0m\u001b[0m\n     raised from /Users/jessegrabowski/mambaforge/envs/cge-dev/lib/python3.11/site-packages/pytensor/link/numba/dispatch/elemwise.py:496\n   \u001b[0m\n   \u001b[0m\u001b[1mDuring: resolving callee type: Function(<intrinsic _vectorized>)\u001b[0m\n   \u001b[0m\u001b[1mDuring: typing of call at /Users/jessegrabowski/mambaforge/envs/cge-dev/lib/python3.11/site-packages/pytensor/link/numba/dispatch/elemwise.py (661)\n   \u001b[0m\n   \u001b[1m\n   File \"../../../../../mambaforge/envs/cge-dev/lib/python3.11/site-packages/pytensor/link/numba/dispatch/elemwise.py\", line 661:\u001b[0m\n   \u001b[1m    def elemwise_wrapper(*inputs):\n   \u001b[1m        return _vectorized(\n   \u001b[0m        \u001b[1m^\u001b[0m\u001b[0m\n\u001b[0m\n  raised from /Users/jessegrabowski/mambaforge/envs/cge-dev/lib/python3.11/site-packages/numba/core/typeinfer.py:1086\n\u001b[0m\n\u001b[0m\u001b[1mDuring: resolving callee type: Function(<function numba_funcify_Elemwise.<locals>.elemwise at 0x2a6acf4c0>)\u001b[0m\n\u001b[0m\u001b[1mDuring: typing of call at /var/folders/7b/rzxy96cj0w751_6td3g2yss00000gn/T/tmpfttl9nn5 (3)\n\u001b[0m\n\u001b[1m\nFile \"../../../../../../../var/folders/7b/rzxy96cj0w751_6td3g2yss00000gn/T/tmpfttl9nn5\", line 3:\u001b[0m\n\u001b[1mdef numba_funcified_fgraph(v1, v2, v3, n_steps, tensor_variable_9):\n    <source elided>\n    # Composite{...}(1, n_steps, 1, 1, 1, 1, 1, 1, 1, 1, 1, 2, 1, 2, 1, 1, 1, 1, 1, 1, 1, 1, 1)\n\u001b[1m    tensor_variable, tensor_variable_1, tensor_variable_2, tensor_variable_3, tensor_variable_4, tensor_variable_5 = elemwise(tensor_constant, n_steps, tensor_constant, tensor_constant, tensor_constant, tensor_constant, tensor_constant, tensor_constant, tensor_constant_1, tensor_constant_1, tensor_constant_1, tensor_constant_2, tensor_constant_1, tensor_constant_2, tensor_constant_1, tensor_constant, tensor_constant_1, tensor_constant, tensor_constant_1, tensor_constant_1, tensor_constant_1, tensor_constant, tensor_constant)\n\u001b[0m    \u001b[1m^\u001b[0m\u001b[0m\n",
     "output_type": "error",
     "traceback": [
      "\u001b[0;31m---------------------------------------------------------------------------\u001b[0m",
      "\u001b[0;31mTypingError\u001b[0m                               Traceback (most recent call last)",
      "Cell \u001b[0;32mIn[101], line 3\u001b[0m\n\u001b[1;32m      1\u001b[0m inputs \u001b[38;5;241m=\u001b[39m [v1, v2, v3, n_steps, theta_final]\n\u001b[1;32m      2\u001b[0m f \u001b[38;5;241m=\u001b[39m pytensor\u001b[38;5;241m.\u001b[39mfunction(inputs, result, mode\u001b[38;5;241m=\u001b[39m\u001b[38;5;124m'\u001b[39m\u001b[38;5;124mNUMBA\u001b[39m\u001b[38;5;124m'\u001b[39m)\n\u001b[0;32m----> 3\u001b[0m \u001b[43mf\u001b[49m\u001b[38;5;241;43m.\u001b[39;49m\u001b[43mvm\u001b[49m\u001b[38;5;241;43m.\u001b[39;49m\u001b[43mjit_fn\u001b[49m\u001b[43m(\u001b[49m\u001b[38;5;241;43m1.\u001b[39;49m\u001b[43m,\u001b[49m\u001b[43m \u001b[49m\u001b[38;5;241;43m1.\u001b[39;49m\u001b[43m,\u001b[49m\u001b[43m \u001b[49m\u001b[38;5;241;43m1.\u001b[39;49m\u001b[43m,\u001b[49m\u001b[43m \u001b[49m\u001b[38;5;241;43m10_000\u001b[39;49m\u001b[43m,\u001b[49m\u001b[43m \u001b[49m\u001b[43mnp\u001b[49m\u001b[38;5;241;43m.\u001b[39;49m\u001b[43marray\u001b[49m\u001b[43m(\u001b[49m\u001b[43m[\u001b[49m\u001b[38;5;241;43m2.\u001b[39;49m\u001b[43m]\u001b[49m\u001b[43m)\u001b[49m\u001b[43m)\u001b[49m\n",
      "File \u001b[0;32m~/mambaforge/envs/cge-dev/lib/python3.11/site-packages/numba/core/dispatcher.py:468\u001b[0m, in \u001b[0;36m_DispatcherBase._compile_for_args\u001b[0;34m(self, *args, **kws)\u001b[0m\n\u001b[1;32m    464\u001b[0m         msg \u001b[38;5;241m=\u001b[39m (\u001b[38;5;124mf\u001b[39m\u001b[38;5;124m\"\u001b[39m\u001b[38;5;132;01m{\u001b[39;00m\u001b[38;5;28mstr\u001b[39m(e)\u001b[38;5;241m.\u001b[39mrstrip()\u001b[38;5;132;01m}\u001b[39;00m\u001b[38;5;124m \u001b[39m\u001b[38;5;130;01m\\n\u001b[39;00m\u001b[38;5;130;01m\\n\u001b[39;00m\u001b[38;5;124mThis error may have been caused \u001b[39m\u001b[38;5;124m\"\u001b[39m\n\u001b[1;32m    465\u001b[0m                \u001b[38;5;124mf\u001b[39m\u001b[38;5;124m\"\u001b[39m\u001b[38;5;124mby the following argument(s):\u001b[39m\u001b[38;5;130;01m\\n\u001b[39;00m\u001b[38;5;132;01m{\u001b[39;00margs_str\u001b[38;5;132;01m}\u001b[39;00m\u001b[38;5;130;01m\\n\u001b[39;00m\u001b[38;5;124m\"\u001b[39m)\n\u001b[1;32m    466\u001b[0m         e\u001b[38;5;241m.\u001b[39mpatch_message(msg)\n\u001b[0;32m--> 468\u001b[0m     \u001b[43merror_rewrite\u001b[49m\u001b[43m(\u001b[49m\u001b[43me\u001b[49m\u001b[43m,\u001b[49m\u001b[43m \u001b[49m\u001b[38;5;124;43m'\u001b[39;49m\u001b[38;5;124;43mtyping\u001b[39;49m\u001b[38;5;124;43m'\u001b[39;49m\u001b[43m)\u001b[49m\n\u001b[1;32m    469\u001b[0m \u001b[38;5;28;01mexcept\u001b[39;00m errors\u001b[38;5;241m.\u001b[39mUnsupportedError \u001b[38;5;28;01mas\u001b[39;00m e:\n\u001b[1;32m    470\u001b[0m     \u001b[38;5;66;03m# Something unsupported is present in the user code, add help info\u001b[39;00m\n\u001b[1;32m    471\u001b[0m     error_rewrite(e, \u001b[38;5;124m'\u001b[39m\u001b[38;5;124munsupported_error\u001b[39m\u001b[38;5;124m'\u001b[39m)\n",
      "File \u001b[0;32m~/mambaforge/envs/cge-dev/lib/python3.11/site-packages/numba/core/dispatcher.py:409\u001b[0m, in \u001b[0;36m_DispatcherBase._compile_for_args.<locals>.error_rewrite\u001b[0;34m(e, issue_type)\u001b[0m\n\u001b[1;32m    407\u001b[0m     \u001b[38;5;28;01mraise\u001b[39;00m e\n\u001b[1;32m    408\u001b[0m \u001b[38;5;28;01melse\u001b[39;00m:\n\u001b[0;32m--> 409\u001b[0m     \u001b[38;5;28;01mraise\u001b[39;00m e\u001b[38;5;241m.\u001b[39mwith_traceback(\u001b[38;5;28;01mNone\u001b[39;00m)\n",
      "\u001b[0;31mTypingError\u001b[0m: Failed in nopython mode pipeline (step: nopython frontend)\n\u001b[1m\u001b[1m\u001b[1mNo implementation of function Function(<function numba_funcify_Elemwise.<locals>.elemwise at 0x2a6acf4c0>) found for signature:\n \n >>> elemwise(readonly array(int64, 0d, C), int64, readonly array(int64, 0d, C), readonly array(int64, 0d, C), readonly array(int64, 0d, C), readonly array(int64, 0d, C), readonly array(int64, 0d, C), readonly array(int64, 0d, C), readonly array(int8, 0d, C), readonly array(int8, 0d, C), readonly array(int8, 0d, C), readonly array(int8, 0d, C), readonly array(int8, 0d, C), readonly array(int8, 0d, C), readonly array(int8, 0d, C), readonly array(int64, 0d, C), readonly array(int8, 0d, C), readonly array(int64, 0d, C), readonly array(int8, 0d, C), readonly array(int8, 0d, C), readonly array(int8, 0d, C), readonly array(int64, 0d, C), readonly array(int64, 0d, C))\n \nThere are 2 candidate implementations:\n\u001b[1m  - Of which 2 did not match due to:\n  Overload in function 'numba_funcify_Elemwise.<locals>.ov_elemwise': File: pytensor/link/numba/dispatch/elemwise.py: Line 700.\n    With argument(s): '(readonly array(int64, 0d, C), int64, readonly array(int64, 0d, C), readonly array(int64, 0d, C), readonly array(int64, 0d, C), readonly array(int64, 0d, C), readonly array(int64, 0d, C), readonly array(int64, 0d, C), readonly array(int8, 0d, C), readonly array(int8, 0d, C), readonly array(int8, 0d, C), readonly array(int8, 0d, C), readonly array(int8, 0d, C), readonly array(int8, 0d, C), readonly array(int8, 0d, C), readonly array(int64, 0d, C), readonly array(int8, 0d, C), readonly array(int64, 0d, C), readonly array(int8, 0d, C), readonly array(int8, 0d, C), readonly array(int8, 0d, C), readonly array(int64, 0d, C), readonly array(int64, 0d, C))':\u001b[0m\n\u001b[1m   Rejected as the implementation raised a specific error:\n     TypingError: Failed in nopython mode pipeline (step: nopython frontend)\n   \u001b[1m\u001b[1m\u001b[1mNo implementation of function Function(<intrinsic _vectorized>) found for signature:\n    \n    >>> _vectorized(type(CPUDispatcher(<function numba_funcified_fgraph at 0x2a7330f40>)), Literal[str](gASVGwAAAAAAAAAoKSkpKSkpKSkpKSkpKSkpKSkpKSkpKSl0lC4=\n   ), Literal[str](gASVCgAAAAAAAAAoKSkpKSkpdJQu\n   ), Literal[str](gASVNAAAAAAAAAAojAVpbnQ2NJSMBWludDY0lIwFaW50NjSUjAVpbnQ2NJSMBWludDY0lIwFaW50\n   NjSUdJQu\n   ), Literal[str](gAQpLg==\n   ), StarArgTuple(readonly array(int64, 0d, C), int64, readonly array(int64, 0d, C), readonly array(int64, 0d, C), readonly array(int64, 0d, C), readonly array(int64, 0d, C), readonly array(int64, 0d, C), readonly array(int64, 0d, C), readonly array(int8, 0d, C), readonly array(int8, 0d, C), readonly array(int8, 0d, C), readonly array(int8, 0d, C), readonly array(int8, 0d, C), readonly array(int8, 0d, C), readonly array(int8, 0d, C), readonly array(int64, 0d, C), readonly array(int8, 0d, C), readonly array(int64, 0d, C), readonly array(int8, 0d, C), readonly array(int8, 0d, C), readonly array(int8, 0d, C), readonly array(int64, 0d, C), readonly array(int64, 0d, C)))\n    \n   There are 2 candidate implementations:\n   \u001b[1m      - Of which 1 did not match due to:\n         Intrinsic in function '_vectorized': File: pytensor/link/numba/dispatch/elemwise.py: Line 476.\n           With argument(s): '(type(CPUDispatcher(<function numba_funcified_fgraph at 0x2a7330f40>)), Literal[str](gASVGwAAAAAAAAAoKSkpKSkpKSkpKSkpKSkpKSkpKSkpKSl0lC4=\n         ), Literal[str](gASVCgAAAAAAAAAoKSkpKSkpdJQu\n         ), Literal[str](gASVNAAAAAAAAAAojAVpbnQ2NJSMBWludDY0lIwFaW50NjSUjAVpbnQ2NJSMBWludDY0lIwFaW50\n         NjSUdJQu\n         ), Literal[str](gAQpLg==\n         ), StarArgTuple(readonly array(int64, 0d, C), int64, readonly array(int64, 0d, C), readonly array(int64, 0d, C), readonly array(int64, 0d, C), readonly array(int64, 0d, C), readonly array(int64, 0d, C), readonly array(int64, 0d, C), readonly array(int8, 0d, C), readonly array(int8, 0d, C), readonly array(int8, 0d, C), readonly array(int8, 0d, C), readonly array(int8, 0d, C), readonly array(int8, 0d, C), readonly array(int8, 0d, C), readonly array(int64, 0d, C), readonly array(int8, 0d, C), readonly array(int64, 0d, C), readonly array(int8, 0d, C), readonly array(int8, 0d, C), readonly array(int8, 0d, C), readonly array(int64, 0d, C), readonly array(int64, 0d, C)))':\u001b[0m\n   \u001b[1m       Rejected as the implementation raised a specific error:\n            TypingError: \u001b[1mInputs to elemwise must be arrays.\u001b[0m\u001b[0m\n     raised from /Users/jessegrabowski/mambaforge/envs/cge-dev/lib/python3.11/site-packages/pytensor/link/numba/dispatch/elemwise.py:524\n   \u001b[1m      - Of which 1 did not match due to:\n         Intrinsic in function '_vectorized': File: pytensor/link/numba/dispatch/elemwise.py: Line 476.\n           With argument(s): '(type(CPUDispatcher(<function numba_funcified_fgraph at 0x2a7330f40>)), unicode_type, unicode_type, unicode_type, unicode_type, StarArgTuple(readonly array(int64, 0d, C), int64, readonly array(int64, 0d, C), readonly array(int64, 0d, C), readonly array(int64, 0d, C), readonly array(int64, 0d, C), readonly array(int64, 0d, C), readonly array(int64, 0d, C), readonly array(int8, 0d, C), readonly array(int8, 0d, C), readonly array(int8, 0d, C), readonly array(int8, 0d, C), readonly array(int8, 0d, C), readonly array(int8, 0d, C), readonly array(int8, 0d, C), readonly array(int64, 0d, C), readonly array(int8, 0d, C), readonly array(int64, 0d, C), readonly array(int8, 0d, C), readonly array(int8, 0d, C), readonly array(int8, 0d, C), readonly array(int64, 0d, C), readonly array(int64, 0d, C)))':\u001b[0m\n   \u001b[1m       Rejected as the implementation raised a specific error:\n            TypingError: \u001b[1minput_bc_patterns must be literal.\u001b[0m\u001b[0m\n     raised from /Users/jessegrabowski/mambaforge/envs/cge-dev/lib/python3.11/site-packages/pytensor/link/numba/dispatch/elemwise.py:496\n   \u001b[0m\n   \u001b[0m\u001b[1mDuring: resolving callee type: Function(<intrinsic _vectorized>)\u001b[0m\n   \u001b[0m\u001b[1mDuring: typing of call at /Users/jessegrabowski/mambaforge/envs/cge-dev/lib/python3.11/site-packages/pytensor/link/numba/dispatch/elemwise.py (661)\n   \u001b[0m\n   \u001b[1m\n   File \"../../../../../mambaforge/envs/cge-dev/lib/python3.11/site-packages/pytensor/link/numba/dispatch/elemwise.py\", line 661:\u001b[0m\n   \u001b[1m    def elemwise_wrapper(*inputs):\n   \u001b[1m        return _vectorized(\n   \u001b[0m        \u001b[1m^\u001b[0m\u001b[0m\n\u001b[0m\n  raised from /Users/jessegrabowski/mambaforge/envs/cge-dev/lib/python3.11/site-packages/numba/core/typeinfer.py:1086\n\u001b[0m\n\u001b[0m\u001b[1mDuring: resolving callee type: Function(<function numba_funcify_Elemwise.<locals>.elemwise at 0x2a6acf4c0>)\u001b[0m\n\u001b[0m\u001b[1mDuring: typing of call at /var/folders/7b/rzxy96cj0w751_6td3g2yss00000gn/T/tmpfttl9nn5 (3)\n\u001b[0m\n\u001b[1m\nFile \"../../../../../../../var/folders/7b/rzxy96cj0w751_6td3g2yss00000gn/T/tmpfttl9nn5\", line 3:\u001b[0m\n\u001b[1mdef numba_funcified_fgraph(v1, v2, v3, n_steps, tensor_variable_9):\n    <source elided>\n    # Composite{...}(1, n_steps, 1, 1, 1, 1, 1, 1, 1, 1, 1, 2, 1, 2, 1, 1, 1, 1, 1, 1, 1, 1, 1)\n\u001b[1m    tensor_variable, tensor_variable_1, tensor_variable_2, tensor_variable_3, tensor_variable_4, tensor_variable_5 = elemwise(tensor_constant, n_steps, tensor_constant, tensor_constant, tensor_constant, tensor_constant, tensor_constant, tensor_constant, tensor_constant_1, tensor_constant_1, tensor_constant_1, tensor_constant_2, tensor_constant_1, tensor_constant_2, tensor_constant_1, tensor_constant, tensor_constant_1, tensor_constant, tensor_constant_1, tensor_constant_1, tensor_constant_1, tensor_constant, tensor_constant)\n\u001b[0m    \u001b[1m^\u001b[0m\u001b[0m\n"
     ]
    }
   ],
   "source": [
    "inputs = [v1, v2, v3, n_steps, theta_final]\n",
    "f = pytensor.function(inputs, result, mode=\"NUMBA\")\n",
    "f.vm.jit_fn(1.0, 1.0, 1.0, 10_000, np.array([2.0]))"
   ]
  },
  {
   "cell_type": "code",
   "execution_count": 102,
   "id": "a8226bac",
   "metadata": {},
   "outputs": [
    {
     "data": {
      "text/plain": [
       "{v1: [None],\n",
       " v2: [None],\n",
       " v3: [None],\n",
       " n_steps: [None],\n",
       " <Vector(float64, shape=(1,))>: [None],\n",
       " TensorConstant(TensorType(int64, shape=()), data=array(1)): [array(1)],\n",
       " TensorConstant(TensorType(int8, shape=()), data=array(1, dtype=int8)): [array(1, dtype=int8)],\n",
       " TensorConstant(TensorType(int8, shape=()), data=array(2, dtype=int8)): [array(2, dtype=int8)],\n",
       " Composite{...}.0: [None],\n",
       " Composite{...}.1: [None],\n",
       " Composite{...}.2: [None],\n",
       " Composite{...}.3: [None],\n",
       " Composite{...}.4: [None],\n",
       " Composite{...}.5: [None],\n",
       " ScalarFromTensor.0: [None],\n",
       " ScalarFromTensor.0: [None],\n",
       " ExpandDims{axis=0}.0: [None],\n",
       " TensorConstant(TensorType(int64, shape=(1,)), data=array([-1])): [array([-1])],\n",
       " Reshape{1}.0: [None],\n",
       " SpecifyShape.0: [None],\n",
       " Composite{((i0 - i1) / i2)}.0: [None],\n",
       " MakeVector{dtype='float64'}.0: [None],\n",
       " ExpandDims{axis=0}.0: [None],\n",
       " Unbroadcast{0}.0: [None],\n",
       " AllocEmpty{dtype='float64'}.0: [None],\n",
       " ScalarConstant(ScalarType(int64), data=1): [1],\n",
       " SetSubtensor{:stop}.0: [None],\n",
       " MakeVector{dtype='float64'}.0: [None],\n",
       " ExpandDims{axis=0}.0: [None],\n",
       " Unbroadcast{0}.0: [None],\n",
       " TensorConstant(TensorType(int64, shape=()), data=array(2)): [array(2)],\n",
       " AllocEmpty{dtype='float64'}.0: [None],\n",
       " SetSubtensor{:stop}.0: [None],\n",
       " Scan{scan_fn, while_loop=False, inplace=all}.0: [None],\n",
       " Scan{scan_fn, while_loop=False, inplace=all}.1: [None],\n",
       " ScalarConstant(ScalarType(int8), data=1): [1],\n",
       " Subtensor{start:stop:step}.0: [None],\n",
       " ScalarFromTensor.0: [None],\n",
       " ScalarFromTensor.0: [None],\n",
       " Subtensor{start:stop:step}.0: [None]}"
      ]
     },
     "execution_count": 102,
     "metadata": {},
     "output_type": "execute_result"
    }
   ],
   "source": []
  },
  {
   "cell_type": "code",
   "execution_count": 98,
   "id": "0935adea",
   "metadata": {},
   "outputs": [
    {
     "data": {
      "text/plain": [
       "(array([-0.41614684, -0.41614684, -0.41614684]),)"
      ]
     },
     "execution_count": 98,
     "metadata": {},
     "output_type": "execute_result"
    }
   ],
   "source": [
    "x = pt.dscalar('x')\n",
    "y = pt.dvector('y')\n",
    "z = \n",
    "\n",
    "f = pytensor.function([x, y], z, mode='NUMBA', on_unused_input='ignore')\n",
    "\n",
    "f.vm.jit_fn(1., np.ones(3))"
   ]
  },
  {
   "cell_type": "code",
   "execution_count": null,
   "id": "3ac2c87d",
   "metadata": {},
   "outputs": [],
   "source": []
  },
  {
   "cell_type": "code",
   "execution_count": null,
   "id": "b766e93f",
   "metadata": {},
   "outputs": [],
   "source": []
  },
  {
   "cell_type": "code",
   "execution_count": 65,
   "id": "d90b40c1",
   "metadata": {
    "scrolled": true
   },
   "outputs": [
    {
     "name": "stdout",
     "output_type": "stream",
     "text": [
      "718 ms ± 161 ms per loop (mean ± std. dev. of 7 runs, 1 loop each)\n"
     ]
    }
   ],
   "source": [
    "%timeit f(1., 1., 1., 10_000, np.array([2.]))"
   ]
  },
  {
   "cell_type": "code",
   "execution_count": null,
   "id": "124ef950",
   "metadata": {},
   "outputs": [],
   "source": []
  }
 ],
 "metadata": {
  "kernelspec": {
   "display_name": "Python 3 (ipykernel)",
   "language": "python",
   "name": "python3"
  },
  "language_info": {
   "codemirror_mode": {
    "name": "ipython",
    "version": 3
   },
   "file_extension": ".py",
   "mimetype": "text/x-python",
   "name": "python",
   "nbconvert_exporter": "python",
   "pygments_lexer": "ipython3",
   "version": "3.11.6"
  },
  "toc": {
   "base_numbering": 1,
   "nav_menu": {},
   "number_sections": true,
   "sideBar": true,
   "skip_h1_title": false,
   "title_cell": "Table of Contents",
   "title_sidebar": "Contents",
   "toc_cell": false,
   "toc_position": {},
   "toc_section_display": true,
   "toc_window_display": false
  }
 },
 "nbformat": 4,
 "nbformat_minor": 5
}
