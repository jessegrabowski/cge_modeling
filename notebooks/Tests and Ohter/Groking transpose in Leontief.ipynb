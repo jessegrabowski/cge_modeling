{
 "cells": [
  {
   "cell_type": "code",
   "execution_count": 9,
   "id": "a55e1221",
   "metadata": {},
   "outputs": [],
   "source": [
    "import sys\n",
    "\n",
    "sys.path.append(\"../..\")\n",
    "from cge_modeling import Variable, Parameter, Equation, CGEModel\n",
    "import pymc as pm\n",
    "import numpy as np\n",
    "from cge_modeling.tools.sympy_tools import expand_obj_by_indices"
   ]
  },
  {
   "cell_type": "markdown",
   "id": "dc97f98c",
   "metadata": {},
   "source": [
    "# Case 1: Square Matrix"
   ]
  },
  {
   "cell_type": "markdown",
   "id": "ba7eb882",
   "metadata": {},
   "source": [
    "## Vectorized solution"
   ]
  },
  {
   "cell_type": "code",
   "execution_count": 2,
   "id": "8e1895be",
   "metadata": {},
   "outputs": [],
   "source": [
    "X = pm.draw(pm.NegativeBinomial.dist(mu=100, alpha=10, shape=(3, 3)))\n",
    "P_X = 1 + pm.draw(pm.Beta.dist(alpha=1, beta=3, size=(3,)))"
   ]
  },
  {
   "cell_type": "code",
   "execution_count": 3,
   "id": "2b61b398",
   "metadata": {},
   "outputs": [],
   "source": [
    "VC = X.sum(axis=0)\n",
    "phi_X = X / VC\n",
    "P_VC = (X * P_X[:, None]).sum(axis=0) / VC"
   ]
  },
  {
   "cell_type": "code",
   "execution_count": 4,
   "id": "86c12e04",
   "metadata": {},
   "outputs": [
    {
     "data": {
      "text/plain": [
       "True"
      ]
     },
     "execution_count": 4,
     "metadata": {},
     "output_type": "execute_result"
    }
   ],
   "source": [
    "np.allclose(VC * P_VC, (X * P_X[:, None]).sum(axis=0))"
   ]
  },
  {
   "cell_type": "markdown",
   "id": "85eece55",
   "metadata": {},
   "source": [
    "So I just want to sum along axis 0 (the rows), paying attention to make sure the prices broadcast correctly. \n",
    "\n",
    "If I don't reshape the prices of X I get the wrong answer:"
   ]
  },
  {
   "cell_type": "code",
   "execution_count": 5,
   "id": "16a050e6",
   "metadata": {},
   "outputs": [
    {
     "data": {
      "text/plain": [
       "False"
      ]
     },
     "execution_count": 5,
     "metadata": {},
     "output_type": "execute_result"
    }
   ],
   "source": [
    "np.allclose(VC * P_VC, (X * P_X).sum(axis=0))"
   ]
  },
  {
   "cell_type": "markdown",
   "id": "6139ecbf",
   "metadata": {},
   "source": [
    "## Sympy summation"
   ]
  },
  {
   "cell_type": "markdown",
   "id": "788ed15b",
   "metadata": {},
   "source": [
    "### First try: Naive\n",
    "\n",
    "Type in the equation directly. Remember the desired output is:\n",
    "\n",
    "$$VC_j P_{VC, j} = X_{1, j} P_1 + X_{2,j} P_2 + X_{3,j}$$\n",
    "\n",
    "That is: \n",
    "   - The LHS index matches the 2nd index on the RHS\n",
    "   - All 3 prices show up\n",
    "   - The price index matches the first index of each X."
   ]
  },
  {
   "cell_type": "code",
   "execution_count": 28,
   "id": "500a996a",
   "metadata": {},
   "outputs": [],
   "source": [
    "coords = {\"i\": [\"A\", \"B\", \"C\"], \"j\": [\"A\", \"B\", \"C\"]}\n",
    "\n",
    "x = Variable(\"X\", dims=[\"i\", \"j\"], description=\"Demand for <dim:i> goods by <dim:j>\")\n",
    "p_x = Variable(\"P_X\", dims=[\"i\"], description=\"Price of intermediate good <dim:i>\")\n",
    "vc = Variable(\"VC\", dims=[\"i\"], description=\"Value chain of the <dim:i> sector\")\n",
    "p_vc = Variable(\"P_VC\", dims=[\"i\"], description=\"Price of <dim:i> sector value chain\")\n",
    "\n",
    "psi_x = Parameter(\"psi_X\", dims=[\"i\", \"j\"])\n",
    "\n",
    "eq = Equation(\"Value chain of section <dim:i>\", \"VC * P_VC = Sum(P_X * X, (j, 0, 2))\")"
   ]
  },
  {
   "cell_type": "code",
   "execution_count": 29,
   "id": "ce310f6e",
   "metadata": {},
   "outputs": [],
   "source": [
    "mod = CGEModel(compile=False, coords=coords)\n",
    "mod.add_variables([x, p_x, vc, p_vc])\n",
    "mod.add_parameters([psi_x])\n",
    "mod.add_sympy_equation(eq)"
   ]
  },
  {
   "cell_type": "markdown",
   "id": "3c1524e4",
   "metadata": {},
   "source": [
    "Here the RHS indexes are backwards, and the prices are not correct."
   ]
  },
  {
   "cell_type": "code",
   "execution_count": 30,
   "id": "50393123",
   "metadata": {},
   "outputs": [
    {
     "data": {
      "text/latex": [
       "$\\displaystyle {P_{VC}}_{A} {VC}_{A} = \\left({X}_{A,0} + {X}_{A,1} + {X}_{A,2}\\right) {P_{X}}_{A}$"
      ],
      "text/plain": [
       "Eq(P_VC[A]*VC[A], (X[A, 0] + X[A, 1] + X[A, 2])*P_X[A])"
      ]
     },
     "metadata": {},
     "output_type": "display_data"
    },
    {
     "data": {
      "text/latex": [
       "$\\displaystyle {P_{VC}}_{B} {VC}_{B} = \\left({X}_{B,0} + {X}_{B,1} + {X}_{B,2}\\right) {P_{X}}_{B}$"
      ],
      "text/plain": [
       "Eq(P_VC[B]*VC[B], (X[B, 0] + X[B, 1] + X[B, 2])*P_X[B])"
      ]
     },
     "metadata": {},
     "output_type": "display_data"
    },
    {
     "data": {
      "text/latex": [
       "$\\displaystyle {P_{VC}}_{C} {VC}_{C} = \\left({X}_{C,0} + {X}_{C,1} + {X}_{C,2}\\right) {P_{X}}_{C}$"
      ],
      "text/plain": [
       "Eq(P_VC[C]*VC[C], (X[C, 0] + X[C, 1] + X[C, 2])*P_X[C])"
      ]
     },
     "metadata": {},
     "output_type": "display_data"
    }
   ],
   "source": [
    "for eq in expand_obj_by_indices(mod.equations[0], coords, dims=None):\n",
    "    display(eq.symbolic_eq.doit())"
   ]
  },
  {
   "cell_type": "markdown",
   "id": "bb264ab3",
   "metadata": {},
   "source": [
    "### Second try: limited transpose\n",
    "\n",
    "Flip i and j on P_X"
   ]
  },
  {
   "cell_type": "code",
   "execution_count": 40,
   "id": "bce3597b",
   "metadata": {},
   "outputs": [],
   "source": [
    "eq = Equation(\"Value chain of section <dim:i>\", \"VC * P_VC = Sum(P_X.subs({i:j}) * X, (j, 0, 2))\")\n",
    "\n",
    "mod = CGEModel(compile=False, coords=coords)\n",
    "mod.add_variables([x, p_x, vc, p_vc])\n",
    "mod.add_parameters([psi_x])\n",
    "mod.add_sympy_equation(eq)"
   ]
  },
  {
   "cell_type": "markdown",
   "id": "db7843ba",
   "metadata": {},
   "source": [
    "This is actually quite close, but we're summing down the columns not the rows. Notice that the first index of X is fixed, so we're \"sliding\" along the 2nd index, which is the columns. This is equivalent to `sum(axis=1)`."
   ]
  },
  {
   "cell_type": "code",
   "execution_count": 42,
   "id": "0e880b3a",
   "metadata": {},
   "outputs": [
    {
     "data": {
      "text/latex": [
       "$\\displaystyle {P_{VC}}_{i} {VC}_{i} = \\sum_{j=0}^{2} {P_{X}}_{j} {X}_{i,j}$"
      ],
      "text/plain": [
       "Value chain of section <dim:i>"
      ]
     },
     "execution_count": 42,
     "metadata": {},
     "output_type": "execute_result"
    }
   ],
   "source": [
    "mod.equations[0]"
   ]
  },
  {
   "cell_type": "code",
   "execution_count": 43,
   "id": "40d34620",
   "metadata": {},
   "outputs": [
    {
     "data": {
      "text/latex": [
       "$\\displaystyle {P_{VC}}_{A} {VC}_{A} = {P_{X}}_{0} {X}_{A,0} + {P_{X}}_{1} {X}_{A,1} + {P_{X}}_{2} {X}_{A,2}$"
      ],
      "text/plain": [
       "Eq(P_VC[A]*VC[A], P_X[0]*X[A, 0] + P_X[1]*X[A, 1] + P_X[2]*X[A, 2])"
      ]
     },
     "metadata": {},
     "output_type": "display_data"
    },
    {
     "data": {
      "text/latex": [
       "$\\displaystyle {P_{VC}}_{B} {VC}_{B} = {P_{X}}_{0} {X}_{B,0} + {P_{X}}_{1} {X}_{B,1} + {P_{X}}_{2} {X}_{B,2}$"
      ],
      "text/plain": [
       "Eq(P_VC[B]*VC[B], P_X[0]*X[B, 0] + P_X[1]*X[B, 1] + P_X[2]*X[B, 2])"
      ]
     },
     "metadata": {},
     "output_type": "display_data"
    },
    {
     "data": {
      "text/latex": [
       "$\\displaystyle {P_{VC}}_{C} {VC}_{C} = {P_{X}}_{0} {X}_{C,0} + {P_{X}}_{1} {X}_{C,1} + {P_{X}}_{2} {X}_{C,2}$"
      ],
      "text/plain": [
       "Eq(P_VC[C]*VC[C], P_X[0]*X[C, 0] + P_X[1]*X[C, 1] + P_X[2]*X[C, 2])"
      ]
     },
     "metadata": {},
     "output_type": "display_data"
    }
   ],
   "source": [
    "for eq in expand_obj_by_indices(mod.equations[0], coords, dims=None):\n",
    "    display(eq.symbolic_eq.doit())"
   ]
  },
  {
   "cell_type": "markdown",
   "id": "cd3ff9b7",
   "metadata": {},
   "source": [
    "### Third try: Transpose everything\n",
    "\n",
    "So this is the only way I know it works. Pretty ugly though."
   ]
  },
  {
   "cell_type": "code",
   "execution_count": 47,
   "id": "d020f00f",
   "metadata": {},
   "outputs": [],
   "source": [
    "eq = Equation(\n",
    "    \"Value chain of section <dim:i>\",\n",
    "    \"(VC * P_VC) = Sum(P_X.subs({i:j}) * X.subs([(i,z), (j, i), (z,j)]), (j, 0, 2))\",\n",
    ")\n",
    "mod = CGEModel(compile=False, coords=coords)\n",
    "mod.add_variables([x, p_x, vc, p_vc])\n",
    "mod.add_parameters([psi_x])\n",
    "mod.add_sympy_equation(eq)"
   ]
  },
  {
   "cell_type": "code",
   "execution_count": 48,
   "id": "26484f2d",
   "metadata": {},
   "outputs": [
    {
     "data": {
      "text/latex": [
       "$\\displaystyle {P_{VC}}_{i} {VC}_{i} = \\sum_{j=0}^{2} {P_{X}}_{j} {X}_{j,i}$"
      ],
      "text/plain": [
       "Value chain of section <dim:i>"
      ]
     },
     "execution_count": 48,
     "metadata": {},
     "output_type": "execute_result"
    }
   ],
   "source": [
    "mod.equations[0]"
   ]
  },
  {
   "cell_type": "code",
   "execution_count": 49,
   "id": "41fc2360",
   "metadata": {},
   "outputs": [
    {
     "data": {
      "text/latex": [
       "$\\displaystyle {P_{VC}}_{A} {VC}_{A} = {P_{X}}_{0} {X}_{0,A} + {P_{X}}_{1} {X}_{1,A} + {P_{X}}_{2} {X}_{2,A}$"
      ],
      "text/plain": [
       "Eq(P_VC[A]*VC[A], P_X[0]*X[0, A] + P_X[1]*X[1, A] + P_X[2]*X[2, A])"
      ]
     },
     "metadata": {},
     "output_type": "display_data"
    },
    {
     "data": {
      "text/latex": [
       "$\\displaystyle {P_{VC}}_{B} {VC}_{B} = {P_{X}}_{0} {X}_{0,B} + {P_{X}}_{1} {X}_{1,B} + {P_{X}}_{2} {X}_{2,B}$"
      ],
      "text/plain": [
       "Eq(P_VC[B]*VC[B], P_X[0]*X[0, B] + P_X[1]*X[1, B] + P_X[2]*X[2, B])"
      ]
     },
     "metadata": {},
     "output_type": "display_data"
    },
    {
     "data": {
      "text/latex": [
       "$\\displaystyle {P_{VC}}_{C} {VC}_{C} = {P_{X}}_{0} {X}_{0,C} + {P_{X}}_{1} {X}_{1,C} + {P_{X}}_{2} {X}_{2,C}$"
      ],
      "text/plain": [
       "Eq(P_VC[C]*VC[C], P_X[0]*X[0, C] + P_X[1]*X[1, C] + P_X[2]*X[2, C])"
      ]
     },
     "metadata": {},
     "output_type": "display_data"
    }
   ],
   "source": [
    "for eq in expand_obj_by_indices(mod.equations[0], coords, dims=None):\n",
    "    display(eq.symbolic_eq.doit())"
   ]
  },
  {
   "cell_type": "code",
   "execution_count": 36,
   "id": "073ec7b5",
   "metadata": {},
   "outputs": [],
   "source": [
    "eq = Equation(\n",
    "    \"Value chain of section <dim:i>\",\n",
    "    \"VC * P_VC = Sum(P_X.subs({i:j}) * X.subs([(i,z), (j, i), (z,j)]), (j, 0, 2))\",\n",
    ")\n",
    "mod = CGEModel(compile=False, coords=coords)\n",
    "mod.add_variables([x, p_x, vc, p_vc])\n",
    "mod.add_parameters([psi_x])\n",
    "mod.add_sympy_equation(eq)"
   ]
  },
  {
   "cell_type": "code",
   "execution_count": 37,
   "id": "443ffc49",
   "metadata": {},
   "outputs": [
    {
     "data": {
      "text/latex": [
       "$\\displaystyle {P_{VC}}_{A} {VC}_{A} = {P_{X}}_{0} {X}_{0,A} + {P_{X}}_{1} {X}_{1,A} + {P_{X}}_{2} {X}_{2,A}$"
      ],
      "text/plain": [
       "Eq(P_VC[A]*VC[A], P_X[0]*X[0, A] + P_X[1]*X[1, A] + P_X[2]*X[2, A])"
      ]
     },
     "metadata": {},
     "output_type": "display_data"
    },
    {
     "data": {
      "text/latex": [
       "$\\displaystyle {P_{VC}}_{B} {VC}_{B} = {P_{X}}_{0} {X}_{0,B} + {P_{X}}_{1} {X}_{1,B} + {P_{X}}_{2} {X}_{2,B}$"
      ],
      "text/plain": [
       "Eq(P_VC[B]*VC[B], P_X[0]*X[0, B] + P_X[1]*X[1, B] + P_X[2]*X[2, B])"
      ]
     },
     "metadata": {},
     "output_type": "display_data"
    },
    {
     "data": {
      "text/latex": [
       "$\\displaystyle {P_{VC}}_{C} {VC}_{C} = {P_{X}}_{0} {X}_{0,C} + {P_{X}}_{1} {X}_{1,C} + {P_{X}}_{2} {X}_{2,C}$"
      ],
      "text/plain": [
       "Eq(P_VC[C]*VC[C], P_X[0]*X[0, C] + P_X[1]*X[1, C] + P_X[2]*X[2, C])"
      ]
     },
     "metadata": {},
     "output_type": "display_data"
    }
   ],
   "source": [
    "for eq in expand_obj_by_indices(mod.equations[0], coords, dims=None):\n",
    "    display(eq.symbolic_eq.doit())"
   ]
  },
  {
   "cell_type": "markdown",
   "id": "c6dff3c5",
   "metadata": {},
   "source": [
    "# Non-square case\n",
    "\n",
    "Now suppose we have a situation where the market isn't symmetric -- the `j` firms buy from the `i` firms, but NOT vice-versa."
   ]
  },
  {
   "cell_type": "code",
   "execution_count": 50,
   "id": "254e96ca",
   "metadata": {},
   "outputs": [],
   "source": [
    "X = pm.draw(pm.NegativeBinomial.dist(mu=100, alpha=10, shape=(3, 2)))\n",
    "P_X = 1 + pm.draw(pm.Beta.dist(alpha=1, beta=3, size=(3,)))\n",
    "\n",
    "VC = X.sum(axis=0)\n",
    "phi_X = X / VC\n",
    "P_VC = (X * P_X[:, None]).sum(axis=0) / VC"
   ]
  },
  {
   "cell_type": "markdown",
   "id": "04e3f1ed",
   "metadata": {},
   "source": [
    "In the vectorized case, nothing changes."
   ]
  },
  {
   "cell_type": "code",
   "execution_count": 51,
   "id": "60c9dfb7",
   "metadata": {},
   "outputs": [
    {
     "data": {
      "text/plain": [
       "True"
      ]
     },
     "execution_count": 51,
     "metadata": {},
     "output_type": "execute_result"
    }
   ],
   "source": [
    "np.allclose(VC * P_VC, (X * P_X[:, None]).sum(axis=0))"
   ]
  },
  {
   "cell_type": "markdown",
   "id": "75771f85",
   "metadata": {},
   "source": [
    "In the Sympy case, we now get shape errors if we try to transpose I think"
   ]
  },
  {
   "cell_type": "code",
   "execution_count": 59,
   "id": "522f3ef3",
   "metadata": {},
   "outputs": [],
   "source": [
    "coords = {\"i\": [\"A\", \"B\", \"C\"], \"j\": [\"D\", \"E\"]}\n",
    "\n",
    "vc = Variable(\"VC\", dims=[\"j\"], description=\"Value chain of the <dim:j> sector\")\n",
    "p_vc = Variable(\"P_VC\", dims=[\"j\"], description=\"Price of <dim:j> sector value chain\")\n",
    "\n",
    "eq = Equation(\n",
    "    \"Value chain of section <dim:i>\",\n",
    "    \"(VC * P_VC).subs({i:j}) = Sum(P_X * X.subs([(i,z), (j, i), (z,j)]), (i, 0, 2))\",\n",
    ")\n",
    "mod = CGEModel(compile=False, coords=coords)\n",
    "mod.add_variables([x, p_x, vc, p_vc])\n",
    "mod.add_parameters([psi_x])\n",
    "mod.add_sympy_equation(eq)"
   ]
  },
  {
   "cell_type": "code",
   "execution_count": 61,
   "id": "c9d90396",
   "metadata": {},
   "outputs": [
    {
     "data": {
      "text/latex": [
       "$\\displaystyle {P_{VC}}_{j} {VC}_{j} = \\sum_{i=0}^{2} {P_{X}}_{i} {X}_{j,i}$"
      ],
      "text/plain": [
       "Value chain of section <dim:i>"
      ]
     },
     "execution_count": 61,
     "metadata": {},
     "output_type": "execute_result"
    }
   ],
   "source": [
    "mod.equations[0]"
   ]
  },
  {
   "cell_type": "code",
   "execution_count": 60,
   "id": "3f4e369d",
   "metadata": {},
   "outputs": [
    {
     "data": {
      "text/latex": [
       "$\\displaystyle {P_{VC}}_{D} {VC}_{D} = {P_{X}}_{0} {X}_{D,0} + {P_{X}}_{1} {X}_{D,1} + {P_{X}}_{2} {X}_{D,2}$"
      ],
      "text/plain": [
       "Eq(P_VC[D]*VC[D], P_X[0]*X[D, 0] + P_X[1]*X[D, 1] + P_X[2]*X[D, 2])"
      ]
     },
     "metadata": {},
     "output_type": "display_data"
    },
    {
     "data": {
      "text/latex": [
       "$\\displaystyle {P_{VC}}_{e} {VC}_{e} = {P_{X}}_{0} {X}_{e,0} + {P_{X}}_{1} {X}_{e,1} + {P_{X}}_{2} {X}_{e,2}$"
      ],
      "text/plain": [
       "Eq(P_VC[E]*VC[E], P_X[0]*X[E, 0] + P_X[1]*X[E, 1] + P_X[2]*X[E, 2])"
      ]
     },
     "metadata": {},
     "output_type": "display_data"
    }
   ],
   "source": [
    "for eq in expand_obj_by_indices(mod.equations[0], coords, dims=None):\n",
    "    display(eq.symbolic_eq.doit())"
   ]
  },
  {
   "cell_type": "code",
   "execution_count": 62,
   "id": "e5dbd29a",
   "metadata": {},
   "outputs": [],
   "source": [
    "eq = Equation(\"Value chain of section <dim:i>\", \"VC * P_VC = Sum(P_X * X, (i, 0, 2))\")\n",
    "mod = CGEModel(compile=False, coords=coords)\n",
    "mod.add_variables([x, p_x, vc, p_vc])\n",
    "mod.add_parameters([psi_x])\n",
    "mod.add_sympy_equation(eq)"
   ]
  },
  {
   "cell_type": "code",
   "execution_count": 63,
   "id": "301031a3",
   "metadata": {},
   "outputs": [
    {
     "data": {
      "text/latex": [
       "$\\displaystyle {P_{VC}}_{D} {VC}_{D} = {P_{X}}_{0} {X}_{0,D} + {P_{X}}_{1} {X}_{1,D} + {P_{X}}_{2} {X}_{2,D}$"
      ],
      "text/plain": [
       "Eq(P_VC[D]*VC[D], P_X[0]*X[0, D] + P_X[1]*X[1, D] + P_X[2]*X[2, D])"
      ]
     },
     "metadata": {},
     "output_type": "display_data"
    },
    {
     "data": {
      "text/latex": [
       "$\\displaystyle {P_{VC}}_{e} {VC}_{e} = {P_{X}}_{0} {X}_{0,e} + {P_{X}}_{1} {X}_{1,e} + {P_{X}}_{2} {X}_{2,e}$"
      ],
      "text/plain": [
       "Eq(P_VC[E]*VC[E], P_X[0]*X[0, E] + P_X[1]*X[1, E] + P_X[2]*X[2, E])"
      ]
     },
     "metadata": {},
     "output_type": "display_data"
    }
   ],
   "source": [
    "for eq in expand_obj_by_indices(mod.equations[0], coords, dims=None):\n",
    "    display(eq.symbolic_eq.doit())"
   ]
  },
  {
   "cell_type": "code",
   "execution_count": null,
   "id": "70f53786",
   "metadata": {},
   "outputs": [],
   "source": []
  }
 ],
 "metadata": {
  "kernelspec": {
   "display_name": "Python 3 (ipykernel)",
   "language": "python",
   "name": "python3"
  },
  "language_info": {
   "codemirror_mode": {
    "name": "ipython",
    "version": 3
   },
   "file_extension": ".py",
   "mimetype": "text/x-python",
   "name": "python",
   "nbconvert_exporter": "python",
   "pygments_lexer": "ipython3",
   "version": "3.11.6"
  },
  "toc": {
   "base_numbering": 1,
   "nav_menu": {},
   "number_sections": true,
   "sideBar": true,
   "skip_h1_title": false,
   "title_cell": "Table of Contents",
   "title_sidebar": "Contents",
   "toc_cell": false,
   "toc_position": {},
   "toc_section_display": true,
   "toc_window_display": false
  }
 },
 "nbformat": 4,
 "nbformat_minor": 5
}
