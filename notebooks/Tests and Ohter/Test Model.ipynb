{
 "cells": [
  {
   "cell_type": "code",
   "execution_count": 1,
   "id": "87d47940",
   "metadata": {},
   "outputs": [],
   "source": [
    "import sys\n",
    "\n",
    "sys.path.append(\"..\")\n",
    "from cge_modeling import CGEModel, Variable, Parameter, Equation\n",
    "import pandas as pd\n",
    "import numpy as np\n",
    "\n",
    "import matplotlib.pyplot as plt"
   ]
  },
  {
   "cell_type": "code",
   "execution_count": 2,
   "id": "e8c21390",
   "metadata": {},
   "outputs": [],
   "source": [
    "variable_info = [\n",
    "    Variable(\n",
    "        name=\"Y\",\n",
    "        description=\"Total output\",\n",
    "    ),\n",
    "    Variable(name=\"C\", description=\"Household consumption\"),\n",
    "    Variable(name=\"r\", description=\"Rental rate of capital\"),\n",
    "    Variable(name=\"P\", description=\"Price level of consumption good\"),\n",
    "    Variable(name=\"w\", description=\"Wage level\"),\n",
    "    Variable(name=\"resid\", latex_name=\"varepsilon\", description=\"Walrasian residual\"),\n",
    "]\n",
    "\n",
    "param_info = [\n",
    "    Parameter(name=\"L\", description=\"Household labor\"),\n",
    "    Parameter(name=\"K\", description=\"Capital stock\"),\n",
    "    Parameter(name=\"alpha\", description=\"Share of capital in production\"),\n",
    "    Parameter(name=\"A\", description=\"Total factor productivity\"),\n",
    "    Parameter(name=\"w_bar\", latex_name=r\"\\bar{w}\", description=\"Numeraire wage level\"),\n",
    "]\n",
    "\n",
    "equations = [\n",
    "    Equation(\"Production function\", \"Y = A * K ^ alpha * L ^ (1 - alpha)\"),\n",
    "    Equation(\"Demand for capital\", \"K = alpha * Y * P / r\"),\n",
    "    Equation(\"Demand for labor\", \"L = (1 - alpha) * Y * P / w\"),\n",
    "    Equation(\"Budget constraint\", \"C * P = K * r + L * w\"),\n",
    "    Equation(\"Total resource constraint\", \"Y = C + resid\"),\n",
    "    Equation(\"Numeraire\", \"w = w_bar\"),\n",
    "]"
   ]
  },
  {
   "cell_type": "code",
   "execution_count": 3,
   "id": "8d9b29c9",
   "metadata": {},
   "outputs": [],
   "source": [
    "mod = CGEModel(coords=None, variables=variable_info, parameters=param_info, equations=equations)"
   ]
  },
  {
   "cell_type": "code",
   "execution_count": 4,
   "id": "c8e5e579",
   "metadata": {},
   "outputs": [
    {
     "data": {
      "text/latex": [
       "\n",
       "\t\n",
       "\t\t\\begin{array}{|c|c|}\n",
       "\t\t\t\\hline\n",
       "\t\t\t\\textbf{Symbol} & \\textbf{Description} \\\\\n",
       "\t\t\t\\hline\n",
       "\t\t\tY & \\text{Total output} \\\\\n",
       "\t\t\t\\hline\n",
       "\t\t\tC & \\text{Household consumption} \\\\\n",
       "\t\t\t\\hline\n",
       "\t\t\tr & \\text{Rental rate of capital} \\\\\n",
       "\t\t\t\\hline\n",
       "\t\t\tP & \\text{Price level of consumption good} \\\\\n",
       "\t\t\t\\hline\n",
       "\t\t\tw & \\text{Wage level} \\\\\n",
       "\t\t\t\\hline\n",
       "\t\t\t\\varepsilon & \\text{Walrasian residual} \\\\\n",
       "\t\t\t\\hline\n",
       "\t\t\tL & \\text{Household labor} \\\\\n",
       "\t\t\t\\hline\n",
       "\t\t\tK & \\text{Capital stock} \\\\\n",
       "\t\t\t\\hline\n",
       "\t\t\t\\alpha & \\text{Share of capital in production} \\\\\n",
       "\t\t\t\\hline\n",
       "\t\t\tA & \\text{Total factor productivity} \\\\\n",
       "\t\t\t\\hline\n",
       "\t\t\t\\bar{w} & \\text{Numeraire wage level} \\\\\n",
       "\t\t\t\\hline\n",
       "\t\t\\end{array}\n",
       "\t\n"
      ],
      "text/plain": [
       "<IPython.core.display.Latex object>"
      ]
     },
     "metadata": {},
     "output_type": "display_data"
    }
   ],
   "source": [
    "mod.summary()"
   ]
  },
  {
   "cell_type": "code",
   "execution_count": 5,
   "id": "2f8c5fab",
   "metadata": {},
   "outputs": [
    {
     "data": {
      "text/latex": [
       "\n",
       "\t\n",
       "\t\t\\begin{array}{|c|c|c|}\n",
       "\t\t\t\\hline\n",
       "\t\t\t\\textbf{} & \\textbf{Name} & \\textbf{Equation} \\\\\n",
       "\t\t\t\\hline\n",
       "\t\t\t1 & \\text{Production function} & Y = A K^{\\alpha} L^{1 - \\alpha} \\\\\n",
       "\t\t\t\\hline\n",
       "\t\t\t2 & \\text{Demand for capital} & K = \\frac{P Y \\alpha}{r} \\\\\n",
       "\t\t\t\\hline\n",
       "\t\t\t3 & \\text{Demand for labor} & L = \\frac{P Y \\left(1 - \\alpha\\right)}{w} \\\\\n",
       "\t\t\t\\hline\n",
       "\t\t\t4 & \\text{Budget constraint} & C P = K r + L w \\\\\n",
       "\t\t\t\\hline\n",
       "\t\t\t5 & \\text{Total resource constraint} & Y = C + \\varepsilon \\\\\n",
       "\t\t\t\\hline\n",
       "\t\t\t6 & \\text{Numeraire} & w = \\bar{w} \\\\\n",
       "\t\t\t\\hline\n",
       "\t\t\\end{array}\n",
       "\t\n"
      ],
      "text/plain": [
       "<IPython.core.display.Latex object>"
      ]
     },
     "metadata": {},
     "output_type": "display_data"
    }
   ],
   "source": [
    "mod.equation_table()"
   ]
  },
  {
   "cell_type": "code",
   "execution_count": 6,
   "id": "7b79b04a",
   "metadata": {},
   "outputs": [],
   "source": [
    "data = {\"L\": 7000, \"K\": 4000, \"P\": 1, \"r\": 1, \"resid\": 0, \"w_bar\": 1}\n",
    "calib_res = mod.calibrate(data)"
   ]
  },
  {
   "cell_type": "code",
   "execution_count": 7,
   "id": "fc045f5a",
   "metadata": {},
   "outputs": [
    {
     "name": "stdout",
     "output_type": "stream",
     "text": [
      "[1.1e+04 1.1e+04 1.0e+00 1.0e+00 1.0e+00 0.0e+00] [7.00000000e+03 4.00000000e+03 7.00000000e-01 1.92607022e+00\n",
      " 1.00000000e+00]\n"
     ]
    }
   ],
   "source": [
    "res = mod.simulate(\n",
    "    calib_res,\n",
    "    name=\"Capital share increase\",\n",
    "    final_values={\"alpha\": 0.7},\n",
    "    n_iter_euler=100,\n",
    "    method=\"trust-krylov\",\n",
    "    options={\"maxiter\": 10000},\n",
    ")"
   ]
  },
  {
   "cell_type": "code",
   "execution_count": 8,
   "id": "601f117a",
   "metadata": {},
   "outputs": [
    {
     "data": {
      "image/png": "[encoded data removed]",
      "text/plain": [
       "<Figure size 1400x400 with 1 Axes>"
      ]
     },
     "metadata": {},
     "output_type": "display_data"
    }
   ],
   "source": [
    "fig, ax = plt.subplots(figsize=(14, 4))\n",
    "res.to_frame().pct_change(axis=1).apply(np.nan_to_num, posinf=0, neginf=0).drop(\n",
    "    columns=\"initial\"\n",
    ").loc[lambda x: round(abs(x.fitted), 5) > 0].plot.bar(ax=ax)\n",
    "ax.axhline(0, c=\"k\", ls=\"--\")\n",
    "plt.show()"
   ]
  },
  {
   "cell_type": "code",
   "execution_count": 9,
   "id": "6924d5b8",
   "metadata": {},
   "outputs": [
    {
     "data": {
      "text/latex": [
       "\n",
       "\t\n",
       "\t\t\\begin{array}{|c|c|c|c|}\n",
       "\t\t\t\\hline\n",
       "\t\t\t\\textbf{Symbol} & \\textbf{Description} & \\textbf{Capital share increase} &  \\\\\n",
       "\t\t\t\\hline\n",
       "\t\t\t &  & \\textbf{Initial} & \\textbf{Final} \\\\\n",
       "\t\t\t\\hline\n",
       "\t\t\tY & \\text{Total output} & 11000 & 9112.626 \\\\\n",
       "\t\t\t\\hline\n",
       "\t\t\tC & \\text{Household consumption} & 11000 & 9112.626 \\\\\n",
       "\t\t\t\\hline\n",
       "\t\t\tr & \\text{Rental rate of capital} & 1 & 4.083 \\\\\n",
       "\t\t\t\\hline\n",
       "\t\t\t\\alpha & \\text{Share of capital in production} & 0.364 & 0.700 \\\\\n",
       "\t\t\t\\hline\n",
       "\t\t\\end{array}\n",
       "\t\n"
      ],
      "text/plain": [
       "<IPython.core.display.Latex object>"
      ]
     },
     "metadata": {},
     "output_type": "display_data"
    }
   ],
   "source": [
    "mod.summary(variables=[\"Y\", \"C\", \"r\", \"alpha\"], results=res)"
   ]
  },
  {
   "cell_type": "code",
   "execution_count": null,
   "id": "e92769aa",
   "metadata": {},
   "outputs": [],
   "source": []
  }
 ],
 "metadata": {
  "kernelspec": {
   "display_name": "Python 3 (ipykernel)",
   "language": "python",
   "name": "python3"
  },
  "language_info": {
   "codemirror_mode": {
    "name": "ipython",
    "version": 3
   },
   "file_extension": ".py",
   "mimetype": "text/x-python",
   "name": "python",
   "nbconvert_exporter": "python",
   "pygments_lexer": "ipython3",
   "version": "3.11.6"
  },
  "toc": {
   "base_numbering": 1,
   "nav_menu": {},
   "number_sections": true,
   "sideBar": true,
   "skip_h1_title": false,
   "title_cell": "Table of Contents",
   "title_sidebar": "Contents",
   "toc_cell": false,
   "toc_position": {},
   "toc_section_display": true,
   "toc_window_display": false
  }
 },
 "nbformat": 4,
 "nbformat_minor": 5
}
