{
 "cells": [
  {
   "cell_type": "code",
   "execution_count": 1,
   "id": "d8cfb30f",
   "metadata": {},
   "outputs": [],
   "source": [
    "import pymc as pm\n",
    "import arviz as az\n",
    "import pytensor\n",
    "import pytensor.tensor as pt\n",
    "import numpy as np\n",
    "\n",
    "import sys\n",
    "\n",
    "sys.path.append(\"../..\")\n",
    "from cge_modeling import CGEModel\n",
    "from cge_modeling.pytensorf.optimize import root\n",
    "from cge_modeling.pytensorf.compile import compile_cge_model_to_pytensor_Op\n",
    "from tests.utilities.models import load_model_1"
   ]
  },
  {
   "cell_type": "code",
   "execution_count": 2,
   "id": "8237b815",
   "metadata": {},
   "outputs": [],
   "source": [
    "mod = load_model_1(backend=\"pytensor\", parse_equations_to_sympy=False)"
   ]
  },
  {
   "cell_type": "code",
   "execution_count": 3,
   "id": "c9b575c7",
   "metadata": {},
   "outputs": [],
   "source": [
    "obs_data = np.array([11000, 11000, 7000, np.nan, 1, 1, 0])\n",
    "not_na = ~np.isnan(obs_data)\n",
    "eye = np.eye(7)\n",
    "Z = eye[not_na, :]\n",
    "not_Z = eye[~not_na, :]"
   ]
  },
  {
   "cell_type": "code",
   "execution_count": 4,
   "id": "00062537",
   "metadata": {},
   "outputs": [],
   "source": [
    "def predict_unobserved(Z, not_Z, mu, cov, y_obs):\n",
    "    mu_o = Z @ mu\n",
    "    mu_u = not_Z @ mu\n",
    "    cov_oo = Z @ cov @ Z.T\n",
    "    cov_uu = not_Z @ cov @ not_Z.T\n",
    "    cov_uo = not_Z @ cov @ Z.T\n",
    "\n",
    "    cov_oo_inv = pt.linalg.solve(cov_oo, pt.identity_like(cov_oo), assume_a=\"pos\")\n",
    "\n",
    "    beta = cov_uo @ cov_oo_inv\n",
    "    resid = y_obs - mu_o\n",
    "\n",
    "    mu_hat = mu_u + beta @ resid\n",
    "    Sigma_hat = cov_uu - beta @ cov_oo @ beta.T\n",
    "\n",
    "    return mu_hat, Sigma_hat"
   ]
  },
  {
   "cell_type": "code",
   "execution_count": 25,
   "id": "422a4cc0",
   "metadata": {},
   "outputs": [],
   "source": [
    "coords = {\n",
    "    \"equation\": np.arange(7, dtype=int),\n",
    "    \"equation_aux\": np.arange(7, dtype=int),\n",
    "    \"variable\": mod.variable_names,\n",
    "    \"obs_variable\": [name for name, observed in zip(mod.variable_names, not_na) if observed],\n",
    "    \"missing_variable\": [\n",
    "        name for name, observed in zip(mod.variable_names, not_na) if not observed\n",
    "    ],\n",
    "    \"parameter\": mod.parameter_names,\n",
    "}\n",
    "\n",
    "with pm.Model(coords=coords) as m:\n",
    "    # Parameters\n",
    "    pm_A = pm.Gamma(\"A\", 2, 1)\n",
    "    pm_alpha = pm.Beta(\"alpha\", 3, 3)\n",
    "    pm_K_s = pm.Normal(\"K_s\", 4000, 100)\n",
    "    pm_L_s = pm.Normal(\"L_s\", 7000, 100)\n",
    "\n",
    "    Y0 = pm.Normal(\"Y\", 11000, 1000)\n",
    "    C0 = pm.Normal(\"C\", 11000, 1000)\n",
    "    Kd0 = pm.Normal(\"K_d\", 4000, 100)\n",
    "    Ld0 = pm.Normal(\"L_d\", 7000, 100)\n",
    "    income0 = pm.Normal(\"income\", 11000, 1000)\n",
    "\n",
    "    input_dict = {\n",
    "        \"Y\": Y0,\n",
    "        \"C\": C0,\n",
    "        \"K_d\": Kd0,\n",
    "        \"L_d\": Ld0,\n",
    "        \"r\": pt.as_tensor_variable(1.0),\n",
    "        \"P\": pt.as_tensor_variable(1.0),\n",
    "        \"resid\": pt.as_tensor_variable(0.0),\n",
    "        \"income\": income0,\n",
    "        \"A\": pm_A,\n",
    "        \"alpha\": pm_alpha,\n",
    "        \"K_s\": pm_K_s,\n",
    "        \"L_s\": pm_L_s,\n",
    "        \"w\": pt.as_tensor_variable(1.0),\n",
    "    }\n",
    "\n",
    "    x0_dict = {k.name: input_dict[k.name].eval() for k in mod.variables}\n",
    "    param_dict = {k.name: input_dict[k.name].eval() for k in mod.parameters}\n",
    "\n",
    "    fake_data = mod.generate_SAM_from_parameters(param_dict, x0_dict)\n",
    "\n",
    "#     f_model, f_jac, f_jac_inv = compile_cge_model_to_pytensor_Op(mod, inverse_method='solve')\n",
    "\n",
    "#     root_histories, converged, step_size, n_steps = root(f_model, f_jac_inv,\n",
    "#                                                          initial_data=x0_dict,\n",
    "#                                                          parameters=param_dict)\n",
    "\n",
    "#     solution = [history[-1] for history in root_histories]\n",
    "#     flat_solution = pt.concatenate([pt.atleast_1d(x).ravel() for x in solution])\n",
    "\n",
    "#     error = pm.Deterministic(\"error\", f_model(*solution, *list(param_dict.values())), dims=[\"equation\"])\n",
    "#     success = pm.Deterministic(\"success\", pt.allclose(error, 0))\n",
    "\n",
    "#     solution_jac = f_jac(*solution, *list(param_dict.values()))\n",
    "#     ls = pm.Gamma('length_scale', 2, 1)\n",
    "#     sigma = pm.HalfNormal(\"sigma\", [10, 10, 10, 10, 0.1, 0.1, 0.1], dims=[\"variable\"])\n",
    "#     cov = sigma ** 2 * pm.gp.cov.Matern32(solution_jac, ls=ls, active_dims=7)\n",
    "\n",
    "#     y_hat = pm.MvNormal(\n",
    "#         \"y_hat\", mu=Z @ flat_solution, cov=Z @ K @ Z.T, dims=[\"obs_variable\"], observed=obs_data[not_na]\n",
    "#     )\n",
    "\n",
    "#         missing_mu, missing_cov = predict_unobserved(Z, not_Z, solution, cov, obs_data[not_na])\n",
    "#     y_missing = pm.MvNormal('y_missing', mu=missing_mu, cov=missing_cov, dims=['missing_variable'])\n",
    "\n",
    "#     pm.Potential(\"optimizer_failure\", pt.switch(success, 0, -np.inf))\n",
    "\n",
    "#     idata = pm.sample(nuts_sampler=\"numpyro\")\n",
    "#     idata = pm.sample_prior_predictive()\n",
    "#     idata = pm.sample_smc(kernel=pm.smc.MH,\n",
    "#                           draws=5_000,\n",
    "#                           correlation_threshold=1e-2,\n",
    "#                           threshold=0.5,\n",
    "#                           chains=4,\n",
    "\n",
    "#                           progressbar=False)"
   ]
  },
  {
   "cell_type": "code",
   "execution_count": 26,
   "id": "1b32d3f9",
   "metadata": {},
   "outputs": [
    {
     "data": {
      "text/plain": [
       "{'Y': array(3654.52091352),\n",
       " 'L_d': array(6895.3077747),\n",
       " 'K_d': array(4074.69001939),\n",
       " 'C': array(3654.52091352),\n",
       " 'income': array(13294.54667584),\n",
       " 'r': array(1.57048484),\n",
       " 'P': array(3.63783571),\n",
       " 'resid': array(9.79790665e-09)}"
      ]
     },
     "execution_count": 26,
     "metadata": {},
     "output_type": "execute_result"
    }
   ],
   "source": [
    "fake_data"
   ]
  },
  {
   "cell_type": "code",
   "execution_count": 7,
   "id": "0ca89574",
   "metadata": {},
   "outputs": [
    {
     "ename": "NameError",
     "evalue": "name 'idata' is not defined",
     "output_type": "error",
     "traceback": [
      "\u001b[0;31m---------------------------------------------------------------------------\u001b[0m",
      "\u001b[0;31mNameError\u001b[0m                                 Traceback (most recent call last)",
      "Cell \u001b[0;32mIn[7], line 2\u001b[0m\n\u001b[1;32m      1\u001b[0m var_names \u001b[38;5;241m=\u001b[39m [\u001b[38;5;124m\"\u001b[39m\u001b[38;5;124m~root\u001b[39m\u001b[38;5;124m\"\u001b[39m, \u001b[38;5;124m\"\u001b[39m\u001b[38;5;124m~params\u001b[39m\u001b[38;5;124m\"\u001b[39m, \u001b[38;5;124m\"\u001b[39m\u001b[38;5;124m~x0\u001b[39m\u001b[38;5;124m\"\u001b[39m, \u001b[38;5;124m\"\u001b[39m\u001b[38;5;124m~error\u001b[39m\u001b[38;5;124m\"\u001b[39m, \u001b[38;5;124m\"\u001b[39m\u001b[38;5;124m~success\u001b[39m\u001b[38;5;124m\"\u001b[39m]\n\u001b[0;32m----> 2\u001b[0m az\u001b[38;5;241m.\u001b[39msummary(\u001b[43midata\u001b[49m, var_names\u001b[38;5;241m=\u001b[39mvar_names)\n",
      "\u001b[0;31mNameError\u001b[0m: name 'idata' is not defined"
     ]
    }
   ],
   "source": [
    "var_names = [\"~root\", \"~params\", \"~x0\", \"~error\", \"~success\"]\n",
    "az.summary(idata, var_names=var_names)"
   ]
  },
  {
   "cell_type": "code",
   "execution_count": null,
   "id": "c7e8aa07",
   "metadata": {},
   "outputs": [],
   "source": []
  }
 ],
 "metadata": {
  "kernelspec": {
   "display_name": "Python 3 (ipykernel)",
   "language": "python",
   "name": "python3"
  },
  "language_info": {
   "codemirror_mode": {
    "name": "ipython",
    "version": 3
   },
   "file_extension": ".py",
   "mimetype": "text/x-python",
   "name": "python",
   "nbconvert_exporter": "python",
   "pygments_lexer": "ipython3",
   "version": "3.11.6"
  },
  "toc": {
   "base_numbering": 1,
   "nav_menu": {},
   "number_sections": true,
   "sideBar": true,
   "skip_h1_title": false,
   "title_cell": "Table of Contents",
   "title_sidebar": "Contents",
   "toc_cell": false,
   "toc_position": {},
   "toc_section_display": true,
   "toc_window_display": false
  }
 },
 "nbformat": 4,
 "nbformat_minor": 5
}
