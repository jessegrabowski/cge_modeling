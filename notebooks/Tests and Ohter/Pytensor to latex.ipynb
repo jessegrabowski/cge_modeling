{
 "cells": [
  {
   "cell_type": "markdown",
   "id": "b88a5a8b",
   "metadata": {},
   "source": [
    "# Goal\n",
    "\n",
    "I want to walk a simple pytensor graph and create a latex equation from it."
   ]
  },
  {
   "cell_type": "code",
   "execution_count": 1,
   "id": "4fb4ee5a",
   "metadata": {},
   "outputs": [],
   "source": [
    "import pytensor\n",
    "import pytensor.tensor as pt"
   ]
  },
  {
   "cell_type": "code",
   "execution_count": 22,
   "id": "23fe9110",
   "metadata": {},
   "outputs": [
    {
     "data": {
      "text/plain": [
       "Elemwise(scalar_op=add,inplace_pattern=<frozendict {}>)"
      ]
     },
     "execution_count": 22,
     "metadata": {},
     "output_type": "execute_result"
    }
   ],
   "source": []
  },
  {
   "cell_type": "code",
   "execution_count": 42,
   "id": "dd371ef6",
   "metadata": {},
   "outputs": [],
   "source": [
    "def print_add(inputs):\n",
    "    return '+'.join([x.name for x in inputs])\n",
    "\n",
    "\n",
    "def print_mul(inputs):\n",
    "    return '*'.join([x.name for x in inputs])\n",
    "\n",
    "def print_dimshuffle(inputs):\n",
    "    return ''\n",
    "\n",
    "\n",
    "PRINT_FUNC_FACTORY = {\n",
    "    pt.add: print_add,\n",
    "    pt.mul: print_mul,\n",
    "    :print_dimshuffle\n",
    "}\n",
    "\n",
    "def latex_print_node(node):\n",
    "    inputs = node.inputs\n",
    "    printf = PRINT_FUNC_FACTORY[node.op]\n",
    "    \n",
    "    return printf(inputs)"
   ]
  },
  {
   "cell_type": "code",
   "execution_count": 43,
   "id": "20c41112",
   "metadata": {},
   "outputs": [],
   "source": [
    "x = pt.tensor(\"x\", shape=(None,))\n",
    "y = pt.tensor(\"y\", shape=(None,))\n",
    "z = x + y\n",
    "a = 2 * z\n",
    "\n",
    "fg = pytensor.graph.FunctionGraph(outputs=[a])"
   ]
  },
  {
   "cell_type": "code",
   "execution_count": 46,
   "id": "1ae23bfc",
   "metadata": {},
   "outputs": [
    {
     "name": "stdout",
     "output_type": "stream",
     "text": [
      "Add(x, y)\n",
      "ExpandDims{axis=0}(2)\n",
      "Mul(ExpandDims{axis=0}.0, Add.0)\n"
     ]
    }
   ],
   "source": [
    "for expr in fg.toposort():\n",
    "    print(expr)"
   ]
  },
  {
   "cell_type": "code",
   "execution_count": 21,
   "id": "67fc9e2a",
   "metadata": {},
   "outputs": [
    {
     "data": {
      "text/plain": [
       "[x, y]"
      ]
     },
     "execution_count": 21,
     "metadata": {},
     "output_type": "execute_result"
    }
   ],
   "source": [
    "expr.inputs"
   ]
  },
  {
   "cell_type": "code",
   "execution_count": 8,
   "id": "8fed4051",
   "metadata": {},
   "outputs": [
    {
     "name": "stdout",
     "output_type": "stream",
     "text": [
      "Add [id A]\n",
      " ├─ x [id B]\n",
      " └─ y [id C]\n"
     ]
    },
    {
     "data": {
      "text/plain": [
       "<ipykernel.iostream.OutStream at 0x112dbfeb0>"
      ]
     },
     "execution_count": 8,
     "metadata": {},
     "output_type": "execute_result"
    }
   ],
   "source": [
    "pytensor.dprint(z)"
   ]
  },
  {
   "cell_type": "code",
   "execution_count": null,
   "id": "564981ee",
   "metadata": {},
   "outputs": [],
   "source": []
  }
 ],
 "metadata": {
  "kernelspec": {
   "display_name": "Python 3 (ipykernel)",
   "language": "python",
   "name": "python3"
  },
  "language_info": {
   "codemirror_mode": {
    "name": "ipython",
    "version": 3
   },
   "file_extension": ".py",
   "mimetype": "text/x-python",
   "name": "python",
   "nbconvert_exporter": "python",
   "pygments_lexer": "ipython3",
   "version": "3.11.6"
  },
  "toc": {
   "base_numbering": 1,
   "nav_menu": {},
   "number_sections": true,
   "sideBar": true,
   "skip_h1_title": false,
   "title_cell": "Table of Contents",
   "title_sidebar": "Contents",
   "toc_cell": false,
   "toc_position": {},
   "toc_section_display": true,
   "toc_window_display": false
  }
 },
 "nbformat": 4,
 "nbformat_minor": 5
}
