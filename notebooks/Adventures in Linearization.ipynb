{
 "cells": [
  {
   "cell_type": "code",
   "execution_count": 4,
   "id": "5b9928f1-152f-4dfe-97b7-f7527ba86705",
   "metadata": {},
   "outputs": [],
   "source": [
    "import sympy as sp\n",
    "from sympy import factorial, Matrix, prod\n",
    "import itertools\n",
    "import numba as nb\n",
    "\n",
    "\n",
    "def mv_series(function_expression, variable_list, evaluation_point, degree):\n",
    "    \"\"\"\n",
    "    Calculate the multivariate Taylor polynomial using SymPy.\n",
    "\n",
    "    Parameters\n",
    "    ----------\n",
    "    function_expression : sympy.Expr\n",
    "        Sympy expression of the function.\n",
    "    variable_list : list of sympy.Symbol\n",
    "        List of variables to be approximated (to be \"Taylorized\").\n",
    "    evaluation_point : list of float\n",
    "        Coordinates where the function will be expressed.\n",
    "    degree : int\n",
    "        Total degree of the Taylor polynomial.\n",
    "\n",
    "    Returns\n",
    "    -------\n",
    "    sympy.Expr\n",
    "        Returns a Sympy expression of the Taylor series up to a given degree,\n",
    "        of a given multivariate expression, approximated as a multivariate polynomial\n",
    "        evaluated at the evaluation_point.\n",
    "\n",
    "    References\n",
    "    ----------\n",
    "    - Mathematical formulation reference:\n",
    "      https://math.libretexts.org/Bookshelves/Calculus/Supplemental_Modules_(Calculus)/Multivariable_Calculus/3%3A_Topics_in_Partial_Derivatives/Taylor__Polynomials_of_Functions_of_Two_Variables\n",
    "    \"\"\"\n",
    "    n_var = len(variable_list)\n",
    "    point_coordinates = [(i, j) for i, j in zip(variable_list, evaluation_point)]\n",
    "\n",
    "    polynomial = 0\n",
    "\n",
    "    for total_degree in range(degree + 1):\n",
    "        for indices in itertools.combinations_with_replacement(range(n_var), total_degree):\n",
    "            deriv_orders_as_input = list(sum(zip(variable_list[i] for i in indices), ()))\n",
    "\n",
    "            # Check if the partial derivative is needed (relevant terms are present in the equation)\n",
    "            if any(function_expression.has(sym) for sym in deriv_orders_as_input):\n",
    "                partial_derivative = sp.diff(function_expression, *deriv_orders_as_input).subs(\n",
    "                    point_coordinates\n",
    "                )\n",
    "\n",
    "                # Check if the partial derivative is non-zero at the evaluation point\n",
    "                if partial_derivative.subs(point_coordinates) != 0:\n",
    "                    denominator = sp.prod([factorial(indices.count(i)) for i in range(n_var)])\n",
    "\n",
    "                    # Calculate distances_powered only for the relevant variables\n",
    "                    distances_powered = sp.prod(\n",
    "                        [\n",
    "                            (variable_list[i] - evaluation_point[i]) ** indices.count(i)\n",
    "                            for i in range(n_var)\n",
    "                        ]\n",
    "                    )\n",
    "\n",
    "                    term = partial_derivative / denominator * distances_powered\n",
    "                    polynomial += term\n",
    "\n",
    "    return sp.simplify(polynomial)"
   ]
  },
  {
   "cell_type": "markdown",
   "id": "ee228ec2-c1f9-4c09-9ca9-157144a0283a",
   "metadata": {},
   "source": [
    "# 1d Example"
   ]
  },
  {
   "cell_type": "code",
   "execution_count": 5,
   "id": "67116693-a3d6-465f-80ef-5c5974c0f6b9",
   "metadata": {},
   "outputs": [],
   "source": [
    "x, x0, dx = sp.symbols(\"x x_0 dx\", real=True, positive=True)\n",
    "eq = x**2\n",
    "J = eq.diff(x)\n",
    "\n",
    "linear_eq = 2 * (x - x0) * x0 + x0**2\n",
    "f = sp.lambdify([x, x0], linear_eq)"
   ]
  },
  {
   "cell_type": "code",
   "execution_count": 6,
   "id": "dbd48705-297a-4ba0-8b5f-97ce25c0fabd",
   "metadata": {},
   "outputs": [
    {
     "data": {
      "image/png": "[encoded data removed]",
      "text/plain": [
       "<Figure size 640x480 with 1 Axes>"
      ]
     },
     "metadata": {},
     "output_type": "display_data"
    }
   ],
   "source": [
    "import matplotlib.pyplot as plt\n",
    "import numpy as np\n",
    "\n",
    "fig, ax = plt.subplots()\n",
    "\n",
    "x_init = 1\n",
    "x_final = 10\n",
    "n_steps = 5\n",
    "step_size = (x_final - x_init) / n_steps if n_steps > 0 else x_final\n",
    "ax.plot(x_grid := np.linspace(0, 10, 100), x_grid**2)\n",
    "\n",
    "xs = np.zeros(n_steps + 1)\n",
    "ys = np.zeros(n_steps + 1)\n",
    "xs[0] = x_init\n",
    "ys[0] = 1\n",
    "\n",
    "for t in range(1, n_steps + 1):\n",
    "    xs[t] = xs[t - 1] + step_size\n",
    "    ys[t] = f(xs[t], xs[t - 1])\n",
    "\n",
    "ax.plot(xs, ys, marker=\"o\", label=\"Approximation\")\n",
    "plt.show()"
   ]
  },
  {
   "cell_type": "markdown",
   "id": "b0cc1280-770a-4c84-b776-550eef6f47a9",
   "metadata": {},
   "source": [
    "# 2d example\n",
    "Toy problem from Notes and problems from Applied General Equlibrium Economics, chapter 3"
   ]
  },
  {
   "cell_type": "code",
   "execution_count": 7,
   "id": "2b710ba7-da34-4156-a3b1-d5e197b87a93",
   "metadata": {},
   "outputs": [],
   "source": [
    "endog = v1, v2 = sp.symbols(\"v_1 v_2\", real=True, positive=True)\n",
    "exog = v3 = sp.symbols(\"v_3\", real=True, positive=True)\n",
    "\n",
    "ss_vars = v10, v20, v30 = sp.symbols(\"v_10 v_20 v_30\", real=True, positive=True)\n",
    "\n",
    "equations = [v1**2 * v3 - 1, v1 + v2 - 2]"
   ]
  },
  {
   "cell_type": "code",
   "execution_count": 8,
   "id": "2d038234-ab98-458b-9d1e-44343af36b51",
   "metadata": {},
   "outputs": [],
   "source": [
    "sol = sp.solve(equations, [v1, v2], dict=True)[0]\n",
    "eta = sp.Symbol(\"eta\")\n",
    "elasticities = [y.diff(v3) * v3 / x for x, y in sol.items()]"
   ]
  },
  {
   "cell_type": "code",
   "execution_count": 9,
   "id": "a05831e8-078b-41ff-8b4a-c96302422f34",
   "metadata": {},
   "outputs": [],
   "source": [
    "f_true_1 = sp.lambdify([v3], sp.solve(equations, [v1, v2])[0])\n",
    "f_true = sp.lambdify([v1, v2, v3], elasticities)"
   ]
  },
  {
   "cell_type": "code",
   "execution_count": 10,
   "id": "0c2b4775-1eca-4502-af1f-2c3d32e5ce99",
   "metadata": {},
   "outputs": [],
   "source": [
    "A = sp.Matrix([[eq.diff(x) for x in endog] for eq in equations])\n",
    "B = sp.Matrix([[eq.diff(x) for x in [exog]] for eq in equations])"
   ]
  },
  {
   "cell_type": "code",
   "execution_count": 31,
   "id": "6a2f5b9e",
   "metadata": {},
   "outputs": [
    {
     "data": {
      "text/latex": [
       "$\\displaystyle \\left[\\begin{matrix}v_{1}^{2}\\\\0\\end{matrix}\\right]$"
      ],
      "text/plain": [
       "Matrix([\n",
       "[v_1**2],\n",
       "[     0]])"
      ]
     },
     "execution_count": 31,
     "metadata": {},
     "output_type": "execute_result"
    }
   ],
   "source": [
    "B"
   ]
  },
  {
   "cell_type": "code",
   "execution_count": 45,
   "id": "efa4f87e-317d-46ec-b152-2bc96b53e308",
   "metadata": {},
   "outputs": [],
   "source": [
    "sub_dict = dict(zip(endog + (exog,), ss_vars))\n",
    "\n",
    "A_sub = A.subs(sub_dict)\n",
    "Bv = B.subs(sub_dict) @ sp.Matrix([[v3]])"
   ]
  },
  {
   "cell_type": "code",
   "execution_count": 46,
   "id": "ed695226",
   "metadata": {},
   "outputs": [
    {
     "data": {
      "text/latex": [
       "$\\displaystyle \\left[\\begin{matrix}v_{10}^{2} v_{3}\\\\0\\end{matrix}\\right]$"
      ],
      "text/plain": [
       "Matrix([\n",
       "[v_10**2*v_3],\n",
       "[          0]])"
      ]
     },
     "execution_count": 46,
     "metadata": {},
     "output_type": "execute_result"
    }
   ],
   "source": [
    "Bv"
   ]
  },
  {
   "cell_type": "code",
   "execution_count": 47,
   "id": "48e55c4c-529b-4fed-993f-fb156e65cf49",
   "metadata": {},
   "outputs": [
    {
     "data": {
      "text/latex": [
       "$\\displaystyle \\left[\\begin{matrix}2 v_{10} v_{30} & 0\\\\1 & 1\\end{matrix}\\right]$"
      ],
      "text/plain": [
       "Matrix([\n",
       "[2*v_10*v_30, 0],\n",
       "[          1, 1]])"
      ]
     },
     "execution_count": 47,
     "metadata": {},
     "output_type": "execute_result"
    }
   ],
   "source": [
    "A_sub"
   ]
  },
  {
   "cell_type": "code",
   "execution_count": 48,
   "id": "77879040-3393-4be8-a64a-4edbaa3e01b4",
   "metadata": {},
   "outputs": [],
   "source": [
    "v_A = -sp.Inverse(A_sub) @ Bv"
   ]
  },
  {
   "cell_type": "code",
   "execution_count": 54,
   "id": "860ccb88-11d6-4b6d-a458-586708457432",
   "metadata": {},
   "outputs": [
    {
     "data": {
      "text/latex": [
       "$\\displaystyle \\left[\\begin{matrix}v_{10}^{2} v_{3}\\\\0\\end{matrix}\\right]$"
      ],
      "text/plain": [
       "Matrix([\n",
       "[v_10**2*v_3],\n",
       "[          0]])"
      ]
     },
     "execution_count": 54,
     "metadata": {},
     "output_type": "execute_result"
    }
   ],
   "source": [
    "Bv"
   ]
  },
  {
   "cell_type": "code",
   "execution_count": 50,
   "id": "37d94a0f-b7a6-4bc4-be7a-49960a16ac1c",
   "metadata": {},
   "outputs": [],
   "source": [
    "import sys\n",
    "\n",
    "sys.path.append(\"..\")\n",
    "\n",
    "from cge_modeling.sympy_tools import info_to_symbols, enumerate_indexbase, sub_all_eqs\n",
    "from cge_modeling.production_functions import leontief, cobb_douglass\n",
    "from cge_modeling.base.cge import (\n",
    "    compile_cge_to_numba,\n",
    "    expand_compact_system,\n",
    "    recursive_solve_symbolic,\n",
    "    numba_lambdify,\n",
    ")\n",
    "from cge_modeling.numba_tools import euler_approx"
   ]
  },
  {
   "cell_type": "code",
   "execution_count": 51,
   "id": "28a03019-c113-488a-935d-39905241939b",
   "metadata": {},
   "outputs": [],
   "source": [
    "f_Y = numba_lambdify(exog_vars=[exog], expr=v_A, endog_vars=ss_vars)"
   ]
  },
  {
   "cell_type": "code",
   "execution_count": 55,
   "id": "c7bcac40",
   "metadata": {},
   "outputs": [
    {
     "data": {
      "text/plain": [
       "array([[-1.],\n",
       "       [ 1.]])"
      ]
     },
     "execution_count": 55,
     "metadata": {},
     "output_type": "execute_result"
    }
   ],
   "source": [
    "f_Y(np.array([2]), np.array([1.0, 1.0, 1.0]))"
   ]
  },
  {
   "cell_type": "code",
   "execution_count": 68,
   "id": "cf426273",
   "metadata": {},
   "outputs": [
    {
     "name": "stdout",
     "output_type": "stream",
     "text": [
      "2.18 ms ± 4.25 µs per loop (mean ± std. dev. of 7 runs, 100 loops each)\n"
     ]
    }
   ],
   "source": [
    "%timeit euler_approx(f_Y, np.array([1., 1.]), theta0=np.array([1.]), theta=np.array([2.]), n_steps=10_000)"
   ]
  },
  {
   "cell_type": "code",
   "execution_count": 62,
   "id": "da2d1356",
   "metadata": {},
   "outputs": [],
   "source": [
    "??euler_approx"
   ]
  },
  {
   "cell_type": "code",
   "execution_count": 40,
   "id": "61cb53a5-7e3a-45ed-9954-8fd095be55d0",
   "metadata": {},
   "outputs": [
    {
     "data": {
      "text/latex": [
       "$\\displaystyle \\left[\\begin{matrix}- \\frac{v_{10} v_{3}}{2 v_{30}}\\\\\\frac{v_{10} v_{3}}{2 v_{30}}\\end{matrix}\\right]$"
      ],
      "text/plain": [
       "Matrix([\n",
       "[-v_10*v_3/(2*v_30)],\n",
       "[ v_10*v_3/(2*v_30)]])"
      ]
     },
     "execution_count": 40,
     "metadata": {},
     "output_type": "execute_result"
    }
   ],
   "source": [
    "v_A"
   ]
  },
  {
   "cell_type": "code",
   "execution_count": 78,
   "id": "d17f2973-aeb0-4aee-9705-917c3682cb83",
   "metadata": {},
   "outputs": [
    {
     "data": {
      "text/plain": [
       "array([0.64644661, 1.35355339])"
      ]
     },
     "execution_count": 78,
     "metadata": {},
     "output_type": "execute_result"
    }
   ],
   "source": [
    "x0 = np.ones(2)\n",
    "x0 + f_true(*x0, 2)"
   ]
  },
  {
   "cell_type": "code",
   "execution_count": 83,
   "id": "638f5af4-589c-4bed-abf8-2af72ad6feb0",
   "metadata": {},
   "outputs": [
    {
     "data": {
      "text/plain": [
       "(0.7071067811865475, 1.2928932188134525)"
      ]
     },
     "execution_count": 83,
     "metadata": {},
     "output_type": "execute_result"
    }
   ],
   "source": [
    "f_true_1(2)"
   ]
  },
  {
   "cell_type": "code",
   "execution_count": 82,
   "id": "9508045f-f576-4859-a1e1-f29ef2c65484",
   "metadata": {},
   "outputs": [
    {
     "data": {
      "text/plain": [
       "array([0.70577555, 1.29422445, 2.        ])"
      ]
     },
     "execution_count": 82,
     "metadata": {},
     "output_type": "execute_result"
    }
   ],
   "source": [
    "euler_approx(f_Y, np.array([1, 1]), 1, 2, 100)"
   ]
  },
  {
   "cell_type": "markdown",
   "id": "5a32d1c9-c544-4f71-9d4c-20d31d25c0d6",
   "metadata": {},
   "source": [
    "# Simple CGE"
   ]
  },
  {
   "cell_type": "code",
   "execution_count": 84,
   "id": "e18a68cc-1e64-4050-ab16-f352c657d299",
   "metadata": {},
   "outputs": [],
   "source": [
    "def cobb_douglass(\n",
    "    output: sp.Symbol, tfp: sp.Symbol, inputs: list[sp.Symbol], shares: list[sp.Symbol]\n",
    "):\n",
    "    if len(inputs) != len(shares):\n",
    "        if (len(shares) + 1) != len(inputs):\n",
    "            raise ValueError(\"The length of the shares should len(inputs), or len(inputs) - 1\")\n",
    "        shares.append(1 - sum(shares))\n",
    "\n",
    "    return output - tfp * sp.prod([x**a for x, a in zip(inputs, shares)])"
   ]
  },
  {
   "cell_type": "code",
   "execution_count": 85,
   "id": "46b87080-9b8a-404c-903c-eee00d61ee8f",
   "metadata": {},
   "outputs": [],
   "source": [
    "variables = Y, C, INC, Ld, Kd, r, P, Leon = sp.symbols(\n",
    "    \"Y C INC Ld Kd r P Leon\", positive=True, real=True\n",
    ")\n",
    "parameters = Ls, Ks, A, alpha = sp.symbols(\"Ls Ks A alpha\", positive=True, real=True)\n",
    "\n",
    "# Numeraire\n",
    "w = 1\n",
    "\n",
    "equations = [\n",
    "    cobb_douglass(Y, A, [Kd, Ld], [alpha]),\n",
    "    alpha * P * Y - r * Kd,\n",
    "    (1 - alpha) * P * Y - w * Ld,\n",
    "    INC - w * Ls - r * Ks,\n",
    "    P * C - INC,\n",
    "    C - Y,\n",
    "    Kd - Ks,\n",
    "    Ld - Ls - Leon,\n",
    "]"
   ]
  },
  {
   "cell_type": "code",
   "execution_count": 86,
   "id": "30c76b16-b82b-4fb7-9979-0e702a63dbae",
   "metadata": {},
   "outputs": [
    {
     "data": {
      "text/plain": [
       "[-A*Kd**alpha*Ld**(1 - alpha) + Y,\n",
       " -Kd*r + P*Y*alpha,\n",
       " -Ld + P*Y*(1 - alpha),\n",
       " INC - Ks*r - Ls,\n",
       " C*P - INC,\n",
       " C - Y,\n",
       " Kd - Ks,\n",
       " Ld - Leon - Ls]"
      ]
     },
     "execution_count": 86,
     "metadata": {},
     "output_type": "execute_result"
    }
   ],
   "source": [
    "equations"
   ]
  },
  {
   "cell_type": "code",
   "execution_count": 87,
   "id": "5b4d818f-7da2-47fe-86e4-d869dde721ec",
   "metadata": {},
   "outputs": [],
   "source": [
    "A_mat = sp.Matrix([[eq.diff(x) for x in variables] for eq in equations])\n",
    "B_mat = sp.Matrix([[eq.diff(x) for x in parameters] for eq in equations])"
   ]
  },
  {
   "cell_type": "code",
   "execution_count": 88,
   "id": "f986ec69-2096-40e9-aea1-fbc26e273a93",
   "metadata": {},
   "outputs": [],
   "source": [
    "sub_dict = {x: sp.Symbol(f\"{x.name}_0\", **x._assumptions0) for x in variables + parameters}\n",
    "\n",
    "A_sub = A_mat.subs(sub_dict)\n",
    "Bv = B_mat.subs(sub_dict) @ sp.Matrix([[x] for x in parameters])"
   ]
  },
  {
   "cell_type": "code",
   "execution_count": 129,
   "id": "4055f4ea-a2a3-4d34-963e-5410bf399380",
   "metadata": {},
   "outputs": [],
   "source": [
    "nb_A_sub = numba_lambdify(exog_vars=parameters, expr=A_sub, endog_vars=list(sub_dict.values()))\n",
    "nb_B_sub = numba_lambdify(exog_vars=parameters, expr=Bv, endog_vars=list(sub_dict.values()))\n",
    "\n",
    "\n",
    "@nb.njit\n",
    "def f_dX(endog, exog):\n",
    "    A = nb_A_sub(endog, exog)\n",
    "    B = nb_B_sub(endog, exog)\n",
    "\n",
    "    return -np.linalg.solve(A, np.identity(A.shape[0])) @ B"
   ]
  },
  {
   "cell_type": "code",
   "execution_count": 130,
   "id": "dcfaf510-0db6-4192-b9d0-f581984bac1b",
   "metadata": {},
   "outputs": [
    {
     "data": {
      "text/plain": [
       "{Ls: 7000,\n",
       " Ks: 4000,\n",
       " P: 1,\n",
       " r: 1,\n",
       " INC: 11000,\n",
       " C: 11000,\n",
       " Y: 11000,\n",
       " Kd: 4000,\n",
       " Ld: 7000,\n",
       " alpha: 0.363636363636364,\n",
       " A: 1.92607022425223,\n",
       " Leon: 0}"
      ]
     },
     "execution_count": 130,
     "metadata": {},
     "output_type": "execute_result"
    }
   ],
   "source": [
    "def compute_system(initial_dict):\n",
    "    calib_dict = initial_dict.copy()\n",
    "    calib_dict[INC] = (w * Ls + r * Ks).subs(calib_dict)\n",
    "    calib_dict[C] = (INC / P).subs(calib_dict)\n",
    "    calib_dict[Y] = (C).subs(calib_dict)\n",
    "    calib_dict[Kd] = (Ks).subs(calib_dict)\n",
    "    calib_dict[Ld] = (Ls).subs(calib_dict)\n",
    "    calib_dict[alpha] = ((r * Kd) / (Y * P)).subs(calib_dict).evalf()\n",
    "    calib_dict[A] = sp.solve(equations[0].subs(calib_dict), A)[0].evalf()\n",
    "    calib_dict[Leon] = (Ld - Ls).subs(calib_dict)\n",
    "\n",
    "    return calib_dict\n",
    "\n",
    "\n",
    "init_vals = {Ls: 7000, Ks: 4000, P: 1, r: 1}\n",
    "state_1 = compute_system(init_vals)\n",
    "state_1"
   ]
  },
  {
   "cell_type": "code",
   "execution_count": 131,
   "id": "50d56ae0-1f08-4574-8ccb-1d3590e031b4",
   "metadata": {},
   "outputs": [],
   "source": [
    "theta0 = np.array([float(state_1[x]) for x in parameters])\n",
    "x0 = np.array([float(state_1[x]) for x in variables])"
   ]
  },
  {
   "cell_type": "code",
   "execution_count": 104,
   "id": "979f9af1-e72f-43c0-a0bb-5cde00a80460",
   "metadata": {},
   "outputs": [],
   "source": [
    "# f_Y = numba_lambdify(exog_vars=parameters, expr=v_A, endog_vars=list(sub_dict.values()))"
   ]
  },
  {
   "cell_type": "code",
   "execution_count": 137,
   "id": "c076486c-530e-49cf-81aa-524eca9c106f",
   "metadata": {},
   "outputs": [],
   "source": [
    "shock_vals = theta0 * np.array([1.1, 0, 0, 0])"
   ]
  },
  {
   "cell_type": "code",
   "execution_count": 138,
   "id": "e763ec5a-77b4-4d5c-aaaf-32166d4cf7e8",
   "metadata": {},
   "outputs": [
    {
     "data": {
      "text/plain": [
       "{Y: 18700.000000000004,\n",
       " C: 18700.000000000004,\n",
       " INC: 23100.0,\n",
       " Ld: 14700.0,\n",
       " Kd: 4000.0,\n",
       " r: 2.1000000000000005,\n",
       " P: 1.4,\n",
       " Leon: 0.0}"
      ]
     },
     "execution_count": 138,
     "metadata": {},
     "output_type": "execute_result"
    }
   ],
   "source": [
    "dict(zip(sub_dict.keys(), x0 + f_dX(shock_vals, np.r_[x0, theta0]).ravel()))"
   ]
  },
  {
   "cell_type": "code",
   "execution_count": 154,
   "id": "145ec961-84d4-448a-869e-7f9d95038e4a",
   "metadata": {},
   "outputs": [
    {
     "data": {
      "text/plain": [
       "array([7.00000000e+03, 4.00000000e+03, 1.92607022e+00, 3.63636364e-01])"
      ]
     },
     "execution_count": 154,
     "metadata": {},
     "output_type": "execute_result"
    }
   ],
   "source": [
    "theta0"
   ]
  },
  {
   "cell_type": "code",
   "execution_count": 156,
   "id": "7d2bc494-77c6-4c03-9813-88c150ca8084",
   "metadata": {},
   "outputs": [
    {
     "data": {
      "text/plain": [
       "{Y: 11687.820391434958,\n",
       " C: 11687.820391434958,\n",
       " INC: 12100.00000000582,\n",
       " Ld: 7699.99999999709,\n",
       " Kd: 4000.0,\n",
       " r: 1.1000000000006551,\n",
       " P: 1.0352659453045379,\n",
       " Leon: -2.7677860003904497e-15}"
      ]
     },
     "execution_count": 156,
     "metadata": {},
     "output_type": "execute_result"
    }
   ],
   "source": [
    "shock_vals = theta0 * np.array([1.1, 1, 1, 1])\n",
    "\n",
    "dict(zip(sub_dict.keys(), euler_approx(f_dX, x0, theta0, shock_vals, 10000)[:-4]))"
   ]
  },
  {
   "cell_type": "code",
   "execution_count": null,
   "id": "224f0709-f2f7-4f62-baa4-914eff895070",
   "metadata": {},
   "outputs": [],
   "source": []
  }
 ],
 "metadata": {
  "kernelspec": {
   "display_name": "Python 3 (ipykernel)",
   "language": "python",
   "name": "python3"
  },
  "language_info": {
   "codemirror_mode": {
    "name": "ipython",
    "version": 3
   },
   "file_extension": ".py",
   "mimetype": "text/x-python",
   "name": "python",
   "nbconvert_exporter": "python",
   "pygments_lexer": "ipython3",
   "version": "3.11.6"
  },
  "toc": {
   "base_numbering": 1,
   "nav_menu": {},
   "number_sections": true,
   "sideBar": true,
   "skip_h1_title": false,
   "title_cell": "Table of Contents",
   "title_sidebar": "Contents",
   "toc_cell": false,
   "toc_position": {},
   "toc_section_display": true,
   "toc_window_display": false
  }
 },
 "nbformat": 4,
 "nbformat_minor": 5
}
