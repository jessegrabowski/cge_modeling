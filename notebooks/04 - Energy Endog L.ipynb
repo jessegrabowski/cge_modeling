{
 "cells": [
  {
   "cell_type": "code",
   "execution_count": 1,
   "id": "04da6463",
   "metadata": {
    "tags": []
   },
   "outputs": [],
   "source": [
    "import numpy as np\n",
    "import pandas as pd\n",
    "import matplotlib.pyplot as plt\n",
    "\n",
    "import sys\n",
    "\n",
    "sys.path.append(\"..\")\n",
    "sys.path.append(\"../..\")\n",
    "\n",
    "from cge_modeling import Variable, Parameter, Equation, CGEModel\n",
    "from cge_modeling.pytensorf.compile import (\n",
    "    compile_cge_model_to_pytensor,\n",
    "    euler_approximation_from_CGEModel,\n",
    "    pytensor_objects_from_CGEModel,\n",
    ")\n",
    "from cge_modeling.base.utilities import variable_dict_to_flat_array, flat_array_to_variable_dict"
   ]
  },
  {
   "cell_type": "code",
   "execution_count": 2,
   "id": "bf9837d4-8ed4-487d-a203-15e6ef2a672b",
   "metadata": {
    "tags": []
   },
   "outputs": [],
   "source": [
    "from itertools import chain"
   ]
  },
  {
   "cell_type": "code",
   "execution_count": 18,
   "id": "f65f2197-b54b-4b1c-97b5-df126dd8dc99",
   "metadata": {
    "tags": []
   },
   "outputs": [],
   "source": [
    "sectors = [\"Ag\", \"Ind\", \"Serv\"]\n",
    "n_sectors = len(sectors)\n",
    "coords = {\"i\": sectors, \"j\": sectors}"
   ]
  },
  {
   "cell_type": "code",
   "execution_count": 19,
   "id": "a532911b-90b0-4dec-a1a7-1808bff0cb3d",
   "metadata": {
    "tags": []
   },
   "outputs": [],
   "source": [
    "variable_info = [\n",
    "    Variable(name=\"Y\", dims=\"i\", description=\"Total output of good <dim:i>\"),\n",
    "    # Firm\n",
    "    Variable(name=\"VA\", dims=\"i\", description=\"Labor-capital bundle produced by sector <dim:i>\"),\n",
    "    Variable(\n",
    "        name=\"VC\", dims=\"i\", description=\"Intermediate goods bundle produced by sector <dim:i>\"\n",
    "    ),\n",
    "    Variable(\n",
    "        name=\"X\",\n",
    "        dims=(\"i\", \"j\"),\n",
    "        description=\"Demand for sector <dim:i> goods by sector <dim:j>\",\n",
    "    ),\n",
    "    # Factor demands\n",
    "    Variable(\n",
    "        name=\"L_d\",\n",
    "        dims=\"i\",\n",
    "        extend_subscript=True,\n",
    "        description=\"Labor demanded by sector <dim:i>\",\n",
    "    ),\n",
    "    Variable(\n",
    "        name=\"K_d\",\n",
    "        dims=\"i\",\n",
    "        extend_subscript=True,\n",
    "        description=\"Capital demanded by sector <dim:i>\",\n",
    "    ),\n",
    "    Variable(\n",
    "        name=\"KE_d\",\n",
    "        dims=\"i\",\n",
    "        extend_subscript=True,\n",
    "        description=\"Capital Energy bundle demanded by sector <dim:i>\",\n",
    "    ),\n",
    "    Variable(\n",
    "        name=\"E_d\",\n",
    "        dims=\"i\",\n",
    "        extend_subscript=True,\n",
    "        description=\"Energy demanded by sector <dim:i>\",\n",
    "    ),\n",
    "    # Household Variables\n",
    "    Variable(name=\"U\", description=\"Household utility\"),\n",
    "    Variable(name=\"C\", dims=\"i\", description=\"Household consumption of good <dim:i>\"),\n",
    "    Variable(name=\"C_total\", description=\"Household overall consumption\"),\n",
    "    Variable(name=\"income\", latex_name=\"Omega\", description=\"Total household income\"),\n",
    "    # Factor supply\n",
    "    Variable(\n",
    "        name=\"L_s\",\n",
    "        description=\"Labor supply by households\",\n",
    "    ),\n",
    "    # Prices\n",
    "    Variable(name=\"r\", description=\"Rental rate of capital\"),\n",
    "    Variable(name=\"w\", description=\"Wage level\"),\n",
    "    Variable(\n",
    "        name=\"P_VA\",\n",
    "        dims=\"i\",\n",
    "        extend_subscript=True,\n",
    "        description=\"Price of the labor-capital bundle in sector <dim:i>\",\n",
    "    ),\n",
    "    Variable(\n",
    "        name=\"P_VC\",\n",
    "        dims=\"i\",\n",
    "        extend_subscript=True,\n",
    "        description=\"Price of the intermediate bundle in sector <dim:i>\",\n",
    "    ),\n",
    "    Variable(name=\"P\", dims=\"i\", description=\"Price level of final goods in sector <dim:i>\"),\n",
    "    Variable(\n",
    "        name=\"P_KE\",\n",
    "        dims=\"i\",\n",
    "        extend_subscript=True,\n",
    "        description=\"Price of the intermediate capital energy bundle in sector <dim:i>\",\n",
    "    ),\n",
    "    Variable(\n",
    "        name=\"P_E\",\n",
    "        description=\"Price of the energy bundle\",\n",
    "    ),\n",
    "    Variable(name=\"CPI\", description=\"Consumer price index\"),\n",
    "    # Other\n",
    "    Variable(name=\"resid\", latex_name=r\"varepsilon\", description=\"Walrasian residual\"),\n",
    "]\n",
    "\n",
    "param_info = [\n",
    "    # Firm Parameters\n",
    "    Parameter(\n",
    "        name=\"psi_VA\",\n",
    "        extend_subscript=True,\n",
    "        dims=\"i\",\n",
    "        description=\"Share of labor-capital in sector <dim:i>'s final good\",\n",
    "    ),\n",
    "    Parameter(\n",
    "        name=\"psi_VC\",\n",
    "        extend_subscript=True,\n",
    "        dims=\"i\",\n",
    "        description=\"Share of intermediate goods bundle in sector <dim:i>'s final product\",\n",
    "    ),\n",
    "    Parameter(\n",
    "        name=\"psi_X\",\n",
    "        extend_subscript=True,\n",
    "        dims=(\"i\", \"j\"),\n",
    "        description=\"Share of sector <dim:i>'s final good in sector <dim:j>'s value chain bundle\",\n",
    "    ),\n",
    "    Parameter(\n",
    "        name=\"alpha_VA\",\n",
    "        dims=\"i\",\n",
    "        description=\"Share of capital energy bundle in sector <dim:i>'s production process\",\n",
    "    ),\n",
    "    Parameter(\n",
    "        name=\"alpha_KE\",\n",
    "        dims=\"i\",\n",
    "        description=\"Share of capital in capital energy bundle in sector <dim:i>'s production process\",\n",
    "    ),\n",
    "    Parameter(\n",
    "        name=\"alpha_C\",\n",
    "        dims=\"i\",\n",
    "        description=\"Consumption aggregation\",\n",
    "    ),\n",
    "    Parameter(\n",
    "        name=\"phi_VA\",\n",
    "        extend_subscript=True,\n",
    "        dims=\"i\",\n",
    "        description=\"Elasticity of subsitution between input factors in <dim:i> sector VA bundle\",\n",
    "    ),\n",
    "    Parameter(\n",
    "        name=\"phi_KE\",\n",
    "        extend_subscript=True,\n",
    "        dims=\"i\",\n",
    "        description=\"Elasticity of subsitution between input factors in <dim:i> sector KE bundle\",\n",
    "    ),\n",
    "    Parameter(name=\"A\", dims=\"i\", description=\"Total factor productivity in sector <dim:i>\"),\n",
    "    Parameter(\n",
    "        name=\"A_KE\",\n",
    "        dims=\"i\",\n",
    "        description=\"Total factor productivity in capital energy bundle <dim:i>\",\n",
    "    ),\n",
    "    Parameter(name=\"A_C\", description=\"Consumption aggregation\"),\n",
    "    # Household\n",
    "    Parameter(name=\"epsilon_C\", description=\"Consumption elasticity of substitution\"),\n",
    "    Parameter(name=\"sigma_C\", description=\"Consumption elasticity of substitution\"),\n",
    "    Parameter(name=\"sigma_L\", description=\"Labour elasticity of substitution\"),\n",
    "    Parameter(name=\"Theta\", description=\"Household labor dispreference parameter\"),\n",
    "    # Exogenous variables\n",
    "    # Parameter(name=\"L_s\", description=\"Exogenous household labor supply\"),\n",
    "    Parameter(name=\"K_s\", description=\"Exogenous household capital stock\"),\n",
    "    Parameter(\n",
    "        name=\"P_Ag_bar\",\n",
    "        latex_name=r\"\\bar{P}_{Ag}\",\n",
    "        description=\"Exogenous agricultural price level\",\n",
    "    ),\n",
    "    Parameter(name=\"E_s\", description=\"Exogenous energy endwoment\"),\n",
    "]\n",
    "\n",
    "equations = [\n",
    "    # Final Goods\n",
    "    Equation(\"Final good production of sector <dim:i>\", \"P * Y = P_VC * VC + P_VA * VA\"),\n",
    "    Equation(\"Sector <dim:i> demand for intermediate goods bundle\", \"VC = psi_VC * Y\"),\n",
    "    Equation(\"Sector <dim:i> demand for labor-capital\", \"VA = psi_VA * Y\"),\n",
    "    # Value chain bundle\n",
    "    Equation(\n",
    "        \"Sector <dim:i> production of intermediate goods bundle\",\n",
    "        \"VC * P_VC = Sum(P.subs({i:j}) * X.subs([(i,k), (j,i), (k,j)]), \"\n",
    "        + f\"(j, 0, {n_sectors - 1}))\",\n",
    "    ),\n",
    "    Equation(\n",
    "        \"Sector <dim:i> demand for sector <dim:j> intermediate input\",\n",
    "        \"X = psi_X * VC.subs({i:j})\",\n",
    "    ),\n",
    "    # Value add bundle\n",
    "    Equation(\n",
    "        \"Sector <dim:i> production of labor and capital energy bundle\",\n",
    "        \"VA = A * (alpha_VA * KE_d**((phi_VA - 1) / phi_VA) +\"\n",
    "        \"(1 - alpha_VA) * L_d**((phi_VA - 1) / phi_VA)) ** (phi_VA / (phi_VA - 1))\",\n",
    "    ),\n",
    "    # Sector Firms\n",
    "    Equation(\n",
    "        \"Sector <dim:i> demand for capital energy bundle\",\n",
    "        \"KE_d = VA / A * (alpha_VA * P_VA * A / P_KE) ** phi_VA\",\n",
    "    ),\n",
    "    Equation(\n",
    "        \"Sector <dim:i> demand for labor\",\n",
    "        \"L_d = VA / A * ((1 - alpha_VA) * A * P_VA / w) ** phi_VA\",\n",
    "    ),\n",
    "    Equation(\n",
    "        \"Setor <dim:i> production of capital and energy\",\n",
    "        \"KE_d = A_KE * (alpha_KE * K_d ** ((phi_KE - 1) / phi_KE) +\"\n",
    "        \"(1 - alpha_KE) * E_d **((phi_KE - 1) / phi_KE)) ** (phi_KE / (phi_KE - 1))\",\n",
    "    ),\n",
    "    Equation(\n",
    "        \"Sector <dim:i> demand for captial\",\n",
    "        \"K_d = KE_d / A_KE * (alpha_KE * P_KE / r * A_KE) ** phi_KE\",\n",
    "    ),\n",
    "    Equation(\n",
    "        \"Sector <dim:i> demand for energy\",\n",
    "        \"E_d = KE_d / A_KE * ((1 - alpha_KE) * P_KE / P_E * A_KE) ** phi_KE\",\n",
    "    ),\n",
    "    # Household Equations\n",
    "    Equation(\n",
    "        \"Household income\",\n",
    "        \"income = w * L_s + r * K_s + P_E * E_s\",\n",
    "    ),\n",
    "    Equation(\n",
    "        \"Household utility\",\n",
    "        \"U = C_total ** (1 - sigma_C) / (1 - sigma_C) - Theta * L_s ** (1 + sigma_L) / (1 + sigma_L)\",\n",
    "    ),\n",
    "    Equation(\n",
    "        \"Consumption aggregator\",\n",
    "        \"C_total = A_C * Sum(alpha_C * C**((epsilon_C-1) /epsilon_C), \"\n",
    "        + f\"(i, 0, {n_sectors-1})) ** (epsilon_C / (epsilon_C - 1))\",\n",
    "    ),\n",
    "    Equation(\n",
    "        \"Household demand for good <dim:i>\",\n",
    "        \"C = C_total / A_C * (alpha_C * A_C * CPI / P) ** epsilon_C\",\n",
    "    ),\n",
    "    Equation(\n",
    "        \"Household supply of labor\",\n",
    "        \"L_s ** sigma_L * C_total ** sigma_C = w / Theta\",\n",
    "    ),\n",
    "    # Market clearning conditions\n",
    "    Equation(\"Labour market clearing\", \"L_s = Sum(L_d, \" + f\"(i, 0, {n_sectors - 1})) + resid\"),\n",
    "    Equation(\"Capital market clearing\", f\"K_s = Sum(K_d, (i, 0, {n_sectors - 1}))\"),\n",
    "    Equation(\n",
    "        \"Energy market clearing\",\n",
    "        f\"E_s = Sum(E_d, (i, 0, {n_sectors - 1}))\",\n",
    "    ),\n",
    "    Equation(\"Sector <dim:i> goods market clearing\", f\"Y = C + Sum(X, (j, 0, {n_sectors - 1}))\"),\n",
    "    Equation(\"Numeraire\", \"CPI = P_Ag_bar\"),\n",
    "    Equation(\n",
    "        \"CPI level\",\n",
    "        \"1 = Sum(alpha_C * P ** (1 - epsilon_C), \" + f\"(i, 0, {n_sectors-1}))\",\n",
    "    ),\n",
    "]"
   ]
  },
  {
   "cell_type": "code",
   "execution_count": 20,
   "id": "368b582c",
   "metadata": {
    "tags": []
   },
   "outputs": [],
   "source": [
    "mod = CGEModel(\n",
    "    variables=variable_info,\n",
    "    parameters=param_info,\n",
    "    equations=equations,\n",
    "    coords=coords,\n",
    "    parse_equations_to_sympy=True,  # True\n",
    "    backend=\"numba\",  # numba\n",
    "    # mode=None, # no mode\n",
    "    compile=True,\n",
    ")"
   ]
  },
  {
   "cell_type": "code",
   "execution_count": 21,
   "id": "3084531d-a1e1-4ea2-bc07-c5213d960c7d",
   "metadata": {
    "tags": []
   },
   "outputs": [
    {
     "data": {
      "text/plain": [
       "54"
      ]
     },
     "execution_count": 21,
     "metadata": {},
     "output_type": "execute_result"
    }
   ],
   "source": [
    "mod.n_variables"
   ]
  },
  {
   "cell_type": "code",
   "execution_count": 22,
   "id": "07f1b43d-0761-4eef-bb8d-c4f870b74868",
   "metadata": {
    "tags": []
   },
   "outputs": [
    {
     "data": {
      "text/plain": [
       "54"
      ]
     },
     "execution_count": 22,
     "metadata": {},
     "output_type": "execute_result"
    }
   ],
   "source": [
    "len(mod.unpacked_equation_names)"
   ]
  },
  {
   "cell_type": "code",
   "execution_count": 23,
   "id": "e71d54a1-9259-466f-88e5-58522831eff9",
   "metadata": {
    "scrolled": false,
    "tags": []
   },
   "outputs": [
    {
     "data": {
      "text/latex": [
       "$\\displaystyle {P}_{Ag} {Y}_{Ag} = {P_{VA}}_{Ag} {VA}_{Ag} + {P_{VC}}_{Ag} {VC}_{Ag}$"
      ],
      "text/plain": [
       "Final good production of sector Ag"
      ]
     },
     "metadata": {},
     "output_type": "display_data"
    },
    {
     "data": {
      "text/latex": [
       "$\\displaystyle {P}_{Ind} {Y}_{Ind} = {P_{VA}}_{Ind} {VA}_{Ind} + {P_{VC}}_{Ind} {VC}_{Ind}$"
      ],
      "text/plain": [
       "Final good production of sector Ind"
      ]
     },
     "metadata": {},
     "output_type": "display_data"
    },
    {
     "data": {
      "text/latex": [
       "$\\displaystyle {P}_{Serv} {Y}_{Serv} = {P_{VA}}_{Serv} {VA}_{Serv} + {P_{VC}}_{Serv} {VC}_{Serv}$"
      ],
      "text/plain": [
       "Final good production of sector Serv"
      ]
     },
     "metadata": {},
     "output_type": "display_data"
    },
    {
     "data": {
      "text/latex": [
       "$\\displaystyle {VC}_{Ag} = {Y}_{Ag} {\\psi_{VC}}_{Ag}$"
      ],
      "text/plain": [
       "Sector Ag demand for intermediate goods bundle"
      ]
     },
     "metadata": {},
     "output_type": "display_data"
    },
    {
     "data": {
      "text/latex": [
       "$\\displaystyle {VC}_{Ind} = {Y}_{Ind} {\\psi_{VC}}_{Ind}$"
      ],
      "text/plain": [
       "Sector Ind demand for intermediate goods bundle"
      ]
     },
     "metadata": {},
     "output_type": "display_data"
    },
    {
     "data": {
      "text/latex": [
       "$\\displaystyle {VC}_{Serv} = {Y}_{Serv} {\\psi_{VC}}_{Serv}$"
      ],
      "text/plain": [
       "Sector Serv demand for intermediate goods bundle"
      ]
     },
     "metadata": {},
     "output_type": "display_data"
    },
    {
     "data": {
      "text/latex": [
       "$\\displaystyle {VA}_{Ag} = {Y}_{Ag} {\\psi_{VA}}_{Ag}$"
      ],
      "text/plain": [
       "Sector Ag demand for labor-capital"
      ]
     },
     "metadata": {},
     "output_type": "display_data"
    },
    {
     "data": {
      "text/latex": [
       "$\\displaystyle {VA}_{Ind} = {Y}_{Ind} {\\psi_{VA}}_{Ind}$"
      ],
      "text/plain": [
       "Sector Ind demand for labor-capital"
      ]
     },
     "metadata": {},
     "output_type": "display_data"
    },
    {
     "data": {
      "text/latex": [
       "$\\displaystyle {VA}_{Serv} = {Y}_{Serv} {\\psi_{VA}}_{Serv}$"
      ],
      "text/plain": [
       "Sector Serv demand for labor-capital"
      ]
     },
     "metadata": {},
     "output_type": "display_data"
    },
    {
     "data": {
      "text/latex": [
       "$\\displaystyle {P_{VC}}_{Ag} {VC}_{Ag} = \\sum_{j=0}^{2} {P}_{j} {X}_{j,Ag}$"
      ],
      "text/plain": [
       "Sector Ag production of intermediate goods bundle"
      ]
     },
     "metadata": {},
     "output_type": "display_data"
    },
    {
     "data": {
      "text/latex": [
       "$\\displaystyle {P_{VC}}_{Ind} {VC}_{Ind} = \\sum_{j=0}^{2} {P}_{j} {X}_{j,Ind}$"
      ],
      "text/plain": [
       "Sector Ind production of intermediate goods bundle"
      ]
     },
     "metadata": {},
     "output_type": "display_data"
    },
    {
     "data": {
      "text/latex": [
       "$\\displaystyle {P_{VC}}_{Serv} {VC}_{Serv} = \\sum_{j=0}^{2} {P}_{j} {X}_{j,Serv}$"
      ],
      "text/plain": [
       "Sector Serv production of intermediate goods bundle"
      ]
     },
     "metadata": {},
     "output_type": "display_data"
    },
    {
     "data": {
      "text/latex": [
       "$\\displaystyle {X}_{Ag,Ag} = {VC}_{Ag} {\\psi_{X}}_{Ag,Ag}$"
      ],
      "text/plain": [
       "Sector Ag demand for sector Ag intermediate input"
      ]
     },
     "metadata": {},
     "output_type": "display_data"
    },
    {
     "data": {
      "text/latex": [
       "$\\displaystyle {X}_{Ag,Ind} = {VC}_{Ind} {\\psi_{X}}_{Ag,Ind}$"
      ],
      "text/plain": [
       "Sector Ag demand for sector Ind intermediate input"
      ]
     },
     "metadata": {},
     "output_type": "display_data"
    },
    {
     "data": {
      "text/latex": [
       "$\\displaystyle {X}_{Ag,Serv} = {VC}_{Serv} {\\psi_{X}}_{Ag,Serv}$"
      ],
      "text/plain": [
       "Sector Ag demand for sector Serv intermediate input"
      ]
     },
     "metadata": {},
     "output_type": "display_data"
    },
    {
     "data": {
      "text/latex": [
       "$\\displaystyle {X}_{Ind,Ag} = {VC}_{Ag} {\\psi_{X}}_{Ind,Ag}$"
      ],
      "text/plain": [
       "Sector Ind demand for sector Ag intermediate input"
      ]
     },
     "metadata": {},
     "output_type": "display_data"
    },
    {
     "data": {
      "text/latex": [
       "$\\displaystyle {X}_{Ind,Ind} = {VC}_{Ind} {\\psi_{X}}_{Ind,Ind}$"
      ],
      "text/plain": [
       "Sector Ind demand for sector Ind intermediate input"
      ]
     },
     "metadata": {},
     "output_type": "display_data"
    },
    {
     "data": {
      "text/latex": [
       "$\\displaystyle {X}_{Ind,Serv} = {VC}_{Serv} {\\psi_{X}}_{Ind,Serv}$"
      ],
      "text/plain": [
       "Sector Ind demand for sector Serv intermediate input"
      ]
     },
     "metadata": {},
     "output_type": "display_data"
    },
    {
     "data": {
      "text/latex": [
       "$\\displaystyle {X}_{Serv,Ag} = {VC}_{Ag} {\\psi_{X}}_{Serv,Ag}$"
      ],
      "text/plain": [
       "Sector Serv demand for sector Ag intermediate input"
      ]
     },
     "metadata": {},
     "output_type": "display_data"
    },
    {
     "data": {
      "text/latex": [
       "$\\displaystyle {X}_{Serv,Ind} = {VC}_{Ind} {\\psi_{X}}_{Serv,Ind}$"
      ],
      "text/plain": [
       "Sector Serv demand for sector Ind intermediate input"
      ]
     },
     "metadata": {},
     "output_type": "display_data"
    },
    {
     "data": {
      "text/latex": [
       "$\\displaystyle {X}_{Serv,Serv} = {VC}_{Serv} {\\psi_{X}}_{Serv,Serv}$"
      ],
      "text/plain": [
       "Sector Serv demand for sector Serv intermediate input"
      ]
     },
     "metadata": {},
     "output_type": "display_data"
    },
    {
     "data": {
      "text/latex": [
       "$\\displaystyle {VA}_{Ag} = \\left(\\left(1 - {\\alpha_{VA}}_{Ag}\\right) {L_{d}}_{Ag}^{\\frac{{\\phi_{VA}}_{Ag} - 1}{{\\phi_{VA}}_{Ag}}} + {KE_{d}}_{Ag}^{\\frac{{\\phi_{VA}}_{Ag} - 1}{{\\phi_{VA}}_{Ag}}} {\\alpha_{VA}}_{Ag}\\right)^{\\frac{{\\phi_{VA}}_{Ag}}{{\\phi_{VA}}_{Ag} - 1}} {A}_{Ag}$"
      ],
      "text/plain": [
       "Sector Ag production of labor and capital energy bundle"
      ]
     },
     "metadata": {},
     "output_type": "display_data"
    },
    {
     "data": {
      "text/latex": [
       "$\\displaystyle {VA}_{Ind} = \\left(\\left(1 - {\\alpha_{VA}}_{Ind}\\right) {L_{d}}_{Ind}^{\\frac{{\\phi_{VA}}_{Ind} - 1}{{\\phi_{VA}}_{Ind}}} + {KE_{d}}_{Ind}^{\\frac{{\\phi_{VA}}_{Ind} - 1}{{\\phi_{VA}}_{Ind}}} {\\alpha_{VA}}_{Ind}\\right)^{\\frac{{\\phi_{VA}}_{Ind}}{{\\phi_{VA}}_{Ind} - 1}} {A}_{Ind}$"
      ],
      "text/plain": [
       "Sector Ind production of labor and capital energy bundle"
      ]
     },
     "metadata": {},
     "output_type": "display_data"
    },
    {
     "data": {
      "text/latex": [
       "$\\displaystyle {VA}_{Serv} = \\left(\\left(1 - {\\alpha_{VA}}_{Serv}\\right) {L_{d}}_{Serv}^{\\frac{{\\phi_{VA}}_{Serv} - 1}{{\\phi_{VA}}_{Serv}}} + {KE_{d}}_{Serv}^{\\frac{{\\phi_{VA}}_{Serv} - 1}{{\\phi_{VA}}_{Serv}}} {\\alpha_{VA}}_{Serv}\\right)^{\\frac{{\\phi_{VA}}_{Serv}}{{\\phi_{VA}}_{Serv} - 1}} {A}_{Serv}$"
      ],
      "text/plain": [
       "Sector Serv production of labor and capital energy bundle"
      ]
     },
     "metadata": {},
     "output_type": "display_data"
    },
    {
     "data": {
      "text/latex": [
       "$\\displaystyle {KE_{d}}_{Ag} = \\frac{\\left(\\frac{{A}_{Ag} {P_{VA}}_{Ag} {\\alpha_{VA}}_{Ag}}{{P_{KE}}_{Ag}}\\right)^{{\\phi_{VA}}_{Ag}} {VA}_{Ag}}{{A}_{Ag}}$"
      ],
      "text/plain": [
       "Sector Ag demand for capital energy bundle"
      ]
     },
     "metadata": {},
     "output_type": "display_data"
    },
    {
     "data": {
      "text/latex": [
       "$\\displaystyle {KE_{d}}_{Ind} = \\frac{\\left(\\frac{{A}_{Ind} {P_{VA}}_{Ind} {\\alpha_{VA}}_{Ind}}{{P_{KE}}_{Ind}}\\right)^{{\\phi_{VA}}_{Ind}} {VA}_{Ind}}{{A}_{Ind}}$"
      ],
      "text/plain": [
       "Sector Ind demand for capital energy bundle"
      ]
     },
     "metadata": {},
     "output_type": "display_data"
    },
    {
     "data": {
      "text/latex": [
       "$\\displaystyle {KE_{d}}_{Serv} = \\frac{\\left(\\frac{{A}_{Serv} {P_{VA}}_{Serv} {\\alpha_{VA}}_{Serv}}{{P_{KE}}_{Serv}}\\right)^{{\\phi_{VA}}_{Serv}} {VA}_{Serv}}{{A}_{Serv}}$"
      ],
      "text/plain": [
       "Sector Serv demand for capital energy bundle"
      ]
     },
     "metadata": {},
     "output_type": "display_data"
    },
    {
     "data": {
      "text/latex": [
       "$\\displaystyle {L_{d}}_{Ag} = \\frac{\\left(\\frac{\\left(1 - {\\alpha_{VA}}_{Ag}\\right) {A}_{Ag} {P_{VA}}_{Ag}}{w}\\right)^{{\\phi_{VA}}_{Ag}} {VA}_{Ag}}{{A}_{Ag}}$"
      ],
      "text/plain": [
       "Sector Ag demand for labor"
      ]
     },
     "metadata": {},
     "output_type": "display_data"
    },
    {
     "data": {
      "text/latex": [
       "$\\displaystyle {L_{d}}_{Ind} = \\frac{\\left(\\frac{\\left(1 - {\\alpha_{VA}}_{Ind}\\right) {A}_{Ind} {P_{VA}}_{Ind}}{w}\\right)^{{\\phi_{VA}}_{Ind}} {VA}_{Ind}}{{A}_{Ind}}$"
      ],
      "text/plain": [
       "Sector Ind demand for labor"
      ]
     },
     "metadata": {},
     "output_type": "display_data"
    },
    {
     "data": {
      "text/latex": [
       "$\\displaystyle {L_{d}}_{Serv} = \\frac{\\left(\\frac{\\left(1 - {\\alpha_{VA}}_{Serv}\\right) {A}_{Serv} {P_{VA}}_{Serv}}{w}\\right)^{{\\phi_{VA}}_{Serv}} {VA}_{Serv}}{{A}_{Serv}}$"
      ],
      "text/plain": [
       "Sector Serv demand for labor"
      ]
     },
     "metadata": {},
     "output_type": "display_data"
    },
    {
     "data": {
      "text/latex": [
       "$\\displaystyle {KE_{d}}_{Ag} = \\left(\\left(1 - {\\alpha_{KE}}_{Ag}\\right) {E_{d}}_{Ag}^{\\frac{{\\phi_{KE}}_{Ag} - 1}{{\\phi_{KE}}_{Ag}}} + {K_{d}}_{Ag}^{\\frac{{\\phi_{KE}}_{Ag} - 1}{{\\phi_{KE}}_{Ag}}} {\\alpha_{KE}}_{Ag}\\right)^{\\frac{{\\phi_{KE}}_{Ag}}{{\\phi_{KE}}_{Ag} - 1}} {A_{KE}}_{Ag}$"
      ],
      "text/plain": [
       "Setor Ag production of capital and energy"
      ]
     },
     "metadata": {},
     "output_type": "display_data"
    },
    {
     "data": {
      "text/latex": [
       "$\\displaystyle {KE_{d}}_{Ind} = \\left(\\left(1 - {\\alpha_{KE}}_{Ind}\\right) {E_{d}}_{Ind}^{\\frac{{\\phi_{KE}}_{Ind} - 1}{{\\phi_{KE}}_{Ind}}} + {K_{d}}_{Ind}^{\\frac{{\\phi_{KE}}_{Ind} - 1}{{\\phi_{KE}}_{Ind}}} {\\alpha_{KE}}_{Ind}\\right)^{\\frac{{\\phi_{KE}}_{Ind}}{{\\phi_{KE}}_{Ind} - 1}} {A_{KE}}_{Ind}$"
      ],
      "text/plain": [
       "Setor Ind production of capital and energy"
      ]
     },
     "metadata": {},
     "output_type": "display_data"
    },
    {
     "data": {
      "text/latex": [
       "$\\displaystyle {KE_{d}}_{Serv} = \\left(\\left(1 - {\\alpha_{KE}}_{Serv}\\right) {E_{d}}_{Serv}^{\\frac{{\\phi_{KE}}_{Serv} - 1}{{\\phi_{KE}}_{Serv}}} + {K_{d}}_{Serv}^{\\frac{{\\phi_{KE}}_{Serv} - 1}{{\\phi_{KE}}_{Serv}}} {\\alpha_{KE}}_{Serv}\\right)^{\\frac{{\\phi_{KE}}_{Serv}}{{\\phi_{KE}}_{Serv} - 1}} {A_{KE}}_{Serv}$"
      ],
      "text/plain": [
       "Setor Serv production of capital and energy"
      ]
     },
     "metadata": {},
     "output_type": "display_data"
    },
    {
     "data": {
      "text/latex": [
       "$\\displaystyle {K_{d}}_{Ag} = \\frac{\\left(\\frac{{A_{KE}}_{Ag} {P_{KE}}_{Ag} {\\alpha_{KE}}_{Ag}}{r}\\right)^{{\\phi_{KE}}_{Ag}} {KE_{d}}_{Ag}}{{A_{KE}}_{Ag}}$"
      ],
      "text/plain": [
       "Sector Ag demand for captial"
      ]
     },
     "metadata": {},
     "output_type": "display_data"
    },
    {
     "data": {
      "text/latex": [
       "$\\displaystyle {K_{d}}_{Ind} = \\frac{\\left(\\frac{{A_{KE}}_{Ind} {P_{KE}}_{Ind} {\\alpha_{KE}}_{Ind}}{r}\\right)^{{\\phi_{KE}}_{Ind}} {KE_{d}}_{Ind}}{{A_{KE}}_{Ind}}$"
      ],
      "text/plain": [
       "Sector Ind demand for captial"
      ]
     },
     "metadata": {},
     "output_type": "display_data"
    },
    {
     "data": {
      "text/latex": [
       "$\\displaystyle {K_{d}}_{Serv} = \\frac{\\left(\\frac{{A_{KE}}_{Serv} {P_{KE}}_{Serv} {\\alpha_{KE}}_{Serv}}{r}\\right)^{{\\phi_{KE}}_{Serv}} {KE_{d}}_{Serv}}{{A_{KE}}_{Serv}}$"
      ],
      "text/plain": [
       "Sector Serv demand for captial"
      ]
     },
     "metadata": {},
     "output_type": "display_data"
    },
    {
     "data": {
      "text/latex": [
       "$\\displaystyle {E_{d}}_{Ag} = \\frac{\\left(\\frac{\\left(1 - {\\alpha_{KE}}_{Ag}\\right) {A_{KE}}_{Ag} {P_{KE}}_{Ag}}{P_{E}}\\right)^{{\\phi_{KE}}_{Ag}} {KE_{d}}_{Ag}}{{A_{KE}}_{Ag}}$"
      ],
      "text/plain": [
       "Sector Ag demand for energy"
      ]
     },
     "metadata": {},
     "output_type": "display_data"
    },
    {
     "data": {
      "text/latex": [
       "$\\displaystyle {E_{d}}_{Ind} = \\frac{\\left(\\frac{\\left(1 - {\\alpha_{KE}}_{Ind}\\right) {A_{KE}}_{Ind} {P_{KE}}_{Ind}}{P_{E}}\\right)^{{\\phi_{KE}}_{Ind}} {KE_{d}}_{Ind}}{{A_{KE}}_{Ind}}$"
      ],
      "text/plain": [
       "Sector Ind demand for energy"
      ]
     },
     "metadata": {},
     "output_type": "display_data"
    },
    {
     "data": {
      "text/latex": [
       "$\\displaystyle {E_{d}}_{Serv} = \\frac{\\left(\\frac{\\left(1 - {\\alpha_{KE}}_{Serv}\\right) {A_{KE}}_{Serv} {P_{KE}}_{Serv}}{P_{E}}\\right)^{{\\phi_{KE}}_{Serv}} {KE_{d}}_{Serv}}{{A_{KE}}_{Serv}}$"
      ],
      "text/plain": [
       "Sector Serv demand for energy"
      ]
     },
     "metadata": {},
     "output_type": "display_data"
    },
    {
     "data": {
      "text/latex": [
       "$\\displaystyle income = E_{s} P_{E} + K_{s} r + L_{s} w$"
      ],
      "text/plain": [
       "Household income"
      ]
     },
     "metadata": {},
     "output_type": "display_data"
    },
    {
     "data": {
      "text/latex": [
       "$\\displaystyle U = \\frac{C_{total}^{1 - \\sigma_{C}}}{1 - \\sigma_{C}} - \\frac{L_{s}^{\\sigma_{L} + 1} \\Theta}{\\sigma_{L} + 1}$"
      ],
      "text/plain": [
       "Household utility"
      ]
     },
     "metadata": {},
     "output_type": "display_data"
    },
    {
     "data": {
      "text/latex": [
       "$\\displaystyle C_{total} = A_{C} \\left(\\sum_{i=0}^{2} {C}_{i}^{\\frac{\\epsilon_{C} - 1}{\\epsilon_{C}}} {\\alpha_{C}}_{i}\\right)^{\\frac{\\epsilon_{C}}{\\epsilon_{C} - 1}}$"
      ],
      "text/plain": [
       "Consumption aggregator"
      ]
     },
     "metadata": {},
     "output_type": "display_data"
    },
    {
     "data": {
      "text/latex": [
       "$\\displaystyle {C}_{Ag} = \\frac{C_{total} \\left(\\frac{A_{C} CPI {\\alpha_{C}}_{Ag}}{{P}_{Ag}}\\right)^{\\epsilon_{C}}}{A_{C}}$"
      ],
      "text/plain": [
       "Household demand for good Ag"
      ]
     },
     "metadata": {},
     "output_type": "display_data"
    },
    {
     "data": {
      "text/latex": [
       "$\\displaystyle {C}_{Ind} = \\frac{C_{total} \\left(\\frac{A_{C} CPI {\\alpha_{C}}_{Ind}}{{P}_{Ind}}\\right)^{\\epsilon_{C}}}{A_{C}}$"
      ],
      "text/plain": [
       "Household demand for good Ind"
      ]
     },
     "metadata": {},
     "output_type": "display_data"
    },
    {
     "data": {
      "text/latex": [
       "$\\displaystyle {C}_{Serv} = \\frac{C_{total} \\left(\\frac{A_{C} CPI {\\alpha_{C}}_{Serv}}{{P}_{Serv}}\\right)^{\\epsilon_{C}}}{A_{C}}$"
      ],
      "text/plain": [
       "Household demand for good Serv"
      ]
     },
     "metadata": {},
     "output_type": "display_data"
    },
    {
     "data": {
      "text/latex": [
       "$\\displaystyle C_{total}^{\\sigma_{C}} L_{s}^{\\sigma_{L}} = \\frac{w}{\\Theta}$"
      ],
      "text/plain": [
       "Household supply of labor"
      ]
     },
     "metadata": {},
     "output_type": "display_data"
    },
    {
     "data": {
      "text/latex": [
       "$\\displaystyle L_{s} = resid + \\sum_{i=0}^{2} {L_{d}}_{i}$"
      ],
      "text/plain": [
       "Labour market clearing"
      ]
     },
     "metadata": {},
     "output_type": "display_data"
    },
    {
     "data": {
      "text/latex": [
       "$\\displaystyle K_{s} = \\sum_{i=0}^{2} {K_{d}}_{i}$"
      ],
      "text/plain": [
       "Capital market clearing"
      ]
     },
     "metadata": {},
     "output_type": "display_data"
    },
    {
     "data": {
      "text/latex": [
       "$\\displaystyle E_{s} = \\sum_{i=0}^{2} {E_{d}}_{i}$"
      ],
      "text/plain": [
       "Energy market clearing"
      ]
     },
     "metadata": {},
     "output_type": "display_data"
    },
    {
     "data": {
      "text/latex": [
       "$\\displaystyle {Y}_{Ag} = {C}_{Ag} + \\sum_{j=0}^{2} {X}_{Ag,j}$"
      ],
      "text/plain": [
       "Sector Ag goods market clearing"
      ]
     },
     "metadata": {},
     "output_type": "display_data"
    },
    {
     "data": {
      "text/latex": [
       "$\\displaystyle {Y}_{Ind} = {C}_{Ind} + \\sum_{j=0}^{2} {X}_{Ind,j}$"
      ],
      "text/plain": [
       "Sector Ind goods market clearing"
      ]
     },
     "metadata": {},
     "output_type": "display_data"
    },
    {
     "data": {
      "text/latex": [
       "$\\displaystyle {Y}_{Serv} = {C}_{Serv} + \\sum_{j=0}^{2} {X}_{Serv,j}$"
      ],
      "text/plain": [
       "Sector Serv goods market clearing"
      ]
     },
     "metadata": {},
     "output_type": "display_data"
    },
    {
     "data": {
      "text/latex": [
       "$\\displaystyle CPI = P_{Ag bar}$"
      ],
      "text/plain": [
       "Numeraire"
      ]
     },
     "metadata": {},
     "output_type": "display_data"
    },
    {
     "data": {
      "text/latex": [
       "$\\displaystyle 1 = \\sum_{i=0}^{2} {P}_{i}^{1 - \\epsilon_{C}} {\\alpha_{C}}_{i}$"
      ],
      "text/plain": [
       "CPI level"
      ]
     },
     "metadata": {},
     "output_type": "display_data"
    }
   ],
   "source": [
    "for i in mod.unpacked_equations:\n",
    "    display(i)"
   ]
  },
  {
   "cell_type": "code",
   "execution_count": null,
   "id": "c000975c",
   "metadata": {},
   "outputs": [],
   "source": []
  },
  {
   "cell_type": "code",
   "execution_count": null,
   "id": "1232bf12",
   "metadata": {},
   "outputs": [],
   "source": []
  },
  {
   "cell_type": "code",
   "execution_count": 9,
   "id": "5cd4a852-ef0d-454f-9064-502af24a0d7a",
   "metadata": {
    "tags": []
   },
   "outputs": [],
   "source": [
    "data = np.array(\n",
    "    [\n",
    "        [0, 0, 0, 0, 1000, 2000, 4000, 10],\n",
    "        [0, 0, 0, 0, 500, 1000, 500, 2000],\n",
    "        [0, 0, 0, 0, 1000, 1000, 1000, 500],\n",
    "        [7010, 4000, 3500, 0, 0, 0, 0, 0],\n",
    "        [0, 0, 0, 3000, 1000, 1000, 1000, 500],\n",
    "        [0, 0, 0, 3000, 2000, 3500, 2000, 2000],\n",
    "        [0, 0, 0, 5500, 500, 2500, 1000, 500],\n",
    "        [0, 0, 0, 3010, 500, 1500, 500, 0],\n",
    "    ]\n",
    ")\n",
    "\n",
    "df = pd.DataFrame(data)\n",
    "cols = [\"L_d\", \"K_d\", \"E_d\", \"Men\", *sectors]\n",
    "\n",
    "df = df.iloc[: len(cols), : len(cols)]\n",
    "df.columns = cols\n",
    "df.index = cols"
   ]
  },
  {
   "cell_type": "code",
   "execution_count": 10,
   "id": "bafc6a32-9b8a-4b27-9a4c-448b8f5e9089",
   "metadata": {
    "tags": []
   },
   "outputs": [
    {
     "data": {
      "text/html": [
       "<div>\n",
       "<style scoped>\n",
       "    .dataframe tbody tr th:only-of-type {\n",
       "        vertical-align: middle;\n",
       "    }\n",
       "\n",
       "    .dataframe tbody tr th {\n",
       "        vertical-align: top;\n",
       "    }\n",
       "\n",
       "    .dataframe thead th {\n",
       "        text-align: right;\n",
       "    }\n",
       "</style>\n",
       "<table border=\"1\" class=\"dataframe\">\n",
       "  <thead>\n",
       "    <tr style=\"text-align: right;\">\n",
       "      <th></th>\n",
       "      <th>L_d</th>\n",
       "      <th>K_d</th>\n",
       "      <th>E_d</th>\n",
       "      <th>Men</th>\n",
       "      <th>Ag</th>\n",
       "      <th>Ind</th>\n",
       "      <th>Serv</th>\n",
       "      <th>Utility</th>\n",
       "    </tr>\n",
       "  </thead>\n",
       "  <tbody>\n",
       "    <tr>\n",
       "      <th>L_d</th>\n",
       "      <td>0</td>\n",
       "      <td>0</td>\n",
       "      <td>0</td>\n",
       "      <td>0</td>\n",
       "      <td>1000</td>\n",
       "      <td>2000</td>\n",
       "      <td>4000</td>\n",
       "      <td>10</td>\n",
       "    </tr>\n",
       "    <tr>\n",
       "      <th>K_d</th>\n",
       "      <td>0</td>\n",
       "      <td>0</td>\n",
       "      <td>0</td>\n",
       "      <td>0</td>\n",
       "      <td>500</td>\n",
       "      <td>1000</td>\n",
       "      <td>500</td>\n",
       "      <td>2000</td>\n",
       "    </tr>\n",
       "    <tr>\n",
       "      <th>E_d</th>\n",
       "      <td>0</td>\n",
       "      <td>0</td>\n",
       "      <td>0</td>\n",
       "      <td>0</td>\n",
       "      <td>1000</td>\n",
       "      <td>1000</td>\n",
       "      <td>1000</td>\n",
       "      <td>500</td>\n",
       "    </tr>\n",
       "    <tr>\n",
       "      <th>Men</th>\n",
       "      <td>7010</td>\n",
       "      <td>4000</td>\n",
       "      <td>3500</td>\n",
       "      <td>0</td>\n",
       "      <td>0</td>\n",
       "      <td>0</td>\n",
       "      <td>0</td>\n",
       "      <td>0</td>\n",
       "    </tr>\n",
       "    <tr>\n",
       "      <th>Ag</th>\n",
       "      <td>0</td>\n",
       "      <td>0</td>\n",
       "      <td>0</td>\n",
       "      <td>3000</td>\n",
       "      <td>1000</td>\n",
       "      <td>1000</td>\n",
       "      <td>1000</td>\n",
       "      <td>500</td>\n",
       "    </tr>\n",
       "    <tr>\n",
       "      <th>Ind</th>\n",
       "      <td>0</td>\n",
       "      <td>0</td>\n",
       "      <td>0</td>\n",
       "      <td>3000</td>\n",
       "      <td>2000</td>\n",
       "      <td>3500</td>\n",
       "      <td>2000</td>\n",
       "      <td>2000</td>\n",
       "    </tr>\n",
       "    <tr>\n",
       "      <th>Serv</th>\n",
       "      <td>0</td>\n",
       "      <td>0</td>\n",
       "      <td>0</td>\n",
       "      <td>5500</td>\n",
       "      <td>500</td>\n",
       "      <td>2500</td>\n",
       "      <td>1000</td>\n",
       "      <td>500</td>\n",
       "    </tr>\n",
       "    <tr>\n",
       "      <th>Utility</th>\n",
       "      <td>0</td>\n",
       "      <td>0</td>\n",
       "      <td>0</td>\n",
       "      <td>3010</td>\n",
       "      <td>500</td>\n",
       "      <td>1500</td>\n",
       "      <td>500</td>\n",
       "      <td>0</td>\n",
       "    </tr>\n",
       "  </tbody>\n",
       "</table>\n",
       "</div>"
      ],
      "text/plain": [
       "          L_d   K_d   E_d   Men    Ag   Ind  Serv  Utility\n",
       "L_d         0     0     0     0  1000  2000  4000       10\n",
       "K_d         0     0     0     0   500  1000   500     2000\n",
       "E_d         0     0     0     0  1000  1000  1000      500\n",
       "Men      7010  4000  3500     0     0     0     0        0\n",
       "Ag          0     0     0  3000  1000  1000  1000      500\n",
       "Ind         0     0     0  3000  2000  3500  2000     2000\n",
       "Serv        0     0     0  5500   500  2500  1000      500\n",
       "Utility     0     0     0  3010   500  1500   500        0"
      ]
     },
     "execution_count": 10,
     "metadata": {},
     "output_type": "execute_result"
    }
   ],
   "source": [
    "df"
   ]
  },
  {
   "cell_type": "code",
   "execution_count": 11,
   "id": "5ae83761-d04c-42c7-843f-1b269e048213",
   "metadata": {
    "tags": []
   },
   "outputs": [
    {
     "data": {
      "text/plain": [
       "L_d        0\n",
       "K_d        0\n",
       "E_d        0\n",
       "Men        0\n",
       "Ag         0\n",
       "Ind        0\n",
       "Serv       0\n",
       "Utility    0\n",
       "dtype: int64"
      ]
     },
     "execution_count": 11,
     "metadata": {},
     "output_type": "execute_result"
    }
   ],
   "source": [
    "df.sum(axis=0) - df.sum(axis=1)"
   ]
  },
  {
   "cell_type": "code",
   "execution_count": 12,
   "id": "68c070a8",
   "metadata": {
    "tags": []
   },
   "outputs": [],
   "source": [
    "data = {\n",
    "    \"L_d\": df.loc[\"L_d\", sectors].values,\n",
    "    \"K_d\": df.loc[\"K_d\", sectors].values,\n",
    "    \"E_d\": df.loc[\"E_d\", sectors].values,\n",
    "    \"X\": df.loc[sectors, sectors].values,\n",
    "    \"Y\": df.loc[sectors, :].values.sum(axis=1),\n",
    "    \"C\": df.loc[sectors, \"Men\"].values,\n",
    "    \"phi_VA\": np.full(n_sectors, 3.0),\n",
    "    \"phi_KE\": np.full(n_sectors, 2.0),\n",
    "    \"epsilon_C\": 2,\n",
    "    \"sigma_C\": 2,\n",
    "    \"Theta\": 1e-8,\n",
    "    \"r\": 1.0,\n",
    "    \"w\": 1.0,\n",
    "    \"P_E\": 1.0,\n",
    "    \"P_Ag_bar\": 1.0,\n",
    "    \"CPI\": 1.0,\n",
    "    \"P\": np.ones((n_sectors,)),\n",
    "    \"P_VA\": np.ones((n_sectors,)),\n",
    "    \"P_VC\": np.ones((n_sectors,)),\n",
    "    \"P_KE\": np.ones((n_sectors,)),\n",
    "}"
   ]
  },
  {
   "cell_type": "code",
   "execution_count": 13,
   "id": "b03308fb-1009-4a70-8b17-26bd9d80bbc6",
   "metadata": {
    "tags": []
   },
   "outputs": [],
   "source": [
    "def calibrate_model(\n",
    "    L_d,\n",
    "    K_d,\n",
    "    E_d,\n",
    "    X,\n",
    "    Y,\n",
    "    C,\n",
    "    phi_VA,\n",
    "    phi_KE,\n",
    "    epsilon_C,\n",
    "    sigma_C,\n",
    "    Theta,\n",
    "    r,\n",
    "    w,\n",
    "    P,\n",
    "    P_Ag_bar,\n",
    "    P_VA,\n",
    "    P_VC,\n",
    "    P_E,\n",
    "    P_KE,\n",
    "    CPI,\n",
    "):\n",
    "    calib_dict = {}\n",
    "\n",
    "    # rho\n",
    "    _rho_VA = (phi_VA - 1) / phi_VA\n",
    "    _rho_KE = (phi_KE - 1) / phi_KE\n",
    "    _rho_C = (epsilon_C - 1) / epsilon_C\n",
    "\n",
    "    # Numeraire\n",
    "    resid = 0.0\n",
    "\n",
    "    # Household calibration\n",
    "    L_s = L_d.sum()\n",
    "    K_s = K_d.sum()\n",
    "    E_s = E_d.sum()\n",
    "\n",
    "    income = w * L_s + r * K_s + P_E * E_s\n",
    "    # C = (Y - X).sum(axis=1)\n",
    "\n",
    "    # consumption\n",
    "    alpha_C = P * C ** (1 / epsilon_C) / (P * C ** (1 / epsilon_C)).sum()\n",
    "    A_C = C.sum() * (alpha_C * C**_rho_C).sum() ** (-1 / _rho_C)\n",
    "    C_total = A_C * (alpha_C * C ** ((epsilon_C - 1) / epsilon_C)).sum() ** (\n",
    "        epsilon_C / (epsilon_C - 1)\n",
    "    )\n",
    "\n",
    "    # labour\n",
    "    sigma_L = (np.log(w / Theta) - sigma_C * np.log(C_total)) / np.log(L_s)\n",
    "\n",
    "    # Utility\n",
    "    U = C_total ** (1 - sigma_C) / (1 - sigma_C) - Theta * L_s ** (1 + sigma_L) / (1 + sigma_L)\n",
    "\n",
    "    # Firm calibration\n",
    "    KE_d = (P_E * E_d + r * K_d) / P_KE\n",
    "    VA = (w * L_d + P_KE * KE_d) / P_VA\n",
    "    VC = (P[:, None] * X).sum(axis=0) / P_VC\n",
    "\n",
    "    alpha_VA = (\n",
    "        P_KE * KE_d ** (1 / phi_VA) / ((P_KE * KE_d ** (1 / phi_VA) + w * L_d ** (1 / phi_VA)))\n",
    "    )\n",
    "    alpha_KE = r * K_d ** (1 / phi_KE) / ((r * K_d ** (1 / phi_KE) + P_E * E_d ** (1 / phi_KE)))\n",
    "\n",
    "    A = VA * (alpha_VA * KE_d**_rho_VA + (1 - alpha_VA) * L_d**_rho_VA) ** (-1 / _rho_VA)\n",
    "    A_KE = KE_d * (alpha_KE * K_d**_rho_KE + (1 - alpha_KE) * E_d**_rho_KE) ** (-1 / _rho_KE)\n",
    "\n",
    "    psi_VA = VA / Y\n",
    "    psi_VC = VC / Y\n",
    "    psi_X = X / VC[None]\n",
    "\n",
    "    for i in list(locals().keys()):\n",
    "        if i == \"calib_dict\":\n",
    "            continue\n",
    "        elif i[0] == \"_\":\n",
    "            continue\n",
    "        calib_dict[i] = locals()[i]\n",
    "\n",
    "    return calib_dict"
   ]
  },
  {
   "cell_type": "code",
   "execution_count": 14,
   "id": "44372dde-d134-4567-b11e-ec2bbad8618e",
   "metadata": {
    "tags": []
   },
   "outputs": [
    {
     "data": {
      "text/plain": [
       "[]"
      ]
     },
     "execution_count": 14,
     "metadata": {},
     "output_type": "execute_result"
    }
   ],
   "source": [
    "[\n",
    "    i\n",
    "    for i in [*chain(mod.variable_names, mod.parameter_names)]\n",
    "    if i not in calibrate_model(**data).keys()\n",
    "]"
   ]
  },
  {
   "cell_type": "code",
   "execution_count": 15,
   "id": "aa06a85d-e8b8-4f54-8494-a2557775db0a",
   "metadata": {
    "tags": []
   },
   "outputs": [
    {
     "data": {
      "text/plain": [
       "[]"
      ]
     },
     "execution_count": 15,
     "metadata": {},
     "output_type": "execute_result"
    }
   ],
   "source": [
    "[\n",
    "    i\n",
    "    for i in calibrate_model(**data).keys()\n",
    "    if i not in [*chain(mod.variable_names, mod.parameter_names)]\n",
    "]"
   ]
  },
  {
   "cell_type": "code",
   "execution_count": 16,
   "id": "39af4a09",
   "metadata": {
    "tags": []
   },
   "outputs": [],
   "source": [
    "calibrated_data = calibrate_model(**data)\n",
    "var_inputs = np.r_[*[np.atleast_1d(calibrated_data[x]).ravel() for x in mod.variable_names]]\n",
    "param_inputs = np.r_[*[np.atleast_1d(calibrated_data[x]).ravel() for x in mod.parameter_names]]"
   ]
  },
  {
   "cell_type": "code",
   "execution_count": 17,
   "id": "0466097e-a5a1-454d-9964-ee266e00a734",
   "metadata": {
    "tags": []
   },
   "outputs": [
    {
     "data": {
      "text/plain": [
       "array(2.22044605e-14)"
      ]
     },
     "execution_count": 17,
     "metadata": {},
     "output_type": "execute_result"
    }
   ],
   "source": [
    "mod.f_resid(exog_inputs=var_inputs, endog_inputs=param_inputs)"
   ]
  },
  {
   "cell_type": "code",
   "execution_count": 18,
   "id": "3ff56305-65ff-4f27-ada4-ff5ebc133446",
   "metadata": {
    "tags": []
   },
   "outputs": [
    {
     "data": {
      "text/plain": [
       "{}"
      ]
     },
     "execution_count": 18,
     "metadata": {},
     "output_type": "execute_result"
    }
   ],
   "source": [
    "errors = dict(zip(mod.unpacked_equation_names, mod.f_system(var_inputs, param_inputs)))\n",
    "{k: v for k, v in errors.items() if abs(v) > 1e-5}"
   ]
  },
  {
   "cell_type": "code",
   "execution_count": null,
   "id": "174b5fd0-dc1b-4fb0-b289-fff46c6aa8e2",
   "metadata": {},
   "outputs": [],
   "source": []
  },
  {
   "cell_type": "code",
   "execution_count": 19,
   "id": "2e97951f",
   "metadata": {
    "tags": []
   },
   "outputs": [],
   "source": [
    "labor_increase = calibrated_data.copy()\n",
    "labor_increase[\"K_s\"] = 10_000\n",
    "theta_labor_increase = np.r_[\n",
    "    *[np.atleast_1d(labor_increase[x]).flatten() for x in mod.parameter_names]\n",
    "]"
   ]
  },
  {
   "cell_type": "code",
   "execution_count": 20,
   "id": "d65fa6c8",
   "metadata": {
    "tags": []
   },
   "outputs": [],
   "source": [
    "n_steps = 10_000\n",
    "idata = mod._solve_with_euler_approximation(\n",
    "    calibrated_data, theta_final=theta_labor_increase, n_steps=n_steps\n",
    ")"
   ]
  },
  {
   "cell_type": "code",
   "execution_count": 21,
   "id": "44d78b8e",
   "metadata": {
    "tags": []
   },
   "outputs": [],
   "source": [
    "new_data = idata.isel(step=-1).to_dict()[\"variables\"] | idata.isel(step=-1).to_dict()[\"parameters\"]"
   ]
  },
  {
   "cell_type": "code",
   "execution_count": 22,
   "id": "34018d68-8a27-484c-8fd4-d0f48a7ef3f2",
   "metadata": {
    "tags": []
   },
   "outputs": [],
   "source": [
    "v, p = variable_dict_to_flat_array(new_data, mod.variables, mod.parameters)"
   ]
  },
  {
   "cell_type": "code",
   "execution_count": 23,
   "id": "0b809084",
   "metadata": {
    "tags": []
   },
   "outputs": [
    {
     "data": {
      "text/plain": [
       "array(6.23558227e+11)"
      ]
     },
     "execution_count": 23,
     "metadata": {},
     "output_type": "execute_result"
    }
   ],
   "source": [
    "mod.f_resid(v, p)"
   ]
  },
  {
   "cell_type": "code",
   "execution_count": null,
   "id": "15f03c20-0a24-4a29-ad1e-f13923cecdcf",
   "metadata": {},
   "outputs": [],
   "source": []
  },
  {
   "cell_type": "code",
   "execution_count": 174,
   "id": "0864c6bd-84af-4925-8dc4-8ff91e79d186",
   "metadata": {
    "tags": []
   },
   "outputs": [
    {
     "data": {
      "text/plain": [
       " message: The solution converged.\n",
       " success: True\n",
       "  status: 1\n",
       "     fun: [-1.819e-12  0.000e+00 ...  0.000e+00  8.327e-17]\n",
       "       x: [ 1.297e+04  2.556e+04 ...  1.000e+00  3.060e+11]\n",
       "    nfev: 78\n",
       "    fjac: [[-6.386e-01  1.101e-28 ...  5.465e-41 -1.839e-34]\n",
       "           [ 4.934e-29 -6.248e-01 ...  8.146e-41 -2.717e-34]\n",
       "           ...\n",
       "           [ 1.226e-06  9.180e-07 ... -7.051e-01 -7.091e-01]\n",
       "           [ 1.219e-06  9.128e-07 ...  7.091e-01 -7.051e-01]]\n",
       "       r: [-1.606e+00  4.666e-32 ... -1.100e-15 -1.094e-15]\n",
       "     qtf: [ 1.158e-13  1.440e-12 ...  3.071e-14  3.054e-14]"
      ]
     },
     "execution_count": 174,
     "metadata": {},
     "output_type": "execute_result"
    }
   ],
   "source": [
    "res = mod._solve_with_root(new_data, theta_labor_increase, method=\"hybr\", use_jac=False)\n",
    "res"
   ]
  },
  {
   "cell_type": "code",
   "execution_count": 175,
   "id": "eaa96105-14e0-42d8-9f18-545d98dd59ac",
   "metadata": {
    "tags": []
   },
   "outputs": [],
   "source": [
    "res_d = flat_array_to_variable_dict(\n",
    "    np.r_[res.x, theta_labor_increase], mod.variables + mod.parameters, mod.coords\n",
    ")"
   ]
  },
  {
   "cell_type": "code",
   "execution_count": 176,
   "id": "ac33c997",
   "metadata": {
    "tags": []
   },
   "outputs": [
    {
     "data": {
      "text/plain": [
       "array(3.72529052e-09)"
      ]
     },
     "execution_count": 176,
     "metadata": {},
     "output_type": "execute_result"
    }
   ],
   "source": [
    "v, p = variable_dict_to_flat_array(res_d, mod.variables, mod.parameters)\n",
    "mod.f_resid(v, p)"
   ]
  },
  {
   "cell_type": "code",
   "execution_count": null,
   "id": "436146fe-7ac1-4cea-aa0d-626ebf106178",
   "metadata": {},
   "outputs": [],
   "source": []
  },
  {
   "cell_type": "code",
   "execution_count": 177,
   "id": "f30e1ef6",
   "metadata": {
    "tags": []
   },
   "outputs": [
    {
     "data": {
      "image/png": "[encoded data removed]",
      "text/plain": [
       "<Figure size 1500x900 with 30 Axes>"
      ]
     },
     "metadata": {},
     "output_type": "display_data"
    }
   ],
   "source": [
    "fig, ax = plt.subplots(6, 5, figsize=(15, 9), sharex=True)\n",
    "for i, (axis, var) in enumerate(zip(fig.axes, mod.variable_names)):\n",
    "    data = idata.variables[var]\n",
    "    if data.ndim > 2:\n",
    "        data = data.stack(pair=[\"i\", \"j\"])\n",
    "    data.plot.line(x=\"step\", ax=axis, add_legend=False)\n",
    "    axis.set(title=var, xlabel=None)\n",
    "\n",
    "    scatter_grid = np.full(int(np.prod(res_d[var].shape)), idata.variables.coords[\"step\"].max())\n",
    "    axis.scatter(scatter_grid, res_d[var].ravel(), marker=\"*\", color=\"tab:red\", zorder=10, s=100)\n",
    "fig.tight_layout()"
   ]
  },
  {
   "cell_type": "code",
   "execution_count": null,
   "id": "fafa0fc8-9d20-4415-84a4-c2efa0b2bb12",
   "metadata": {},
   "outputs": [],
   "source": []
  },
  {
   "cell_type": "code",
   "execution_count": 138,
   "id": "c880abca",
   "metadata": {
    "tags": []
   },
   "outputs": [
    {
     "data": {
      "text/plain": [
       "array([[0.25      , 0.11764706, 0.22222222, 0.16666667],\n",
       "       [0.5       , 0.41176471, 0.44444444, 0.66666667],\n",
       "       [0.125     , 0.29411765, 0.22222222, 0.16666667],\n",
       "       [0.125     , 0.17647059, 0.11111111, 0.        ]])"
      ]
     },
     "execution_count": 138,
     "metadata": {},
     "output_type": "execute_result"
    }
   ],
   "source": [
    "calibrated_data[\"psi_X\"]"
   ]
  },
  {
   "cell_type": "code",
   "execution_count": null,
   "id": "e9e8bf6a",
   "metadata": {},
   "outputs": [],
   "source": []
  }
 ],
 "metadata": {
  "kernelspec": {
   "display_name": "mamba_env_CGE",
   "language": "python",
   "name": "mamba_env_cge"
  },
  "language_info": {
   "codemirror_mode": {
    "name": "ipython",
    "version": 3
   },
   "file_extension": ".py",
   "mimetype": "text/x-python",
   "name": "python",
   "nbconvert_exporter": "python",
   "pygments_lexer": "ipython3",
   "version": "3.11.6"
  },
  "toc": {
   "base_numbering": 1,
   "nav_menu": {},
   "number_sections": true,
   "sideBar": true,
   "skip_h1_title": false,
   "title_cell": "Table of Contents",
   "title_sidebar": "Contents",
   "toc_cell": false,
   "toc_position": {},
   "toc_section_display": true,
   "toc_window_display": false
  }
 },
 "nbformat": 4,
 "nbformat_minor": 5
}
