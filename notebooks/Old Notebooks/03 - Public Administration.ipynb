{
 "cells": [
  {
   "cell_type": "code",
   "execution_count": 7,
   "id": "38aeb10a-b78c-4064-9f1e-f9196418a674",
   "metadata": {},
   "outputs": [],
   "source": [
    "import sympy as sp\n",
    "import numpy as np\n",
    "from scipy import optimize\n",
    "import sys\n",
    "\n",
    "sys.path.append(\"..\")\n",
    "\n",
    "from cge_modeling.sympy_tools import info_to_symbols, enumerate_indexbase, sub_all_eqs\n",
    "from cge_modeling.production_functions import leontief, cobb_douglass\n",
    "from cge_modeling.base.cge import (\n",
    "    compile_cge_to_numba,\n",
    "    expand_compact_system,\n",
    "    recursive_solve_symbolic,\n",
    "    numba_linearize_cge_func,\n",
    ")\n",
    "from cge_modeling.numba_tools import euler_approx\n",
    "\n",
    "import pandas as pd"
   ]
  },
  {
   "cell_type": "code",
   "execution_count": 8,
   "id": "78eb6063-0468-4cf1-9ae0-975e137aef9f",
   "metadata": {},
   "outputs": [],
   "source": [
    "def symbol(name, *sectors):\n",
    "    if sectors == ():\n",
    "        return sp.Symbol(name, **default_assumptions)\n",
    "    suffix = \"_\" + \"_\".join(sectors)\n",
    "    return sp.Symbol(f\"{name}{suffix}\", **default_assumptions)\n",
    "\n",
    "\n",
    "def symbols(name, value, sectors):\n",
    "    return {symbol(name, sector): value for sector in sectors}\n",
    "\n",
    "\n",
    "def remove_string_keys(d):\n",
    "    d_copy = d.copy()\n",
    "    for k in d:\n",
    "        if isinstance(k, str):\n",
    "            del d_copy[k]\n",
    "    return d_copy"
   ]
  },
  {
   "cell_type": "markdown",
   "id": "d7e1e122-b492-447f-b12f-ea0410950794",
   "metadata": {},
   "source": [
    "# Data"
   ]
  },
  {
   "cell_type": "code",
   "execution_count": 9,
   "id": "353d8041-4b00-45f9-b6b2-49146bd10a65",
   "metadata": {},
   "outputs": [
    {
     "name": "stderr",
     "output_type": "stream",
     "text": [
      "/var/folders/7b/rzxy96cj0w751_6td3g2yss00000gn/T/ipykernel_98911/3583921827.py:1: FutureWarning: DataFrame.applymap has been deprecated. Use DataFrame.map instead.\n",
      "  df = pd.read_csv(\"data/lesson_3_sam.csv\", index_col=[0, 1], header=[0, 1]).applymap(float).fillna(0)\n"
     ]
    },
    {
     "data": {
      "text/html": [
       "<div>\n",
       "<style scoped>\n",
       "    .dataframe tbody tr th:only-of-type {\n",
       "        vertical-align: middle;\n",
       "    }\n",
       "\n",
       "    .dataframe tbody tr th {\n",
       "        vertical-align: top;\n",
       "    }\n",
       "\n",
       "    .dataframe thead tr th {\n",
       "        text-align: left;\n",
       "    }\n",
       "</style>\n",
       "<table border=\"1\" class=\"dataframe\">\n",
       "  <thead>\n",
       "    <tr>\n",
       "      <th></th>\n",
       "      <th></th>\n",
       "      <th colspan=\"2\" halign=\"left\">Factor</th>\n",
       "      <th colspan=\"3\" halign=\"left\">Institution</th>\n",
       "      <th colspan=\"3\" halign=\"left\">Production</th>\n",
       "      <th colspan=\"3\" halign=\"left\">Activities</th>\n",
       "    </tr>\n",
       "    <tr>\n",
       "      <th></th>\n",
       "      <th></th>\n",
       "      <th>Labor</th>\n",
       "      <th>Capital</th>\n",
       "      <th>Household</th>\n",
       "      <th>Firms</th>\n",
       "      <th>Govt</th>\n",
       "      <th>Agriculture</th>\n",
       "      <th>Industry</th>\n",
       "      <th>Services</th>\n",
       "      <th>Agriculture</th>\n",
       "      <th>Industry</th>\n",
       "      <th>Services</th>\n",
       "    </tr>\n",
       "  </thead>\n",
       "  <tbody>\n",
       "    <tr>\n",
       "      <th rowspan=\"2\" valign=\"top\">Factor</th>\n",
       "      <th>Labor</th>\n",
       "      <td>0.0</td>\n",
       "      <td>0.0</td>\n",
       "      <td>0.0</td>\n",
       "      <td>0.0</td>\n",
       "      <td>0.0</td>\n",
       "      <td>0.0</td>\n",
       "      <td>0.0</td>\n",
       "      <td>0.0</td>\n",
       "      <td>1300.0</td>\n",
       "      <td>1900.0</td>\n",
       "      <td>4000.0</td>\n",
       "    </tr>\n",
       "    <tr>\n",
       "      <th>Capital</th>\n",
       "      <td>0.0</td>\n",
       "      <td>0.0</td>\n",
       "      <td>0.0</td>\n",
       "      <td>0.0</td>\n",
       "      <td>0.0</td>\n",
       "      <td>0.0</td>\n",
       "      <td>0.0</td>\n",
       "      <td>0.0</td>\n",
       "      <td>200.0</td>\n",
       "      <td>2100.0</td>\n",
       "      <td>500.0</td>\n",
       "    </tr>\n",
       "    <tr>\n",
       "      <th rowspan=\"3\" valign=\"top\">Institution</th>\n",
       "      <th>Household</th>\n",
       "      <td>7200.0</td>\n",
       "      <td>0.0</td>\n",
       "      <td>0.0</td>\n",
       "      <td>2800.0</td>\n",
       "      <td>0.0</td>\n",
       "      <td>0.0</td>\n",
       "      <td>0.0</td>\n",
       "      <td>0.0</td>\n",
       "      <td>0.0</td>\n",
       "      <td>0.0</td>\n",
       "      <td>0.0</td>\n",
       "    </tr>\n",
       "    <tr>\n",
       "      <th>Firms</th>\n",
       "      <td>0.0</td>\n",
       "      <td>2800.0</td>\n",
       "      <td>0.0</td>\n",
       "      <td>0.0</td>\n",
       "      <td>0.0</td>\n",
       "      <td>0.0</td>\n",
       "      <td>0.0</td>\n",
       "      <td>0.0</td>\n",
       "      <td>0.0</td>\n",
       "      <td>0.0</td>\n",
       "      <td>0.0</td>\n",
       "    </tr>\n",
       "    <tr>\n",
       "      <th>Govt</th>\n",
       "      <td>0.0</td>\n",
       "      <td>0.0</td>\n",
       "      <td>3700.0</td>\n",
       "      <td>0.0</td>\n",
       "      <td>0.0</td>\n",
       "      <td>100.0</td>\n",
       "      <td>220.0</td>\n",
       "      <td>180.0</td>\n",
       "      <td>0.0</td>\n",
       "      <td>0.0</td>\n",
       "      <td>0.0</td>\n",
       "    </tr>\n",
       "    <tr>\n",
       "      <th rowspan=\"3\" valign=\"top\">Production</th>\n",
       "      <th>Agriculture</th>\n",
       "      <td>0.0</td>\n",
       "      <td>0.0</td>\n",
       "      <td>1700.0</td>\n",
       "      <td>0.0</td>\n",
       "      <td>400.0</td>\n",
       "      <td>0.0</td>\n",
       "      <td>0.0</td>\n",
       "      <td>0.0</td>\n",
       "      <td>1000.0</td>\n",
       "      <td>1000.0</td>\n",
       "      <td>1000.0</td>\n",
       "    </tr>\n",
       "    <tr>\n",
       "      <th>Industry</th>\n",
       "      <td>0.0</td>\n",
       "      <td>0.0</td>\n",
       "      <td>1200.0</td>\n",
       "      <td>0.0</td>\n",
       "      <td>1500.0</td>\n",
       "      <td>0.0</td>\n",
       "      <td>0.0</td>\n",
       "      <td>0.0</td>\n",
       "      <td>2010.0</td>\n",
       "      <td>3510.0</td>\n",
       "      <td>3000.0</td>\n",
       "    </tr>\n",
       "    <tr>\n",
       "      <th>Services</th>\n",
       "      <td>0.0</td>\n",
       "      <td>0.0</td>\n",
       "      <td>3400.0</td>\n",
       "      <td>0.0</td>\n",
       "      <td>2300.0</td>\n",
       "      <td>0.0</td>\n",
       "      <td>0.0</td>\n",
       "      <td>0.0</td>\n",
       "      <td>490.0</td>\n",
       "      <td>2490.0</td>\n",
       "      <td>1000.0</td>\n",
       "    </tr>\n",
       "    <tr>\n",
       "      <th rowspan=\"3\" valign=\"top\">Activities</th>\n",
       "      <th>Agriculture</th>\n",
       "      <td>0.0</td>\n",
       "      <td>0.0</td>\n",
       "      <td>0.0</td>\n",
       "      <td>0.0</td>\n",
       "      <td>0.0</td>\n",
       "      <td>5000.0</td>\n",
       "      <td>0.0</td>\n",
       "      <td>0.0</td>\n",
       "      <td>0.0</td>\n",
       "      <td>0.0</td>\n",
       "      <td>0.0</td>\n",
       "    </tr>\n",
       "    <tr>\n",
       "      <th>Industry</th>\n",
       "      <td>0.0</td>\n",
       "      <td>0.0</td>\n",
       "      <td>0.0</td>\n",
       "      <td>0.0</td>\n",
       "      <td>0.0</td>\n",
       "      <td>0.0</td>\n",
       "      <td>11000.0</td>\n",
       "      <td>0.0</td>\n",
       "      <td>0.0</td>\n",
       "      <td>0.0</td>\n",
       "      <td>0.0</td>\n",
       "    </tr>\n",
       "    <tr>\n",
       "      <th>Services</th>\n",
       "      <td>0.0</td>\n",
       "      <td>0.0</td>\n",
       "      <td>0.0</td>\n",
       "      <td>0.0</td>\n",
       "      <td>0.0</td>\n",
       "      <td>0.0</td>\n",
       "      <td>0.0</td>\n",
       "      <td>9500.0</td>\n",
       "      <td>0.0</td>\n",
       "      <td>0.0</td>\n",
       "      <td>0.0</td>\n",
       "    </tr>\n",
       "  </tbody>\n",
       "</table>\n",
       "</div>"
      ],
      "text/plain": [
       "                         Factor         Institution                  \\\n",
       "                          Labor Capital   Household   Firms    Govt   \n",
       "Factor      Labor           0.0     0.0         0.0     0.0     0.0   \n",
       "            Capital         0.0     0.0         0.0     0.0     0.0   \n",
       "Institution Household    7200.0     0.0         0.0  2800.0     0.0   \n",
       "            Firms           0.0  2800.0         0.0     0.0     0.0   \n",
       "            Govt            0.0     0.0      3700.0     0.0     0.0   \n",
       "Production  Agriculture     0.0     0.0      1700.0     0.0   400.0   \n",
       "            Industry        0.0     0.0      1200.0     0.0  1500.0   \n",
       "            Services        0.0     0.0      3400.0     0.0  2300.0   \n",
       "Activities  Agriculture     0.0     0.0         0.0     0.0     0.0   \n",
       "            Industry        0.0     0.0         0.0     0.0     0.0   \n",
       "            Services        0.0     0.0         0.0     0.0     0.0   \n",
       "\n",
       "                         Production                    Activities           \\\n",
       "                        Agriculture Industry Services Agriculture Industry   \n",
       "Factor      Labor               0.0      0.0      0.0      1300.0   1900.0   \n",
       "            Capital             0.0      0.0      0.0       200.0   2100.0   \n",
       "Institution Household           0.0      0.0      0.0         0.0      0.0   \n",
       "            Firms               0.0      0.0      0.0         0.0      0.0   \n",
       "            Govt              100.0    220.0    180.0         0.0      0.0   \n",
       "Production  Agriculture         0.0      0.0      0.0      1000.0   1000.0   \n",
       "            Industry            0.0      0.0      0.0      2010.0   3510.0   \n",
       "            Services            0.0      0.0      0.0       490.0   2490.0   \n",
       "Activities  Agriculture      5000.0      0.0      0.0         0.0      0.0   \n",
       "            Industry            0.0  11000.0      0.0         0.0      0.0   \n",
       "            Services            0.0      0.0   9500.0         0.0      0.0   \n",
       "\n",
       "                                  \n",
       "                        Services  \n",
       "Factor      Labor         4000.0  \n",
       "            Capital        500.0  \n",
       "Institution Household        0.0  \n",
       "            Firms            0.0  \n",
       "            Govt             0.0  \n",
       "Production  Agriculture   1000.0  \n",
       "            Industry      3000.0  \n",
       "            Services      1000.0  \n",
       "Activities  Agriculture      0.0  \n",
       "            Industry         0.0  \n",
       "            Services         0.0  "
      ]
     },
     "execution_count": 9,
     "metadata": {},
     "output_type": "execute_result"
    }
   ],
   "source": [
    "df = pd.read_csv(\"data/lesson_3_sam.csv\", index_col=[0, 1], header=[0, 1]).applymap(float).fillna(0)\n",
    "assert np.allclose(df.sum(axis=0), df.sum(axis=1))\n",
    "df"
   ]
  },
  {
   "cell_type": "markdown",
   "id": "d7945033-116e-4e1d-b9aa-70e3171000ba",
   "metadata": {},
   "source": [
    "# Preliminaries"
   ]
  },
  {
   "cell_type": "code",
   "execution_count": 10,
   "id": "0ebbed5b-47a5-40e1-b80a-66784128c90d",
   "metadata": {},
   "outputs": [],
   "source": [
    "default_assumptions = {\"real\": True}\n",
    "sectors = [\"Ag\", \"Ind\", \"Serv\"]\n",
    "i, j = [sp.Idx(name) for name in list(\"ij\")]\n",
    "index_dict = {i: sectors, j: sectors}"
   ]
  },
  {
   "cell_type": "code",
   "execution_count": 11,
   "id": "839fd98f-a22d-486b-82b0-32b3a5b403ed",
   "metadata": {},
   "outputs": [],
   "source": [
    "var_info = [\n",
    "    (\"Y\", (i,)),\n",
    "    (\"VA\", (i,)),\n",
    "    (\"IC\", (i,)),\n",
    "    (\"CIJ\", (i, j)),\n",
    "    (\"C\", (i,)),\n",
    "    (\"C_G\", (i,)),\n",
    "    (\"Ld\", (i,)),\n",
    "    (\"Kd\", (i,)),\n",
    "    (\"P\", (i,)),\n",
    "    (\"P_VA\", (i,)),\n",
    "    (\"P_IC\", (i,)),\n",
    "    (\"P_Y\", (i,)),\n",
    "    (\"sales_tax\", (i,)),\n",
    "    (\"income_tax\", ()),\n",
    "    (\"U\", ()),\n",
    "    (\"r\", ()),\n",
    "    (\"w\", ()),\n",
    "    (\"income\", ()),\n",
    "    (\"net_income\", ()),\n",
    "    (\"G\", ()),\n",
    "    (\"walras_resid\", ()),\n",
    "]\n",
    "\n",
    "variables = info_to_symbols(var_info, default_assumptions)\n",
    "(\n",
    "    Y,\n",
    "    VA,\n",
    "    IC,\n",
    "    CIJ,\n",
    "    C,\n",
    "    C_G,\n",
    "    Ld,\n",
    "    Kd,\n",
    "    P,\n",
    "    P_VA,\n",
    "    P_IC,\n",
    "    P_Y,\n",
    "    sales_tax,\n",
    "    income_tax,\n",
    "    U,\n",
    "    r,\n",
    "    w,\n",
    "    income,\n",
    "    net_income,\n",
    "    G,\n",
    "    walras_resid,\n",
    ") = variables"
   ]
  },
  {
   "cell_type": "code",
   "execution_count": 12,
   "id": "1660fba3-bbb6-4fdf-affd-55ab20e689de",
   "metadata": {},
   "outputs": [],
   "source": [
    "param_info = [\n",
    "    (\"psi_VA\", (i,)),\n",
    "    (\"psi_IC\", (i,)),\n",
    "    (\"psi_CIJ\", (i, j)),\n",
    "    (\"alpha\", (i,)),\n",
    "    (\"alpha_G\", (i,)),\n",
    "    (\"tau\", (i,)),\n",
    "    (\"gamma\", (i,)),\n",
    "    (\"A\", (i,)),\n",
    "    (\"Ls\", ()),\n",
    "    (\"Ks\", ()),\n",
    "    (\"tau_income\", ()),\n",
    "    (\"P_Ag_bar\", ()),\n",
    "]\n",
    "\n",
    "parameters = info_to_symbols(param_info, default_assumptions)\n",
    "(\n",
    "    psi_VA,\n",
    "    psi_IC,\n",
    "    psi_CIJ,\n",
    "    alpha,\n",
    "    alpha_G,\n",
    "    tau,\n",
    "    gamma,\n",
    "    A,\n",
    "    Ls,\n",
    "    Ks,\n",
    "    tau_income,\n",
    "    P_Ag_bar,\n",
    ") = parameters"
   ]
  },
  {
   "cell_type": "code",
   "execution_count": 15,
   "id": "1489b418-3fc0-4836-9e57-7dff4b85a8cd",
   "metadata": {},
   "outputs": [],
   "source": [
    "final_goods_block = leontief(Y, P_Y, [IC, VA], [P_IC, P_VA], [psi_IC, psi_VA])\n",
    "value_add_block = cobb_douglass(VA, P_VA, A, [Kd, Ld], [r, w], [alpha])\n",
    "\n",
    "# Need to change how indexing is done in the intermediate block, because the model flips the indices for these equations\n",
    "# So need to make some dummy variables\n",
    "inter_names = [\"P_IC\", \"IC\", \"P\", \"CIJ\", \"psi_CIJ\", \"IC\"]\n",
    "P_IC2, IC2, P2, CIJ2, psi_CIJ2, IC2 = [\n",
    "    sp.IndexedBase(name, **default_assumptions) for name in inter_names\n",
    "]\n",
    "\n",
    "intermediate_goods_block = [\n",
    "    P_IC2[j] * IC2[j] - sp.Sum(P2[i] * CIJ2[i, j], (i, 0, 2)).doit(),\n",
    "    CIJ2[i, j] - psi_CIJ2[i, j] * IC2[j],\n",
    "]\n",
    "\n",
    "other_equations = [\n",
    "    # Income block\n",
    "    income - w * Ls - r * Ks,\n",
    "    net_income - (1 - tau_income) * income,\n",
    "    income_tax - (income - net_income),\n",
    "    # Household demand block\n",
    "    U - sp.Product(C**gamma, (i, 0, 2)).doit(),\n",
    "    gamma * net_income - P * C,\n",
    "    # Government block\n",
    "    tau_income * income + sp.Sum(tau * P_Y * Y, (i, 0, 2)).doit() - G,\n",
    "    P * C_G - alpha_G * G,\n",
    "    # Definiton of tax rates\n",
    "    tau - sales_tax / (Y - sales_tax),\n",
    "    # Price level\n",
    "    P - P_Y * (1 + tau),\n",
    "    # Market Equlibrium\n",
    "    Ls - sp.Sum(Ld, (i, 0, 2)).doit() - walras_resid,\n",
    "    Ks - sp.Sum(Kd, (i, 0, 2)).doit(),\n",
    "    C + sp.Sum(CIJ, (j, 0, 2)).doit() + C_G - Y,\n",
    "    # Numeraire\n",
    "    P.subs({i: 0}) - P_Ag_bar,\n",
    "]\n",
    "\n",
    "equations = final_goods_block + value_add_block + intermediate_goods_block + other_equations"
   ]
  },
  {
   "cell_type": "code",
   "execution_count": 6,
   "id": "f6854616-b010-4515-911e-5c6c66d82cb1",
   "metadata": {},
   "outputs": [
    {
     "data": {
      "text/latex": [
       "$\\displaystyle - {IC}_{i} {P_{IC}}_{i} - {P_{VA}}_{i} {VA}_{i} + {P_{Y}}_{i} {Y}_{i}$"
      ],
      "text/plain": [
       "-IC[i]*P_IC[i] - P_VA[i]*VA[i] + P_Y[i]*Y[i]"
      ]
     },
     "metadata": {},
     "output_type": "display_data"
    },
    {
     "data": {
      "text/latex": [
       "$\\displaystyle {IC}_{i} - {Y}_{i} {\\psi_{IC}}_{i}$"
      ],
      "text/plain": [
       "IC[i] - Y[i]*psi_IC[i]"
      ]
     },
     "metadata": {},
     "output_type": "display_data"
    },
    {
     "data": {
      "text/latex": [
       "$\\displaystyle {VA}_{i} - {Y}_{i} {\\psi_{VA}}_{i}$"
      ],
      "text/plain": [
       "VA[i] - Y[i]*psi_VA[i]"
      ]
     },
     "metadata": {},
     "output_type": "display_data"
    },
    {
     "data": {
      "text/latex": [
       "$\\displaystyle - {A}_{i} {Kd}_{i}^{{\\alpha}_{i}} {Ld}_{i}^{1 - {\\alpha}_{i}} + {VA}_{i}$"
      ],
      "text/plain": [
       "-A[i]*Kd[i]**alpha[i]*Ld[i]**(1 - alpha[i]) + VA[i]"
      ]
     },
     "metadata": {},
     "output_type": "display_data"
    },
    {
     "data": {
      "text/latex": [
       "$\\displaystyle {Kd}_{i} - \\frac{{P_{VA}}_{i} {VA}_{i} {\\alpha}_{i}}{r}$"
      ],
      "text/plain": [
       "Kd[i] - P_VA[i]*VA[i]*alpha[i]/r"
      ]
     },
     "metadata": {},
     "output_type": "display_data"
    },
    {
     "data": {
      "text/latex": [
       "$\\displaystyle {Ld}_{i} - \\frac{\\left(1 - {\\alpha}_{i}\\right) {P_{VA}}_{i} {VA}_{i}}{w}$"
      ],
      "text/plain": [
       "Ld[i] - (1 - alpha[i])*P_VA[i]*VA[i]/w"
      ]
     },
     "metadata": {},
     "output_type": "display_data"
    },
    {
     "data": {
      "text/latex": [
       "$\\displaystyle - {CIJ}_{0,j} {P}_{0} - {CIJ}_{1,j} {P}_{1} - {CIJ}_{2,j} {P}_{2} + {IC}_{j} {P_{IC}}_{j}$"
      ],
      "text/plain": [
       "-CIJ[0, j]*P[0] - CIJ[1, j]*P[1] - CIJ[2, j]*P[2] + IC[j]*P_IC[j]"
      ]
     },
     "metadata": {},
     "output_type": "display_data"
    },
    {
     "data": {
      "text/latex": [
       "$\\displaystyle {CIJ}_{i,j} - {IC}_{j} {\\psi_{CIJ}}_{i,j}$"
      ],
      "text/plain": [
       "CIJ[i, j] - IC[j]*psi_CIJ[i, j]"
      ]
     },
     "metadata": {},
     "output_type": "display_data"
    },
    {
     "data": {
      "text/latex": [
       "$\\displaystyle - Ks r - Ls w + income$"
      ],
      "text/plain": [
       "-Ks*r - Ls*w + income"
      ]
     },
     "metadata": {},
     "output_type": "display_data"
    },
    {
     "data": {
      "text/latex": [
       "$\\displaystyle - income \\left(1 - \\tau_{income}\\right) + net_{income}$"
      ],
      "text/plain": [
       "-income*(1 - tau_income) + net_income"
      ]
     },
     "metadata": {},
     "output_type": "display_data"
    },
    {
     "data": {
      "text/latex": [
       "$\\displaystyle - income + income_{tax} + net_{income}$"
      ],
      "text/plain": [
       "-income + income_tax + net_income"
      ]
     },
     "metadata": {},
     "output_type": "display_data"
    },
    {
     "data": {
      "text/latex": [
       "$\\displaystyle U - {C}_{0}^{{\\gamma}_{0}} {C}_{1}^{{\\gamma}_{1}} {C}_{2}^{{\\gamma}_{2}}$"
      ],
      "text/plain": [
       "U - C[0]**gamma[0]*C[1]**gamma[1]*C[2]**gamma[2]"
      ]
     },
     "metadata": {},
     "output_type": "display_data"
    },
    {
     "data": {
      "text/latex": [
       "$\\displaystyle net_{income} {\\gamma}_{i} - {C}_{i} {P}_{i}$"
      ],
      "text/plain": [
       "net_income*gamma[i] - C[i]*P[i]"
      ]
     },
     "metadata": {},
     "output_type": "display_data"
    },
    {
     "data": {
      "text/latex": [
       "$\\displaystyle - G + income \\tau_{income} + {P_{Y}}_{0} {Y}_{0} {\\tau}_{0} + {P_{Y}}_{1} {Y}_{1} {\\tau}_{1} + {P_{Y}}_{2} {Y}_{2} {\\tau}_{2}$"
      ],
      "text/plain": [
       "-G + income*tau_income + P_Y[0]*Y[0]*tau[0] + P_Y[1]*Y[1]*tau[1] + P_Y[2]*Y[2]*tau[2]"
      ]
     },
     "metadata": {},
     "output_type": "display_data"
    },
    {
     "data": {
      "text/latex": [
       "$\\displaystyle - G {\\alpha_{G}}_{i} + {C_{G}}_{i} {P}_{i}$"
      ],
      "text/plain": [
       "-G*alpha_G[i] + C_G[i]*P[i]"
      ]
     },
     "metadata": {},
     "output_type": "display_data"
    },
    {
     "data": {
      "text/latex": [
       "$\\displaystyle {\\tau}_{i} - \\frac{{sales_{tax}}_{i}}{{Y}_{i} - {sales_{tax}}_{i}}$"
      ],
      "text/plain": [
       "tau[i] - sales_tax[i]/(Y[i] - sales_tax[i])"
      ]
     },
     "metadata": {},
     "output_type": "display_data"
    },
    {
     "data": {
      "text/latex": [
       "$\\displaystyle - \\left({\\tau}_{i} + 1\\right) {P_{Y}}_{i} + {P}_{i}$"
      ],
      "text/plain": [
       "-(tau[i] + 1)*P_Y[i] + P[i]"
      ]
     },
     "metadata": {},
     "output_type": "display_data"
    },
    {
     "data": {
      "text/latex": [
       "$\\displaystyle Ls - walras_{resid} - {Ld}_{0} - {Ld}_{1} - {Ld}_{2}$"
      ],
      "text/plain": [
       "Ls - walras_resid - Ld[0] - Ld[1] - Ld[2]"
      ]
     },
     "metadata": {},
     "output_type": "display_data"
    },
    {
     "data": {
      "text/latex": [
       "$\\displaystyle Ks - {Kd}_{0} - {Kd}_{1} - {Kd}_{2}$"
      ],
      "text/plain": [
       "Ks - Kd[0] - Kd[1] - Kd[2]"
      ]
     },
     "metadata": {},
     "output_type": "display_data"
    },
    {
     "data": {
      "text/latex": [
       "$\\displaystyle {CIJ}_{i,0} + {CIJ}_{i,1} + {CIJ}_{i,2} + {C}_{i} + {C_{G}}_{i} - {Y}_{i}$"
      ],
      "text/plain": [
       "CIJ[i, 0] + CIJ[i, 1] + CIJ[i, 2] + C[i] + C_G[i] - Y[i]"
      ]
     },
     "metadata": {},
     "output_type": "display_data"
    },
    {
     "data": {
      "text/latex": [
       "$\\displaystyle - P_{Ag bar} + {P}_{0}$"
      ],
      "text/plain": [
       "-P_Ag_bar + P[0]"
      ]
     },
     "metadata": {},
     "output_type": "display_data"
    }
   ],
   "source": [
    "for eq in equations:\n",
    "    display(eq)"
   ]
  },
  {
   "cell_type": "markdown",
   "id": "ec028f93-ef2a-4d4c-9edf-4c4809b10959",
   "metadata": {},
   "source": [
    "# Calibration"
   ]
  },
  {
   "cell_type": "code",
   "execution_count": 16,
   "id": "173063dd-3624-4bc3-bb77-11ae5f8b954e",
   "metadata": {},
   "outputs": [
    {
     "data": {
      "text/html": [
       "<div>\n",
       "<style scoped>\n",
       "    .dataframe tbody tr th:only-of-type {\n",
       "        vertical-align: middle;\n",
       "    }\n",
       "\n",
       "    .dataframe tbody tr th {\n",
       "        vertical-align: top;\n",
       "    }\n",
       "\n",
       "    .dataframe thead tr th {\n",
       "        text-align: left;\n",
       "    }\n",
       "</style>\n",
       "<table border=\"1\" class=\"dataframe\">\n",
       "  <thead>\n",
       "    <tr>\n",
       "      <th></th>\n",
       "      <th></th>\n",
       "      <th colspan=\"2\" halign=\"left\">Factor</th>\n",
       "      <th colspan=\"3\" halign=\"left\">Institution</th>\n",
       "      <th colspan=\"3\" halign=\"left\">Production</th>\n",
       "      <th colspan=\"3\" halign=\"left\">Activities</th>\n",
       "    </tr>\n",
       "    <tr>\n",
       "      <th></th>\n",
       "      <th></th>\n",
       "      <th>Labor</th>\n",
       "      <th>Capital</th>\n",
       "      <th>Household</th>\n",
       "      <th>Firms</th>\n",
       "      <th>Govt</th>\n",
       "      <th>Agriculture</th>\n",
       "      <th>Industry</th>\n",
       "      <th>Services</th>\n",
       "      <th>Agriculture</th>\n",
       "      <th>Industry</th>\n",
       "      <th>Services</th>\n",
       "    </tr>\n",
       "  </thead>\n",
       "  <tbody>\n",
       "    <tr>\n",
       "      <th rowspan=\"2\" valign=\"top\">Factor</th>\n",
       "      <th>Labor</th>\n",
       "      <td>0.0</td>\n",
       "      <td>0.0</td>\n",
       "      <td>0.0</td>\n",
       "      <td>0.0</td>\n",
       "      <td>0.0</td>\n",
       "      <td>0.0</td>\n",
       "      <td>0.0</td>\n",
       "      <td>0.0</td>\n",
       "      <td>1300.0</td>\n",
       "      <td>1900.0</td>\n",
       "      <td>4000.0</td>\n",
       "    </tr>\n",
       "    <tr>\n",
       "      <th>Capital</th>\n",
       "      <td>0.0</td>\n",
       "      <td>0.0</td>\n",
       "      <td>0.0</td>\n",
       "      <td>0.0</td>\n",
       "      <td>0.0</td>\n",
       "      <td>0.0</td>\n",
       "      <td>0.0</td>\n",
       "      <td>0.0</td>\n",
       "      <td>200.0</td>\n",
       "      <td>2100.0</td>\n",
       "      <td>500.0</td>\n",
       "    </tr>\n",
       "    <tr>\n",
       "      <th rowspan=\"3\" valign=\"top\">Institution</th>\n",
       "      <th>Household</th>\n",
       "      <td>7200.0</td>\n",
       "      <td>0.0</td>\n",
       "      <td>0.0</td>\n",
       "      <td>2800.0</td>\n",
       "      <td>0.0</td>\n",
       "      <td>0.0</td>\n",
       "      <td>0.0</td>\n",
       "      <td>0.0</td>\n",
       "      <td>0.0</td>\n",
       "      <td>0.0</td>\n",
       "      <td>0.0</td>\n",
       "    </tr>\n",
       "    <tr>\n",
       "      <th>Firms</th>\n",
       "      <td>0.0</td>\n",
       "      <td>2800.0</td>\n",
       "      <td>0.0</td>\n",
       "      <td>0.0</td>\n",
       "      <td>0.0</td>\n",
       "      <td>0.0</td>\n",
       "      <td>0.0</td>\n",
       "      <td>0.0</td>\n",
       "      <td>0.0</td>\n",
       "      <td>0.0</td>\n",
       "      <td>0.0</td>\n",
       "    </tr>\n",
       "    <tr>\n",
       "      <th>Govt</th>\n",
       "      <td>0.0</td>\n",
       "      <td>0.0</td>\n",
       "      <td>3700.0</td>\n",
       "      <td>0.0</td>\n",
       "      <td>0.0</td>\n",
       "      <td>100.0</td>\n",
       "      <td>220.0</td>\n",
       "      <td>180.0</td>\n",
       "      <td>0.0</td>\n",
       "      <td>0.0</td>\n",
       "      <td>0.0</td>\n",
       "    </tr>\n",
       "    <tr>\n",
       "      <th rowspan=\"3\" valign=\"top\">Production</th>\n",
       "      <th>Agriculture</th>\n",
       "      <td>0.0</td>\n",
       "      <td>0.0</td>\n",
       "      <td>1700.0</td>\n",
       "      <td>0.0</td>\n",
       "      <td>400.0</td>\n",
       "      <td>0.0</td>\n",
       "      <td>0.0</td>\n",
       "      <td>0.0</td>\n",
       "      <td>1000.0</td>\n",
       "      <td>1000.0</td>\n",
       "      <td>1000.0</td>\n",
       "    </tr>\n",
       "    <tr>\n",
       "      <th>Industry</th>\n",
       "      <td>0.0</td>\n",
       "      <td>0.0</td>\n",
       "      <td>1200.0</td>\n",
       "      <td>0.0</td>\n",
       "      <td>1500.0</td>\n",
       "      <td>0.0</td>\n",
       "      <td>0.0</td>\n",
       "      <td>0.0</td>\n",
       "      <td>2010.0</td>\n",
       "      <td>3510.0</td>\n",
       "      <td>3000.0</td>\n",
       "    </tr>\n",
       "    <tr>\n",
       "      <th>Services</th>\n",
       "      <td>0.0</td>\n",
       "      <td>0.0</td>\n",
       "      <td>3400.0</td>\n",
       "      <td>0.0</td>\n",
       "      <td>2300.0</td>\n",
       "      <td>0.0</td>\n",
       "      <td>0.0</td>\n",
       "      <td>0.0</td>\n",
       "      <td>490.0</td>\n",
       "      <td>2490.0</td>\n",
       "      <td>1000.0</td>\n",
       "    </tr>\n",
       "    <tr>\n",
       "      <th rowspan=\"3\" valign=\"top\">Activities</th>\n",
       "      <th>Agriculture</th>\n",
       "      <td>0.0</td>\n",
       "      <td>0.0</td>\n",
       "      <td>0.0</td>\n",
       "      <td>0.0</td>\n",
       "      <td>0.0</td>\n",
       "      <td>5000.0</td>\n",
       "      <td>0.0</td>\n",
       "      <td>0.0</td>\n",
       "      <td>0.0</td>\n",
       "      <td>0.0</td>\n",
       "      <td>0.0</td>\n",
       "    </tr>\n",
       "    <tr>\n",
       "      <th>Industry</th>\n",
       "      <td>0.0</td>\n",
       "      <td>0.0</td>\n",
       "      <td>0.0</td>\n",
       "      <td>0.0</td>\n",
       "      <td>0.0</td>\n",
       "      <td>0.0</td>\n",
       "      <td>11000.0</td>\n",
       "      <td>0.0</td>\n",
       "      <td>0.0</td>\n",
       "      <td>0.0</td>\n",
       "      <td>0.0</td>\n",
       "    </tr>\n",
       "    <tr>\n",
       "      <th>Services</th>\n",
       "      <td>0.0</td>\n",
       "      <td>0.0</td>\n",
       "      <td>0.0</td>\n",
       "      <td>0.0</td>\n",
       "      <td>0.0</td>\n",
       "      <td>0.0</td>\n",
       "      <td>0.0</td>\n",
       "      <td>9500.0</td>\n",
       "      <td>0.0</td>\n",
       "      <td>0.0</td>\n",
       "      <td>0.0</td>\n",
       "    </tr>\n",
       "  </tbody>\n",
       "</table>\n",
       "</div>"
      ],
      "text/plain": [
       "                         Factor         Institution                  \\\n",
       "                          Labor Capital   Household   Firms    Govt   \n",
       "Factor      Labor           0.0     0.0         0.0     0.0     0.0   \n",
       "            Capital         0.0     0.0         0.0     0.0     0.0   \n",
       "Institution Household    7200.0     0.0         0.0  2800.0     0.0   \n",
       "            Firms           0.0  2800.0         0.0     0.0     0.0   \n",
       "            Govt            0.0     0.0      3700.0     0.0     0.0   \n",
       "Production  Agriculture     0.0     0.0      1700.0     0.0   400.0   \n",
       "            Industry        0.0     0.0      1200.0     0.0  1500.0   \n",
       "            Services        0.0     0.0      3400.0     0.0  2300.0   \n",
       "Activities  Agriculture     0.0     0.0         0.0     0.0     0.0   \n",
       "            Industry        0.0     0.0         0.0     0.0     0.0   \n",
       "            Services        0.0     0.0         0.0     0.0     0.0   \n",
       "\n",
       "                         Production                    Activities           \\\n",
       "                        Agriculture Industry Services Agriculture Industry   \n",
       "Factor      Labor               0.0      0.0      0.0      1300.0   1900.0   \n",
       "            Capital             0.0      0.0      0.0       200.0   2100.0   \n",
       "Institution Household           0.0      0.0      0.0         0.0      0.0   \n",
       "            Firms               0.0      0.0      0.0         0.0      0.0   \n",
       "            Govt              100.0    220.0    180.0         0.0      0.0   \n",
       "Production  Agriculture         0.0      0.0      0.0      1000.0   1000.0   \n",
       "            Industry            0.0      0.0      0.0      2010.0   3510.0   \n",
       "            Services            0.0      0.0      0.0       490.0   2490.0   \n",
       "Activities  Agriculture      5000.0      0.0      0.0         0.0      0.0   \n",
       "            Industry            0.0  11000.0      0.0         0.0      0.0   \n",
       "            Services            0.0      0.0   9500.0         0.0      0.0   \n",
       "\n",
       "                                  \n",
       "                        Services  \n",
       "Factor      Labor         4000.0  \n",
       "            Capital        500.0  \n",
       "Institution Household        0.0  \n",
       "            Firms            0.0  \n",
       "            Govt             0.0  \n",
       "Production  Agriculture   1000.0  \n",
       "            Industry      3000.0  \n",
       "            Services      1000.0  \n",
       "Activities  Agriculture      0.0  \n",
       "            Industry         0.0  \n",
       "            Services         0.0  "
      ]
     },
     "execution_count": 16,
     "metadata": {},
     "output_type": "execute_result"
    }
   ],
   "source": [
    "df"
   ]
  },
  {
   "cell_type": "code",
   "execution_count": 17,
   "id": "b8817274-05af-496a-9ab9-640b4b8a4372",
   "metadata": {},
   "outputs": [],
   "source": [
    "short_to_long = {\"Ag\": \"Agriculture\", \"Ind\": \"Industry\", \"Serv\": \"Services\"}\n",
    "\n",
    "# Normalize prices\n",
    "initial_values = {w: 1, r: 1, walras_resid: 0}\n",
    "initial_values.update(symbols(\"P_VA\", 1, sectors))\n",
    "initial_values.update(symbols(\"P_IC\", 1, sectors))\n",
    "initial_values.update(symbols(\"P_Y\", 1, sectors))\n",
    "\n",
    "# Enter data from SAM\n",
    "initial_values[income_tax] = df.loc[(\"Institution\", \"Govt\"), (\"Institution\", \"Household\")]\n",
    "for sector in sectors:\n",
    "    long_sector = short_to_long[sector]\n",
    "    initial_values[symbol(\"Ld\", sector)] = (\n",
    "        df.loc[(\"Factor\", \"Labor\"), (\"Activities\", long_sector)] / initial_values[w]\n",
    "    )\n",
    "    initial_values[symbol(\"Kd\", sector)] = (\n",
    "        df.loc[(\"Factor\", \"Capital\"), (\"Activities\", long_sector)] / initial_values[r]\n",
    "    )\n",
    "    initial_values[symbol(\"C_G\", sector)] = df.loc[\n",
    "        (\"Production\", long_sector), (\"Institution\", \"Govt\")\n",
    "    ]\n",
    "    initial_values[symbol(\"sales_tax\", sector)] = df.loc[\n",
    "        (\"Institution\", \"Govt\"), (\"Production\", long_sector)\n",
    "    ]\n",
    "    initial_values[symbol(\"C\", sector)] = df.loc[\n",
    "        (\"Production\", long_sector), (\"Institution\", \"Household\")\n",
    "    ]\n",
    "    initial_values[symbol(\"Y\", sector)] = df.sum(axis=0).loc[(\"Production\", long_sector)]\n",
    "\n",
    "    # Work out the tax rate from tax reciepts\n",
    "    tax_rate = symbol(\"tau\", sector)\n",
    "    P_sector = symbol(\"P\", sector)\n",
    "\n",
    "    sector_tax_paid = initial_values[symbol(\"sales_tax\", sector)]\n",
    "\n",
    "    initial_values[tax_rate] = sector_tax_paid / (\n",
    "        initial_values[symbol(\"Y\", sector)] - sector_tax_paid\n",
    "    )\n",
    "    initial_values[P_sector] = initial_values[symbol(\"P_Y\", sector)] * (\n",
    "        1 + initial_values[tax_rate]\n",
    "    )\n",
    "\n",
    "    # Adjust values in SAM to account for non-normalized prices\n",
    "    P_adj = initial_values[P_sector]\n",
    "    for sector_j in sectors:\n",
    "        long_sector_j = short_to_long[sector_j]\n",
    "        SAM_idx = (\"Production\", long_sector), (\"Activities\", long_sector_j)\n",
    "        initial_values[symbol(\"CIJ\", sector, sector_j)] = df.loc[SAM_idx] / P_adj\n",
    "\n",
    "    demands_to_adjust = [\"C\", \"C_G\", \"Y\"]\n",
    "    for demand in demands_to_adjust:\n",
    "        initial_values[symbol(demand, sector)] = initial_values[symbol(demand, sector)] / P_adj\n",
    "\n",
    "# Known aggregates\n",
    "# Have to do this because income tax reciepts aren't a model equaiton. Very strange!\n",
    "initial_values[symbol(\"Ls\")] = sum(\n",
    "    [initial_values[k] for k in initial_values.keys() if getattr(k, \"name\", \"\").startswith(\"Ld_\")]\n",
    ")\n",
    "initial_values[symbol(\"Ks\")] = sum(\n",
    "    [initial_values[k] for k in initial_values.keys() if getattr(k, \"name\", \"\").startswith(\"Kd_\")]\n",
    ")\n",
    "\n",
    "initial_values[income] = (\n",
    "    initial_values[w] * initial_values[Ls] + initial_values[r] * initial_values[Ks]\n",
    ")\n",
    "initial_values[tau_income] = initial_values[income_tax] / initial_values[income]\n",
    "initial_values[net_income] = (1 - initial_values[tau_income]) * initial_values[income]\n",
    "\n",
    "initial_values = remove_string_keys(initial_values)"
   ]
  },
  {
   "cell_type": "code",
   "execution_count": 18,
   "id": "c2f8e888",
   "metadata": {},
   "outputs": [
    {
     "data": {
      "text/plain": [
       "{w: 1,\n",
       " r: 1,\n",
       " walras_resid: 0,\n",
       " P_VA_Ag: 1,\n",
       " P_VA_Ind: 1,\n",
       " P_VA_Serv: 1,\n",
       " P_IC_Ag: 1,\n",
       " P_IC_Ind: 1,\n",
       " P_IC_Serv: 1,\n",
       " P_Y_Ag: 1,\n",
       " P_Y_Ind: 1,\n",
       " P_Y_Serv: 1,\n",
       " income_tax: 3700.0,\n",
       " Ld_Ag: 1300.0,\n",
       " Kd_Ag: 200.0,\n",
       " C_G_Ag: 392.156862745098,\n",
       " sales_tax_Ag: 100.0,\n",
       " C_Ag: 1666.6666666666667,\n",
       " Y_Ag: 5000.0,\n",
       " tau_Ag: 0.02,\n",
       " P_Ag: 1.02,\n",
       " CIJ_Ag_Ag: 980.3921568627451,\n",
       " CIJ_Ag_Ind: 980.3921568627451,\n",
       " CIJ_Ag_Serv: 980.3921568627451,\n",
       " Ld_Ind: 1900.0,\n",
       " Kd_Ind: 2100.0,\n",
       " C_G_Ind: 1470.5882352941176,\n",
       " sales_tax_Ind: 220.0,\n",
       " C_Ind: 1176.4705882352941,\n",
       " Y_Ind: 11000.0,\n",
       " tau_Ind: 0.02,\n",
       " P_Ind: 1.02,\n",
       " CIJ_Ind_Ag: 1970.5882352941176,\n",
       " CIJ_Ind_Ind: 3441.176470588235,\n",
       " CIJ_Ind_Serv: 2941.176470588235,\n",
       " Ld_Serv: 4000.0,\n",
       " Kd_Serv: 500.0,\n",
       " C_G_Serv: 2257.2314049586776,\n",
       " sales_tax_Serv: 180.0,\n",
       " C_Serv: 3336.7768595041325,\n",
       " Y_Serv: 9500.0,\n",
       " tau_Serv: 0.018947368421052633,\n",
       " P_Serv: 1.0189473684210526,\n",
       " CIJ_Serv_Ag: 480.88842975206614,\n",
       " CIJ_Serv_Ind: 2443.698347107438,\n",
       " CIJ_Serv_Serv: 981.404958677686,\n",
       " Ls: 7200.0,\n",
       " Ks: 2800.0,\n",
       " income: 10000.0,\n",
       " tau_income: 0.37,\n",
       " net_income: 6300.0}"
      ]
     },
     "execution_count": 18,
     "metadata": {},
     "output_type": "execute_result"
    }
   ],
   "source": [
    "initial_values"
   ]
  },
  {
   "cell_type": "code",
   "execution_count": null,
   "id": "5eec9cc2",
   "metadata": {},
   "outputs": [],
   "source": []
  },
  {
   "cell_type": "code",
   "execution_count": 19,
   "id": "e8cabaed-a4be-442c-a834-a787adaae863",
   "metadata": {},
   "outputs": [],
   "source": [
    "long_system, named_variables, named_params = expand_compact_system(\n",
    "    compact_equations=equations,\n",
    "    compact_variables=variables,\n",
    "    compact_params=parameters,\n",
    "    index_dict=index_dict,\n",
    ")"
   ]
  },
  {
   "cell_type": "code",
   "execution_count": 20,
   "id": "4b6fa42a-5852-455e-965a-b9be1be5609f",
   "metadata": {},
   "outputs": [],
   "source": [
    "state_0 = recursive_solve_symbolic(long_system, initial_values)\n",
    "numeraire = symbol(\"P\", \"Ag\")\n",
    "numeraire_dict = {P.subs({i: 0}): state_0[numeraire]}\n",
    "\n",
    "x0 = np.array([state_0[k] for k in named_variables if k != numeraire], dtype=float)\n",
    "theta0 = np.array([state_0[x] for x in named_params], dtype=float)"
   ]
  },
  {
   "cell_type": "code",
   "execution_count": 26,
   "id": "7f4cbd7b",
   "metadata": {},
   "outputs": [
    {
     "name": "stdout",
     "output_type": "stream",
     "text": [
      "A_Ag                     1.48094\n",
      "A_Ind                    1.99750\n",
      "A_Serv                   1.41741\n",
      "CIJ_Ag_Ag                980.39216\n",
      "CIJ_Ag_Ind               980.39216\n",
      "CIJ_Ag_Serv              980.39216\n",
      "CIJ_Ind_Ag               1970.58824\n",
      "CIJ_Ind_Ind              3441.17647\n",
      "CIJ_Ind_Serv             2941.17647\n",
      "CIJ_Serv_Ag              480.88843\n",
      "CIJ_Serv_Ind             2443.69835\n",
      "CIJ_Serv_Serv            981.40496\n",
      "C_Ag                     1666.66667\n",
      "C_G_Ag                   392.15686\n",
      "C_G_Ind                  1470.58824\n",
      "C_G_Serv                 2257.23140\n",
      "C_Ind                    1176.47059\n",
      "C_Serv                   3336.77686\n",
      "G                        4200.00000\n",
      "IC_Ag                    3500.00000\n",
      "IC_Ind                   7000.00000\n",
      "IC_Serv                  5000.00000\n",
      "Kd_Ag                    200.00000\n",
      "Kd_Ind                   2100.00000\n",
      "Kd_Serv                  500.00000\n",
      "Ks                       2800.00000\n",
      "Ld_Ag                    1300.00000\n",
      "Ld_Ind                   1900.00000\n",
      "Ld_Serv                  4000.00000\n",
      "Ls                       7200.00000\n",
      "P_Ag                     1.02000\n",
      "P_Ag_bar                 1.02000\n",
      "P_IC_Ag                  1.00000\n",
      "P_IC_Ind                 1.00000\n",
      "P_IC_Serv                1.00000\n",
      "P_Ind                    1.02000\n",
      "P_Serv                   1.01895\n",
      "P_VA_Ag                  1.00000\n",
      "P_VA_Ind                 1.00000\n",
      "P_VA_Serv                1.00000\n",
      "P_Y_Ag                   1.00000\n",
      "P_Y_Ind                  1.00000\n",
      "P_Y_Serv                 1.00000\n",
      "U                        2268.49850\n",
      "VA_Ag                    1500.00000\n",
      "VA_Ind                   4000.00000\n",
      "VA_Serv                  4500.00000\n",
      "Y_Ag                     5000.00000\n",
      "Y_Ind                    11000.00000\n",
      "Y_Serv                   9500.00000\n",
      "alpha_Ag                 0.13333\n",
      "alpha_G_Ag               0.09524\n",
      "alpha_G_Ind              0.35714\n",
      "alpha_G_Serv             0.54762\n",
      "alpha_Ind                0.52500\n",
      "alpha_Serv               0.11111\n",
      "gamma_Ag                 0.26984\n",
      "gamma_Ind                0.19048\n",
      "gamma_Serv               0.53968\n",
      "income                   10000.00000\n",
      "income_tax               3700.00000\n",
      "net_income               6300.00000\n",
      "psi_CIJ_Ag_Ag            0.28011\n",
      "psi_CIJ_Ag_Ind           0.14006\n",
      "psi_CIJ_Ag_Serv          0.19608\n",
      "psi_CIJ_Ind_Ag           0.56303\n",
      "psi_CIJ_Ind_Ind          0.49160\n",
      "psi_CIJ_Ind_Serv         0.58824\n",
      "psi_CIJ_Serv_Ag          0.13740\n",
      "psi_CIJ_Serv_Ind         0.34910\n",
      "psi_CIJ_Serv_Serv        0.19628\n",
      "psi_IC_Ag                0.70000\n",
      "psi_IC_Ind               0.63636\n",
      "psi_IC_Serv              0.52632\n",
      "psi_VA_Ag                0.30000\n",
      "psi_VA_Ind               0.36364\n",
      "psi_VA_Serv              0.47368\n",
      "r                        1.00000\n",
      "sales_tax_Ag             100.00000\n",
      "sales_tax_Ind            220.00000\n",
      "sales_tax_Serv           180.00000\n",
      "tau_Ag                   0.02000\n",
      "tau_Ind                  0.02000\n",
      "tau_Serv                 0.01895\n",
      "tau_income               0.37000\n",
      "w                        1.00000\n",
      "walras_resid             0.00000\n"
     ]
    }
   ],
   "source": [
    "for k in sorted(list(state_0.keys()), key=lambda x: x.name):\n",
    "    print(f\"{k.name:<25}{state_0[k]:0.5f}\")"
   ]
  },
  {
   "cell_type": "code",
   "execution_count": 29,
   "id": "223885b0-2a33-48ac-97f6-f6542b413666",
   "metadata": {},
   "outputs": [],
   "source": [
    "loss_funcs, system_funcs, ordered_inputs = compile_cge_to_numba(\n",
    "    compact_equations=equations,\n",
    "    compact_variables=variables,\n",
    "    compact_params=parameters,\n",
    "    index_dict=index_dict,\n",
    "    numeraire_dict={},\n",
    ")\n",
    "f_resid, f_grad, f_hess = loss_funcs\n",
    "f_system, f_jac = system_funcs"
   ]
  },
  {
   "cell_type": "code",
   "execution_count": 33,
   "id": "810cb1a3-958c-4560-930e-3014bc2f772e",
   "metadata": {},
   "outputs": [
    {
     "data": {
      "text/plain": [
       "array(4.67103878e-07)"
      ]
     },
     "execution_count": 33,
     "metadata": {},
     "output_type": "execute_result"
    }
   ],
   "source": [
    "f_resid(x0, theta0)"
   ]
  },
  {
   "cell_type": "code",
   "execution_count": 35,
   "id": "b4282f02-1702-4b30-8e8f-be436f09b822",
   "metadata": {},
   "outputs": [
    {
     "data": {
      "text/plain": [
       " message: Optimization terminated successfully.\n",
       " success: True\n",
       "  status: 0\n",
       "     fun: 8.172801161042592e-16\n",
       "       x: [ 5.072e+03  1.095e+04 ...  3.830e+03  3.425e-04]\n",
       "     nit: 142\n",
       "     jac: [-1.091e-12  3.660e-12 ... -2.183e-11  0.000e+00]\n",
       "    nfev: 143\n",
       "    njev: 102\n",
       "    nhev: 143\n",
       "    hess: [[ 5.161e+00  7.996e-04 ... -4.000e-02  0.000e+00]\n",
       "           [ 7.996e-04  5.073e+00 ... -3.998e-02  0.000e+00]\n",
       "           ...\n",
       "           [-4.000e-02 -3.998e-02 ...  2.873e+00  0.000e+00]\n",
       "           [ 0.000e+00  0.000e+00 ...  0.000e+00  2.000e+00]]"
      ]
     },
     "execution_count": 35,
     "metadata": {},
     "output_type": "execute_result"
    }
   ],
   "source": [
    "tax_reform = state_0.copy()\n",
    "tax_reform[tau_income] = tax_reform[tau_income] * 0.9\n",
    "calibrated_params = np.array([tax_reform[x] for x in ordered_inputs[1]], dtype=float)\n",
    "\n",
    "tax_reform_res = optimize.minimize(\n",
    "    f_resid,\n",
    "    x0,\n",
    "    args=calibrated_params,\n",
    "    jac=f_grad,\n",
    "    hess=f_hess,\n",
    "    method=\"trust-exact\",\n",
    "    options=dict(maxiter=1_000_000),\n",
    "    tol=1e-5,\n",
    ")\n",
    "tax_reform_res"
   ]
  },
  {
   "cell_type": "code",
   "execution_count": 36,
   "id": "82b62bae-cdb2-4055-af3a-1fd8ae4ea4d7",
   "metadata": {},
   "outputs": [],
   "source": [
    "scenario_df = pd.DataFrame(\n",
    "    np.c_[x0, tax_reform_res.x],\n",
    "    index=[x.name for x in ordered_inputs[0]],\n",
    "    columns=[\"initial\", \"income_tax_cut\"],\n",
    ")\n",
    "\n",
    "scenario_df = scenario_df.assign(impact=lambda x: x.income_tax_cut / x.initial - 1)"
   ]
  },
  {
   "cell_type": "code",
   "execution_count": 40,
   "id": "b44b6280-86a4-4477-8b77-9db9fb4f42d0",
   "metadata": {},
   "outputs": [
    {
     "data": {
      "text/plain": [
       "<Axes: >"
      ]
     },
     "execution_count": 40,
     "metadata": {},
     "output_type": "execute_result"
    },
    {
     "data": {
      "image/png": "[encoded data removed]",
      "text/plain": [
       "<Figure size 1400x400 with 1 Axes>"
      ]
     },
     "metadata": {},
     "output_type": "display_data"
    }
   ],
   "source": [
    "scenario_df.impact.loc[lambda x: abs(x) > 1e-2].plot.bar(figsize=(14, 4))"
   ]
  },
  {
   "cell_type": "markdown",
   "id": "f15a66f5-ea37-46d9-96d8-47e207c37bc4",
   "metadata": {},
   "source": [
    "## Linear Approximation"
   ]
  },
  {
   "cell_type": "code",
   "execution_count": 43,
   "id": "161c1666-4989-42a9-affd-0e8b116ad7d6",
   "metadata": {},
   "outputs": [],
   "source": [
    "f_dX = numba_linearize_cge_func(equations, variables, parameters, index_dict)"
   ]
  },
  {
   "cell_type": "code",
   "execution_count": 65,
   "id": "b606003b-4d9b-45ca-8262-04f3fcd3a093",
   "metadata": {},
   "outputs": [],
   "source": [
    "tax_reform = state_0.copy()\n",
    "tax_reform[tau_income] = tax_reform[tau_income] * 0.9\n",
    "theta_tax_reform = np.array([tax_reform[x] for x in ordered_inputs[1]], dtype=float)\n",
    "tax_reform_scenario = euler_approx(f_dX, x0, theta0, theta_tax_reform, 100_000)"
   ]
  },
  {
   "cell_type": "code",
   "execution_count": 66,
   "id": "7e5815bd-fb22-47b2-8d68-de492406dccc",
   "metadata": {},
   "outputs": [],
   "source": [
    "n_params = len(named_params)\n",
    "scenario_df_linear = pd.DataFrame(\n",
    "    np.c_[x0, tax_reform_scenario[:-n_params]],\n",
    "    index=[x.name for x in ordered_inputs[0]],\n",
    "    columns=[\"initial\", \"income_tax_cut\"],\n",
    ")\n",
    "scenario_df_linear = scenario_df_linear.assign(impact=lambda x: x.income_tax_cut / x.initial - 1)"
   ]
  },
  {
   "cell_type": "code",
   "execution_count": 67,
   "id": "9416775d-0793-4c50-8a1b-c85d9da39003",
   "metadata": {},
   "outputs": [
    {
     "data": {
      "text/html": [
       "<div>\n",
       "<style scoped>\n",
       "    .dataframe tbody tr th:only-of-type {\n",
       "        vertical-align: middle;\n",
       "    }\n",
       "\n",
       "    .dataframe tbody tr th {\n",
       "        vertical-align: top;\n",
       "    }\n",
       "\n",
       "    .dataframe thead th {\n",
       "        text-align: right;\n",
       "    }\n",
       "</style>\n",
       "<table border=\"1\" class=\"dataframe\">\n",
       "  <thead>\n",
       "    <tr style=\"text-align: right;\">\n",
       "      <th></th>\n",
       "      <th>income_tax_cut_x</th>\n",
       "      <th>income_tax_cut_y</th>\n",
       "    </tr>\n",
       "  </thead>\n",
       "  <tbody>\n",
       "    <tr>\n",
       "      <th>Y_Ag</th>\n",
       "      <td>5072.29</td>\n",
       "      <td>5072.29</td>\n",
       "    </tr>\n",
       "    <tr>\n",
       "      <th>Y_Ind</th>\n",
       "      <td>10951.54</td>\n",
       "      <td>10951.54</td>\n",
       "    </tr>\n",
       "    <tr>\n",
       "      <th>Y_Serv</th>\n",
       "      <td>9491.38</td>\n",
       "      <td>9491.38</td>\n",
       "    </tr>\n",
       "    <tr>\n",
       "      <th>VA_Ag</th>\n",
       "      <td>1521.69</td>\n",
       "      <td>1521.69</td>\n",
       "    </tr>\n",
       "    <tr>\n",
       "      <th>VA_Ind</th>\n",
       "      <td>3982.38</td>\n",
       "      <td>3982.38</td>\n",
       "    </tr>\n",
       "    <tr>\n",
       "      <th>VA_Serv</th>\n",
       "      <td>4495.92</td>\n",
       "      <td>4495.92</td>\n",
       "    </tr>\n",
       "    <tr>\n",
       "      <th>IC_Ag</th>\n",
       "      <td>3550.61</td>\n",
       "      <td>3550.61</td>\n",
       "    </tr>\n",
       "    <tr>\n",
       "      <th>IC_Ind</th>\n",
       "      <td>6969.16</td>\n",
       "      <td>6969.16</td>\n",
       "    </tr>\n",
       "    <tr>\n",
       "      <th>IC_Serv</th>\n",
       "      <td>4995.47</td>\n",
       "      <td>4995.47</td>\n",
       "    </tr>\n",
       "    <tr>\n",
       "      <th>CIJ_Ag_Ag</th>\n",
       "      <td>994.57</td>\n",
       "      <td>994.57</td>\n",
       "    </tr>\n",
       "    <tr>\n",
       "      <th>CIJ_Ag_Ind</th>\n",
       "      <td>976.07</td>\n",
       "      <td>976.07</td>\n",
       "    </tr>\n",
       "    <tr>\n",
       "      <th>CIJ_Ag_Serv</th>\n",
       "      <td>979.50</td>\n",
       "      <td>979.50</td>\n",
       "    </tr>\n",
       "    <tr>\n",
       "      <th>CIJ_Ind_Ag</th>\n",
       "      <td>1999.08</td>\n",
       "      <td>1999.08</td>\n",
       "    </tr>\n",
       "    <tr>\n",
       "      <th>CIJ_Ind_Ind</th>\n",
       "      <td>3426.02</td>\n",
       "      <td>3426.02</td>\n",
       "    </tr>\n",
       "    <tr>\n",
       "      <th>CIJ_Ind_Serv</th>\n",
       "      <td>2938.51</td>\n",
       "      <td>2938.51</td>\n",
       "    </tr>\n",
       "    <tr>\n",
       "      <th>CIJ_Serv_Ag</th>\n",
       "      <td>487.84</td>\n",
       "      <td>487.84</td>\n",
       "    </tr>\n",
       "    <tr>\n",
       "      <th>CIJ_Serv_Ind</th>\n",
       "      <td>2432.93</td>\n",
       "      <td>2432.93</td>\n",
       "    </tr>\n",
       "    <tr>\n",
       "      <th>CIJ_Serv_Serv</th>\n",
       "      <td>980.51</td>\n",
       "      <td>980.51</td>\n",
       "    </tr>\n",
       "    <tr>\n",
       "      <th>C_Ag</th>\n",
       "      <td>1764.52</td>\n",
       "      <td>1764.52</td>\n",
       "    </tr>\n",
       "    <tr>\n",
       "      <th>C_Ind</th>\n",
       "      <td>1246.16</td>\n",
       "      <td>1246.16</td>\n",
       "    </tr>\n",
       "    <tr>\n",
       "      <th>C_Serv</th>\n",
       "      <td>3532.01</td>\n",
       "      <td>3532.01</td>\n",
       "    </tr>\n",
       "    <tr>\n",
       "      <th>C_G_Ag</th>\n",
       "      <td>357.63</td>\n",
       "      <td>357.63</td>\n",
       "    </tr>\n",
       "    <tr>\n",
       "      <th>C_G_Ind</th>\n",
       "      <td>1341.77</td>\n",
       "      <td>1341.77</td>\n",
       "    </tr>\n",
       "    <tr>\n",
       "      <th>C_G_Serv</th>\n",
       "      <td>2058.08</td>\n",
       "      <td>2058.08</td>\n",
       "    </tr>\n",
       "    <tr>\n",
       "      <th>Ld_Ag</th>\n",
       "      <td>1318.06</td>\n",
       "      <td>1318.06</td>\n",
       "    </tr>\n",
       "    <tr>\n",
       "      <th>Ld_Ind</th>\n",
       "      <td>1887.44</td>\n",
       "      <td>1887.45</td>\n",
       "    </tr>\n",
       "    <tr>\n",
       "      <th>Ld_Serv</th>\n",
       "      <td>3994.50</td>\n",
       "      <td>3994.50</td>\n",
       "    </tr>\n",
       "    <tr>\n",
       "      <th>Kd_Ag</th>\n",
       "      <td>203.63</td>\n",
       "      <td>203.63</td>\n",
       "    </tr>\n",
       "    <tr>\n",
       "      <th>Kd_Ind</th>\n",
       "      <td>2094.94</td>\n",
       "      <td>2094.94</td>\n",
       "    </tr>\n",
       "    <tr>\n",
       "      <th>Kd_Serv</th>\n",
       "      <td>501.42</td>\n",
       "      <td>501.42</td>\n",
       "    </tr>\n",
       "    <tr>\n",
       "      <th>P_Ag</th>\n",
       "      <td>1.02</td>\n",
       "      <td>1.02</td>\n",
       "    </tr>\n",
       "    <tr>\n",
       "      <th>P_Ind</th>\n",
       "      <td>1.02</td>\n",
       "      <td>1.02</td>\n",
       "    </tr>\n",
       "    <tr>\n",
       "      <th>P_Serv</th>\n",
       "      <td>1.02</td>\n",
       "      <td>1.02</td>\n",
       "    </tr>\n",
       "    <tr>\n",
       "      <th>P_VA_Ag</th>\n",
       "      <td>1.00</td>\n",
       "      <td>1.00</td>\n",
       "    </tr>\n",
       "    <tr>\n",
       "      <th>P_VA_Ind</th>\n",
       "      <td>1.00</td>\n",
       "      <td>1.00</td>\n",
       "    </tr>\n",
       "    <tr>\n",
       "      <th>P_VA_Serv</th>\n",
       "      <td>1.00</td>\n",
       "      <td>1.00</td>\n",
       "    </tr>\n",
       "    <tr>\n",
       "      <th>P_IC_Ag</th>\n",
       "      <td>1.00</td>\n",
       "      <td>1.00</td>\n",
       "    </tr>\n",
       "    <tr>\n",
       "      <th>P_IC_Ind</th>\n",
       "      <td>1.00</td>\n",
       "      <td>1.00</td>\n",
       "    </tr>\n",
       "    <tr>\n",
       "      <th>P_IC_Serv</th>\n",
       "      <td>1.00</td>\n",
       "      <td>1.00</td>\n",
       "    </tr>\n",
       "    <tr>\n",
       "      <th>P_Y_Ag</th>\n",
       "      <td>1.00</td>\n",
       "      <td>1.00</td>\n",
       "    </tr>\n",
       "    <tr>\n",
       "      <th>P_Y_Ind</th>\n",
       "      <td>1.00</td>\n",
       "      <td>1.00</td>\n",
       "    </tr>\n",
       "    <tr>\n",
       "      <th>P_Y_Serv</th>\n",
       "      <td>1.00</td>\n",
       "      <td>1.00</td>\n",
       "    </tr>\n",
       "    <tr>\n",
       "      <th>sales_tax_Ag</th>\n",
       "      <td>99.46</td>\n",
       "      <td>101.45</td>\n",
       "    </tr>\n",
       "    <tr>\n",
       "      <th>sales_tax_Ind</th>\n",
       "      <td>214.74</td>\n",
       "      <td>219.03</td>\n",
       "    </tr>\n",
       "    <tr>\n",
       "      <th>sales_tax_Serv</th>\n",
       "      <td>176.49</td>\n",
       "      <td>179.84</td>\n",
       "    </tr>\n",
       "    <tr>\n",
       "      <th>income_tax</th>\n",
       "      <td>3329.95</td>\n",
       "      <td>3329.95</td>\n",
       "    </tr>\n",
       "    <tr>\n",
       "      <th>U</th>\n",
       "      <td>2401.67</td>\n",
       "      <td>2401.67</td>\n",
       "    </tr>\n",
       "    <tr>\n",
       "      <th>r</th>\n",
       "      <td>1.00</td>\n",
       "      <td>1.00</td>\n",
       "    </tr>\n",
       "    <tr>\n",
       "      <th>w</th>\n",
       "      <td>1.00</td>\n",
       "      <td>1.00</td>\n",
       "    </tr>\n",
       "    <tr>\n",
       "      <th>income</th>\n",
       "      <td>9999.85</td>\n",
       "      <td>9999.85</td>\n",
       "    </tr>\n",
       "    <tr>\n",
       "      <th>net_income</th>\n",
       "      <td>6669.90</td>\n",
       "      <td>6669.90</td>\n",
       "    </tr>\n",
       "    <tr>\n",
       "      <th>G</th>\n",
       "      <td>3830.19</td>\n",
       "      <td>3830.19</td>\n",
       "    </tr>\n",
       "    <tr>\n",
       "      <th>walras_resid</th>\n",
       "      <td>0.00</td>\n",
       "      <td>-0.00</td>\n",
       "    </tr>\n",
       "  </tbody>\n",
       "</table>\n",
       "</div>"
      ],
      "text/plain": [
       "                income_tax_cut_x  income_tax_cut_y\n",
       "Y_Ag                     5072.29           5072.29\n",
       "Y_Ind                   10951.54          10951.54\n",
       "Y_Serv                   9491.38           9491.38\n",
       "VA_Ag                    1521.69           1521.69\n",
       "VA_Ind                   3982.38           3982.38\n",
       "VA_Serv                  4495.92           4495.92\n",
       "IC_Ag                    3550.61           3550.61\n",
       "IC_Ind                   6969.16           6969.16\n",
       "IC_Serv                  4995.47           4995.47\n",
       "CIJ_Ag_Ag                 994.57            994.57\n",
       "CIJ_Ag_Ind                976.07            976.07\n",
       "CIJ_Ag_Serv               979.50            979.50\n",
       "CIJ_Ind_Ag               1999.08           1999.08\n",
       "CIJ_Ind_Ind              3426.02           3426.02\n",
       "CIJ_Ind_Serv             2938.51           2938.51\n",
       "CIJ_Serv_Ag               487.84            487.84\n",
       "CIJ_Serv_Ind             2432.93           2432.93\n",
       "CIJ_Serv_Serv             980.51            980.51\n",
       "C_Ag                     1764.52           1764.52\n",
       "C_Ind                    1246.16           1246.16\n",
       "C_Serv                   3532.01           3532.01\n",
       "C_G_Ag                    357.63            357.63\n",
       "C_G_Ind                  1341.77           1341.77\n",
       "C_G_Serv                 2058.08           2058.08\n",
       "Ld_Ag                    1318.06           1318.06\n",
       "Ld_Ind                   1887.44           1887.45\n",
       "Ld_Serv                  3994.50           3994.50\n",
       "Kd_Ag                     203.63            203.63\n",
       "Kd_Ind                   2094.94           2094.94\n",
       "Kd_Serv                   501.42            501.42\n",
       "P_Ag                        1.02              1.02\n",
       "P_Ind                       1.02              1.02\n",
       "P_Serv                      1.02              1.02\n",
       "P_VA_Ag                     1.00              1.00\n",
       "P_VA_Ind                    1.00              1.00\n",
       "P_VA_Serv                   1.00              1.00\n",
       "P_IC_Ag                     1.00              1.00\n",
       "P_IC_Ind                    1.00              1.00\n",
       "P_IC_Serv                   1.00              1.00\n",
       "P_Y_Ag                      1.00              1.00\n",
       "P_Y_Ind                     1.00              1.00\n",
       "P_Y_Serv                    1.00              1.00\n",
       "sales_tax_Ag               99.46            101.45\n",
       "sales_tax_Ind             214.74            219.03\n",
       "sales_tax_Serv            176.49            179.84\n",
       "income_tax               3329.95           3329.95\n",
       "U                        2401.67           2401.67\n",
       "r                           1.00              1.00\n",
       "w                           1.00              1.00\n",
       "income                   9999.85           9999.85\n",
       "net_income               6669.90           6669.90\n",
       "G                        3830.19           3830.19\n",
       "walras_resid                0.00             -0.00"
      ]
     },
     "execution_count": 67,
     "metadata": {},
     "output_type": "execute_result"
    }
   ],
   "source": [
    "(\n",
    "    pd.merge(\n",
    "        scenario_df.income_tax_cut,\n",
    "        scenario_df_linear.income_tax_cut,\n",
    "        left_index=True,\n",
    "        right_index=True,\n",
    "    ).round(2)\n",
    ")"
   ]
  },
  {
   "cell_type": "code",
   "execution_count": 70,
   "id": "2b0114ab-10ea-4290-b217-a240c4a9effd",
   "metadata": {},
   "outputs": [
    {
     "data": {
      "text/plain": [
       "<Axes: >"
      ]
     },
     "execution_count": 70,
     "metadata": {},
     "output_type": "execute_result"
    },
    {
     "data": {
      "image/png": "[encoded data removed]",
      "text/plain": [
       "<Figure size 1400x400 with 1 Axes>"
      ]
     },
     "metadata": {},
     "output_type": "display_data"
    }
   ],
   "source": [
    "scenario_df_linear.impact.loc[lambda x: abs(x) > 1e-3].plot.bar(figsize=(14, 4))"
   ]
  },
  {
   "cell_type": "code",
   "execution_count": null,
   "id": "dcb14803-329d-4593-9400-dfaf2bf439a2",
   "metadata": {},
   "outputs": [],
   "source": []
  }
 ],
 "metadata": {
  "kernelspec": {
   "display_name": "Python 3 (ipykernel)",
   "language": "python",
   "name": "python3"
  },
  "language_info": {
   "codemirror_mode": {
    "name": "ipython",
    "version": 3
   },
   "file_extension": ".py",
   "mimetype": "text/x-python",
   "name": "python",
   "nbconvert_exporter": "python",
   "pygments_lexer": "ipython3",
   "version": "3.11.6"
  },
  "toc": {
   "base_numbering": 1,
   "nav_menu": {},
   "number_sections": true,
   "sideBar": true,
   "skip_h1_title": false,
   "title_cell": "Table of Contents",
   "title_sidebar": "Contents",
   "toc_cell": false,
   "toc_position": {},
   "toc_section_display": true,
   "toc_window_display": false
  }
 },
 "nbformat": 4,
 "nbformat_minor": 5
}
