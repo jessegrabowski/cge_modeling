{
 "cells": [
  {
   "cell_type": "markdown",
   "id": "207d3b68",
   "metadata": {
    "toc": true
   },
   "source": [
    "<h1>Table of Contents<span class=\"tocSkip\"></span></h1>\n",
    "<div class=\"toc\"><ul class=\"toc-item\"><li><span><a href=\"#Model\" data-toc-modified-id=\"Model-1\"><span class=\"toc-item-num\">1&nbsp;&nbsp;</span>Model</a></span><ul class=\"toc-item\"><li><span><a href=\"#Production-Sector\" data-toc-modified-id=\"Production-Sector-1.1\"><span class=\"toc-item-num\">1.1&nbsp;&nbsp;</span>Production Sector</a></span></li></ul></li><li><span><a href=\"#Data\" data-toc-modified-id=\"Data-2\"><span class=\"toc-item-num\">2&nbsp;&nbsp;</span>Data</a></span></li></ul></div>"
   ]
  },
  {
   "cell_type": "code",
   "execution_count": 1,
   "id": "57902f3e-d16a-45c8-9586-c08973459994",
   "metadata": {},
   "outputs": [],
   "source": [
    "import sympy as sp\n",
    "import numpy as np\n",
    "from scipy import optimize\n",
    "import sys\n",
    "from functools import partial\n",
    "\n",
    "sys.path.append('..')\n",
    "\n",
    "from cge_modeling.sympy_tools import info_to_symbols, enumerate_indexbase, sub_all_eqs, dict_info_to_symbols, symbol, symbols, remove_string_keys\n",
    "from cge_modeling.production_functions import leontief, cobb_douglass\n",
    "from cge_modeling.cge import compile_cge_to_numba, expand_compact_system, recursive_solve_symbolic, numba_linearize_cge_func\n",
    "from cge_modeling.numba_tools import euler_approx, numba_lambdify\n",
    "from cge_modeling.output_tools import display_info_as_table, latex_print_equations\n",
    "\n",
    "import pandas as pd"
   ]
  },
  {
   "cell_type": "markdown",
   "id": "23f30e5b-acaf-47b7-b413-9302cc6e3f4e",
   "metadata": {},
   "source": [
    "# Model"
   ]
  },
  {
   "cell_type": "markdown",
   "id": "6b7d805c-9071-45d8-8e7e-3e6d4c171841",
   "metadata": {},
   "source": [
    "## Production Sector\n",
    "\n",
    "We want a "
   ]
  },
  {
   "cell_type": "markdown",
   "id": "c79a5dc6-a156-448c-b438-9435f85f4b82",
   "metadata": {},
   "source": [
    "# Data"
   ]
  },
  {
   "cell_type": "code",
   "execution_count": 26,
   "id": "e752b5a2-f33f-428d-937f-a97e99380f51",
   "metadata": {},
   "outputs": [],
   "source": [
    "import pymc as pm"
   ]
  },
  {
   "cell_type": "code",
   "execution_count": 29,
   "id": "1478d4a9-e696-406d-8814-5a19013f7b5a",
   "metadata": {},
   "outputs": [
    {
     "data": {
      "text/plain": [
       "Commodity     Import              AGR                   0.0\n",
       "                                  MFG                   0.0\n",
       "                                  SER                   2.0\n",
       "              Domestic            AGR                   0.0\n",
       "                                  MFG                   0.0\n",
       "                                  SER                  -2.0\n",
       "Production    Activity            AGR                   2.0\n",
       "                                  MFG                   6.0\n",
       "                                  SER                   2.0\n",
       "              Factor              Land                  0.0\n",
       "                                  Labor                 0.0\n",
       "                                  Capital               0.0\n",
       "Indirect Tax  Import              Import                0.0\n",
       "              Export              Export                0.0\n",
       "              Import              AGR                   0.0\n",
       "                                  MFG                   0.0\n",
       "                                  SER                   0.0\n",
       "              Domestic            AGR                   0.0\n",
       "                                  MFG                  -2.0\n",
       "                                  SER                   0.0\n",
       "              Use                 Land                  0.0\n",
       "                                  Labor                 0.0\n",
       "                                  Capital               0.0\n",
       "Direct Tax    Production          Production           -2.0\n",
       "              Income              Income                0.0\n",
       "Final Demand  Regional Household  Regional Household   -4.0\n",
       "              Private Household   Private Household     0.0\n",
       "              Government          Government            0.0\n",
       "              Savings             Savings              -2.0\n",
       "              Trade Margins       Import                0.0\n",
       "                                  Export                0.0\n",
       "              RoW                 RoW                   0.0\n",
       "Total         Total               Total                 0.0\n",
       "dtype: float64"
      ]
     },
     "execution_count": 29,
     "metadata": {},
     "output_type": "execute_result"
    }
   ],
   "source": [
    "df = (pd.read_csv('data/USA3x3.csv', index_col=[0, 1, 2], header=[0, 1, 2])\n",
    "         .applymap(float)\n",
    "         .fillna(0))\n",
    "# assert np.allclose(df.sum(axis=0), df.sum(axis=1))\n",
    "(df.sum(axis=0) - df.sum(axis=1))"
   ]
  },
  {
   "cell_type": "code",
   "execution_count": null,
   "id": "5dcb9da7-f719-49e9-96ed-07d2591359cd",
   "metadata": {},
   "outputs": [],
   "source": []
  }
 ],
 "metadata": {
  "kernelspec": {
   "display_name": "Python 3 (ipykernel)",
   "language": "python",
   "name": "python3"
  },
  "language_info": {
   "codemirror_mode": {
    "name": "ipython",
    "version": 3
   },
   "file_extension": ".py",
   "mimetype": "text/x-python",
   "name": "python",
   "nbconvert_exporter": "python",
   "pygments_lexer": "ipython3",
   "version": "3.11.5"
  },
  "toc": {
   "base_numbering": 1,
   "nav_menu": {},
   "number_sections": true,
   "sideBar": true,
   "skip_h1_title": false,
   "title_cell": "Table of Contents",
   "title_sidebar": "Contents",
   "toc_cell": true,
   "toc_position": {},
   "toc_section_display": true,
   "toc_window_display": false
  }
 },
 "nbformat": 4,
 "nbformat_minor": 5
}
