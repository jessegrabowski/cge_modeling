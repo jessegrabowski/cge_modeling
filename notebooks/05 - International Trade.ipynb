{
 "cells": [
  {
   "cell_type": "markdown",
   "id": "e74d78ff",
   "metadata": {
    "toc": true
   },
   "source": [
    "<h1>Table of Contents<span class=\"tocSkip\"></span></h1>\n",
    "<div class=\"toc\"><ul class=\"toc-item\"><li><span><a href=\"#Data\" data-toc-modified-id=\"Data-1\"><span class=\"toc-item-num\">1&nbsp;&nbsp;</span>Data</a></span></li><li><span><a href=\"#Model\" data-toc-modified-id=\"Model-2\"><span class=\"toc-item-num\">2&nbsp;&nbsp;</span>Model</a></span><ul class=\"toc-item\"><li><span><a href=\"#Settings\" data-toc-modified-id=\"Settings-2.1\"><span class=\"toc-item-num\">2.1&nbsp;&nbsp;</span>Settings</a></span></li><li><span><a href=\"#Variables\" data-toc-modified-id=\"Variables-2.2\"><span class=\"toc-item-num\">2.2&nbsp;&nbsp;</span>Variables</a></span></li><li><span><a href=\"#Parameters\" data-toc-modified-id=\"Parameters-2.3\"><span class=\"toc-item-num\">2.3&nbsp;&nbsp;</span>Parameters</a></span></li><li><span><a href=\"#Equations\" data-toc-modified-id=\"Equations-2.4\"><span class=\"toc-item-num\">2.4&nbsp;&nbsp;</span>Equations</a></span></li><li><span><a href=\"#Compile-Model\" data-toc-modified-id=\"Compile-Model-2.5\"><span class=\"toc-item-num\">2.5&nbsp;&nbsp;</span>Compile Model</a></span></li></ul></li><li><span><a href=\"#Calibration\" data-toc-modified-id=\"Calibration-3\"><span class=\"toc-item-num\">3&nbsp;&nbsp;</span>Calibration</a></span><ul class=\"toc-item\"><li><ul class=\"toc-item\"><li><span><a href=\"#Check-calibration\" data-toc-modified-id=\"Check-calibration-3.0.1\"><span class=\"toc-item-num\">3.0.1&nbsp;&nbsp;</span>Check calibration</a></span></li></ul></li></ul></li><li><span><a href=\"#Simulations\" data-toc-modified-id=\"Simulations-4\"><span class=\"toc-item-num\">4&nbsp;&nbsp;</span>Simulations</a></span></li></ul></div>"
   ]
  },
  {
   "cell_type": "code",
   "execution_count": 107,
   "id": "4402886e",
   "metadata": {},
   "outputs": [
    {
     "name": "stdout",
     "output_type": "stream",
     "text": [
      "True\n"
     ]
    }
   ],
   "source": [
    "import numpy as np\n",
    "\n",
    "x = np.tril(np.random.normal(size=(3, 3)))\n",
    "L = np.linalg.cholesky(np.dot(x, x.T))\n",
    "print(np.allclose(x @ x.T, L @ L.T)) # True"
   ]
  },
  {
   "cell_type": "code",
   "execution_count": null,
   "id": "e8a99858",
   "metadata": {},
   "outputs": [],
   "source": []
  },
  {
   "cell_type": "code",
   "execution_count": 109,
   "id": "1e2fe40d",
   "metadata": {},
   "outputs": [
    {
     "data": {
      "text/plain": [
       "array([ 0.99392308, -1.37118724, -1.31342251])"
      ]
     },
     "execution_count": 109,
     "metadata": {},
     "output_type": "execute_result"
    }
   ],
   "source": [
    "np.linalg.eigvals(x)"
   ]
  },
  {
   "cell_type": "code",
   "execution_count": 111,
   "id": "65cfd3b6",
   "metadata": {},
   "outputs": [
    {
     "data": {
      "text/plain": [
       "array([0.99392308, 1.37118724, 1.31342251])"
      ]
     },
     "execution_count": 111,
     "metadata": {},
     "output_type": "execute_result"
    }
   ],
   "source": [
    "np.linalg.eigvals(L)"
   ]
  },
  {
   "cell_type": "code",
   "execution_count": 1,
   "id": "45c6bf93-6e3d-4b50-adde-b5c5eae940ea",
   "metadata": {},
   "outputs": [],
   "source": [
    "import sympy as sp\n",
    "import numpy as np\n",
    "import numba as nb\n",
    "from scipy import optimize\n",
    "import sys\n",
    "from functools import partial\n",
    "\n",
    "sys.path.append('..')\n",
    "\n",
    "from cge_modeling.sympy_tools import info_to_symbols, enumerate_indexbase, sub_all_eqs, dict_info_to_symbols, symbol, symbols, remove_string_keys\n",
    "from cge_modeling.production_functions import leontief, cobb_douglass\n",
    "from cge_modeling.cge import compile_cge_to_numba, expand_compact_system, recursive_solve_symbolic, numba_linearize_cge_func\n",
    "from cge_modeling.numba_tools import euler_approx, numba_lambdify\n",
    "from cge_modeling.output_tools import display_info_as_table, latex_print_equations\n",
    "\n",
    "import pandas as pd"
   ]
  },
  {
   "cell_type": "markdown",
   "id": "a17c68b6-6ccc-4ba8-86aa-e4977c878d34",
   "metadata": {},
   "source": [
    "# Data"
   ]
  },
  {
   "cell_type": "code",
   "execution_count": 2,
   "id": "924984a2-d7f4-4cde-b8ee-de126a726eeb",
   "metadata": {},
   "outputs": [
    {
     "name": "stderr",
     "output_type": "stream",
     "text": [
      "C:\\Users\\Jesse\\AppData\\Local\\Temp\\ipykernel_316\\933011678.py:2: FutureWarning: DataFrame.applymap has been deprecated. Use DataFrame.map instead.\n",
      "  .applymap(float)\n"
     ]
    }
   ],
   "source": [
    "df = (pd.read_csv('data/lesson_5_sam.csv', index_col=[0, 1], header=[0, 1])\n",
    "         .applymap(float)\n",
    "         .fillna(0))\n",
    "assert np.allclose(df.sum(axis=0), df.sum(axis=1))"
   ]
  },
  {
   "cell_type": "code",
   "execution_count": 3,
   "id": "e128ae25-9e0b-46cd-84b5-6c7b276f12da",
   "metadata": {},
   "outputs": [
    {
     "data": {
      "text/html": [
       "<div>\n",
       "<style scoped>\n",
       "    .dataframe tbody tr th:only-of-type {\n",
       "        vertical-align: middle;\n",
       "    }\n",
       "\n",
       "    .dataframe tbody tr th {\n",
       "        vertical-align: top;\n",
       "    }\n",
       "\n",
       "    .dataframe thead tr th {\n",
       "        text-align: left;\n",
       "    }\n",
       "</style>\n",
       "<table border=\"1\" class=\"dataframe\">\n",
       "  <thead>\n",
       "    <tr>\n",
       "      <th></th>\n",
       "      <th></th>\n",
       "      <th colspan=\"2\" halign=\"left\">Factor</th>\n",
       "      <th colspan=\"3\" halign=\"left\">Institution</th>\n",
       "      <th colspan=\"3\" halign=\"left\">Production</th>\n",
       "      <th colspan=\"3\" halign=\"left\">Activities</th>\n",
       "      <th colspan=\"2\" halign=\"left\">Other</th>\n",
       "    </tr>\n",
       "    <tr>\n",
       "      <th></th>\n",
       "      <th></th>\n",
       "      <th>Labor</th>\n",
       "      <th>Capital</th>\n",
       "      <th>Household</th>\n",
       "      <th>Firms</th>\n",
       "      <th>Govt</th>\n",
       "      <th>Agriculture</th>\n",
       "      <th>Industry</th>\n",
       "      <th>Services</th>\n",
       "      <th>Agriculture</th>\n",
       "      <th>Industry</th>\n",
       "      <th>Services</th>\n",
       "      <th>Capital Accumulation</th>\n",
       "      <th>Rest of World</th>\n",
       "    </tr>\n",
       "  </thead>\n",
       "  <tbody>\n",
       "    <tr>\n",
       "      <th rowspan=\"2\" valign=\"top\">Factor</th>\n",
       "      <th>Labor</th>\n",
       "      <td>0.0</td>\n",
       "      <td>0.0</td>\n",
       "      <td>0.0</td>\n",
       "      <td>0.0</td>\n",
       "      <td>0.0</td>\n",
       "      <td>0.0</td>\n",
       "      <td>0.0</td>\n",
       "      <td>0.0</td>\n",
       "      <td>1100.0</td>\n",
       "      <td>1700.0</td>\n",
       "      <td>4150.0</td>\n",
       "      <td>0.0</td>\n",
       "      <td>0.0</td>\n",
       "    </tr>\n",
       "    <tr>\n",
       "      <th>Capital</th>\n",
       "      <td>0.0</td>\n",
       "      <td>0.0</td>\n",
       "      <td>0.0</td>\n",
       "      <td>0.0</td>\n",
       "      <td>0.0</td>\n",
       "      <td>0.0</td>\n",
       "      <td>0.0</td>\n",
       "      <td>0.0</td>\n",
       "      <td>250.0</td>\n",
       "      <td>1800.0</td>\n",
       "      <td>550.0</td>\n",
       "      <td>0.0</td>\n",
       "      <td>0.0</td>\n",
       "    </tr>\n",
       "    <tr>\n",
       "      <th rowspan=\"3\" valign=\"top\">Institution</th>\n",
       "      <th>Household</th>\n",
       "      <td>6950.0</td>\n",
       "      <td>0.0</td>\n",
       "      <td>0.0</td>\n",
       "      <td>2600.0</td>\n",
       "      <td>0.0</td>\n",
       "      <td>0.0</td>\n",
       "      <td>0.0</td>\n",
       "      <td>0.0</td>\n",
       "      <td>0.0</td>\n",
       "      <td>0.0</td>\n",
       "      <td>0.0</td>\n",
       "      <td>0.0</td>\n",
       "      <td>0.0</td>\n",
       "    </tr>\n",
       "    <tr>\n",
       "      <th>Firms</th>\n",
       "      <td>0.0</td>\n",
       "      <td>2600.0</td>\n",
       "      <td>0.0</td>\n",
       "      <td>0.0</td>\n",
       "      <td>0.0</td>\n",
       "      <td>0.0</td>\n",
       "      <td>0.0</td>\n",
       "      <td>0.0</td>\n",
       "      <td>0.0</td>\n",
       "      <td>0.0</td>\n",
       "      <td>0.0</td>\n",
       "      <td>0.0</td>\n",
       "      <td>0.0</td>\n",
       "    </tr>\n",
       "    <tr>\n",
       "      <th>Govt</th>\n",
       "      <td>0.0</td>\n",
       "      <td>0.0</td>\n",
       "      <td>1400.0</td>\n",
       "      <td>0.0</td>\n",
       "      <td>0.0</td>\n",
       "      <td>150.0</td>\n",
       "      <td>1320.0</td>\n",
       "      <td>280.0</td>\n",
       "      <td>0.0</td>\n",
       "      <td>0.0</td>\n",
       "      <td>0.0</td>\n",
       "      <td>0.0</td>\n",
       "      <td>0.0</td>\n",
       "    </tr>\n",
       "    <tr>\n",
       "      <th rowspan=\"3\" valign=\"top\">Production</th>\n",
       "      <th>Agriculture</th>\n",
       "      <td>0.0</td>\n",
       "      <td>0.0</td>\n",
       "      <td>1700.0</td>\n",
       "      <td>0.0</td>\n",
       "      <td>400.0</td>\n",
       "      <td>0.0</td>\n",
       "      <td>0.0</td>\n",
       "      <td>0.0</td>\n",
       "      <td>1100.0</td>\n",
       "      <td>900.0</td>\n",
       "      <td>1100.0</td>\n",
       "      <td>200.0</td>\n",
       "      <td>250.0</td>\n",
       "    </tr>\n",
       "    <tr>\n",
       "      <th>Industry</th>\n",
       "      <td>0.0</td>\n",
       "      <td>0.0</td>\n",
       "      <td>1200.0</td>\n",
       "      <td>0.0</td>\n",
       "      <td>900.0</td>\n",
       "      <td>0.0</td>\n",
       "      <td>0.0</td>\n",
       "      <td>0.0</td>\n",
       "      <td>2200.0</td>\n",
       "      <td>3150.0</td>\n",
       "      <td>3300.0</td>\n",
       "      <td>800.0</td>\n",
       "      <td>0.0</td>\n",
       "    </tr>\n",
       "    <tr>\n",
       "      <th>Services</th>\n",
       "      <td>0.0</td>\n",
       "      <td>0.0</td>\n",
       "      <td>3400.0</td>\n",
       "      <td>0.0</td>\n",
       "      <td>2750.0</td>\n",
       "      <td>0.0</td>\n",
       "      <td>0.0</td>\n",
       "      <td>0.0</td>\n",
       "      <td>850.0</td>\n",
       "      <td>2250.0</td>\n",
       "      <td>1100.0</td>\n",
       "      <td>100.0</td>\n",
       "      <td>30.0</td>\n",
       "    </tr>\n",
       "    <tr>\n",
       "      <th rowspan=\"3\" valign=\"top\">Activities</th>\n",
       "      <th>Agriculture</th>\n",
       "      <td>0.0</td>\n",
       "      <td>0.0</td>\n",
       "      <td>0.0</td>\n",
       "      <td>0.0</td>\n",
       "      <td>0.0</td>\n",
       "      <td>5500.0</td>\n",
       "      <td>0.0</td>\n",
       "      <td>0.0</td>\n",
       "      <td>0.0</td>\n",
       "      <td>0.0</td>\n",
       "      <td>0.0</td>\n",
       "      <td>0.0</td>\n",
       "      <td>0.0</td>\n",
       "    </tr>\n",
       "    <tr>\n",
       "      <th>Industry</th>\n",
       "      <td>0.0</td>\n",
       "      <td>0.0</td>\n",
       "      <td>0.0</td>\n",
       "      <td>0.0</td>\n",
       "      <td>0.0</td>\n",
       "      <td>0.0</td>\n",
       "      <td>9800.0</td>\n",
       "      <td>0.0</td>\n",
       "      <td>0.0</td>\n",
       "      <td>0.0</td>\n",
       "      <td>0.0</td>\n",
       "      <td>0.0</td>\n",
       "      <td>0.0</td>\n",
       "    </tr>\n",
       "    <tr>\n",
       "      <th>Services</th>\n",
       "      <td>0.0</td>\n",
       "      <td>0.0</td>\n",
       "      <td>0.0</td>\n",
       "      <td>0.0</td>\n",
       "      <td>0.0</td>\n",
       "      <td>0.0</td>\n",
       "      <td>0.0</td>\n",
       "      <td>10200.0</td>\n",
       "      <td>0.0</td>\n",
       "      <td>0.0</td>\n",
       "      <td>0.0</td>\n",
       "      <td>0.0</td>\n",
       "      <td>0.0</td>\n",
       "    </tr>\n",
       "    <tr>\n",
       "      <th rowspan=\"2\" valign=\"top\">Other</th>\n",
       "      <th>Capital Accumulation</th>\n",
       "      <td>0.0</td>\n",
       "      <td>0.0</td>\n",
       "      <td>1850.0</td>\n",
       "      <td>0.0</td>\n",
       "      <td>-900.0</td>\n",
       "      <td>0.0</td>\n",
       "      <td>0.0</td>\n",
       "      <td>0.0</td>\n",
       "      <td>0.0</td>\n",
       "      <td>0.0</td>\n",
       "      <td>0.0</td>\n",
       "      <td>0.0</td>\n",
       "      <td>150.0</td>\n",
       "    </tr>\n",
       "    <tr>\n",
       "      <th>Rest of World</th>\n",
       "      <td>0.0</td>\n",
       "      <td>0.0</td>\n",
       "      <td>0.0</td>\n",
       "      <td>0.0</td>\n",
       "      <td>0.0</td>\n",
       "      <td>0.0</td>\n",
       "      <td>430.0</td>\n",
       "      <td>0.0</td>\n",
       "      <td>0.0</td>\n",
       "      <td>0.0</td>\n",
       "      <td>0.0</td>\n",
       "      <td>0.0</td>\n",
       "      <td>0.0</td>\n",
       "    </tr>\n",
       "  </tbody>\n",
       "</table>\n",
       "</div>"
      ],
      "text/plain": [
       "                                  Factor         Institution                  \\\n",
       "                                   Labor Capital   Household   Firms    Govt   \n",
       "Factor      Labor                    0.0     0.0         0.0     0.0     0.0   \n",
       "            Capital                  0.0     0.0         0.0     0.0     0.0   \n",
       "Institution Household             6950.0     0.0         0.0  2600.0     0.0   \n",
       "            Firms                    0.0  2600.0         0.0     0.0     0.0   \n",
       "            Govt                     0.0     0.0      1400.0     0.0     0.0   \n",
       "Production  Agriculture              0.0     0.0      1700.0     0.0   400.0   \n",
       "            Industry                 0.0     0.0      1200.0     0.0   900.0   \n",
       "            Services                 0.0     0.0      3400.0     0.0  2750.0   \n",
       "Activities  Agriculture              0.0     0.0         0.0     0.0     0.0   \n",
       "            Industry                 0.0     0.0         0.0     0.0     0.0   \n",
       "            Services                 0.0     0.0         0.0     0.0     0.0   \n",
       "Other       Capital Accumulation     0.0     0.0      1850.0     0.0  -900.0   \n",
       "            Rest of World            0.0     0.0         0.0     0.0     0.0   \n",
       "\n",
       "                                  Production                    Activities  \\\n",
       "                                 Agriculture Industry Services Agriculture   \n",
       "Factor      Labor                        0.0      0.0      0.0      1100.0   \n",
       "            Capital                      0.0      0.0      0.0       250.0   \n",
       "Institution Household                    0.0      0.0      0.0         0.0   \n",
       "            Firms                        0.0      0.0      0.0         0.0   \n",
       "            Govt                       150.0   1320.0    280.0         0.0   \n",
       "Production  Agriculture                  0.0      0.0      0.0      1100.0   \n",
       "            Industry                     0.0      0.0      0.0      2200.0   \n",
       "            Services                     0.0      0.0      0.0       850.0   \n",
       "Activities  Agriculture               5500.0      0.0      0.0         0.0   \n",
       "            Industry                     0.0   9800.0      0.0         0.0   \n",
       "            Services                     0.0      0.0  10200.0         0.0   \n",
       "Other       Capital Accumulation         0.0      0.0      0.0         0.0   \n",
       "            Rest of World                0.0    430.0      0.0         0.0   \n",
       "\n",
       "                                                                  Other  \\\n",
       "                                 Industry Services Capital Accumulation   \n",
       "Factor      Labor                  1700.0   4150.0                  0.0   \n",
       "            Capital                1800.0    550.0                  0.0   \n",
       "Institution Household                 0.0      0.0                  0.0   \n",
       "            Firms                     0.0      0.0                  0.0   \n",
       "            Govt                      0.0      0.0                  0.0   \n",
       "Production  Agriculture             900.0   1100.0                200.0   \n",
       "            Industry               3150.0   3300.0                800.0   \n",
       "            Services               2250.0   1100.0                100.0   \n",
       "Activities  Agriculture               0.0      0.0                  0.0   \n",
       "            Industry                  0.0      0.0                  0.0   \n",
       "            Services                  0.0      0.0                  0.0   \n",
       "Other       Capital Accumulation      0.0      0.0                  0.0   \n",
       "            Rest of World             0.0      0.0                  0.0   \n",
       "\n",
       "                                                \n",
       "                                 Rest of World  \n",
       "Factor      Labor                          0.0  \n",
       "            Capital                        0.0  \n",
       "Institution Household                      0.0  \n",
       "            Firms                          0.0  \n",
       "            Govt                           0.0  \n",
       "Production  Agriculture                  250.0  \n",
       "            Industry                       0.0  \n",
       "            Services                      30.0  \n",
       "Activities  Agriculture                    0.0  \n",
       "            Industry                       0.0  \n",
       "            Services                       0.0  \n",
       "Other       Capital Accumulation         150.0  \n",
       "            Rest of World                  0.0  "
      ]
     },
     "execution_count": 3,
     "metadata": {},
     "output_type": "execute_result"
    }
   ],
   "source": [
    "df"
   ]
  },
  {
   "cell_type": "markdown",
   "id": "32c8cbfc-e06d-44e0-b84b-83824806b1b5",
   "metadata": {},
   "source": [
    "# Model"
   ]
  },
  {
   "cell_type": "markdown",
   "id": "991958cf-3937-47a7-b11d-7a75efb0d24f",
   "metadata": {},
   "source": [
    "## Settings"
   ]
  },
  {
   "cell_type": "code",
   "execution_count": 4,
   "id": "7e7b2003-15de-4189-8b0b-2f7a8b04f935",
   "metadata": {},
   "outputs": [],
   "source": [
    "default_assumptions = {'real':True}\n",
    "sectors = ['Ag', 'Ind', 'Serv']\n",
    "nm1_sectors = len(sectors) - 1\n",
    "\n",
    "i, j = [sp.Idx(name) for name in list('ij')]\n",
    "index_dict = {\n",
    "    i:sectors,\n",
    "    j:sectors\n",
    "}\n",
    "\n",
    "symbol = partial(symbol, assumptions=default_assumptions)\n",
    "symbols = partial(symbols, assumptions=default_assumptions)"
   ]
  },
  {
   "cell_type": "code",
   "execution_count": null,
   "id": "864651c9",
   "metadata": {},
   "outputs": [],
   "source": []
  },
  {
   "cell_type": "markdown",
   "id": "8913c9ae-9988-4969-a4b3-5fbb8498e6b2",
   "metadata": {},
   "source": [
    "## Variables"
   ]
  },
  {
   "cell_type": "code",
   "execution_count": 5,
   "id": "1eafaaa9",
   "metadata": {},
   "outputs": [],
   "source": [
    "from cge_modeling.cge import Variable"
   ]
  },
  {
   "cell_type": "code",
   "execution_count": 52,
   "id": "1c0e68e1",
   "metadata": {},
   "outputs": [
    {
     "data": {
      "text/plain": [
       "sympy.tensor.indexed.IndexedBase"
      ]
     },
     "execution_count": 52,
     "metadata": {},
     "output_type": "execute_result"
    }
   ],
   "source": [
    "type(Y)"
   ]
  },
  {
   "cell_type": "code",
   "execution_count": 53,
   "id": "e0c70918",
   "metadata": {},
   "outputs": [
    {
     "data": {
      "text/plain": [
       "sympy.tensor.indexed.Indexed"
      ]
     },
     "execution_count": 53,
     "metadata": {},
     "output_type": "execute_result"
    }
   ],
   "source": [
    "type(Y[i])"
   ]
  },
  {
   "cell_type": "code",
   "execution_count": 98,
   "id": "f872adf0",
   "metadata": {},
   "outputs": [],
   "source": [
    "Y_base, C_base = [sp.IndexedBase(name) for name in ['Y', 'C']]\n",
    "i = sp.Idx('i')\n",
    "Y, C, a, b = sp.symbols('Y C a b')\n",
    "var_dict = {var.name:var for var in [Y_base, C_base, a, b, i]}\n",
    "known_symbols = [Y, C, a, b, Y_base[i], C_base[i], i]\n",
    "\n",
    "def sympify_plus(expr, var_dict, known_symbols):\n",
    "    if '=' in expr:\n",
    "        if expr.count('=') > 1:\n",
    "            raise ValueError('Cannot parse expression with multiple equality relationships')\n",
    "        lhs, rhs = [x.strip() for x in expr.split('=')]\n",
    "        eq = sp.Eq(sp.sympify(lhs, locals=var_dict), sp.sympify(rhs, locals=var_dict))\n",
    "    else:\n",
    "        eq = expr.sympify(expr, locals=var_dict)\n",
    "    \n",
    "    unknown_symbols = [x for x in eq.free_symbols if x not in known_symbols]\n",
    "    atom_list = ', '.join([x.name for x in unknown_symbols])\n",
    "    if len(unknown_symbols) > 0:\n",
    "        raise ValueError('Found unknown variables in parsed expression. Ensure the following have been added to your '\n",
    "                         f'model: {atom_list}')\n",
    "        \n",
    "    return eq\n",
    "\n",
    "eq = sympify_plus('Y[i] = a + b * C[i]', var_dict, known_symbols)"
   ]
  },
  {
   "cell_type": "code",
   "execution_count": 99,
   "id": "4c46168f",
   "metadata": {},
   "outputs": [
    {
     "data": {
      "text/latex": [
       "$\\displaystyle {Y}_{i} = a + b {C}_{i}$"
      ],
      "text/plain": [
       "Eq(Y[i], a + b*C[i])"
      ]
     },
     "execution_count": 99,
     "metadata": {},
     "output_type": "execute_result"
    }
   ],
   "source": [
    "eq"
   ]
  },
  {
   "cell_type": "code",
   "execution_count": 93,
   "id": "731ce85e",
   "metadata": {},
   "outputs": [
    {
     "data": {
      "text/plain": [
       "[('Y[i]', True), ('i', True), ('Y', False)]"
      ]
     },
     "execution_count": 93,
     "metadata": {},
     "output_type": "execute_result"
    }
   ],
   "source": [
    "[(x.name, x in known_symbols) for x in eq.lhs.free_symbols]"
   ]
  },
  {
   "cell_type": "code",
   "execution_count": 65,
   "id": "b5f16ae6",
   "metadata": {},
   "outputs": [
    {
     "data": {
      "text/latex": [
       "$\\displaystyle C b - a + {Y}_{i}$"
      ],
      "text/plain": [
       "C*b - a + Y[i]"
      ]
     },
     "execution_count": 65,
     "metadata": {},
     "output_type": "execute_result"
    }
   ],
   "source": [
    "sp.parse_expr('Y[i] - a + b * C', {'Y':sp.IndexedBase('Y')})"
   ]
  },
  {
   "cell_type": "code",
   "execution_count": 58,
   "id": "b5859a81",
   "metadata": {},
   "outputs": [
    {
     "data": {
      "text/plain": [
       "{C, Y, a, b}"
      ]
     },
     "execution_count": 58,
     "metadata": {},
     "output_type": "execute_result"
    }
   ],
   "source": [
    "eq.free_symbols"
   ]
  },
  {
   "cell_type": "code",
   "execution_count": 34,
   "id": "3ddf3879",
   "metadata": {},
   "outputs": [
    {
     "name": "stderr",
     "output_type": "stream",
     "text": [
      "C:\\Users\\Jesse\\AppData\\Local\\Temp\\ipykernel_316\\384169425.py:1: SymPyDeprecationWarning: \n",
      "\n",
      "The expr_free_symbols property is deprecated. Use free_symbols to get\n",
      "the free symbols of an expression.\n",
      "\n",
      "See https://docs.sympy.org/latest/explanation/active-deprecations.html#deprecated-expr-free-symbols\n",
      "for details.\n",
      "\n",
      "This has been deprecated since SymPy version 1.9. It\n",
      "will be removed in a future version of SymPy.\n",
      "\n",
      "  eq.expr_free_symbols\n"
     ]
    },
    {
     "data": {
      "text/plain": [
       "set()"
      ]
     },
     "execution_count": 34,
     "metadata": {},
     "output_type": "execute_result"
    }
   ],
   "source": [
    "eq."
   ]
  },
  {
   "cell_type": "code",
   "execution_count": 6,
   "id": "c043712c-b945-4949-80eb-b7271b811e8d",
   "metadata": {},
   "outputs": [],
   "source": [
    "# 24 equations (Really 27, because 3 values are fixed)\n",
    "variable_info = [\n",
    "    # Firm variables\n",
    "    Variable(name='Y',  index=(i, ), latex_name='Y_{i}',  description='Total output of final goods in sector i'),\n",
    "    Variable(name='VA', index=(i, ), latex_name='VA_{i}', description='Labor-Capital input mix used for final goods production in sector i'),\n",
    "    Variable(name='IC', index=(i, ), latex_name='IC_{i}', description='Final goods input mix usef for final goods production in sector i'),\n",
    "    Variable(name='Kd', index=(i, ), latex_name='K^d_i',  description='Quantity of capital demanded by sector i'),\n",
    "    Variable(name='Ld', index=(i, ), latex_name='L^d_i',  description='Quantity of labor demanded by sector i'),\n",
    "    Variable(name='CIJ', index=(i, j), latex_name='Y^d_{i,j}', description='Quantity of sector j final good demanded by sector i'),\n",
    "    Variable(name='Id', index=(i, ), latex_name='I^d_i', description='Investment capital demanded by sector i'),\n",
    "    \n",
    "    # Prices\n",
    "    Variable(name='P', index=(i,), latex_name='P_i', description='Market price of final goods produced by sector i'),\n",
    "    Variable(name='P_Y', index=(i,), latex_name='P_{Y,i}', description='Producer price of final goods produced by sector i'),\n",
    "    Variable(name='P_w', index=(i, ), latex_name='P_{w,i}', description='World price of final goods produced by sector i'),\n",
    "    Variable(name='P_VA', index=(i, ), latex_name='P_{VA, i}', description=r'Price of the labor-capital input bundle in sector i'),\n",
    "    Variable(name='P_IC', index=(i, ), latex_name='P_{IC, i}', description='Price of final goods input bundle in sector i'),\n",
    "    Variable(name='w', latex_name='w', description='Wage level'),\n",
    "    Variable(name='r', latex_name='r', description='Rental rate for capital'),\n",
    "    \n",
    "    # Household variables\n",
    "    Variable(name='income', latex_name='\\Omega', description='Gross (pre-tax) household income'),\n",
    "    Variable(name='net_income', latex_name=r'\\hat{\\Omega}', description='Net (after-tax) household income'),\n",
    "    Variable(name='hh_savings', latex_name='S', description='Household savings'),\n",
    "    Variable(name='C', index=(i,), latex_name='C_{i}', description=r'Household consumption of final goods produced by sector i'),\n",
    "    Variable(name='Is', latex_name='I^s', description='Investment capital supplied by households'),\n",
    "    Variable(name='U', latex_name='U', description='Household utility'),\n",
    "\n",
    "    # Government variables\n",
    "    Variable(name='G', latex_name='G', description='Total government spending'),\n",
    "    Variable(name='C_G', index=(i,), latex_name='C_{G, i}', description='Government consumption of final goods produced by sector i'),\n",
    "    Variable(name='G_savings', latex_name='S_G', description='Investment capital supplied by government'),\n",
    "\n",
    "    # International concepts\n",
    "    Variable(name='Ed', index=(i, ), latex_name='E_{d,i}', description='Excess domestic demand for final goods produced by sector i'),\n",
    "    Variable(name='e', latex_name='e', description='Exchange rate'),\n",
    "    Variable(name='TB', latex_name='TB', description='Domestic trade balance'),\n",
    "\n",
    "    # Misc\n",
    "    Variable(name='walras_resid', latex_name=r'\\varepsilon', description='Errors and residuals in macroeconomic equlibrium'),\n",
    "]"
   ]
  },
  {
   "cell_type": "code",
   "execution_count": 7,
   "id": "4967a585-3704-4d05-85bb-0dbbbd456e6b",
   "metadata": {},
   "outputs": [
    {
     "data": {
      "text/latex": [
       "\n",
       "\t\n",
       "\t\t\\begin{array}{|c|c|}\n",
       "\t\t\t\\hline\n",
       "\t\t\t\\text{Symbol} & \\text{Description} \\\\\n",
       "\t\t\t\\hline\n",
       "\t\t\tY_{i} & \\text{Total output of final goods in sector i} \\\\\n",
       "\t\t\t\\hline\n",
       "\t\t\tVA_{i} & \\text{Labor-Capital input mix used for final goods production in sector i} \\\\\n",
       "\t\t\t\\hline\n",
       "\t\t\tIC_{i} & \\text{Final goods input mix usef for final goods production in sector i} \\\\\n",
       "\t\t\t\\hline\n",
       "\t\t\tK^d_i & \\text{Quantity of capital demanded by sector i} \\\\\n",
       "\t\t\t\\hline\n",
       "\t\t\tL^d_i & \\text{Quantity of labor demanded by sector i} \\\\\n",
       "\t\t\t\\hline\n",
       "\t\t\tY^d_{i,j} & \\text{Quantity of sector j final good demanded by sector i} \\\\\n",
       "\t\t\t\\hline\n",
       "\t\t\tI^d_i & \\text{Investment capital demanded by sector i} \\\\\n",
       "\t\t\t\\hline\n",
       "\t\t\tP_i & \\text{Market price of final goods produced by sector i} \\\\\n",
       "\t\t\t\\hline\n",
       "\t\t\tP_{Y,i} & \\text{Producer price of final goods produced by sector i} \\\\\n",
       "\t\t\t\\hline\n",
       "\t\t\tP_{w,i} & \\text{World price of final goods produced by sector i} \\\\\n",
       "\t\t\t\\hline\n",
       "\t\t\tP_{VA, i} & \\text{Price of the labor-capital input bundle in sector i} \\\\\n",
       "\t\t\t\\hline\n",
       "\t\t\tP_{IC, i} & \\text{Price of final goods input bundle in sector i} \\\\\n",
       "\t\t\t\\hline\n",
       "\t\t\tw & \\text{Wage level} \\\\\n",
       "\t\t\t\\hline\n",
       "\t\t\tr & \\text{Rental rate for capital} \\\\\n",
       "\t\t\t\\hline\n",
       "\t\t\t\\Omega & \\text{Gross (pre-tax) household income} \\\\\n",
       "\t\t\t\\hline\n",
       "\t\t\t\\hat{\\Omega} & \\text{Net (after-tax) household income} \\\\\n",
       "\t\t\t\\hline\n",
       "\t\t\tS & \\text{Household savings} \\\\\n",
       "\t\t\t\\hline\n",
       "\t\t\tC_{i} & \\text{Household consumption of final goods produced by sector i} \\\\\n",
       "\t\t\t\\hline\n",
       "\t\t\tI^s & \\text{Investment capital supplied by households} \\\\\n",
       "\t\t\t\\hline\n",
       "\t\t\tU & \\text{Household utility} \\\\\n",
       "\t\t\t\\hline\n",
       "\t\t\tG & \\text{Total government spending} \\\\\n",
       "\t\t\t\\hline\n",
       "\t\t\tC_{G, i} & \\text{Government consumption of final goods produced by sector i} \\\\\n",
       "\t\t\t\\hline\n",
       "\t\t\tS_G & \\text{Investment capital supplied by government} \\\\\n",
       "\t\t\t\\hline\n",
       "\t\t\tE_{d,i} & \\text{Excess domestic demand for final goods produced by sector i} \\\\\n",
       "\t\t\t\\hline\n",
       "\t\t\te & \\text{Exchange rate} \\\\\n",
       "\t\t\t\\hline\n",
       "\t\t\tTB & \\text{Domestic trade balance} \\\\\n",
       "\t\t\t\\hline\n",
       "\t\t\t\\varepsilon & \\text{Errors and residuals in macroeconomic equlibrium} \\\\\n",
       "\t\t\t\\hline\n",
       "\t\t\\end{array}\n",
       "\t\n"
      ],
      "text/plain": [
       "<IPython.core.display.Latex object>"
      ]
     },
     "metadata": {},
     "output_type": "display_data"
    }
   ],
   "source": [
    "display_info_as_table(variable_info)"
   ]
  },
  {
   "cell_type": "markdown",
   "id": "64093b37-b8d6-4154-9767-5ce62095e57d",
   "metadata": {},
   "source": [
    "## Parameters"
   ]
  },
  {
   "cell_type": "code",
   "execution_count": 7,
   "id": "0f8d0cbe-14e8-4e55-b10e-54aedab415a5",
   "metadata": {},
   "outputs": [],
   "source": [
    "parameter_info = [\n",
    "    # Production parameters\n",
    "    dict(name='alpha', index=(i, ), latex_name=r'\\alpha_i', description='Share of capital in sector i production'),\n",
    "    dict(name='alpha_k', index=(i, ), latex_name=r'\\alpha_{I, i}', description='Share of capital investment demanded by sector i'),\n",
    "    dict(name='A', index=(i, ), latex_name='A_i', description='Total factor productivity in sector i'),\n",
    "    dict(name='psi_VA', index=(i, ), latex_name=r'\\psi_{VA,i}', description='Proportion of labor-capital bundle used in production by sector i'),\n",
    "    dict(name='psi_IC', index=(i, ), latex_name=r'\\psi_{IC,i}', description='Proportion of final goods bundle used in production by sector i'),\n",
    "    dict(name='psi_Yij', index=(i, j), latex_name=r'\\psi_{Y, i, j}', description='Proportion of final good produced by sector j in final goods bundle used by sector i'),\n",
    "    \n",
    "    # Tax parameters\n",
    "    dict(name='tau', index=(i, ), latex_name=r'\\tau_i', description='Sales tax on final goods produced by sector i'),\n",
    "    dict(name='tau_income', latex_name=r'\\tau_{\\Omega}', description='Flat income tax on households'),\n",
    "    dict(name='tau_m', index=(i,), latex_name=r'\\tau_{m, i}', description='Import tax on final goods produced by foreign sector i'),\n",
    "    \n",
    "    # Household parameters\n",
    "    dict(name='mps', latex_name='\\phi', description='Household marginal propensity to save'),\n",
    "    dict(name='gamma', index=(i, ), latex_name='\\gamma_{i}', description='Share of good i in household consumption basket'),\n",
    "    \n",
    "    # Government parameters\n",
    "    dict(name='alpha_G', index=(i, ), latex_name=r'\\alpha_{G, i}', description='Share of good i in government consumption basket'),\n",
    "\n",
    "    # Trade concepts\n",
    "    dict(name = 'f', index=(i, ), latex_name=r'f_i', description='Scale of domestic sector i demand on world price'),\n",
    "    dict(name = 'sigma', index=(i, ), latex_name=r'\\sigma_i', description='Elasticity of domestic demand in sector i on world price'),\n",
    "    \n",
    "    # Fixed values\n",
    "    dict(name='Ks', latex_name='K^s', description='Exogenous supply of capital'),\n",
    "    dict(name='Ls', latex_name='L^s', description='Exogenous supply of labor'),\n",
    "    dict(name='e_bar', latex_name=r'\\bar{e}', description='Exogenous exchange rate'),\n",
    "    dict(name='G_savings_bar', latex_name=r'\\bar{G}_S', description='Exogenous level of government savings'),\n",
    "    dict(name='P_Ag_bar', latex_name=r'\\bar{P}_{Ag}', description='Numeraire price of agricultural goods')\n",
    "]"
   ]
  },
  {
   "cell_type": "code",
   "execution_count": 8,
   "id": "d12820cb-3001-46e6-8068-7f683c9687b8",
   "metadata": {},
   "outputs": [
    {
     "data": {
      "text/latex": [
       "\n",
       "\t\n",
       "\t\t\\begin{array}{|c|c|}\n",
       "\t\t\t\\hline\n",
       "\t\t\t\\text{Symbol} & \\text{Description} \\\\\n",
       "\t\t\t\\hline\n",
       "\t\t\t\\alpha_i & \\text{Share of capital in sector i production} \\\\\n",
       "\t\t\t\\hline\n",
       "\t\t\t\\alpha_{I, i} & \\text{Share of capital investment demanded by sector i} \\\\\n",
       "\t\t\t\\hline\n",
       "\t\t\tA_i & \\text{Total factor productivity in sector i} \\\\\n",
       "\t\t\t\\hline\n",
       "\t\t\t\\psi_{VA,i} & \\text{Proportion of labor-capital bundle used in production by sector i} \\\\\n",
       "\t\t\t\\hline\n",
       "\t\t\t\\psi_{IC,i} & \\text{Proportion of final goods bundle used in production by sector i} \\\\\n",
       "\t\t\t\\hline\n",
       "\t\t\t\\psi_{Y, i, j} & \\text{Proportion of final good produced by sector j in final goods bundle used by sector i} \\\\\n",
       "\t\t\t\\hline\n",
       "\t\t\t\\tau_i & \\text{Sales tax on final goods produced by sector i} \\\\\n",
       "\t\t\t\\hline\n",
       "\t\t\t\\tau_{\\Omega} & \\text{Flat income tax on households} \\\\\n",
       "\t\t\t\\hline\n",
       "\t\t\t\\tau_{m, i} & \\text{Import tax on final goods produced by foreign sector i} \\\\\n",
       "\t\t\t\\hline\n",
       "\t\t\t\\phi & \\text{Household marginal propensity to save} \\\\\n",
       "\t\t\t\\hline\n",
       "\t\t\t\\gamma_{i} & \\text{Share of good i in household consumption basket} \\\\\n",
       "\t\t\t\\hline\n",
       "\t\t\t\\alpha_{G, i} & \\text{Share of good i in government consumption basket} \\\\\n",
       "\t\t\t\\hline\n",
       "\t\t\tf_i & \\text{Scale of domestic sector i demand on world price} \\\\\n",
       "\t\t\t\\hline\n",
       "\t\t\t\\sigma_i & \\text{Elasticity of domestic demand in sector i on world price} \\\\\n",
       "\t\t\t\\hline\n",
       "\t\t\tK^s & \\text{Exogenous supply of capital} \\\\\n",
       "\t\t\t\\hline\n",
       "\t\t\tL^s & \\text{Exogenous supply of labor} \\\\\n",
       "\t\t\t\\hline\n",
       "\t\t\t\\bar{e} & \\text{Exogenous exchange rate} \\\\\n",
       "\t\t\t\\hline\n",
       "\t\t\t\\bar{G}_S & \\text{Exogenous level of government savings} \\\\\n",
       "\t\t\t\\hline\n",
       "\t\t\t\\bar{P}_{Ag} & \\text{Numeraire price of agricultural goods} \\\\\n",
       "\t\t\t\\hline\n",
       "\t\t\\end{array}\n",
       "\t\n"
      ],
      "text/plain": [
       "<IPython.core.display.Latex object>"
      ]
     },
     "metadata": {},
     "output_type": "display_data"
    }
   ],
   "source": [
    "display_info_as_table(parameter_info)"
   ]
  },
  {
   "cell_type": "code",
   "execution_count": 9,
   "id": "4a832340-343e-4552-bc22-ef2593165301",
   "metadata": {},
   "outputs": [],
   "source": [
    "variables, var_updates  = dict_info_to_symbols(variable_info, default_assumptions)\n",
    "parameters, param_updates = dict_info_to_symbols(parameter_info, default_assumptions)\n",
    "globals().update(var_updates)\n",
    "globals().update(param_updates)"
   ]
  },
  {
   "cell_type": "markdown",
   "id": "659bc4aa-c953-4899-bd51-9900d48e4487",
   "metadata": {},
   "source": [
    "## Equations"
   ]
  },
  {
   "cell_type": "code",
   "execution_count": 10,
   "id": "6794e38c-239c-4c3d-8c09-96df2056414e",
   "metadata": {},
   "outputs": [],
   "source": [
    "# temp idx, needed for the double-index \n",
    "k = sp.Idx('k')\n",
    "\n",
    "equation_info = [\n",
    "    dict(name='After-tax consumer price', \n",
    "         equation = P - P_Y * (1 + tau)),\n",
    "    dict(name='Law of one price', \n",
    "         equation = P - e * P_w * (1 + tau_m)),\n",
    "    dict(name='World price', \n",
    "         equation = Ed - f * P_w ** sigma),\n",
    "    dict(name='Firm self-demand for labor-capital bundle', \n",
    "         equation = VA - psi_VA * Y),\n",
    "    dict(name='Firm self-demand for intermediate goods bundle', \n",
    "         equation = IC - psi_IC * Y),\n",
    "    dict(name='Final goods production', \n",
    "         equation = Y * P_Y - P_VA * VA - P_IC * IC),\n",
    "    dict(name='Labor-capital bundle production', \n",
    "         equation = VA - A * Kd ** alpha * Ld ** (1 - alpha)),\n",
    "    dict(name='Firm demand for capital', \n",
    "         equation = alpha * P_VA * VA - r * Kd),\n",
    "    dict(name='Firm demand for labor', \n",
    "         equation = (1 - alpha) * P_VA * VA - w * Ld),\n",
    "    dict(name='Intermediate goods bundle production', \n",
    "         equation = P_IC * IC - sp.Sum(P * CIJ, (j, 0, nm1_sectors))),\n",
    "    dict(name='Firm demand for final goods of other firms',\n",
    "         equation = CIJ - psi_Yij * IC),\n",
    "    dict(name='Gross household income', \n",
    "         equation = income - w * Ls - r * Ks),\n",
    "    dict(name='Net household income', \n",
    "         equation = net_income - (1 - tau_income) * income),\n",
    "    dict(name='Household savings', \n",
    "         equation = hh_savings - mps * net_income),\n",
    "    dict(name='Household consumption', \n",
    "         equation = gamma * (1 - mps) * net_income - P * C),\n",
    "    dict(name='Household utility', \n",
    "         equation = U - sp.Product(C ** gamma, (i, 0, nm1_sectors))),\n",
    "    dict(name='Firm demand for investment capital', \n",
    "         equation = P * Id - alpha_k * Is),\n",
    "    dict(name='Government budget constraint', \n",
    "         equation = (tau_income * income + \n",
    "                     sp.Sum(tau * P_Y * Y, (i, 0, nm1_sectors)) + \n",
    "                     sp.Sum(sp.Max(0, Ed) * tau_m * e * P_w, (i, 0, nm1_sectors))\n",
    "                     - G - G_savings)),\n",
    "    dict(name='Government consumption',\n",
    "         equation = P * C_G - alpha_G * G),\n",
    "    dict(name='Labor market clearing',\n",
    "         equation = Ls - sp.Sum(Ld, (i, 0, nm1_sectors))),\n",
    "    dict(name='Capital market clearing',\n",
    "         equation = Ks - sp.Sum(Kd, (i, 0, nm1_sectors))),\n",
    "    dict(name='Final goods market clearing',\n",
    "         # Subbing j to i is a bit weird here, but the indices on the rest of the variables need to match\n",
    "         equation = C + sp.Sum(CIJ.subs({i:k}), (k, 0, nm1_sectors)).subs({j:i}) + Id + C_G - Ed - Y),\n",
    "    dict(name = 'Goods market equlibrium',\n",
    "         equation = hh_savings - Is + G_savings - TB - walras_resid),\n",
    "    dict(name = 'Trade balance',\n",
    "         equation = TB + e * sp.Sum(P_w * Ed, (i, 0, nm1_sectors))),\n",
    "    dict(name = 'Exogenous exchange rate',\n",
    "         equation = e - e_bar),\n",
    "    dict(name = 'Exogenous government savings',\n",
    "         equation = G_savings - G_savings_bar),\n",
    "    dict(name = 'Numeraire price level',\n",
    "         equation = P.subs({i:sectors.index('Ag')}) - P_Ag_bar)\n",
    "]"
   ]
  },
  {
   "cell_type": "code",
   "execution_count": 11,
   "id": "88e4fca2-5b8e-4a70-b963-dd5f372dcddc",
   "metadata": {
    "scrolled": true
   },
   "outputs": [
    {
     "data": {
      "text/latex": [
       "\\begin{align}\t\\text{After-tax consumer price} \\\\\tP_{i} - P_{Y,i} \\left(\\tau_{i} + 1\\right)\\tag{1}\\\\ \\\\\t\\text{Law of one price} \\\\\tP_{i} - P_{w,i} e \\left(\\tau_{m, i} + 1\\right)\\tag{2}\\\\ \\\\\t\\text{World price} \\\\\tE_{d,i} - P_{w,i}^{\\sigma_{i}} f_{i}\\tag{3}\\\\ \\\\\t\\text{Firm self-demand for labor-capital bundle} \\\\\tVA_{i} - Y_{i} \\psi_{VA,i}\\tag{4}\\\\ \\\\\t\\text{Firm self-demand for intermediate goods bundle} \\\\\tIC_{i} - Y_{i} \\psi_{IC,i}\\tag{5}\\\\ \\\\\t\\text{Final goods production} \\\\\t- IC_{i} P_{IC, i} - P_{VA, i} VA_{i} + P_{Y,i} Y_{i}\\tag{6}\\\\ \\\\\t\\text{Labor-capital bundle production} \\\\\t- A_{i} \\left(K^{d}_{i}\\right)^{\\alpha_{i}} \\left(L^{d}_{i}\\right)^{1 - \\alpha_{i}} + VA_{i}\\tag{7}\\\\ \\\\\t\\text{Firm demand for capital} \\\\\t- K^{d}_{i} r + P_{VA, i} VA_{i} \\alpha_{i}\\tag{8}\\\\ \\\\\t\\text{Firm demand for labor} \\\\\t- L^{d}_{i} w + P_{VA, i} VA_{i} \\left(1 - \\alpha_{i}\\right)\\tag{9}\\\\ \\\\\t\\text{Intermediate goods bundle production} \\\\\tIC_{i} P_{IC, i} - \\sum_{j=0}^{2} P_{i} {CIJ}_{i,j}\\tag{10}\\\\ \\\\\t\\text{Firm demand for final goods of other firms} \\\\\t- IC_{i} \\psi_{Y, i, j} + Y^d_{i,j}\\tag{11}\\\\ \\\\\t\\text{Gross household income} \\\\\t- K^{s} r - L^{s} w + \\Omega\\tag{12}\\\\ \\\\\t\\text{Net household income} \\\\\t- \\Omega \\left(1 - \\tau_{\\Omega}\\right) + \\hat{\\Omega}\\tag{13}\\\\ \\\\\t\\text{Household savings} \\\\\tS - \\hat{\\Omega} \\phi\\tag{14}\\\\ \\\\\t\\text{Household consumption} \\\\\t- C_{i} P_{i} + \\gamma_{i} \\hat{\\Omega} \\left(1 - \\phi\\right)\\tag{15}\\\\ \\\\\t\\text{Household utility} \\\\\tU - \\prod_{i=0}^{2} {C}_{i}^{{\\gamma}_{i}}\\tag{16}\\\\ \\\\\t\\text{Firm demand for investment capital} \\\\\tI^{d}_{i} P_{i} - I^{s} \\alpha_{I, i}\\tag{17}\\\\ \\\\\t\\text{Government budget constraint} \\\\\t- G - S_{G} + \\Omega \\tau_{\\Omega} + \\sum_{i=0}^{2} {P_{Y}}_{i} {Y}_{i} {\\tau}_{i} + \\sum_{i=0}^{2} e {P_{w}}_{i} {\\tau_{m}}_{i} \\max\\left(0, {Ed}_{i}\\right)\\tag{18}\\\\ \\\\\t\\text{Government consumption} \\\\\tC_{G, i} P_{i} - G \\alpha_{G, i}\\tag{19}\\\\ \\\\\t\\text{Labor market clearing} \\\\\tL^{s} - \\sum_{i=0}^{2} {Ld}_{i}\\tag{20}\\\\ \\\\\t\\text{Capital market clearing} \\\\\tK^{s} - \\sum_{i=0}^{2} {Kd}_{i}\\tag{21}\\\\ \\\\\t\\text{Final goods market clearing} \\\\\tC_{G, i} + C_{i} - E_{d,i} + I^{d}_{i} - Y_{i} + \\sum_{k=0}^{2} {CIJ}_{k,i}\\tag{22}\\\\ \\\\\t\\text{Goods market equlibrium} \\\\\t- I^{s} + S + S_{G} - TB - \\varepsilon\\tag{23}\\\\ \\\\\t\\text{Trade balance} \\\\\tTB + e \\sum_{i=0}^{2} {Ed}_{i} {P_{w}}_{i}\\tag{24}\\\\ \\\\\t\\text{Exogenous exchange rate} \\\\\t- \\bar{e} + e\\tag{25}\\\\ \\\\\t\\text{Exogenous government savings} \\\\\tS_{G} - \\bar{G}_S\\tag{26}\\\\ \\\\\t\\text{Numeraire price level} \\\\\t- \\bar{P}_{Ag} + {P}_{0}\\tag{27}\\\\ \\\\\\end{align}"
      ],
      "text/plain": [
       "<IPython.core.display.Latex object>"
      ]
     },
     "metadata": {},
     "output_type": "display_data"
    }
   ],
   "source": [
    "latex_print_equations(equation_info, variables, variable_info, parameters, parameter_info)"
   ]
  },
  {
   "cell_type": "markdown",
   "id": "0e00dc82-8d00-437f-b76e-d862cb7c2149",
   "metadata": {},
   "source": [
    "## Compile Model"
   ]
  },
  {
   "cell_type": "code",
   "execution_count": 12,
   "id": "bfcbbe26-f0ee-41a3-8ad1-bd3e39041146",
   "metadata": {},
   "outputs": [],
   "source": [
    "equations = [d.get('equation').doit() for d in equation_info]\n",
    "\n",
    "full_system, named_variables, named_params = expand_compact_system(compact_equations=equations, \n",
    "                                                              compact_variables=variables, \n",
    "                                                              compact_params=parameters, \n",
    "                                                              index_dict=index_dict)\n",
    "\n",
    "n_params = len(named_params)"
   ]
  },
  {
   "cell_type": "code",
   "execution_count": 13,
   "id": "e227a243-a76e-4cd2-922b-7c9c9db530df",
   "metadata": {},
   "outputs": [],
   "source": [
    "loss_funcs, root_funcs, ordered_inputs = compile_cge_to_numba(compact_equations=equations, \n",
    "                                                              compact_variables=variables, \n",
    "                                                              compact_params=parameters, \n",
    "                                                              index_dict=index_dict)\n",
    "f_loss, f_grad, f_hess = loss_funcs\n",
    "f_system, f_jac = root_funcs"
   ]
  },
  {
   "cell_type": "code",
   "execution_count": 14,
   "id": "63d11eed-49a5-47a1-95f8-bfb2b0c5a1c5",
   "metadata": {},
   "outputs": [],
   "source": [
    "f_dX = numba_linearize_cge_func(equations, variables, parameters, index_dict)"
   ]
  },
  {
   "cell_type": "markdown",
   "id": "8b5bb7c6-6ba5-4b3c-947d-6d06a2b21618",
   "metadata": {},
   "source": [
    "# Calibration"
   ]
  },
  {
   "cell_type": "code",
   "execution_count": 15,
   "id": "85bc0c64-2351-4754-bd96-e517645df697",
   "metadata": {},
   "outputs": [],
   "source": [
    "short_to_long = {\n",
    "    'Ag':'Agriculture',\n",
    "    'Ind':'Industry',\n",
    "    'Serv':'Services'\n",
    "}\n",
    "\n",
    "# Normalize prices\n",
    "initial_values = {w:1, r:1, e:1, walras_resid:0}\n",
    "initial_values.update(symbols('P_VA', 1, sectors))\n",
    "initial_values.update(symbols('P_IC', 1, sectors))\n",
    "initial_values.update(symbols('P', 1, sectors))\n",
    "\n",
    "# Values provided by the exercise (from where?)\n",
    "initial_values['import_tax_Ag'] = 0\n",
    "initial_values['import_tax_Ind'] = 300\n",
    "initial_values['import_tax_Serv'] = 0\n",
    "\n",
    "initial_values[symbol('sigma', 'Ag')] = -3\n",
    "initial_values[symbol('sigma', 'Ind')] = 3\n",
    "initial_values[symbol('sigma', 'Serv')] = -3\n",
    "\n",
    "# Enter data from SAM\n",
    "initial_values['income_tax'] = df.loc[('Institution', 'Govt'), ('Institution', 'Household')]\n",
    "initial_values[hh_savings] = df.loc[('Other', 'Capital Accumulation'), ('Institution', 'Household')]\n",
    "initial_values[G_savings] = df.loc[('Other', 'Capital Accumulation'), ('Institution', 'Govt')]\n",
    "\n",
    "# Aggregates\n",
    "initial_values[Ls] = df.loc[('Institution', 'Household'), ('Factor', 'Labor')]\n",
    "initial_values[Ks] = df.loc[('Institution', 'Firms'), ('Factor', 'Capital')]\n",
    "\n",
    "initial_values[income] = initial_values[w] * initial_values[Ls] + initial_values[r] * initial_values[Ks]\n",
    "initial_values[tau_income] = initial_values['income_tax'] / initial_values[income]\n",
    "initial_values[net_income] = (1 - initial_values[tau_income]) * initial_values[income]\n",
    "\n",
    "for sector in sectors:\n",
    "    long_sector = short_to_long[sector]\n",
    "    initial_values[symbol('Ld', sector)] = df.loc[('Factor', 'Labor'), ('Activities', long_sector)] / initial_values[w]\n",
    "    initial_values[symbol('Kd', sector)] = df.loc[('Factor', 'Capital'), ('Activities', long_sector)] / initial_values[r]\n",
    "    initial_values[symbol('C_G', sector)] = df.loc[('Production', long_sector), ('Institution', 'Govt')]\n",
    "\n",
    "    import_tax = initial_values[f'import_tax_{sector}']\n",
    "    initial_values[f'sales_tax_{sector}'] = df.loc[('Institution', 'Govt'), ('Production', long_sector)] - import_tax\n",
    "    initial_values[symbol('C', sector)] = df.loc[('Production', long_sector), ('Institution', 'Household')]\n",
    "\n",
    "    # Excess demand -- What is this in terms of imports/exports?\n",
    "    world_supply = df.loc[('Other', 'Rest of World'), ('Production', long_sector)]\n",
    "    world_demand = df.loc[('Production', long_sector), ('Other', 'Rest of World')]\n",
    "    initial_values[symbol('Ed', sector)] = (world_supply - world_demand) + import_tax\n",
    "\n",
    "    initial_values[symbol('Id', sector)] = df.loc[('Production', long_sector), ('Other', 'Capital Accumulation')]\n",
    "    \n",
    "    # This computes Y, but what does this ultimately work out to? There is a lot of cancellations happening.\n",
    "    total_i = df.sum(axis=0).loc[('Production', long_sector)] - df.loc[('Production', long_sector), ('Other', 'Rest of World')]\n",
    "    initial_values[symbol('Y', sector)] =  total_i - initial_values[symbol('Ed', sector)]\n",
    "    \n",
    "    # Work out the tax rate from tax reciepts\n",
    "    P_sector = symbol('P_Y', sector)\n",
    "    tax_rate = symbol('tau', sector)\n",
    "    tariff_rate = symbol('tau_m', sector)\n",
    "    T_sec = initial_values[f'sales_tax_{sector}']\n",
    "    Y_sec  = initial_values[symbol('Y', sector)] \n",
    "    P_sec = initial_values[symbol('P', sector)]\n",
    "    Ed_sec = initial_values[symbol('Ed', sector)]\n",
    "        \n",
    "    initial_values[tax_rate] = T_sec / (Y_sec - T_sec)\n",
    "    initial_values[P_sector] = P_sec / (1 + initial_values[tax_rate])\n",
    "    initial_values[tariff_rate] = import_tax / (Ed_sec * P_sec - import_tax) if Ed_sec > 0 else 0\n",
    "    initial_values[symbol('P_w', sector)] = P_sec / (1 + initial_values[tariff_rate])\n",
    "\n",
    "# Adjust values in SAM to account for non-normalized prices\n",
    "for sector in sectors:\n",
    "    long_sector = short_to_long[sector]\n",
    "    for sector_j in sectors:\n",
    "        long_sector_j = short_to_long[sector_j]\n",
    "        SAM_idx = ('Production', long_sector_j), ('Activities', long_sector)\n",
    "        initial_values[symbol('CIJ', sector, sector_j)] = df.loc[SAM_idx]   \n",
    "\n",
    "\n",
    "initial_values = remove_string_keys(initial_values)"
   ]
  },
  {
   "cell_type": "code",
   "execution_count": 16,
   "id": "52006d2e-8edd-4de7-894b-330cc10bea1a",
   "metadata": {},
   "outputs": [],
   "source": [
    "def state_dict_to_input_arrays(state_dict, named_variables, named_params):\n",
    "    x = np.array([state_dict[k] for k in named_variables], dtype=float)\n",
    "    theta = np.array([state_dict[x] for x in named_params], dtype=float)  \n",
    "\n",
    "    return x, theta"
   ]
  },
  {
   "cell_type": "code",
   "execution_count": 17,
   "id": "7a8b812b-35ed-4284-821e-3e359bec77a4",
   "metadata": {},
   "outputs": [],
   "source": [
    "state_0 = recursive_solve_symbolic(full_system, initial_values)\n",
    "x0, theta0 = state_dict_to_input_arrays(state_0, named_variables, named_params)"
   ]
  },
  {
   "cell_type": "markdown",
   "id": "08f6ca3f-6168-4262-b542-c9e2d2055c6f",
   "metadata": {},
   "source": [
    "### Check calibration"
   ]
  },
  {
   "cell_type": "code",
   "execution_count": 18,
   "id": "14a4770f-d851-4e8a-97f9-257b44a4641c",
   "metadata": {},
   "outputs": [
    {
     "data": {
      "text/plain": [
       "array(5.05743396e-23)"
      ]
     },
     "execution_count": 18,
     "metadata": {},
     "output_type": "execute_result"
    }
   ],
   "source": [
    "f_loss(x0, theta0)"
   ]
  },
  {
   "cell_type": "markdown",
   "id": "3bb69ae5-bcff-45a1-a979-6c7fdbbf9870",
   "metadata": {},
   "source": [
    "# Simulations"
   ]
  },
  {
   "cell_type": "code",
   "execution_count": 19,
   "id": "06100f24-a6aa-4323-ae54-41873b534930",
   "metadata": {},
   "outputs": [],
   "source": [
    "scenario_df = pd.DataFrame(x0, index=[x.name for x in named_variables], columns=['Initial'])"
   ]
  },
  {
   "cell_type": "code",
   "execution_count": 20,
   "id": "3a8685bf-086e-4cc6-b7cd-81b6d11de6c4",
   "metadata": {},
   "outputs": [],
   "source": [
    "tariff_cut_theta = state_0.copy()\n",
    "tariff_cut_theta.update({k: state_0[k] * 0.5 for k in [symbol('tau_m', sector) for sector in sectors]})\n",
    "tariff_x, tariff_theta = state_dict_to_input_arrays(tariff_cut_theta, named_variables, named_params)"
   ]
  },
  {
   "cell_type": "code",
   "execution_count": 21,
   "id": "49247d34-a4a1-4939-9c24-d4b125f37149",
   "metadata": {},
   "outputs": [
    {
     "name": "stdout",
     "output_type": "stream",
     "text": [
      "Linear Loss: 0.00065511\n"
     ]
    }
   ],
   "source": [
    "tariff_cut_scenario = euler_approx(f_dX, x0, theta0, tariff_theta, 10_000)\n",
    "print(f'Linear Loss: {f_loss(tariff_cut_scenario[:-n_params], tariff_cut_scenario[-n_params:]):0.5}')"
   ]
  },
  {
   "cell_type": "code",
   "execution_count": 27,
   "id": "521658b7-f341-49c1-ae6b-0dc1760d1266",
   "metadata": {},
   "outputs": [
    {
     "name": "stdout",
     "output_type": "stream",
     "text": [
      "Final Loss: 2.6809e-16\n"
     ]
    }
   ],
   "source": [
    "tariff_cut_res = optimize.minimize(f_loss, tariff_cut_scenario[:-n_params], args=tariff_theta, \n",
    "                                   jac=f_grad, hess=f_hess,\n",
    "                                   method='trust-exact',\n",
    "                                   tol=1e-4)\n",
    "\n",
    "assert tariff_cut_res.success, (tariff_cut_res.message, tariff_cut_res.fun)\n",
    "assert tariff_cut_res.x[-1] < 1e-4, tariff_cut_res.x[-1]\n",
    "print(f'Final Loss: {f_loss(tariff_cut_res.x, tariff_theta):0.5}')\n",
    "scenario_df['tariff_cut'] = tariff_cut_res.x"
   ]
  },
  {
   "cell_type": "code",
   "execution_count": 28,
   "id": "16552361-ed97-443e-867e-7d45008149e5",
   "metadata": {},
   "outputs": [
    {
     "data": {
      "text/html": [
       "<div>\n",
       "<style scoped>\n",
       "    .dataframe tbody tr th:only-of-type {\n",
       "        vertical-align: middle;\n",
       "    }\n",
       "\n",
       "    .dataframe tbody tr th {\n",
       "        vertical-align: top;\n",
       "    }\n",
       "\n",
       "    .dataframe thead th {\n",
       "        text-align: right;\n",
       "    }\n",
       "</style>\n",
       "<table border=\"1\" class=\"dataframe\">\n",
       "  <thead>\n",
       "    <tr style=\"text-align: right;\">\n",
       "      <th></th>\n",
       "      <th>Initial</th>\n",
       "      <th>tariff_cut</th>\n",
       "    </tr>\n",
       "  </thead>\n",
       "  <tbody>\n",
       "    <tr>\n",
       "      <th>Y_Ag</th>\n",
       "      <td>5650.0</td>\n",
       "      <td>5786.488177</td>\n",
       "    </tr>\n",
       "    <tr>\n",
       "      <th>IC_Ag</th>\n",
       "      <td>4150.0</td>\n",
       "      <td>4250.252378</td>\n",
       "    </tr>\n",
       "    <tr>\n",
       "      <th>Id_Ag</th>\n",
       "      <td>200.0</td>\n",
       "      <td>316.263605</td>\n",
       "    </tr>\n",
       "    <tr>\n",
       "      <th>Id_Ind</th>\n",
       "      <td>800.0</td>\n",
       "      <td>1271.187840</td>\n",
       "    </tr>\n",
       "    <tr>\n",
       "      <th>Is</th>\n",
       "      <td>1100.0</td>\n",
       "      <td>1739.449821</td>\n",
       "    </tr>\n",
       "    <tr>\n",
       "      <th>Ed_Ind</th>\n",
       "      <td>730.0</td>\n",
       "      <td>1434.517628</td>\n",
       "    </tr>\n",
       "  </tbody>\n",
       "</table>\n",
       "</div>"
      ],
      "text/plain": [
       "        Initial   tariff_cut\n",
       "Y_Ag     5650.0  5786.488177\n",
       "IC_Ag    4150.0  4250.252378\n",
       "Id_Ag     200.0   316.263605\n",
       "Id_Ind    800.0  1271.187840\n",
       "Is       1100.0  1739.449821\n",
       "Ed_Ind    730.0  1434.517628"
      ]
     },
     "execution_count": 28,
     "metadata": {},
     "output_type": "execute_result"
    }
   ],
   "source": [
    "scenario_df[scenario_df.diff(axis=1)['tariff_cut'] > 100]"
   ]
  },
  {
   "cell_type": "code",
   "execution_count": 29,
   "id": "812bedb8-7984-4e69-bc96-84b4f9c46933",
   "metadata": {},
   "outputs": [
    {
     "data": {
      "text/plain": [
       "<Axes: >"
      ]
     },
     "execution_count": 29,
     "metadata": {},
     "output_type": "execute_result"
    },
    {
     "data": {
      "image/png": "[encoded data removed]",
      "text/plain": [
       "<Figure size 640x480 with 1 Axes>"
      ]
     },
     "metadata": {},
     "output_type": "display_data"
    }
   ],
   "source": [
    "scenario_df[scenario_df.pct_change(axis=1)['tariff_cut'].abs() > 0.01].plot.bar()"
   ]
  },
  {
   "cell_type": "code",
   "execution_count": null,
   "id": "69cff94e-f5ab-4fe0-bceb-4a543ddeb986",
   "metadata": {},
   "outputs": [],
   "source": []
  }
 ],
 "metadata": {
  "kernelspec": {
   "display_name": "Python 3 (ipykernel)",
   "language": "python",
   "name": "python3"
  },
  "language_info": {
   "codemirror_mode": {
    "name": "ipython",
    "version": 3
   },
   "file_extension": ".py",
   "mimetype": "text/x-python",
   "name": "python",
   "nbconvert_exporter": "python",
   "pygments_lexer": "ipython3",
   "version": "3.11.5"
  },
  "toc": {
   "base_numbering": 1,
   "nav_menu": {},
   "number_sections": true,
   "sideBar": true,
   "skip_h1_title": false,
   "title_cell": "Table of Contents",
   "title_sidebar": "Contents",
   "toc_cell": true,
   "toc_position": {},
   "toc_section_display": true,
   "toc_window_display": false
  }
 },
 "nbformat": 4,
 "nbformat_minor": 5
}
